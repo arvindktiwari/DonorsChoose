{
  "nbformat": 4,
  "nbformat_minor": 0,
  "metadata": {
    "colab": {
      "name": "3_DonorsChoose_KNN.ipynb",
      "provenance": [],
      "collapsed_sections": [
        "df7aw9znaJbU",
        "KLkWseiHaJbY",
        "ODDsS25MaJbd",
        "hqnsApdoaJbv",
        "MDUTl1iAaJcC",
        "eWIdgjtHaJcM",
        "eAr4K8J4aJcV",
        "hV8-QvxGaJcm",
        "3KP4HQ2xaJc8",
        "umi63xCcaJdD",
        "oMHWIrroaJdE",
        "sKXhBeHZaJdK",
        "RDYCGTBvaJdP",
        "yJWbIFXKaJdW"
      ],
      "machine_shape": "hm"
    },
    "kernelspec": {
      "name": "python3",
      "display_name": "Python 3"
    },
    "accelerator": "GPU"
  },
  "cells": [
    {
      "cell_type": "markdown",
      "metadata": {
        "colab_type": "text",
        "id": "nvM2d9gKaJaS"
      },
      "source": [
        "# DonorsChoose"
      ]
    },
    {
      "cell_type": "markdown",
      "metadata": {
        "colab_type": "text",
        "id": "zt7ZdX4-aJaV"
      },
      "source": [
        "\n",
        "<p>\n",
        "DonorsChoose.org receives hundreds of thousands of project proposals each year for classroom projects in need of funding. Right now, a large number of volunteers is needed to manually screen each submission before it's approved to be posted on the DonorsChoose.org website.\n",
        "</p>\n",
        "<p>\n",
        "    Next year, DonorsChoose.org expects to receive close to 500,000 project proposals. As a result, there are three main problems they need to solve:\n",
        "<ul>\n",
        "<li>\n",
        "    How to scale current manual processes and resources to screen 500,000 projects so that they can be posted as quickly and as efficiently as possible</li>\n",
        "    <li>How to increase the consistency of project vetting across different volunteers to improve the experience for teachers</li>\n",
        "    <li>How to focus volunteer time on the applications that need the most assistance</li>\n",
        "    </ul>\n",
        "</p>    \n",
        "<p>\n",
        "The goal of the competition is to predict whether or not a DonorsChoose.org project proposal submitted by a teacher will be approved, using the text of project descriptions as well as additional metadata about the project, teacher, and school. DonorsChoose.org can then use this information to identify projects most likely to need further review before approval.\n",
        "</p>"
      ]
    },
    {
      "cell_type": "markdown",
      "metadata": {
        "colab_type": "text",
        "id": "BrEvnJMGaJaZ"
      },
      "source": [
        "## About the DonorsChoose Data Set\n",
        "\n",
        "The `train.csv` data set provided by DonorsChoose contains the following features:\n",
        "\n",
        "Feature | Description \n",
        "----------|---------------\n",
        "**`project_id`** | A unique identifier for the proposed project. **Example:** `p036502`   \n",
        "**`project_title`**    | Title of the project. **Examples:**<br><ul><li><code>Art Will Make You Happy!</code></li><li><code>First Grade Fun</code></li></ul> \n",
        "**`project_grade_category`** | Grade level of students for which the project is targeted. One of the following enumerated values: <br/><ul><li><code>Grades PreK-2</code></li><li><code>Grades 3-5</code></li><li><code>Grades 6-8</code></li><li><code>Grades 9-12</code></li></ul>  \n",
        " **`project_subject_categories`** | One or more (comma-separated) subject categories for the project from the following enumerated list of values:  <br/><ul><li><code>Applied Learning</code></li><li><code>Care &amp; Hunger</code></li><li><code>Health &amp; Sports</code></li><li><code>History &amp; Civics</code></li><li><code>Literacy &amp; Language</code></li><li><code>Math &amp; Science</code></li><li><code>Music &amp; The Arts</code></li><li><code>Special Needs</code></li><li><code>Warmth</code></li></ul><br/> **Examples:** <br/><ul><li><code>Music &amp; The Arts</code></li><li><code>Literacy &amp; Language, Math &amp; Science</code></li>  \n",
        "  **`school_state`** | State where school is located ([Two-letter U.S. postal code](https://en.wikipedia.org/wiki/List_of_U.S._state_abbreviations#Postal_codes)). **Example:** `WY`\n",
        "**`project_subject_subcategories`** | One or more (comma-separated) subject subcategories for the project. **Examples:** <br/><ul><li><code>Literacy</code></li><li><code>Literature &amp; Writing, Social Sciences</code></li></ul> \n",
        "**`project_resource_summary`** | An explanation of the resources needed for the project. **Example:** <br/><ul><li><code>My students need hands on literacy materials to manage sensory needs!</code</li></ul> \n",
        "**`project_essay_1`**    | First application essay<sup>*</sup>  \n",
        "**`project_essay_2`**    | Second application essay<sup>*</sup> \n",
        "**`project_essay_3`**    | Third application essay<sup>*</sup> \n",
        "**`project_essay_4`**    | Fourth application essay<sup>*</sup> \n",
        "**`project_submitted_datetime`** | Datetime when project application was submitted. **Example:** `2016-04-28 12:43:56.245`   \n",
        "**`teacher_id`** | A unique identifier for the teacher of the proposed project. **Example:** `bdf8baa8fedef6bfeec7ae4ff1c15c56`  \n",
        "**`teacher_prefix`** | Teacher's title. One of the following enumerated values: <br/><ul><li><code>nan</code></li><li><code>Dr.</code></li><li><code>Mr.</code></li><li><code>Mrs.</code></li><li><code>Ms.</code></li><li><code>Teacher.</code></li></ul>  \n",
        "**`teacher_number_of_previously_posted_projects`** | Number of project applications previously submitted by the same teacher. **Example:** `2` \n",
        "\n",
        "<sup>*</sup> See the section <b>Notes on the Essay Data</b> for more details about these features.\n",
        "\n",
        "Additionally, the `resources.csv` data set provides more data about the resources required for each project. Each line in this file represents a resource required by a project:\n",
        "\n",
        "Feature | Description \n",
        "----------|---------------\n",
        "**`id`** | A `project_id` value from the `train.csv` file.  **Example:** `p036502`   \n",
        "**`description`** | Desciption of the resource. **Example:** `Tenor Saxophone Reeds, Box of 25`   \n",
        "**`quantity`** | Quantity of the resource required. **Example:** `3`   \n",
        "**`price`** | Price of the resource required. **Example:** `9.95`   \n",
        "\n",
        "**Note:** Many projects require multiple resources. The `id` value corresponds to a `project_id` in train.csv, so you use it as a key to retrieve all resources needed for a project:\n",
        "\n",
        "The data set contains the following label (the value you will attempt to predict):\n",
        "\n",
        "Label | Description\n",
        "----------|---------------\n",
        "`project_is_approved` | A binary flag indicating whether DonorsChoose approved the project. A value of `0` indicates the project was not approved, and a value of `1` indicates the project was approved."
      ]
    },
    {
      "cell_type": "markdown",
      "metadata": {
        "colab_type": "text",
        "id": "TVMzvNZdaJac"
      },
      "source": [
        "### Notes on the Essay Data\n",
        "\n",
        "<ul>\n",
        "Prior to May 17, 2016, the prompts for the essays were as follows:\n",
        "<li>__project_essay_1:__ \"Introduce us to your classroom\"</li>\n",
        "<li>__project_essay_2:__ \"Tell us more about your students\"</li>\n",
        "<li>__project_essay_3:__ \"Describe how your students will use the materials you're requesting\"</li>\n",
        "<li>__project_essay_4:__ \"Close by sharing why your project will make a difference\"</li>\n",
        "</ul>\n",
        "\n",
        "\n",
        "<ul>\n",
        "Starting on May 17, 2016, the number of essays was reduced from 4 to 2, and the prompts for the first 2 essays were changed to the following:<br>\n",
        "<li>__project_essay_1:__ \"Describe your students: What makes your students special? Specific details about their background, your neighborhood, and your school are all helpful.\"</li>\n",
        "<li>__project_essay_2:__ \"About your project: How will these materials make a difference in your students' learning and improve their school lives?\"</li>\n",
        "<br>For all projects with project_submitted_datetime of 2016-05-17 and later, the values of project_essay_3 and project_essay_4 will be NaN.\n",
        "</ul>\n"
      ]
    },
    {
      "cell_type": "code",
      "metadata": {
        "colab_type": "code",
        "id": "CDr-VpfXaJaf",
        "outputId": "8ac273bd-6947-4db5-9dbc-4b5c52763015",
        "colab": {
          "base_uri": "https://localhost:8080/",
          "height": 54
        }
      },
      "source": [
        "%matplotlib inline\n",
        "import warnings\n",
        "warnings.filterwarnings(\"ignore\")\n",
        "\n",
        "import sqlite3\n",
        "import pandas as pd\n",
        "import numpy as np\n",
        "import nltk\n",
        "import string\n",
        "import matplotlib.pyplot as plt\n",
        "import seaborn as sns\n",
        "from sklearn.feature_extraction.text import TfidfTransformer\n",
        "from sklearn.feature_extraction.text import TfidfVectorizer\n",
        "\n",
        "from sklearn.feature_extraction.text import CountVectorizer\n",
        "from sklearn.metrics import confusion_matrix\n",
        "from sklearn import metrics\n",
        "from sklearn.metrics import roc_curve, auc\n",
        "from nltk.stem.porter import PorterStemmer\n",
        "\n",
        "import re\n",
        "# Tutorial about Python regular expressions: https://pymotw.com/2/re/\n",
        "import string\n",
        "from nltk.corpus import stopwords\n",
        "from nltk.stem import PorterStemmer\n",
        "from nltk.stem.wordnet import WordNetLemmatizer\n",
        "\n",
        "from gensim.models import Word2Vec\n",
        "from gensim.models import KeyedVectors\n",
        "import pickle\n",
        "\n",
        "from tqdm import tqdm\n",
        "import os\n",
        "\"\"\"\n",
        "from plotly import plotly\n",
        "import plotly.offline as offline\n",
        "import plotly.graph_objs as go\n",
        "offline.init_notebook_mode()\n",
        "from collections import Counter\"\"\""
      ],
      "execution_count": 0,
      "outputs": [
        {
          "output_type": "execute_result",
          "data": {
            "text/plain": [
              "'\\nfrom plotly import plotly\\nimport plotly.offline as offline\\nimport plotly.graph_objs as go\\noffline.init_notebook_mode()\\nfrom collections import Counter'"
            ]
          },
          "metadata": {
            "tags": []
          },
          "execution_count": 6
        }
      ]
    },
    {
      "cell_type": "code",
      "metadata": {
        "id": "mBXJxnN--0Eg",
        "colab_type": "code",
        "outputId": "44c6e561-46c1-42f5-c66c-3d561defdafd",
        "colab": {
          "base_uri": "https://localhost:8080/",
          "height": 122
        }
      },
      "source": [
        "from google.colab import drive\n",
        "drive.mount('/content/drive')"
      ],
      "execution_count": 0,
      "outputs": [
        {
          "output_type": "stream",
          "text": [
            "Go to this URL in a browser: https://accounts.google.com/o/oauth2/auth?client_id=947318989803-6bn6qk8qdgf4n4g3pfee6491hc0brc4i.apps.googleusercontent.com&redirect_uri=urn%3aietf%3awg%3aoauth%3a2.0%3aoob&response_type=code&scope=email%20https%3a%2f%2fwww.googleapis.com%2fauth%2fdocs.test%20https%3a%2f%2fwww.googleapis.com%2fauth%2fdrive%20https%3a%2f%2fwww.googleapis.com%2fauth%2fdrive.photos.readonly%20https%3a%2f%2fwww.googleapis.com%2fauth%2fpeopleapi.readonly\n",
            "\n",
            "Enter your authorization code:\n",
            "··········\n",
            "Mounted at /content/drive\n"
          ],
          "name": "stdout"
        }
      ]
    },
    {
      "cell_type": "markdown",
      "metadata": {
        "colab_type": "text",
        "id": "8Drwa7XaaJar"
      },
      "source": [
        "## 1.1 Reading Data"
      ]
    },
    {
      "cell_type": "code",
      "metadata": {
        "colab_type": "code",
        "id": "P5NdUxFCaJas",
        "colab": {}
      },
      "source": [
        "project_data = pd.read_csv('/content/drive/My Drive/Colab Notebooks/train_data.csv')\n",
        "resource_data = pd.read_csv('/content/drive/My Drive/Colab Notebooks/resources.csv')"
      ],
      "execution_count": 0,
      "outputs": []
    },
    {
      "cell_type": "code",
      "metadata": {
        "colab_type": "code",
        "id": "JhsIqPIKaJax",
        "outputId": "8b1ca4c4-25d6-4581-dc13-13b5bf9a3987",
        "colab": {
          "base_uri": "https://localhost:8080/"
        }
      },
      "source": [
        "print(\"Number of data points in train data\", project_data.shape)\n",
        "print('-'*50)\n",
        "print(\"The attributes of data :\", project_data.columns.values)"
      ],
      "execution_count": 0,
      "outputs": [
        {
          "output_type": "stream",
          "text": [
            "Number of data points in train data (109248, 17)\n",
            "--------------------------------------------------\n",
            "The attributes of data : ['Unnamed: 0' 'id' 'teacher_id' 'teacher_prefix' 'school_state'\n",
            " 'project_submitted_datetime' 'project_grade_category'\n",
            " 'project_subject_categories' 'project_subject_subcategories'\n",
            " 'project_title' 'project_essay_1' 'project_essay_2' 'project_essay_3'\n",
            " 'project_essay_4' 'project_resource_summary'\n",
            " 'teacher_number_of_previously_posted_projects' 'project_is_approved']\n"
          ],
          "name": "stdout"
        }
      ]
    },
    {
      "cell_type": "code",
      "metadata": {
        "colab_type": "code",
        "id": "fn0fbARaaJa3",
        "outputId": "54535c77-6d91-4183-a8a1-d9bcb14225c9",
        "colab": {
          "base_uri": "https://localhost:8080/"
        }
      },
      "source": [
        "print(\"Number of data points in train data\", resource_data.shape)\n",
        "print(resource_data.columns.values)\n",
        "resource_data.head(2)"
      ],
      "execution_count": 0,
      "outputs": [
        {
          "output_type": "stream",
          "text": [
            "Number of data points in train data (1541272, 4)\n",
            "['id' 'description' 'quantity' 'price']\n"
          ],
          "name": "stdout"
        },
        {
          "output_type": "execute_result",
          "data": {
            "text/html": [
              "<div>\n",
              "<style scoped>\n",
              "    .dataframe tbody tr th:only-of-type {\n",
              "        vertical-align: middle;\n",
              "    }\n",
              "\n",
              "    .dataframe tbody tr th {\n",
              "        vertical-align: top;\n",
              "    }\n",
              "\n",
              "    .dataframe thead th {\n",
              "        text-align: right;\n",
              "    }\n",
              "</style>\n",
              "<table border=\"1\" class=\"dataframe\">\n",
              "  <thead>\n",
              "    <tr style=\"text-align: right;\">\n",
              "      <th></th>\n",
              "      <th>id</th>\n",
              "      <th>description</th>\n",
              "      <th>quantity</th>\n",
              "      <th>price</th>\n",
              "    </tr>\n",
              "  </thead>\n",
              "  <tbody>\n",
              "    <tr>\n",
              "      <th>0</th>\n",
              "      <td>p233245</td>\n",
              "      <td>LC652 - Lakeshore Double-Space Mobile Drying Rack</td>\n",
              "      <td>1</td>\n",
              "      <td>149.00</td>\n",
              "    </tr>\n",
              "    <tr>\n",
              "      <th>1</th>\n",
              "      <td>p069063</td>\n",
              "      <td>Bouncy Bands for Desks (Blue support pipes)</td>\n",
              "      <td>3</td>\n",
              "      <td>14.95</td>\n",
              "    </tr>\n",
              "  </tbody>\n",
              "</table>\n",
              "</div>"
            ],
            "text/plain": [
              "        id                                        description  quantity   price\n",
              "0  p233245  LC652 - Lakeshore Double-Space Mobile Drying Rack         1  149.00\n",
              "1  p069063        Bouncy Bands for Desks (Blue support pipes)         3   14.95"
            ]
          },
          "metadata": {
            "tags": []
          },
          "execution_count": 9
        }
      ]
    },
    {
      "cell_type": "markdown",
      "metadata": {
        "colab_type": "text",
        "id": "udV9YvZNaJa8"
      },
      "source": [
        "# 1.2 Data Analysis"
      ]
    },
    {
      "cell_type": "code",
      "metadata": {
        "colab_type": "code",
        "id": "q0ROj_WJaJa9",
        "outputId": "02c88ea2-fb99-4bb8-9763-1459c9d40120",
        "colab": {
          "base_uri": "https://localhost:8080/",
          "height": 417
        }
      },
      "source": [
        "# PROVIDE CITATIONS TO YOUR CODE IF YOU TAKE IT FROM ANOTHER WEBSITE.\n",
        "# https://matplotlib.org/gallery/pie_and_polar_charts/pie_and_donut_labels.html#sphx-glr-gallery-pie-and-polar-charts-pie-and-donut-labels-py\n",
        "\n",
        "\n",
        "y_value_counts = project_data['project_is_approved'].value_counts()\n",
        "print(\"Number of projects thar are approved for funding \", y_value_counts[1], \", (\", (y_value_counts[1]/(y_value_counts[1]+y_value_counts[0]))*100,\"%)\")\n",
        "print(\"Number of projects thar are not approved for funding \", y_value_counts[0], \", (\", (y_value_counts[0]/(y_value_counts[1]+y_value_counts[0]))*100,\"%)\")\n",
        "\n",
        "fig, ax = plt.subplots(figsize=(6, 6), subplot_kw=dict(aspect=\"equal\"))\n",
        "recipe = [\"Accepted\", \"Not Accepted\"]\n",
        "\n",
        "data = [y_value_counts[1], y_value_counts[0]]\n",
        "\n",
        "wedges, texts = ax.pie(data, wedgeprops=dict(width=0.5), startangle=-40)\n",
        "\n",
        "bbox_props = dict(boxstyle=\"square,pad=0.3\", fc=\"w\", ec=\"k\", lw=0.72)\n",
        "kw = dict(xycoords='data', textcoords='data', arrowprops=dict(arrowstyle=\"-\"),\n",
        "          bbox=bbox_props, zorder=0, va=\"center\")\n",
        "\n",
        "for i, p in enumerate(wedges):\n",
        "    ang = (p.theta2 - p.theta1)/2. + p.theta1\n",
        "    y = np.sin(np.deg2rad(ang))\n",
        "    x = np.cos(np.deg2rad(ang))\n",
        "    horizontalalignment = {-1: \"right\", 1: \"left\"}[int(np.sign(x))]\n",
        "    connectionstyle = \"angle,angleA=0,angleB={}\".format(ang)\n",
        "    kw[\"arrowprops\"].update({\"connectionstyle\": connectionstyle})\n",
        "    ax.annotate(recipe[i], xy=(x, y), xytext=(1.35*np.sign(x), 1.4*y),\n",
        "                 horizontalalignment=horizontalalignment, **kw)\n",
        "\n",
        "ax.set_title(\"Nmber of projects that are Accepted and not accepted\")\n",
        "\n",
        "plt.show()"
      ],
      "execution_count": 0,
      "outputs": [
        {
          "output_type": "stream",
          "text": [
            "Number of projects thar are approved for funding  92706 , ( 84.85830404217927 %)\n",
            "Number of projects thar are not approved for funding  16542 , ( 15.141695957820739 %)\n"
          ],
          "name": "stdout"
        },
        {
          "output_type": "display_data",
          "data": {
            "image/png": "[encoded data removed]",
            "text/plain": [
              "<Figure size 432x432 with 1 Axes>"
            ]
          },
          "metadata": {
            "tags": []
          }
        }
      ]
    },
    {
      "cell_type": "markdown",
      "metadata": {
        "colab_type": "text",
        "id": "WzssSvN6aJbC"
      },
      "source": [
        "### 1.2.1 Univariate Analysis: School State"
      ]
    },
    {
      "cell_type": "code",
      "metadata": {
        "colab_type": "code",
        "id": "DoHRXTR7aJbD",
        "scrolled": false,
        "outputId": "66676bd5-5e55-4769-a0d2-0908117f2123",
        "colab": {
          "base_uri": "https://localhost:8080/",
          "height": 54
        }
      },
      "source": [
        "# Pandas dataframe groupby count, mean: https://stackoverflow.com/a/19385591/4084039\n",
        "\n",
        "temp = pd.DataFrame(project_data.groupby(\"school_state\")[\"project_is_approved\"].apply(np.mean)).reset_index()\n",
        "# if you have data which contain only 0 and 1, then the mean = percentage (think about it)\n",
        "temp.columns = ['state_code', 'num_proposals']\n",
        "\n",
        "'''# How to plot US state heatmap: https://datascience.stackexchange.com/a/9620\n",
        "\n",
        "scl = [[0.0, 'rgb(242,240,247)'],[0.2, 'rgb(218,218,235)'],[0.4, 'rgb(188,189,220)'],\\\n",
        "            [0.6, 'rgb(158,154,200)'],[0.8, 'rgb(117,107,177)'],[1.0, 'rgb(84,39,143)']]\n",
        "\n",
        "data = [ dict(\n",
        "        type='choropleth',\n",
        "        colorscale = scl,\n",
        "        autocolorscale = False,\n",
        "        locations = temp['state_code'],\n",
        "        z = temp['num_proposals'].astype(float),\n",
        "        locationmode = 'USA-states',\n",
        "        text = temp['state_code'],\n",
        "        marker = dict(line = dict (color = 'rgb(255,255,255)',width = 2)),\n",
        "        colorbar = dict(title = \"% of pro\")\n",
        "    ) ]\n",
        "\n",
        "layout = dict(\n",
        "        title = 'Project Proposals % of Acceptance Rate by US States',\n",
        "        geo = dict(\n",
        "            scope='usa',\n",
        "            projection=dict( type='albers usa' ),\n",
        "            showlakes = True,\n",
        "            lakecolor = 'rgb(255, 255, 255)',\n",
        "        ),\n",
        "    )\n",
        "\n",
        "fig = go.Figure(data=data, layout=layout)\n",
        "offline.iplot(fig, filename='us-map-heat-map')\n",
        "'''"
      ],
      "execution_count": 0,
      "outputs": [
        {
          "output_type": "execute_result",
          "data": {
            "text/plain": [
              "'# How to plot US state heatmap: https://datascience.stackexchange.com/a/9620\\n\\nscl = [[0.0, \\'rgb(242,240,247)\\'],[0.2, \\'rgb(218,218,235)\\'],[0.4, \\'rgb(188,189,220)\\'],            [0.6, \\'rgb(158,154,200)\\'],[0.8, \\'rgb(117,107,177)\\'],[1.0, \\'rgb(84,39,143)\\']]\\n\\ndata = [ dict(\\n        type=\\'choropleth\\',\\n        colorscale = scl,\\n        autocolorscale = False,\\n        locations = temp[\\'state_code\\'],\\n        z = temp[\\'num_proposals\\'].astype(float),\\n        locationmode = \\'USA-states\\',\\n        text = temp[\\'state_code\\'],\\n        marker = dict(line = dict (color = \\'rgb(255,255,255)\\',width = 2)),\\n        colorbar = dict(title = \"% of pro\")\\n    ) ]\\n\\nlayout = dict(\\n        title = \\'Project Proposals % of Acceptance Rate by US States\\',\\n        geo = dict(\\n            scope=\\'usa\\',\\n            projection=dict( type=\\'albers usa\\' ),\\n            showlakes = True,\\n            lakecolor = \\'rgb(255, 255, 255)\\',\\n        ),\\n    )\\n\\nfig = go.Figure(data=data, layout=layout)\\noffline.iplot(fig, filename=\\'us-map-heat-map\\')\\n'"
            ]
          },
          "metadata": {
            "tags": []
          },
          "execution_count": 11
        }
      ]
    },
    {
      "cell_type": "code",
      "metadata": {
        "colab_type": "code",
        "id": "0qAgnYkjaJbH",
        "outputId": "417d7e3f-e972-43e4-a397-9e0534fe6564",
        "colab": {
          "base_uri": "https://localhost:8080/",
          "height": 272
        }
      },
      "source": [
        "# https://www.csi.cuny.edu/sites/default/files/pdf/administration/ops/2letterstabbrev.pdf\n",
        "temp.sort_values(by=['num_proposals'], inplace=True)\n",
        "print(\"States with lowest % approvals\")\n",
        "print(temp.head(5))\n",
        "print('='*50)\n",
        "print(\"States with highest % approvals\")\n",
        "print(temp.tail(5))"
      ],
      "execution_count": 0,
      "outputs": [
        {
          "output_type": "stream",
          "text": [
            "States with lowest % approvals\n",
            "   state_code  num_proposals\n",
            "46         VT       0.800000\n",
            "7          DC       0.802326\n",
            "43         TX       0.813142\n",
            "26         MT       0.816327\n",
            "18         LA       0.831245\n",
            "==================================================\n",
            "States with highest % approvals\n",
            "   state_code  num_proposals\n",
            "30         NH       0.873563\n",
            "35         OH       0.875152\n",
            "47         WA       0.876178\n",
            "28         ND       0.888112\n",
            "8          DE       0.897959\n"
          ],
          "name": "stdout"
        }
      ]
    },
    {
      "cell_type": "code",
      "metadata": {
        "colab_type": "code",
        "id": "_PNmMn3raJbL",
        "colab": {}
      },
      "source": [
        "#stacked bar plots matplotlib: https://matplotlib.org/gallery/lines_bars_and_markers/bar_stacked.html\n",
        "def stack_plot(data, xtick, col2='project_is_approved', col3='total'):\n",
        "    ind = np.arange(data.shape[0])\n",
        "    \n",
        "    plt.figure(figsize=(20,5))\n",
        "    p1 = plt.bar(ind, data[col3].values)\n",
        "    p2 = plt.bar(ind, data[col2].values)\n",
        "\n",
        "    plt.ylabel('Projects')\n",
        "    plt.title('Number of projects aproved vs rejected')\n",
        "    plt.xticks(ind, list(data[xtick].values))\n",
        "    plt.legend((p1[0], p2[0]), ('total', 'accepted'))\n",
        "    plt.show()"
      ],
      "execution_count": 0,
      "outputs": []
    },
    {
      "cell_type": "code",
      "metadata": {
        "colab_type": "code",
        "id": "7ojuQkjQaJbN",
        "colab": {}
      },
      "source": [
        "def univariate_barplots(data, col1, col2='project_is_approved', top=False):\n",
        "    # Count number of zeros in dataframe python: https://stackoverflow.com/a/51540521/4084039\n",
        "    temp = pd.DataFrame(project_data.groupby(col1)[col2].agg(lambda x: x.eq(1).sum())).reset_index()\n",
        "\n",
        "    # Pandas dataframe grouby count: https://stackoverflow.com/a/19385591/4084039\n",
        "    temp['total'] = pd.DataFrame(project_data.groupby(col1)[col2].agg({'total':'count'})).reset_index()['total']\n",
        "    temp['Avg'] = pd.DataFrame(project_data.groupby(col1)[col2].agg({'Avg':'mean'})).reset_index()['Avg']\n",
        "    \n",
        "    temp.sort_values(by=['total'],inplace=True, ascending=False)\n",
        "    \n",
        "    if top:\n",
        "        temp = temp[0:top]\n",
        "    \n",
        "    stack_plot(temp, xtick=col1, col2=col2, col3='total')\n",
        "    print(temp.head(5))\n",
        "    print(\"=\"*50)\n",
        "    print(temp.tail(5))"
      ],
      "execution_count": 0,
      "outputs": []
    },
    {
      "cell_type": "code",
      "metadata": {
        "colab_type": "code",
        "id": "v6r0uLZtaJbQ",
        "outputId": "9acf8667-5ebd-46af-d727-1593c153aca7",
        "colab": {
          "base_uri": "https://localhost:8080/",
          "height": 577
        }
      },
      "source": [
        "univariate_barplots(project_data, 'school_state', 'project_is_approved', False)"
      ],
      "execution_count": 0,
      "outputs": [
        {
          "output_type": "display_data",
          "data": {
            "image/png": "[encoded data removed]",
            "text/plain": [
              "<Figure size 1440x360 with 1 Axes>"
            ]
          },
          "metadata": {
            "tags": []
          }
        },
        {
          "output_type": "stream",
          "text": [
            "   school_state  project_is_approved  total       Avg\n",
            "4            CA                13205  15388  0.858136\n",
            "43           TX                 6014   7396  0.813142\n",
            "34           NY                 6291   7318  0.859661\n",
            "9            FL                 5144   6185  0.831690\n",
            "27           NC                 4353   5091  0.855038\n",
            "==================================================\n",
            "   school_state  project_is_approved  total       Avg\n",
            "39           RI                  243    285  0.852632\n",
            "26           MT                  200    245  0.816327\n",
            "28           ND                  127    143  0.888112\n",
            "50           WY                   82     98  0.836735\n",
            "46           VT                   64     80  0.800000\n"
          ],
          "name": "stdout"
        }
      ]
    },
    {
      "cell_type": "markdown",
      "metadata": {
        "colab_type": "text",
        "id": "ASBJo7KhaJbT"
      },
      "source": [
        "__SUMMARY: Every state has greater than 80% success rate in approval__"
      ]
    },
    {
      "cell_type": "markdown",
      "metadata": {
        "colab_type": "text",
        "id": "df7aw9znaJbU"
      },
      "source": [
        "### 1.2.2 Univariate Analysis: teacher_prefix"
      ]
    },
    {
      "cell_type": "code",
      "metadata": {
        "colab_type": "code",
        "id": "7hzEN-UTaJbV",
        "outputId": "e500d355-cf98-4ef6-d88e-7944b158cfef",
        "colab": {
          "base_uri": "https://localhost:8080/",
          "height": 577
        }
      },
      "source": [
        "univariate_barplots(project_data, 'teacher_prefix', 'project_is_approved' , top=False)"
      ],
      "execution_count": 0,
      "outputs": [
        {
          "output_type": "display_data",
          "data": {
            "image/png": "[encoded data removed]",
            "text/plain": [
              "<Figure size 1440x360 with 1 Axes>"
            ]
          },
          "metadata": {
            "tags": []
          }
        },
        {
          "output_type": "stream",
          "text": [
            "  teacher_prefix  project_is_approved  total       Avg\n",
            "2           Mrs.                48997  57269  0.855559\n",
            "3            Ms.                32860  38955  0.843537\n",
            "1            Mr.                 8960  10648  0.841473\n",
            "4        Teacher                 1877   2360  0.795339\n",
            "0            Dr.                    9     13  0.692308\n",
            "==================================================\n",
            "  teacher_prefix  project_is_approved  total       Avg\n",
            "2           Mrs.                48997  57269  0.855559\n",
            "3            Ms.                32860  38955  0.843537\n",
            "1            Mr.                 8960  10648  0.841473\n",
            "4        Teacher                 1877   2360  0.795339\n",
            "0            Dr.                    9     13  0.692308\n"
          ],
          "name": "stdout"
        }
      ]
    },
    {
      "cell_type": "markdown",
      "metadata": {
        "colab_type": "text",
        "id": "KLkWseiHaJbY"
      },
      "source": [
        "### 1.2.3 Univariate Analysis: project_grade_category"
      ]
    },
    {
      "cell_type": "code",
      "metadata": {
        "colab_type": "code",
        "id": "ywuMX7O2aJbZ",
        "outputId": "62c9a225-e86d-49d6-e1a2-5aa772a947a0",
        "colab": {
          "base_uri": "https://localhost:8080/",
          "height": 543
        }
      },
      "source": [
        "univariate_barplots(project_data, 'project_grade_category', 'project_is_approved', top=False)"
      ],
      "execution_count": 0,
      "outputs": [
        {
          "output_type": "display_data",
          "data": {
            "image/png": "[encoded data removed]",
            "text/plain": [
              "<Figure size 1440x360 with 1 Axes>"
            ]
          },
          "metadata": {
            "tags": []
          }
        },
        {
          "output_type": "stream",
          "text": [
            "  project_grade_category  project_is_approved  total       Avg\n",
            "3          Grades PreK-2                37536  44225  0.848751\n",
            "0             Grades 3-5                31729  37137  0.854377\n",
            "1             Grades 6-8                14258  16923  0.842522\n",
            "2            Grades 9-12                 9183  10963  0.837636\n",
            "==================================================\n",
            "  project_grade_category  project_is_approved  total       Avg\n",
            "3          Grades PreK-2                37536  44225  0.848751\n",
            "0             Grades 3-5                31729  37137  0.854377\n",
            "1             Grades 6-8                14258  16923  0.842522\n",
            "2            Grades 9-12                 9183  10963  0.837636\n"
          ],
          "name": "stdout"
        }
      ]
    },
    {
      "cell_type": "markdown",
      "metadata": {
        "colab_type": "text",
        "id": "ODDsS25MaJbd"
      },
      "source": [
        "### 1.2.4 Univariate Analysis: project_subject_categories"
      ]
    },
    {
      "cell_type": "code",
      "metadata": {
        "colab_type": "code",
        "id": "5L9hqFQ_aJbd",
        "colab": {}
      },
      "source": [
        "catogories = list(project_data['project_subject_categories'].values)\n",
        "# remove special characters from list of strings python: https://stackoverflow.com/a/47301924/4084039\n",
        "\n",
        "# https://www.geeksforgeeks.org/removing-stop-words-nltk-python/\n",
        "# https://stackoverflow.com/questions/23669024/how-to-strip-a-specific-word-from-a-string\n",
        "# https://stackoverflow.com/questions/8270092/remove-all-whitespace-in-a-string-in-python\n",
        "cat_list = []\n",
        "for i in catogories:\n",
        "    temp = \"\"\n",
        "    # consider we have text like this \"Math & Science, Warmth, Care & Hunger\"\n",
        "    for j in i.split(','): # it will split it in three parts [\"Math & Science\", \"Warmth\", \"Care & Hunger\"]\n",
        "        if 'The' in j.split(): # this will split each of the catogory based on space \"Math & Science\"=> \"Math\",\"&\", \"Science\"\n",
        "            j=j.replace('The','') # if we have the words \"The\" we are going to replace it with ''(i.e removing 'The')\n",
        "        j = j.replace(' ','') # we are placeing all the ' '(space) with ''(empty) ex:\"Math & Science\"=>\"Math&Science\"\n",
        "        temp+=j.strip()+\" \" #\" abc \".strip() will return \"abc\", remove the trailing spaces\n",
        "        temp = temp.replace('&','_') # we are replacing the & value into \n",
        "    cat_list.append(temp.strip())"
      ],
      "execution_count": 0,
      "outputs": []
    },
    {
      "cell_type": "code",
      "metadata": {
        "colab_type": "code",
        "id": "ad9OweSvaJbg",
        "scrolled": true,
        "outputId": "81bef47f-59d2-4132-b352-eca2395b6820",
        "colab": {
          "base_uri": "https://localhost:8080/",
          "height": 233
        }
      },
      "source": [
        "project_data['clean_categories'] = cat_list\n",
        "project_data.drop(['project_subject_categories'], axis=1, inplace=True)\n",
        "project_data.head(2)"
      ],
      "execution_count": 0,
      "outputs": [
        {
          "output_type": "execute_result",
          "data": {
            "text/html": [
              "<div>\n",
              "<style scoped>\n",
              "    .dataframe tbody tr th:only-of-type {\n",
              "        vertical-align: middle;\n",
              "    }\n",
              "\n",
              "    .dataframe tbody tr th {\n",
              "        vertical-align: top;\n",
              "    }\n",
              "\n",
              "    .dataframe thead th {\n",
              "        text-align: right;\n",
              "    }\n",
              "</style>\n",
              "<table border=\"1\" class=\"dataframe\">\n",
              "  <thead>\n",
              "    <tr style=\"text-align: right;\">\n",
              "      <th></th>\n",
              "      <th>Unnamed: 0</th>\n",
              "      <th>id</th>\n",
              "      <th>teacher_id</th>\n",
              "      <th>teacher_prefix</th>\n",
              "      <th>school_state</th>\n",
              "      <th>project_submitted_datetime</th>\n",
              "      <th>project_grade_category</th>\n",
              "      <th>project_subject_subcategories</th>\n",
              "      <th>project_title</th>\n",
              "      <th>project_essay_1</th>\n",
              "      <th>project_essay_2</th>\n",
              "      <th>project_essay_3</th>\n",
              "      <th>project_essay_4</th>\n",
              "      <th>project_resource_summary</th>\n",
              "      <th>teacher_number_of_previously_posted_projects</th>\n",
              "      <th>project_is_approved</th>\n",
              "      <th>clean_categories</th>\n",
              "    </tr>\n",
              "  </thead>\n",
              "  <tbody>\n",
              "    <tr>\n",
              "      <th>0</th>\n",
              "      <td>160221</td>\n",
              "      <td>p253737</td>\n",
              "      <td>c90749f5d961ff158d4b4d1e7dc665fc</td>\n",
              "      <td>Mrs.</td>\n",
              "      <td>IN</td>\n",
              "      <td>2016-12-05 13:43:57</td>\n",
              "      <td>Grades PreK-2</td>\n",
              "      <td>ESL, Literacy</td>\n",
              "      <td>Educational Support for English Learners at Home</td>\n",
              "      <td>My students are English learners that are work...</td>\n",
              "      <td>\\\"The limits of your language are the limits o...</td>\n",
              "      <td>NaN</td>\n",
              "      <td>NaN</td>\n",
              "      <td>My students need opportunities to practice beg...</td>\n",
              "      <td>0</td>\n",
              "      <td>0</td>\n",
              "      <td>Literacy_Language</td>\n",
              "    </tr>\n",
              "    <tr>\n",
              "      <th>1</th>\n",
              "      <td>140945</td>\n",
              "      <td>p258326</td>\n",
              "      <td>897464ce9ddc600bced1151f324dd63a</td>\n",
              "      <td>Mr.</td>\n",
              "      <td>FL</td>\n",
              "      <td>2016-10-25 09:22:10</td>\n",
              "      <td>Grades 6-8</td>\n",
              "      <td>Civics &amp; Government, Team Sports</td>\n",
              "      <td>Wanted: Projector for Hungry Learners</td>\n",
              "      <td>Our students arrive to our school eager to lea...</td>\n",
              "      <td>The projector we need for our school is very c...</td>\n",
              "      <td>NaN</td>\n",
              "      <td>NaN</td>\n",
              "      <td>My students need a projector to help with view...</td>\n",
              "      <td>7</td>\n",
              "      <td>1</td>\n",
              "      <td>History_Civics Health_Sports</td>\n",
              "    </tr>\n",
              "  </tbody>\n",
              "</table>\n",
              "</div>"
            ],
            "text/plain": [
              "   Unnamed: 0       id  ... project_is_approved              clean_categories\n",
              "0      160221  p253737  ...                   0             Literacy_Language\n",
              "1      140945  p258326  ...                   1  History_Civics Health_Sports\n",
              "\n",
              "[2 rows x 17 columns]"
            ]
          },
          "metadata": {
            "tags": []
          },
          "execution_count": 19
        }
      ]
    },
    {
      "cell_type": "code",
      "metadata": {
        "colab_type": "code",
        "id": "osOAKP6FaJbk",
        "scrolled": false,
        "outputId": "8862e434-988b-45b0-ab87-293b0f169734",
        "colab": {
          "base_uri": "https://localhost:8080/",
          "height": 578
        }
      },
      "source": [
        "univariate_barplots(project_data, 'clean_categories', 'project_is_approved', top=20)"
      ],
      "execution_count": 0,
      "outputs": [
        {
          "output_type": "display_data",
          "data": {
            "image/png": "[encoded data removed]",
            "text/plain": [
              "<Figure size 1440x360 with 1 Axes>"
            ]
          },
          "metadata": {
            "tags": []
          }
        },
        {
          "output_type": "stream",
          "text": [
            "                  clean_categories  project_is_approved  total       Avg\n",
            "24               Literacy_Language                20520  23655  0.867470\n",
            "32                    Math_Science                13991  17072  0.819529\n",
            "28  Literacy_Language Math_Science                12725  14636  0.869432\n",
            "8                    Health_Sports                 8640  10177  0.848973\n",
            "40                      Music_Arts                 4429   5180  0.855019\n",
            "==================================================\n",
            "                    clean_categories  project_is_approved  total       Avg\n",
            "19  History_Civics Literacy_Language                 1271   1421  0.894441\n",
            "14        Health_Sports SpecialNeeds                 1215   1391  0.873472\n",
            "50                Warmth Care_Hunger                 1212   1309  0.925898\n",
            "33      Math_Science AppliedLearning                 1019   1220  0.835246\n",
            "4       AppliedLearning Math_Science                  855   1052  0.812738\n"
          ],
          "name": "stdout"
        }
      ]
    },
    {
      "cell_type": "code",
      "metadata": {
        "colab_type": "code",
        "id": "7zVBViRUaJbn",
        "colab": {}
      },
      "source": [
        "# count of all the words in corpus python: https://stackoverflow.com/a/22898595/4084039\n",
        "from collections import Counter\n",
        "my_counter = Counter()\n",
        "for word in project_data['clean_categories'].values:\n",
        "    my_counter.update(word.split())"
      ],
      "execution_count": 0,
      "outputs": []
    },
    {
      "cell_type": "code",
      "metadata": {
        "colab_type": "code",
        "id": "78JrfgHUaJbp",
        "outputId": "131153d5-43dd-4b8b-8a4a-dc1e72653181",
        "colab": {
          "base_uri": "https://localhost:8080/",
          "height": 357
        }
      },
      "source": [
        "# dict sort by value python: https://stackoverflow.com/a/613218/4084039\n",
        "cat_dict = dict(my_counter)\n",
        "sorted_cat_dict = dict(sorted(cat_dict.items(), key=lambda kv: kv[1]))\n",
        "\n",
        "\n",
        "ind = np.arange(len(sorted_cat_dict))\n",
        "plt.figure(figsize=(20,5))\n",
        "p1 = plt.bar(ind, list(sorted_cat_dict.values()))\n",
        "\n",
        "plt.ylabel('Projects')\n",
        "plt.title('% of projects aproved category wise')\n",
        "plt.xticks(ind, list(sorted_cat_dict.keys()))\n",
        "plt.show()"
      ],
      "execution_count": 0,
      "outputs": [
        {
          "output_type": "display_data",
          "data": {
            "image/png": "[encoded data removed]",
            "text/plain": [
              "<Figure size 1440x360 with 1 Axes>"
            ]
          },
          "metadata": {
            "tags": []
          }
        }
      ]
    },
    {
      "cell_type": "code",
      "metadata": {
        "colab_type": "code",
        "id": "GqDa4X7SaJbs",
        "scrolled": true,
        "outputId": "05e0a31f-6849-4a42-e0b8-189c9edd8dff",
        "colab": {
          "base_uri": "https://localhost:8080/",
          "height": 170
        }
      },
      "source": [
        "for i, j in sorted_cat_dict.items():\n",
        "    print(\"{:20} :{:10}\".format(i,j))"
      ],
      "execution_count": 0,
      "outputs": [
        {
          "output_type": "stream",
          "text": [
            "Warmth               :      1388\n",
            "Care_Hunger          :      1388\n",
            "History_Civics       :      5914\n",
            "Music_Arts           :     10293\n",
            "AppliedLearning      :     12135\n",
            "SpecialNeeds         :     13642\n",
            "Health_Sports        :     14223\n",
            "Math_Science         :     41421\n",
            "Literacy_Language    :     52239\n"
          ],
          "name": "stdout"
        }
      ]
    },
    {
      "cell_type": "markdown",
      "metadata": {
        "colab_type": "text",
        "id": "hqnsApdoaJbv"
      },
      "source": [
        "### 1.2.5 Univariate Analysis: project_subject_subcategories"
      ]
    },
    {
      "cell_type": "code",
      "metadata": {
        "colab_type": "code",
        "id": "fuucFuPqaJbv",
        "colab": {}
      },
      "source": [
        "sub_catogories = list(project_data['project_subject_subcategories'].values)\n",
        "# remove special characters from list of strings python: https://stackoverflow.com/a/47301924/4084039\n",
        "\n",
        "# https://www.geeksforgeeks.org/removing-stop-words-nltk-python/\n",
        "# https://stackoverflow.com/questions/23669024/how-to-strip-a-specific-word-from-a-string\n",
        "# https://stackoverflow.com/questions/8270092/remove-all-whitespace-in-a-string-in-python\n",
        "\n",
        "sub_cat_list = []\n",
        "for i in sub_catogories:\n",
        "    temp = \"\"\n",
        "    # consider we have text like this \"Math & Science, Warmth, Care & Hunger\"\n",
        "    for j in i.split(','): # it will split it in three parts [\"Math & Science\", \"Warmth\", \"Care & Hunger\"]\n",
        "        if 'The' in j.split(): # this will split each of the catogory based on space \"Math & Science\"=> \"Math\",\"&\", \"Science\"\n",
        "            j=j.replace('The','') # if we have the words \"The\" we are going to replace it with ''(i.e removing 'The')\n",
        "        j = j.replace(' ','') # we are placeing all the ' '(space) with ''(empty) ex:\"Math & Science\"=>\"Math&Science\"\n",
        "        temp +=j.strip()+\" \"#\" abc \".strip() will return \"abc\", remove the trailing spaces\n",
        "        temp = temp.replace('&','_')\n",
        "    sub_cat_list.append(temp.strip())"
      ],
      "execution_count": 0,
      "outputs": []
    },
    {
      "cell_type": "code",
      "metadata": {
        "colab_type": "code",
        "id": "EGDMvA75aJby",
        "outputId": "9f7b8888-18ab-4515-8596-51c11c0d0579",
        "colab": {
          "base_uri": "https://localhost:8080/",
          "height": 233
        }
      },
      "source": [
        "project_data['clean_subcategories'] = sub_cat_list\n",
        "project_data.drop(['project_subject_subcategories'], axis=1, inplace=True)\n",
        "project_data.head(2)"
      ],
      "execution_count": 0,
      "outputs": [
        {
          "output_type": "execute_result",
          "data": {
            "text/html": [
              "<div>\n",
              "<style scoped>\n",
              "    .dataframe tbody tr th:only-of-type {\n",
              "        vertical-align: middle;\n",
              "    }\n",
              "\n",
              "    .dataframe tbody tr th {\n",
              "        vertical-align: top;\n",
              "    }\n",
              "\n",
              "    .dataframe thead th {\n",
              "        text-align: right;\n",
              "    }\n",
              "</style>\n",
              "<table border=\"1\" class=\"dataframe\">\n",
              "  <thead>\n",
              "    <tr style=\"text-align: right;\">\n",
              "      <th></th>\n",
              "      <th>Unnamed: 0</th>\n",
              "      <th>id</th>\n",
              "      <th>teacher_id</th>\n",
              "      <th>teacher_prefix</th>\n",
              "      <th>school_state</th>\n",
              "      <th>project_submitted_datetime</th>\n",
              "      <th>project_grade_category</th>\n",
              "      <th>project_title</th>\n",
              "      <th>project_essay_1</th>\n",
              "      <th>project_essay_2</th>\n",
              "      <th>project_essay_3</th>\n",
              "      <th>project_essay_4</th>\n",
              "      <th>project_resource_summary</th>\n",
              "      <th>teacher_number_of_previously_posted_projects</th>\n",
              "      <th>project_is_approved</th>\n",
              "      <th>clean_categories</th>\n",
              "      <th>clean_subcategories</th>\n",
              "    </tr>\n",
              "  </thead>\n",
              "  <tbody>\n",
              "    <tr>\n",
              "      <th>0</th>\n",
              "      <td>160221</td>\n",
              "      <td>p253737</td>\n",
              "      <td>c90749f5d961ff158d4b4d1e7dc665fc</td>\n",
              "      <td>Mrs.</td>\n",
              "      <td>IN</td>\n",
              "      <td>2016-12-05 13:43:57</td>\n",
              "      <td>Grades PreK-2</td>\n",
              "      <td>Educational Support for English Learners at Home</td>\n",
              "      <td>My students are English learners that are work...</td>\n",
              "      <td>\\\"The limits of your language are the limits o...</td>\n",
              "      <td>NaN</td>\n",
              "      <td>NaN</td>\n",
              "      <td>My students need opportunities to practice beg...</td>\n",
              "      <td>0</td>\n",
              "      <td>0</td>\n",
              "      <td>Literacy_Language</td>\n",
              "      <td>ESL Literacy</td>\n",
              "    </tr>\n",
              "    <tr>\n",
              "      <th>1</th>\n",
              "      <td>140945</td>\n",
              "      <td>p258326</td>\n",
              "      <td>897464ce9ddc600bced1151f324dd63a</td>\n",
              "      <td>Mr.</td>\n",
              "      <td>FL</td>\n",
              "      <td>2016-10-25 09:22:10</td>\n",
              "      <td>Grades 6-8</td>\n",
              "      <td>Wanted: Projector for Hungry Learners</td>\n",
              "      <td>Our students arrive to our school eager to lea...</td>\n",
              "      <td>The projector we need for our school is very c...</td>\n",
              "      <td>NaN</td>\n",
              "      <td>NaN</td>\n",
              "      <td>My students need a projector to help with view...</td>\n",
              "      <td>7</td>\n",
              "      <td>1</td>\n",
              "      <td>History_Civics Health_Sports</td>\n",
              "      <td>Civics_Government TeamSports</td>\n",
              "    </tr>\n",
              "  </tbody>\n",
              "</table>\n",
              "</div>"
            ],
            "text/plain": [
              "   Unnamed: 0  ...           clean_subcategories\n",
              "0      160221  ...                  ESL Literacy\n",
              "1      140945  ...  Civics_Government TeamSports\n",
              "\n",
              "[2 rows x 17 columns]"
            ]
          },
          "metadata": {
            "tags": []
          },
          "execution_count": 25
        }
      ]
    },
    {
      "cell_type": "code",
      "metadata": {
        "colab_type": "code",
        "id": "O4EiP97LaJb1",
        "outputId": "492d2287-1a41-4fb5-e7a5-ddcff2359611",
        "colab": {
          "base_uri": "https://localhost:8080/",
          "height": 578
        }
      },
      "source": [
        "univariate_barplots(project_data, 'clean_subcategories', 'project_is_approved', top=50)"
      ],
      "execution_count": 0,
      "outputs": [
        {
          "output_type": "display_data",
          "data": {
            "image/png": "[encoded data removed]",
            "text/plain": [
              "<Figure size 1440x360 with 1 Axes>"
            ]
          },
          "metadata": {
            "tags": []
          }
        },
        {
          "output_type": "stream",
          "text": [
            "                clean_subcategories  project_is_approved  total       Avg\n",
            "317                        Literacy                 8371   9486  0.882458\n",
            "319            Literacy Mathematics                 7260   8325  0.872072\n",
            "331  Literature_Writing Mathematics                 5140   5923  0.867803\n",
            "318     Literacy Literature_Writing                 4823   5571  0.865733\n",
            "342                     Mathematics                 4385   5379  0.815207\n",
            "==================================================\n",
            "                    clean_subcategories  project_is_approved  total       Avg\n",
            "196       EnvironmentalScience Literacy                  389    444  0.876126\n",
            "127                                 ESL                  349    421  0.828979\n",
            "79                   College_CareerPrep                  343    421  0.814727\n",
            "17   AppliedSciences Literature_Writing                  361    420  0.859524\n",
            "3    AppliedSciences College_CareerPrep                  330    405  0.814815\n"
          ],
          "name": "stdout"
        }
      ]
    },
    {
      "cell_type": "code",
      "metadata": {
        "colab_type": "code",
        "id": "M-mfsKtyaJb5",
        "colab": {}
      },
      "source": [
        "# count of all the words in corpus python: https://stackoverflow.com/a/22898595/4084039\n",
        "from collections import Counter\n",
        "my_counter = Counter()\n",
        "for word in project_data['clean_subcategories'].values:\n",
        "    my_counter.update(word.split())"
      ],
      "execution_count": 0,
      "outputs": []
    },
    {
      "cell_type": "code",
      "metadata": {
        "colab_type": "code",
        "id": "6llm_fjMaJb7",
        "outputId": "7a496483-050d-4a9a-e1da-f8f12e254f45",
        "colab": {
          "base_uri": "https://localhost:8080/",
          "height": 357
        }
      },
      "source": [
        "# dict sort by value python: https://stackoverflow.com/a/613218/4084039\n",
        "sub_cat_dict = dict(my_counter)\n",
        "sorted_sub_cat_dict = dict(sorted(sub_cat_dict.items(), key=lambda kv: kv[1]))\n",
        "\n",
        "\n",
        "ind = np.arange(len(sorted_sub_cat_dict))\n",
        "plt.figure(figsize=(20,5))\n",
        "p1 = plt.bar(ind, list(sorted_sub_cat_dict.values()))\n",
        "\n",
        "plt.ylabel('Projects')\n",
        "plt.title('% of projects aproved state wise')\n",
        "plt.xticks(ind, list(sorted_sub_cat_dict.keys()))\n",
        "plt.show()"
      ],
      "execution_count": 0,
      "outputs": [
        {
          "output_type": "display_data",
          "data": {
            "image/png": "[encoded data removed]",
            "text/plain": [
              "<Figure size 1440x360 with 1 Axes>"
            ]
          },
          "metadata": {
            "tags": []
          }
        }
      ]
    },
    {
      "cell_type": "code",
      "metadata": {
        "colab_type": "code",
        "id": "HZ5p6n8HaJb_",
        "outputId": "728b2583-965b-43fd-936d-01fc1a99758b",
        "colab": {
          "base_uri": "https://localhost:8080/",
          "height": 527
        }
      },
      "source": [
        "for i, j in sorted_sub_cat_dict.items():\n",
        "    print(\"{:20} :{:10}\".format(i,j))"
      ],
      "execution_count": 0,
      "outputs": [
        {
          "output_type": "stream",
          "text": [
            "Economics            :       269\n",
            "CommunityService     :       441\n",
            "FinancialLiteracy    :       568\n",
            "ParentInvolvement    :       677\n",
            "Extracurricular      :       810\n",
            "Civics_Government    :       815\n",
            "ForeignLanguages     :       890\n",
            "NutritionEducation   :      1355\n",
            "Warmth               :      1388\n",
            "Care_Hunger          :      1388\n",
            "SocialSciences       :      1920\n",
            "PerformingArts       :      1961\n",
            "CharacterEducation   :      2065\n",
            "TeamSports           :      2192\n",
            "Other                :      2372\n",
            "College_CareerPrep   :      2568\n",
            "Music                :      3145\n",
            "History_Geography    :      3171\n",
            "Health_LifeScience   :      4235\n",
            "EarlyDevelopment     :      4254\n",
            "ESL                  :      4367\n",
            "Gym_Fitness          :      4509\n",
            "EnvironmentalScience :      5591\n",
            "VisualArts           :      6278\n",
            "Health_Wellness      :     10234\n",
            "AppliedSciences      :     10816\n",
            "SpecialNeeds         :     13642\n",
            "Literature_Writing   :     22179\n",
            "Mathematics          :     28074\n",
            "Literacy             :     33700\n"
          ],
          "name": "stdout"
        }
      ]
    },
    {
      "cell_type": "markdown",
      "metadata": {
        "colab_type": "text",
        "id": "MDUTl1iAaJcC"
      },
      "source": [
        "### 1.2.6 Univariate Analysis: Text features (Title)"
      ]
    },
    {
      "cell_type": "code",
      "metadata": {
        "colab_type": "code",
        "id": "XB7R1hsSaJcC",
        "outputId": "55c2758d-f32d-44fe-a33f-e349dd035c2c",
        "colab": {
          "base_uri": "https://localhost:8080/",
          "height": 370
        }
      },
      "source": [
        "#How to calculate number of words in a string in DataFrame: https://stackoverflow.com/a/37483537/4084039\n",
        "word_count = project_data['project_title'].str.split().apply(len).value_counts()\n",
        "word_dict = dict(word_count)\n",
        "word_dict = dict(sorted(word_dict.items(), key=lambda kv: kv[1]))\n",
        "\n",
        "\n",
        "ind = np.arange(len(word_dict))\n",
        "plt.figure(figsize=(20,5))\n",
        "p1 = plt.bar(ind, list(word_dict.values()))\n",
        "\n",
        "plt.ylabel('Numeber of projects')\n",
        "plt.xlabel('Numeber words in project title')\n",
        "plt.title('Words for each title of the project')\n",
        "plt.xticks(ind, list(word_dict.keys()))\n",
        "plt.show()"
      ],
      "execution_count": 0,
      "outputs": [
        {
          "output_type": "display_data",
          "data": {
            "image/png": "[encoded data removed]",
            "text/plain": [
              "<Figure size 1440x360 with 1 Axes>"
            ]
          },
          "metadata": {
            "tags": []
          }
        }
      ]
    },
    {
      "cell_type": "code",
      "metadata": {
        "colab_type": "code",
        "id": "p7K3PYqIaJcF",
        "colab": {}
      },
      "source": [
        "approved_title_word_count = project_data[project_data['project_is_approved']==1]['project_title'].str.split().apply(len)\n",
        "approved_title_word_count = approved_title_word_count.values\n",
        "\n",
        "rejected_title_word_count = project_data[project_data['project_is_approved']==0]['project_title'].str.split().apply(len)\n",
        "rejected_title_word_count = rejected_title_word_count.values"
      ],
      "execution_count": 0,
      "outputs": []
    },
    {
      "cell_type": "code",
      "metadata": {
        "colab_type": "code",
        "id": "G3dpNOjgaJcH",
        "outputId": "cef391c0-b315-48ed-a456-90a114b492e6",
        "colab": {
          "base_uri": "https://localhost:8080/",
          "height": 265
        }
      },
      "source": [
        "# https://glowingpython.blogspot.com/2012/09/boxplot-with-matplotlib.html\n",
        "plt.boxplot([approved_title_word_count, rejected_title_word_count])\n",
        "plt.xticks([1,2],('Approved Projects','Rejected Projects'))\n",
        "plt.ylabel('Words in project title')\n",
        "plt.grid()\n",
        "plt.show()"
      ],
      "execution_count": 0,
      "outputs": [
        {
          "output_type": "display_data",
          "data": {
            "image/png": "[encoded data removed]",
            "text/plain": [
              "<Figure size 432x288 with 1 Axes>"
            ]
          },
          "metadata": {
            "tags": []
          }
        }
      ]
    },
    {
      "cell_type": "code",
      "metadata": {
        "colab_type": "code",
        "id": "4v9vZDlPaJcK",
        "outputId": "562cadbc-bcee-4e13-fcec-98069bef0b9c",
        "colab": {
          "base_uri": "https://localhost:8080/",
          "height": 211
        }
      },
      "source": [
        "plt.figure(figsize=(10,3))\n",
        "sns.kdeplot(approved_title_word_count,label=\"Approved Projects\", bw=0.6)\n",
        "sns.kdeplot(rejected_title_word_count,label=\"Not Approved Projects\", bw=0.6)\n",
        "plt.legend()\n",
        "plt.show()"
      ],
      "execution_count": 0,
      "outputs": [
        {
          "output_type": "display_data",
          "data": {
            "image/png": "[encoded data removed]",
            "text/plain": [
              "<Figure size 720x216 with 1 Axes>"
            ]
          },
          "metadata": {
            "tags": []
          }
        }
      ]
    },
    {
      "cell_type": "markdown",
      "metadata": {
        "colab_type": "text",
        "id": "eWIdgjtHaJcM"
      },
      "source": [
        "### 1.2.7 Univariate Analysis: Text features (Project Essay's)"
      ]
    },
    {
      "cell_type": "code",
      "metadata": {
        "colab_type": "code",
        "id": "VbFu4ASuaJcM",
        "colab": {}
      },
      "source": [
        "# merge two column text dataframe: \n",
        "project_data[\"essay\"] = project_data[\"project_essay_1\"].map(str) +\\\n",
        "                        project_data[\"project_essay_2\"].map(str) + \\\n",
        "                        project_data[\"project_essay_3\"].map(str) + \\\n",
        "                        project_data[\"project_essay_4\"].map(str)"
      ],
      "execution_count": 0,
      "outputs": []
    },
    {
      "cell_type": "code",
      "metadata": {
        "colab_type": "code",
        "id": "LMtLZgJ6aJcO",
        "colab": {}
      },
      "source": [
        "approved_word_count = project_data[project_data['project_is_approved']==1]['essay'].str.split().apply(len)\n",
        "approved_word_count = approved_word_count.values\n",
        "\n",
        "rejected_word_count = project_data[project_data['project_is_approved']==0]['essay'].str.split().apply(len)\n",
        "rejected_word_count = rejected_word_count.values"
      ],
      "execution_count": 0,
      "outputs": []
    },
    {
      "cell_type": "code",
      "metadata": {
        "colab_type": "code",
        "id": "dfP35Qj4aJcQ",
        "outputId": "fcca9096-ca1b-40fc-c127-99b7566a4179",
        "colab": {
          "base_uri": "https://localhost:8080/",
          "height": 281
        }
      },
      "source": [
        "# https://glowingpython.blogspot.com/2012/09/boxplot-with-matplotlib.html\n",
        "plt.boxplot([approved_word_count, rejected_word_count])\n",
        "plt.title('Words for each essay of the project')\n",
        "plt.xticks([1,2],('Approved Projects','Rejected Projects'))\n",
        "plt.ylabel('Words in project essays')\n",
        "plt.grid()\n",
        "plt.show()"
      ],
      "execution_count": 0,
      "outputs": [
        {
          "output_type": "display_data",
          "data": {
            "image/png": "[encoded data removed]",
            "text/plain": [
              "<Figure size 432x288 with 1 Axes>"
            ]
          },
          "metadata": {
            "tags": []
          }
        }
      ]
    },
    {
      "cell_type": "code",
      "metadata": {
        "colab_type": "code",
        "id": "TDFkNuj8aJcS",
        "outputId": "486c915a-f2a0-4200-fb3b-d4cd41f1ed9b",
        "colab": {
          "base_uri": "https://localhost:8080/",
          "height": 241
        }
      },
      "source": [
        "plt.figure(figsize=(10,3))\n",
        "sns.distplot(approved_word_count, hist=False, label=\"Approved Projects\")\n",
        "sns.distplot(rejected_word_count, hist=False, label=\"Not Approved Projects\")\n",
        "plt.title('Words for each essay of the project')\n",
        "plt.xlabel('Number of words in each eassay')\n",
        "plt.legend()\n",
        "plt.show()"
      ],
      "execution_count": 0,
      "outputs": [
        {
          "output_type": "display_data",
          "data": {
            "image/png": "[encoded data removed]",
            "text/plain": [
              "<Figure size 720x216 with 1 Axes>"
            ]
          },
          "metadata": {
            "tags": []
          }
        }
      ]
    },
    {
      "cell_type": "markdown",
      "metadata": {
        "colab_type": "text",
        "id": "eAr4K8J4aJcV"
      },
      "source": [
        "### 1.2.8 Univariate Analysis: Cost per project"
      ]
    },
    {
      "cell_type": "code",
      "metadata": {
        "colab_type": "code",
        "id": "DCd2dI6eaJcV",
        "outputId": "0bf097a5-3432-4c35-e28c-9706a5130ecd",
        "colab": {
          "base_uri": "https://localhost:8080/",
          "height": 111
        }
      },
      "source": [
        "# we get the cost of the project using resource.csv file\n",
        "resource_data.head(2)"
      ],
      "execution_count": 0,
      "outputs": [
        {
          "output_type": "execute_result",
          "data": {
            "text/html": [
              "<div>\n",
              "<style scoped>\n",
              "    .dataframe tbody tr th:only-of-type {\n",
              "        vertical-align: middle;\n",
              "    }\n",
              "\n",
              "    .dataframe tbody tr th {\n",
              "        vertical-align: top;\n",
              "    }\n",
              "\n",
              "    .dataframe thead th {\n",
              "        text-align: right;\n",
              "    }\n",
              "</style>\n",
              "<table border=\"1\" class=\"dataframe\">\n",
              "  <thead>\n",
              "    <tr style=\"text-align: right;\">\n",
              "      <th></th>\n",
              "      <th>id</th>\n",
              "      <th>description</th>\n",
              "      <th>quantity</th>\n",
              "      <th>price</th>\n",
              "    </tr>\n",
              "  </thead>\n",
              "  <tbody>\n",
              "    <tr>\n",
              "      <th>0</th>\n",
              "      <td>p233245</td>\n",
              "      <td>LC652 - Lakeshore Double-Space Mobile Drying Rack</td>\n",
              "      <td>1</td>\n",
              "      <td>149.00</td>\n",
              "    </tr>\n",
              "    <tr>\n",
              "      <th>1</th>\n",
              "      <td>p069063</td>\n",
              "      <td>Bouncy Bands for Desks (Blue support pipes)</td>\n",
              "      <td>3</td>\n",
              "      <td>14.95</td>\n",
              "    </tr>\n",
              "  </tbody>\n",
              "</table>\n",
              "</div>"
            ],
            "text/plain": [
              "        id                                        description  quantity   price\n",
              "0  p233245  LC652 - Lakeshore Double-Space Mobile Drying Rack         1  149.00\n",
              "1  p069063        Bouncy Bands for Desks (Blue support pipes)         3   14.95"
            ]
          },
          "metadata": {
            "tags": []
          },
          "execution_count": 38
        }
      ]
    },
    {
      "cell_type": "code",
      "metadata": {
        "colab_type": "code",
        "id": "ynKLwBKyaJcX",
        "outputId": "ffbaef40-444a-42a0-9d9c-60aa98971a79",
        "colab": {
          "base_uri": "https://localhost:8080/",
          "height": 111
        }
      },
      "source": [
        "# https://stackoverflow.com/questions/22407798/how-to-reset-a-dataframes-indexes-for-all-groups-in-one-step\n",
        "price_data = resource_data.groupby('id').agg({'price':'sum', 'quantity':'sum'}).reset_index()\n",
        "price_data.head(2)"
      ],
      "execution_count": 0,
      "outputs": [
        {
          "output_type": "execute_result",
          "data": {
            "text/html": [
              "<div>\n",
              "<style scoped>\n",
              "    .dataframe tbody tr th:only-of-type {\n",
              "        vertical-align: middle;\n",
              "    }\n",
              "\n",
              "    .dataframe tbody tr th {\n",
              "        vertical-align: top;\n",
              "    }\n",
              "\n",
              "    .dataframe thead th {\n",
              "        text-align: right;\n",
              "    }\n",
              "</style>\n",
              "<table border=\"1\" class=\"dataframe\">\n",
              "  <thead>\n",
              "    <tr style=\"text-align: right;\">\n",
              "      <th></th>\n",
              "      <th>id</th>\n",
              "      <th>price</th>\n",
              "      <th>quantity</th>\n",
              "    </tr>\n",
              "  </thead>\n",
              "  <tbody>\n",
              "    <tr>\n",
              "      <th>0</th>\n",
              "      <td>p000001</td>\n",
              "      <td>459.56</td>\n",
              "      <td>7</td>\n",
              "    </tr>\n",
              "    <tr>\n",
              "      <th>1</th>\n",
              "      <td>p000002</td>\n",
              "      <td>515.89</td>\n",
              "      <td>21</td>\n",
              "    </tr>\n",
              "  </tbody>\n",
              "</table>\n",
              "</div>"
            ],
            "text/plain": [
              "        id   price  quantity\n",
              "0  p000001  459.56         7\n",
              "1  p000002  515.89        21"
            ]
          },
          "metadata": {
            "tags": []
          },
          "execution_count": 39
        }
      ]
    },
    {
      "cell_type": "code",
      "metadata": {
        "colab_type": "code",
        "id": "mY4NLTFNaJca",
        "colab": {}
      },
      "source": [
        "# join two dataframes in python: \n",
        "project_data = pd.merge(project_data, price_data, on='id', how='left')"
      ],
      "execution_count": 0,
      "outputs": []
    },
    {
      "cell_type": "code",
      "metadata": {
        "colab_type": "code",
        "id": "NftGuuYEaJcc",
        "colab": {}
      },
      "source": [
        "\n",
        "approved_price = project_data[project_data['project_is_approved']==1]['price'].values\n",
        "\n",
        "rejected_price = project_data[project_data['project_is_approved']==0]['price'].values"
      ],
      "execution_count": 0,
      "outputs": []
    },
    {
      "cell_type": "code",
      "metadata": {
        "colab_type": "code",
        "id": "q7r37jCjaJcd",
        "outputId": "ae1d8ee8-6986-4d98-c98c-92a4aa453502",
        "colab": {
          "base_uri": "https://localhost:8080/",
          "height": 281
        }
      },
      "source": [
        "# https://glowingpython.blogspot.com/2012/09/boxplot-with-matplotlib.html\n",
        "plt.boxplot([approved_price, rejected_price])\n",
        "plt.title('Box Plots of Cost per approved and not approved Projects')\n",
        "plt.xticks([1,2],('Approved Projects','Rejected Projects'))\n",
        "plt.ylabel('Price')\n",
        "plt.grid()\n",
        "plt.show()"
      ],
      "execution_count": 0,
      "outputs": [
        {
          "output_type": "display_data",
          "data": {
            "image/png": "[encoded data removed]",
            "text/plain": [
              "<Figure size 432x288 with 1 Axes>"
            ]
          },
          "metadata": {
            "tags": []
          }
        }
      ]
    },
    {
      "cell_type": "code",
      "metadata": {
        "colab_type": "code",
        "id": "ooqInUqlaJcf",
        "outputId": "771db6d0-3457-4054-c1a2-9252d599b01d",
        "colab": {
          "base_uri": "https://localhost:8080/",
          "height": 241
        }
      },
      "source": [
        "plt.figure(figsize=(10,3))\n",
        "sns.distplot(approved_price, hist=False, label=\"Approved Projects\")\n",
        "sns.distplot(rejected_price, hist=False, label=\"Not Approved Projects\")\n",
        "plt.title('Cost per approved and not approved Projects')\n",
        "plt.xlabel('Cost of a project')\n",
        "plt.legend()\n",
        "plt.show()"
      ],
      "execution_count": 0,
      "outputs": [
        {
          "output_type": "display_data",
          "data": {
            "image/png": "[encoded data removed]",
            "text/plain": [
              "<Figure size 720x216 with 1 Axes>"
            ]
          },
          "metadata": {
            "tags": []
          }
        }
      ]
    },
    {
      "cell_type": "code",
      "metadata": {
        "colab_type": "code",
        "id": "lnfwCqdRaJch",
        "outputId": "b066c009-2509-49bd-8b4c-cfc895871c37",
        "colab": {
          "base_uri": "https://localhost:8080/",
          "height": 442
        }
      },
      "source": [
        "# http://zetcode.com/python/prettytable/\n",
        "from prettytable import PrettyTable\n",
        "\n",
        "#If you get a ModuleNotFoundError error , install prettytable using: pip3 install prettytable\n",
        "\n",
        "x = PrettyTable()\n",
        "x.field_names = [\"Percentile\", \"Approved Projects\", \"Not Approved Projects\"]\n",
        "\n",
        "for i in range(0,101,5):\n",
        "    x.add_row([i,np.round(np.percentile(approved_price,i), 3), np.round(np.percentile(rejected_price,i), 3)])\n",
        "print(x)"
      ],
      "execution_count": 0,
      "outputs": [
        {
          "output_type": "stream",
          "text": [
            "+------------+-------------------+-----------------------+\n",
            "| Percentile | Approved Projects | Not Approved Projects |\n",
            "+------------+-------------------+-----------------------+\n",
            "|     0      |        0.66       |          1.97         |\n",
            "|     5      |       13.59       |          41.9         |\n",
            "|     10     |       33.88       |         73.67         |\n",
            "|     15     |        58.0       |         99.109        |\n",
            "|     20     |       77.38       |         118.56        |\n",
            "|     25     |       99.95       |        140.892        |\n",
            "|     30     |       116.68      |         162.23        |\n",
            "|     35     |      137.232      |        184.014        |\n",
            "|     40     |       157.0       |        208.632        |\n",
            "|     45     |      178.265      |        235.106        |\n",
            "|     50     |       198.99      |        263.145        |\n",
            "|     55     |       223.99      |         292.61        |\n",
            "|     60     |       255.63      |        325.144        |\n",
            "|     65     |      285.412      |         362.39        |\n",
            "|     70     |      321.225      |         399.99        |\n",
            "|     75     |      366.075      |        449.945        |\n",
            "|     80     |       411.67      |        519.282        |\n",
            "|     85     |       479.0       |        618.276        |\n",
            "|     90     |       593.11      |        739.356        |\n",
            "|     95     |      801.598      |        992.486        |\n",
            "|    100     |       9999.0      |         9999.0        |\n",
            "+------------+-------------------+-----------------------+\n"
          ],
          "name": "stdout"
        }
      ]
    },
    {
      "cell_type": "markdown",
      "metadata": {
        "colab_type": "text",
        "id": "Qq8L1X89aJcj"
      },
      "source": [
        "<h3><font color='red'>1.2.9 Univariate Analysis: teacher_number_of_previously_posted_projects</font></h3>"
      ]
    },
    {
      "cell_type": "code",
      "metadata": {
        "id": "49MenqlOEe_F",
        "colab_type": "code",
        "outputId": "52501ab2-de37-4bc3-ff05-13ced00c804b",
        "colab": {
          "base_uri": "https://localhost:8080/",
          "height": 405
        }
      },
      "source": [
        "teacher_prefix_with_total_number_of_previously_posted_projects={}\n",
        "\n",
        "for i in project_data[\"teacher_prefix\"].unique():\n",
        "\n",
        "    teacher_prefix_with_total_number_of_previously_posted_projects[i]=project_data[project_data[\"teacher_prefix\"] == i][\"teacher_number_of_previously_posted_projects\"].sum()\n",
        "teacher_prefix_with_total_number_of_previously_posted_projects = dict(sorted(teacher_prefix_with_total_number_of_previously_posted_projects.items(), key=lambda kv: kv[1]))\n",
        "\n",
        "\n",
        "ind = np.arange(len(teacher_prefix_with_total_number_of_previously_posted_projects))\n",
        "plt.figure(figsize=(20,5))\n",
        "p1 = plt.bar(ind, list(teacher_prefix_with_total_number_of_previously_posted_projects.values()))\n",
        "\n",
        "plt.ylabel('Numeber of previously posted projects')\n",
        "plt.xlabel('teacher_prefix')\n",
        "plt.title('teacher_prefix_with_total_number_of_previously_posted_projects')\n",
        "plt.xticks(ind, list(teacher_prefix_with_total_number_of_previously_posted_projects.keys()))\n",
        "plt.show()\n",
        "print(\"_\"*100)\n",
        "print(teacher_prefix_with_total_number_of_previously_posted_projects)"
      ],
      "execution_count": 0,
      "outputs": [
        {
          "output_type": "display_data",
          "data": {
            "image/png": "[encoded data removed]",
            "text/plain": [
              "<Figure size 1440x360 with 1 Axes>"
            ]
          },
          "metadata": {
            "tags": []
          }
        },
        {
          "output_type": "stream",
          "text": [
            "____________________________________________________________________________________________________\n",
            "{nan: 0, 'Dr.': 53, 'Teacher': 7671, 'Mr.': 129559, 'Ms.': 441583, 'Mrs.': 639594}\n"
          ],
          "name": "stdout"
        }
      ]
    },
    {
      "cell_type": "code",
      "metadata": {
        "id": "y4DCtxKVL7ro",
        "colab_type": "code",
        "outputId": "6e3edf8b-7a1d-438e-db0a-627b34d9ab92",
        "colab": {
          "base_uri": "https://localhost:8080/",
          "height": 645
        }
      },
      "source": [
        "univariate_barplots(project_data, 'teacher_number_of_previously_posted_projects', 'project_is_approved', top=10)"
      ],
      "execution_count": 0,
      "outputs": [
        {
          "output_type": "display_data",
          "data": {
            "image/png": "[encoded data removed]",
            "text/plain": [
              "<Figure size 1440x360 with 1 Axes>"
            ]
          },
          "metadata": {
            "tags": []
          }
        },
        {
          "output_type": "stream",
          "text": [
            "   teacher_number_of_previously_posted_projects  ...       Avg\n",
            "0                                             0  ...  0.821350\n",
            "1                                             1  ...  0.830054\n",
            "2                                             2  ...  0.841063\n",
            "3                                             3  ...  0.843460\n",
            "4                                             4  ...  0.845423\n",
            "\n",
            "[5 rows x 4 columns]\n",
            "==================================================\n",
            "   teacher_number_of_previously_posted_projects  ...       Avg\n",
            "5                                             5  ...  0.847758\n",
            "6                                             6  ...  0.855170\n",
            "7                                             7  ...  0.853958\n",
            "8                                             8  ...  0.862189\n",
            "9                                             9  ...  0.867790\n",
            "\n",
            "[5 rows x 4 columns]\n"
          ],
          "name": "stdout"
        }
      ]
    },
    {
      "cell_type": "markdown",
      "metadata": {
        "colab_type": "text",
        "id": "74frDDqAaJck"
      },
      "source": [
        "<h3><font color='red'>1.2.10 Univariate Analysis: project_resource_summary</font></h3>"
      ]
    },
    {
      "cell_type": "code",
      "metadata": {
        "id": "BrdCA1bqnPKX",
        "colab_type": "code",
        "outputId": "a99ba418-2c01-49bd-b2b6-95f263b36f7c",
        "colab": {
          "base_uri": "https://localhost:8080/",
          "height": 221
        }
      },
      "source": [
        "project_data['project_resource_summary']"
      ],
      "execution_count": 0,
      "outputs": [
        {
          "output_type": "execute_result",
          "data": {
            "text/plain": [
              "0         My students need opportunities to practice beg...\n",
              "1         My students need a projector to help with view...\n",
              "2         My students need shine guards, athletic socks,...\n",
              "3         My students need to engage in Reading and Math...\n",
              "4         My students need hands on practice in mathemat...\n",
              "                                ...                        \n",
              "109243    My students need these privacy partitions to h...\n",
              "109244    My students need two iPad's and protective cas...\n",
              "109245    My students need giant comfy pillows in order ...\n",
              "109246    My students need flexible seating options: bea...\n",
              "109247    My students need opportunities to work with te...\n",
              "Name: project_resource_summary, Length: 109248, dtype: object"
            ]
          },
          "metadata": {
            "tags": []
          },
          "execution_count": 47
        }
      ]
    },
    {
      "cell_type": "markdown",
      "metadata": {
        "colab_type": "text",
        "id": "PmGfe2Z_aJcl"
      },
      "source": [
        "Please do this on your own based on the data analysis that was done in the above cells\n",
        "\n",
        "Check if the `presence of the numerical digits` in the `project_resource_summary` effects the acceptance of the project or not. If you observe that `presence of the numerical digits` is helpful in the classification, please include it for further process or you can ignore it."
      ]
    },
    {
      "cell_type": "markdown",
      "metadata": {
        "colab_type": "text",
        "id": "u_t7hAfyaJcl"
      },
      "source": [
        "## 1.3 Text preprocessing"
      ]
    },
    {
      "cell_type": "markdown",
      "metadata": {
        "colab_type": "text",
        "id": "hV8-QvxGaJcm"
      },
      "source": [
        "### 1.3.1 Essay Text"
      ]
    },
    {
      "cell_type": "code",
      "metadata": {
        "colab_type": "code",
        "id": "-8c1-F07aJco",
        "outputId": "b3f53752-dea9-4c75-809c-ebed9052e2a0",
        "colab": {
          "base_uri": "https://localhost:8080/",
          "height": 207
        }
      },
      "source": [
        "# printing some random essays.\n",
        "print(project_data['essay'].values[0])\n",
        "print(\"=\"*50)\n",
        "print(project_data['essay'].values[150])\n",
        "print(\"=\"*50)\n",
        "print(project_data['essay'].values[1000])\n",
        "print(\"=\"*50)\n",
        "print(project_data['essay'].values[20000])\n",
        "print(\"=\"*50)\n",
        "print(project_data['essay'].values[99999])\n",
        "print(\"=\"*50)\n"
      ],
      "execution_count": 0,
      "outputs": [
        {
          "output_type": "stream",
          "text": [
            "My students are English learners that are working on English as their second or third languages. We are a melting pot of refugees, immigrants, and native-born Americans bringing the gift of language to our school. \\r\\n\\r\\n We have over 24 languages represented in our English Learner program with students at every level of mastery.  We also have over 40 countries represented with the families within our school.  Each student brings a wealth of knowledge and experiences to us that open our eyes to new cultures, beliefs, and respect.\\\"The limits of your language are the limits of your world.\\\"-Ludwig Wittgenstein  Our English learner's have a strong support system at home that begs for more resources.  Many times our parents are learning to read and speak English along side of their children.  Sometimes this creates barriers for parents to be able to help their child learn phonetics, letter recognition, and other reading skills.\\r\\n\\r\\nBy providing these dvd's and players, students are able to continue their mastery of the English language even if no one at home is able to assist.  All families with students within the Level 1 proficiency status, will be a offered to be a part of this program.  These educational videos will be specially chosen by the English Learner Teacher and will be sent home regularly to watch.  The videos are to help the child develop early reading skills.\\r\\n\\r\\nParents that do not have access to a dvd player will have the opportunity to check out a dvd player to use for the year.  The plan is to use these videos and educational dvd's for the years to come for other EL students.\\r\\nnannan\n",
            "==================================================\n",
            "The 51 fifth grade students that will cycle through my classroom this year all love learning, at least most of the time. At our school, 97.3% of the students receive free or reduced price lunch. Of the 560 students, 97.3% are minority students. \\r\\nThe school has a vibrant community that loves to get together and celebrate. Around Halloween there is a whole school parade to show off the beautiful costumes that students wear. On Cinco de Mayo we put on a big festival with crafts made by the students, dances, and games. At the end of the year the school hosts a carnival to celebrate the hard work put in during the school year, with a dunk tank being the most popular activity.My students will use these five brightly colored Hokki stools in place of regular, stationary, 4-legged chairs. As I will only have a total of ten in the classroom and not enough for each student to have an individual one, they will be used in a variety of ways. During independent reading time they will be used as special chairs students will each use on occasion. I will utilize them in place of chairs at my small group tables during math and reading times. The rest of the day they will be used by the students who need the highest amount of movement in their life in order to stay focused on school.\\r\\n\\r\\nWhenever asked what the classroom is missing, my students always say more Hokki Stools. They can't get their fill of the 5 stools we already have. When the students are sitting in group with me on the Hokki Stools, they are always moving, but at the same time doing their work. Anytime the students get to pick where they can sit, the Hokki Stools are the first to be taken. There are always students who head over to the kidney table to get one of the stools who are disappointed as there are not enough of them. \\r\\n\\r\\nWe ask a lot of students to sit for 7 hours a day. The Hokki stools will be a compromise that allow my students to do desk work and move at the same time. These stools will help students to meet their 60 minutes a day of movement by allowing them to activate their core muscles for balance while they sit. For many of my students, these chairs will take away the barrier that exists in schools for a child who can't sit still.nannan\n",
            "==================================================\n",
            "How do you remember your days of school? Was it in a sterile environment with plain walls, rows of desks, and a teacher in front of the room? A typical day in our room is nothing like that. I work hard to create a warm inviting themed room for my students look forward to coming to each day.\\r\\n\\r\\nMy class is made up of 28 wonderfully unique boys and girls of mixed races in Arkansas.\\r\\nThey attend a Title I school, which means there is a high enough percentage of free and reduced-price lunch to qualify. Our school is an \\\"open classroom\\\" concept, which is very unique as there are no walls separating the classrooms. These 9 and 10 year-old students are very eager learners; they are like sponges, absorbing all the information and experiences and keep on wanting more.With these resources such as the comfy red throw pillows and the whimsical nautical hanging decor and the blue fish nets, I will be able to help create the mood in our classroom setting to be one of a themed nautical environment. Creating a classroom environment is very important in the success in each and every child's education. The nautical photo props will be used with each child as they step foot into our classroom for the first time on Meet the Teacher evening. I'll take pictures of each child with them, have them developed, and then hung in our classroom ready for their first day of 4th grade.  This kind gesture will set the tone before even the first day of school! The nautical thank you cards will be used throughout the year by the students as they create thank you cards to their team groups.\\r\\n\\r\\nYour generous donations will help me to help make our classroom a fun, inviting, learning environment from day one.\\r\\n\\r\\nIt costs lost of money out of my own pocket on resources to get our classroom ready. Please consider helping with this project to make our new school year a very successful one. Thank you!nannan\n",
            "==================================================\n",
            "My kindergarten students have varied disabilities ranging from speech and language delays, cognitive delays, gross/fine motor delays, to autism. They are eager beavers and always strive to work their hardest working past their limitations. \\r\\n\\r\\nThe materials we have are the ones I seek out for my students. I teach in a Title I school where most of the students receive free or reduced price lunch.  Despite their disabilities and limitations, my students love coming to school and come eager to learn and explore.Have you ever felt like you had ants in your pants and you needed to groove and move as you were in a meeting? This is how my kids feel all the time. The want to be able to move as they learn or so they say.Wobble chairs are the answer and I love then because they develop their core, which enhances gross motor and in Turn fine motor skills. \\r\\nThey also want to learn through games, my kids don't want to sit and do worksheets. They want to learn to count by jumping and playing. Physical engagement is the key to our success. The number toss and color and shape mats can make that happen. My students will forget they are doing work and just have the fun a 6 year old deserves.nannan\n",
            "==================================================\n",
            "The mediocre teacher tells. The good teacher explains. The superior teacher demonstrates. The great teacher inspires. -William A. Ward\\r\\n\\r\\nMy school has 803 students which is makeup is 97.6% African-American, making up the largest segment of the student body. A typical school in Dallas is made up of 23.2% African-American students. Most of the students are on free or reduced lunch. We aren't receiving doctors, lawyers, or engineers children from rich backgrounds or neighborhoods. As an educator I am inspiring minds of young children and we focus not only on academics but one smart, effective, efficient, and disciplined students with good character.In our classroom we can utilize the Bluetooth for swift transitions during class. I use a speaker which doesn't amplify the sound enough to receive the message. Due to the volume of my speaker my students can't hear videos or books clearly and it isn't making the lessons as meaningful. But with the bluetooth speaker my students will be able to hear and I can stop, pause and replay it at any time.\\r\\nThe cart will allow me to have more room for storage of things that are needed for the day and has an extra part to it I can use.  The table top chart has all of the letter, words and pictures for students to learn about different letters and it is more accessible.nannan\n",
            "==================================================\n"
          ],
          "name": "stdout"
        }
      ]
    },
    {
      "cell_type": "code",
      "metadata": {
        "colab_type": "code",
        "id": "T_lC4-p3aJcq",
        "colab": {}
      },
      "source": [
        "# https://stackoverflow.com/a/47091490/4084039\n",
        "import re\n",
        "\n",
        "def decontracted(phrase):\n",
        "    # specific\n",
        "    phrase = re.sub(r\"won't\", \"will not\", phrase)\n",
        "    phrase = re.sub(r\"can\\'t\", \"can not\", phrase)\n",
        "\n",
        "    # general\n",
        "    phrase = re.sub(r\"n\\'t\", \" not\", phrase)\n",
        "    phrase = re.sub(r\"\\'re\", \" are\", phrase)\n",
        "    phrase = re.sub(r\"\\'s\", \" is\", phrase)\n",
        "    phrase = re.sub(r\"\\'d\", \" would\", phrase)\n",
        "    phrase = re.sub(r\"\\'ll\", \" will\", phrase)\n",
        "    phrase = re.sub(r\"\\'t\", \" not\", phrase)\n",
        "    phrase = re.sub(r\"\\'ve\", \" have\", phrase)\n",
        "    phrase = re.sub(r\"\\'m\", \" am\", phrase)\n",
        "    return phrase"
      ],
      "execution_count": 0,
      "outputs": []
    },
    {
      "cell_type": "code",
      "metadata": {
        "colab_type": "code",
        "id": "DcSgYMV8aJcs",
        "outputId": "0631df18-6b43-4133-85c6-1e8eea597bf2",
        "colab": {
          "base_uri": "https://localhost:8080/",
          "height": 71
        }
      },
      "source": [
        "sent = decontracted(project_data['essay'].values[20000])\n",
        "print(sent)\n",
        "print(\"=\"*50)"
      ],
      "execution_count": 0,
      "outputs": [
        {
          "output_type": "stream",
          "text": [
            "My kindergarten students have varied disabilities ranging from speech and language delays, cognitive delays, gross/fine motor delays, to autism. They are eager beavers and always strive to work their hardest working past their limitations. \\r\\n\\r\\nThe materials we have are the ones I seek out for my students. I teach in a Title I school where most of the students receive free or reduced price lunch.  Despite their disabilities and limitations, my students love coming to school and come eager to learn and explore.Have you ever felt like you had ants in your pants and you needed to groove and move as you were in a meeting? This is how my kids feel all the time. The want to be able to move as they learn or so they say.Wobble chairs are the answer and I love then because they develop their core, which enhances gross motor and in Turn fine motor skills. \\r\\nThey also want to learn through games, my kids do not want to sit and do worksheets. They want to learn to count by jumping and playing. Physical engagement is the key to our success. The number toss and color and shape mats can make that happen. My students will forget they are doing work and just have the fun a 6 year old deserves.nannan\n",
            "==================================================\n"
          ],
          "name": "stdout"
        }
      ]
    },
    {
      "cell_type": "code",
      "metadata": {
        "colab_type": "code",
        "id": "BoT-12-NaJcu",
        "outputId": "ea1ef44a-c8c6-4974-dd42-1a07e615daf9",
        "colab": {
          "base_uri": "https://localhost:8080/",
          "height": 54
        }
      },
      "source": [
        "# \\r \\n \\t remove from string python: http://texthandler.com/info/remove-line-breaks-python/\n",
        "sent = sent.replace('\\\\r', ' ')\n",
        "sent = sent.replace('\\\\\"', ' ')\n",
        "sent = sent.replace('\\\\n', ' ')\n",
        "print(sent)"
      ],
      "execution_count": 0,
      "outputs": [
        {
          "output_type": "stream",
          "text": [
            "My kindergarten students have varied disabilities ranging from speech and language delays, cognitive delays, gross/fine motor delays, to autism. They are eager beavers and always strive to work their hardest working past their limitations.     The materials we have are the ones I seek out for my students. I teach in a Title I school where most of the students receive free or reduced price lunch.  Despite their disabilities and limitations, my students love coming to school and come eager to learn and explore.Have you ever felt like you had ants in your pants and you needed to groove and move as you were in a meeting? This is how my kids feel all the time. The want to be able to move as they learn or so they say.Wobble chairs are the answer and I love then because they develop their core, which enhances gross motor and in Turn fine motor skills.   They also want to learn through games, my kids do not want to sit and do worksheets. They want to learn to count by jumping and playing. Physical engagement is the key to our success. The number toss and color and shape mats can make that happen. My students will forget they are doing work and just have the fun a 6 year old deserves.nannan\n"
          ],
          "name": "stdout"
        }
      ]
    },
    {
      "cell_type": "code",
      "metadata": {
        "colab_type": "code",
        "id": "vJcI9pqNaJcw",
        "outputId": "88219bc5-d58d-4a5e-e557-88e5441ced39",
        "colab": {
          "base_uri": "https://localhost:8080/",
          "height": 54
        }
      },
      "source": [
        "#remove spacial character: https://stackoverflow.com/a/5843547/4084039\n",
        "sent = re.sub('[^A-Za-z0-9]+', ' ', sent)\n",
        "print(sent)"
      ],
      "execution_count": 0,
      "outputs": [
        {
          "output_type": "stream",
          "text": [
            "My kindergarten students have varied disabilities ranging from speech and language delays cognitive delays gross fine motor delays to autism They are eager beavers and always strive to work their hardest working past their limitations The materials we have are the ones I seek out for my students I teach in a Title I school where most of the students receive free or reduced price lunch Despite their disabilities and limitations my students love coming to school and come eager to learn and explore Have you ever felt like you had ants in your pants and you needed to groove and move as you were in a meeting This is how my kids feel all the time The want to be able to move as they learn or so they say Wobble chairs are the answer and I love then because they develop their core which enhances gross motor and in Turn fine motor skills They also want to learn through games my kids do not want to sit and do worksheets They want to learn to count by jumping and playing Physical engagement is the key to our success The number toss and color and shape mats can make that happen My students will forget they are doing work and just have the fun a 6 year old deserves nannan\n"
          ],
          "name": "stdout"
        }
      ]
    },
    {
      "cell_type": "code",
      "metadata": {
        "colab_type": "code",
        "id": "tP3q8p2-aJcy",
        "colab": {}
      },
      "source": [
        "# https://gist.github.com/sebleier/554280\n",
        "# we are removing the words from the stop words list: 'no', 'nor', 'not'\n",
        "stopwords= ['i', 'me', 'my', 'myself', 'we', 'our', 'ours', 'ourselves', 'you', \"you're\", \"you've\",\\\n",
        "            \"you'll\", \"you'd\", 'your', 'yours', 'yourself', 'yourselves', 'he', 'him', 'his', 'himself', \\\n",
        "            'she', \"she's\", 'her', 'hers', 'herself', 'it', \"it's\", 'its', 'itself', 'they', 'them', 'their',\\\n",
        "            'theirs', 'themselves', 'what', 'which', 'who', 'whom', 'this', 'that', \"that'll\", 'these', 'those', \\\n",
        "            'am', 'is', 'are', 'was', 'were', 'be', 'been', 'being', 'have', 'has', 'had', 'having', 'do', 'does', \\\n",
        "            'did', 'doing', 'a', 'an', 'the', 'and', 'but', 'if', 'or', 'because', 'as', 'until', 'while', 'of', \\\n",
        "            'at', 'by', 'for', 'with', 'about', 'against', 'between', 'into', 'through', 'during', 'before', 'after',\\\n",
        "            'above', 'below', 'to', 'from', 'up', 'down', 'in', 'out', 'on', 'off', 'over', 'under', 'again', 'further',\\\n",
        "            'then', 'once', 'here', 'there', 'when', 'where', 'why', 'how', 'all', 'any', 'both', 'each', 'few', 'more',\\\n",
        "            'most', 'other', 'some', 'such', 'only', 'own', 'same', 'so', 'than', 'too', 'very', \\\n",
        "            's', 't', 'can', 'will', 'just', 'don', \"don't\", 'should', \"should've\", 'now', 'd', 'll', 'm', 'o', 're', \\\n",
        "            've', 'y', 'ain', 'aren', \"aren't\", 'couldn', \"couldn't\", 'didn', \"didn't\", 'doesn', \"doesn't\", 'hadn',\\\n",
        "            \"hadn't\", 'hasn', \"hasn't\", 'haven', \"haven't\", 'isn', \"isn't\", 'ma', 'mightn', \"mightn't\", 'mustn',\\\n",
        "            \"mustn't\", 'needn', \"needn't\", 'shan', \"shan't\", 'shouldn', \"shouldn't\", 'wasn', \"wasn't\", 'weren', \"weren't\", \\\n",
        "            'won', \"won't\", 'wouldn', \"wouldn't\"]"
      ],
      "execution_count": 0,
      "outputs": []
    },
    {
      "cell_type": "code",
      "metadata": {
        "colab_type": "code",
        "id": "e4DWc0JaaJcz",
        "outputId": "0dc97df9-1b69-4b05-8e11-89a1b82b81db",
        "colab": {
          "base_uri": "https://localhost:8080/",
          "height": 34
        }
      },
      "source": [
        "# Combining all the above statemennts \n",
        "from tqdm import tqdm\n",
        "preprocessed_essays = []\n",
        "# tqdm is for printing the status bar\n",
        "for sentance in tqdm(project_data['essay'].values):\n",
        "    sent = decontracted(sentance)\n",
        "    sent = sent.replace('\\\\r', ' ')\n",
        "    sent = sent.replace('\\\\\"', ' ')\n",
        "    sent = sent.replace('\\\\n', ' ')\n",
        "    sent = re.sub('[^A-Za-z0-9]+', ' ', sent)\n",
        "    # https://gist.github.com/sebleier/554280\n",
        "    sent = ' '.join(e for e in sent.split() if e not in stopwords)\n",
        "    preprocessed_essays.append(sent.lower().strip())"
      ],
      "execution_count": 0,
      "outputs": [
        {
          "output_type": "stream",
          "text": [
            "100%|██████████| 109248/109248 [00:58<00:00, 1862.50it/s]\n"
          ],
          "name": "stderr"
        }
      ]
    },
    {
      "cell_type": "code",
      "metadata": {
        "colab_type": "code",
        "id": "DIgHChlYaJc1",
        "outputId": "bc7c86c3-3699-4175-f52e-0c785334d591",
        "colab": {
          "base_uri": "https://localhost:8080/",
          "height": 54
        }
      },
      "source": [
        "# after preprocesing\n",
        "preprocessed_essays[20000]"
      ],
      "execution_count": 0,
      "outputs": [
        {
          "output_type": "execute_result",
          "data": {
            "text/plain": [
              "'my kindergarten students varied disabilities ranging speech language delays cognitive delays gross fine motor delays autism they eager beavers always strive work hardest working past limitations the materials ones i seek students i teach title i school students receive free reduced price lunch despite disabilities limitations students love coming school come eager learn explore have ever felt like ants pants needed groove move meeting this kids feel time the want able move learn say wobble chairs answer i love develop core enhances gross motor turn fine motor skills they also want learn games kids not want sit worksheets they want learn count jumping playing physical engagement key success the number toss color shape mats make happen my students forget work fun 6 year old deserves nannan'"
            ]
          },
          "metadata": {
            "tags": []
          },
          "execution_count": 55
        }
      ]
    },
    {
      "cell_type": "markdown",
      "metadata": {
        "colab_type": "text",
        "id": "oTPIxdGmaJc3"
      },
      "source": [
        "<h3><font color='red'>1.3.2 Project title Text</font></h3>"
      ]
    },
    {
      "cell_type": "code",
      "metadata": {
        "colab_type": "code",
        "id": "hxmvXLZBaJc4",
        "outputId": "4fd18674-1388-4735-a2ea-3db82c361fe0",
        "colab": {
          "base_uri": "https://localhost:8080/",
          "height": 187
        }
      },
      "source": [
        "# printing some random project_title.\n",
        "print(project_data['project_title'].values[0])\n",
        "print(\"=\"*50)\n",
        "print(project_data['project_title'].values[150])\n",
        "print(\"=\"*50)\n",
        "print(project_data['project_title'].values[1000])\n",
        "print(\"=\"*50)\n",
        "print(project_data['project_title'].values[20000])\n",
        "print(\"=\"*50)\n",
        "print(project_data['project_title'].values[99999])\n",
        "print(\"=\"*50)"
      ],
      "execution_count": 0,
      "outputs": [
        {
          "output_type": "stream",
          "text": [
            "Educational Support for English Learners at Home\n",
            "==================================================\n",
            "More Movement with Hokki Stools\n",
            "==================================================\n",
            "Sailing Into a Super 4th Grade Year\n",
            "==================================================\n",
            "We Need To Move It While We Input It!\n",
            "==================================================\n",
            "Inspiring Minds by Enhancing the Educational Experience\n",
            "==================================================\n"
          ],
          "name": "stdout"
        }
      ]
    },
    {
      "cell_type": "code",
      "metadata": {
        "id": "v-pcfwqUFcfN",
        "colab_type": "code",
        "outputId": "60cb070c-78f4-4851-b6f4-ea911f4dd9c4",
        "colab": {
          "base_uri": "https://localhost:8080/",
          "height": 34
        }
      },
      "source": [
        "preprocessed_project_title = []\n",
        "# tqdm is for printing the status bar\n",
        "for sentance in tqdm(project_data['project_title'].values):\n",
        "    sent = decontracted(sentance)\n",
        "    sent = sent.replace('\\\\r', ' ')\n",
        "    sent = sent.replace('\\\\\"', ' ')\n",
        "    sent = sent.replace('\\\\n', ' ')\n",
        "    sent = re.sub('[^A-Za-z0-9]+', ' ', sent)\n",
        "    # https://gist.github.com/sebleier/554280\n",
        "    sent = ' '.join(e for e in sent.split() if e not in stopwords)\n",
        "    preprocessed_project_title.append(sent.lower().strip())"
      ],
      "execution_count": 0,
      "outputs": [
        {
          "output_type": "stream",
          "text": [
            "100%|██████████| 109248/109248 [00:02<00:00, 41268.06it/s]\n"
          ],
          "name": "stderr"
        }
      ]
    },
    {
      "cell_type": "code",
      "metadata": {
        "id": "UCkZ3lC_HCF8",
        "colab_type": "code",
        "outputId": "2fc67669-f7d5-4e87-d87b-661ab72b03d3",
        "colab": {
          "base_uri": "https://localhost:8080/",
          "height": 34
        }
      },
      "source": [
        "preprocessed_project_title[99999]"
      ],
      "execution_count": 0,
      "outputs": [
        {
          "output_type": "execute_result",
          "data": {
            "text/plain": [
              "'inspiring minds enhancing educational experience'"
            ]
          },
          "metadata": {
            "tags": []
          },
          "execution_count": 58
        }
      ]
    },
    {
      "cell_type": "markdown",
      "metadata": {
        "id": "iS54dugiM8xd",
        "colab_type": "text"
      },
      "source": [
        "#1.3.3 teacher_prefix"
      ]
    },
    {
      "cell_type": "code",
      "metadata": {
        "id": "w-SwDBGLNqSH",
        "colab_type": "code",
        "colab": {}
      },
      "source": [
        "#upperCase to lowercase\n",
        "project_data['teacher_prefix'] = project_data['teacher_prefix'].str.lower()\n",
        "#removing puntuation from the column\n",
        "#https://stackoverflow.com/questions/39782418/remove-punctuations-in-pandas\n",
        "project_data['teacher_prefix'] = project_data['teacher_prefix'].str.replace('[^\\w\\s]','')\n"
      ],
      "execution_count": 0,
      "outputs": []
    },
    {
      "cell_type": "code",
      "metadata": {
        "id": "BNT8x-BBOv1E",
        "colab_type": "code",
        "outputId": "a0e68db8-7cda-41fe-bbeb-7581fd8a4ce8",
        "colab": {
          "base_uri": "https://localhost:8080/",
          "height": 119
        }
      },
      "source": [
        "project_data['teacher_prefix'].value_counts()"
      ],
      "execution_count": 0,
      "outputs": [
        {
          "output_type": "execute_result",
          "data": {
            "text/plain": [
              "mrs        57269\n",
              "ms         38955\n",
              "mr         10648\n",
              "teacher     2360\n",
              "dr            13\n",
              "Name: teacher_prefix, dtype: int64"
            ]
          },
          "metadata": {
            "tags": []
          },
          "execution_count": 60
        }
      ]
    },
    {
      "cell_type": "markdown",
      "metadata": {
        "id": "2qBZ08qbR4YG",
        "colab_type": "text"
      },
      "source": [
        "#1.3.4 project_grade_category"
      ]
    },
    {
      "cell_type": "code",
      "metadata": {
        "id": "qGDx9_JiPGpK",
        "colab_type": "code",
        "colab": {}
      },
      "source": [
        "#upperCase to lowercase\n",
        "project_data['project_grade_category'] = project_data['project_grade_category'].str.lower()\n",
        "#removing puntuation from the column\n",
        "#https://stackoverflow.com/questions/39782418/remove-punctuations-in-pandas\n",
        "project_data['project_grade_category'] = project_data['project_grade_category'].str.replace('[^\\w\\s]','_')\n",
        "project_data['project_grade_category'] = project_data['project_grade_category'].str.replace(' ','_')"
      ],
      "execution_count": 0,
      "outputs": []
    },
    {
      "cell_type": "code",
      "metadata": {
        "id": "CcVFHAnHRcFH",
        "colab_type": "code",
        "outputId": "4c42e79f-fbca-431e-a561-cdb16451486e",
        "colab": {
          "base_uri": "https://localhost:8080/",
          "height": 102
        }
      },
      "source": [
        "project_data.project_grade_category.value_counts()"
      ],
      "execution_count": 0,
      "outputs": [
        {
          "output_type": "execute_result",
          "data": {
            "text/plain": [
              "grades_prek_2    44225\n",
              "grades_3_5       37137\n",
              "grades_6_8       16923\n",
              "grades_9_12      10963\n",
              "Name: project_grade_category, dtype: int64"
            ]
          },
          "metadata": {
            "tags": []
          },
          "execution_count": 62
        }
      ]
    },
    {
      "cell_type": "markdown",
      "metadata": {
        "id": "FoBE_EZZlGtG",
        "colab_type": "text"
      },
      "source": [
        "#1.3.5 school_state"
      ]
    },
    {
      "cell_type": "code",
      "metadata": {
        "id": "Mxdgp5rkXKbt",
        "colab_type": "code",
        "outputId": "9c03cb9b-b420-4e6a-ed69-604aa81b97fd",
        "colab": {
          "base_uri": "https://localhost:8080/",
          "height": 901
        }
      },
      "source": [
        "#upperCase to lowercase\n",
        "project_data['school_state'] = project_data['school_state'].str.lower()\n",
        "project_data.school_state.value_counts()"
      ],
      "execution_count": 0,
      "outputs": [
        {
          "output_type": "execute_result",
          "data": {
            "text/plain": [
              "ca    15388\n",
              "tx     7396\n",
              "ny     7318\n",
              "fl     6185\n",
              "nc     5091\n",
              "il     4350\n",
              "ga     3963\n",
              "sc     3936\n",
              "mi     3161\n",
              "pa     3109\n",
              "in     2620\n",
              "mo     2576\n",
              "oh     2467\n",
              "la     2394\n",
              "ma     2389\n",
              "wa     2334\n",
              "ok     2276\n",
              "nj     2237\n",
              "az     2147\n",
              "va     2045\n",
              "wi     1827\n",
              "al     1762\n",
              "ut     1731\n",
              "tn     1688\n",
              "ct     1663\n",
              "md     1514\n",
              "nv     1367\n",
              "ms     1323\n",
              "ky     1304\n",
              "or     1242\n",
              "mn     1208\n",
              "co     1111\n",
              "ar     1049\n",
              "id      693\n",
              "ia      666\n",
              "ks      634\n",
              "nm      557\n",
              "dc      516\n",
              "hi      507\n",
              "me      505\n",
              "wv      503\n",
              "nh      348\n",
              "ak      345\n",
              "de      343\n",
              "ne      309\n",
              "sd      300\n",
              "ri      285\n",
              "mt      245\n",
              "nd      143\n",
              "wy       98\n",
              "vt       80\n",
              "Name: school_state, dtype: int64"
            ]
          },
          "metadata": {
            "tags": []
          },
          "execution_count": 63
        }
      ]
    },
    {
      "cell_type": "code",
      "metadata": {
        "id": "xZ_CqCrkmqRH",
        "colab_type": "code",
        "outputId": "5fbce70c-a46e-4faf-ae67-73ea12146f10",
        "colab": {
          "base_uri": "https://localhost:8080/",
          "height": 901
        }
      },
      "source": [
        "#upperCase to lowercase\n",
        "project_data['clean_categories'] = project_data['clean_categories'].str.lower()\n",
        "project_data.clean_categories.value_counts()"
      ],
      "execution_count": 0,
      "outputs": [
        {
          "output_type": "execute_result",
          "data": {
            "text/plain": [
              "literacy_language                       23655\n",
              "math_science                            17072\n",
              "literacy_language math_science          14636\n",
              "health_sports                           10177\n",
              "music_arts                               5180\n",
              "specialneeds                             4226\n",
              "literacy_language specialneeds           3961\n",
              "appliedlearning                          3771\n",
              "math_science literacy_language           2289\n",
              "appliedlearning literacy_language        2191\n",
              "history_civics                           1851\n",
              "math_science specialneeds                1840\n",
              "literacy_language music_arts             1757\n",
              "math_science music_arts                  1642\n",
              "appliedlearning specialneeds             1467\n",
              "history_civics literacy_language         1421\n",
              "health_sports specialneeds               1391\n",
              "warmth care_hunger                       1309\n",
              "math_science appliedlearning             1220\n",
              "appliedlearning math_science             1052\n",
              "literacy_language history_civics          809\n",
              "health_sports literacy_language           803\n",
              "appliedlearning music_arts                758\n",
              "math_science history_civics               652\n",
              "literacy_language appliedlearning         636\n",
              "appliedlearning health_sports             608\n",
              "math_science health_sports                414\n",
              "history_civics math_science               322\n",
              "history_civics music_arts                 312\n",
              "specialneeds music_arts                   302\n",
              "health_sports math_science                271\n",
              "history_civics specialneeds               252\n",
              "health_sports appliedlearning             192\n",
              "appliedlearning history_civics            178\n",
              "health_sports music_arts                  155\n",
              "music_arts specialneeds                   138\n",
              "literacy_language health_sports            72\n",
              "health_sports history_civics               43\n",
              "history_civics appliedlearning             42\n",
              "specialneeds health_sports                 42\n",
              "health_sports warmth care_hunger           23\n",
              "specialneeds warmth care_hunger            23\n",
              "music_arts health_sports                   19\n",
              "music_arts history_civics                  18\n",
              "history_civics health_sports               13\n",
              "math_science warmth care_hunger            11\n",
              "music_arts appliedlearning                 10\n",
              "appliedlearning warmth care_hunger         10\n",
              "literacy_language warmth care_hunger        9\n",
              "music_arts warmth care_hunger               2\n",
              "history_civics warmth care_hunger           1\n",
              "Name: clean_categories, dtype: int64"
            ]
          },
          "metadata": {
            "tags": []
          },
          "execution_count": 64
        }
      ]
    },
    {
      "cell_type": "code",
      "metadata": {
        "id": "iuvmKczgmqMT",
        "colab_type": "code",
        "outputId": "dccc8ec3-dc90-4d1f-bf05-2eb030558701",
        "colab": {
          "base_uri": "https://localhost:8080/",
          "height": 221
        }
      },
      "source": [
        "\n",
        "project_data['clean_subcategories'] = project_data['clean_subcategories'].str.lower()\n",
        "project_data.clean_subcategories.value_counts()"
      ],
      "execution_count": 0,
      "outputs": [
        {
          "output_type": "execute_result",
          "data": {
            "text/plain": [
              "literacy                              9486\n",
              "literacy mathematics                  8325\n",
              "literature_writing mathematics        5923\n",
              "literacy literature_writing           5571\n",
              "mathematics                           5379\n",
              "                                      ... \n",
              "communityservice financialliteracy       1\n",
              "esl economics                            1\n",
              "esl teamsports                           1\n",
              "civics_government foreignlanguages       1\n",
              "economics foreignlanguages               1\n",
              "Name: clean_subcategories, Length: 401, dtype: int64"
            ]
          },
          "metadata": {
            "tags": []
          },
          "execution_count": 65
        }
      ]
    },
    {
      "cell_type": "markdown",
      "metadata": {
        "colab_type": "text",
        "id": "rnUgDUBgaJc5"
      },
      "source": [
        "## 1. 4 Preparing data for models"
      ]
    },
    {
      "cell_type": "code",
      "metadata": {
        "colab_type": "code",
        "id": "1cPPdEGgaJc5",
        "outputId": "013903ee-f14a-49e9-9e22-176c33abef20",
        "colab": {
          "base_uri": "https://localhost:8080/",
          "height": 153
        }
      },
      "source": [
        "project_data.columns"
      ],
      "execution_count": 0,
      "outputs": [
        {
          "output_type": "execute_result",
          "data": {
            "text/plain": [
              "Index(['Unnamed: 0', 'id', 'teacher_id', 'teacher_prefix', 'school_state',\n",
              "       'project_submitted_datetime', 'project_grade_category', 'project_title',\n",
              "       'project_essay_1', 'project_essay_2', 'project_essay_3',\n",
              "       'project_essay_4', 'project_resource_summary',\n",
              "       'teacher_number_of_previously_posted_projects', 'project_is_approved',\n",
              "       'clean_categories', 'clean_subcategories', 'essay', 'price',\n",
              "       'quantity'],\n",
              "      dtype='object')"
            ]
          },
          "metadata": {
            "tags": []
          },
          "execution_count": 66
        }
      ]
    },
    {
      "cell_type": "markdown",
      "metadata": {
        "colab_type": "text",
        "id": "JoBT77NbaJc8"
      },
      "source": [
        "we are going to consider\n",
        "\n",
        "       - school_state : categorical data\n",
        "       - clean_categories : categorical data\n",
        "       - clean_subcategories : categorical data\n",
        "       - project_grade_category : categorical data\n",
        "       - teacher_prefix : categorical data\n",
        "       \n",
        "       - project_title : text data\n",
        "       - text : text data\n",
        "       - project_resource_summary: text data\n",
        "       \n",
        "       - quantity : numerical\n",
        "       - teacher_number_of_previously_posted_projects : numerical\n",
        "       - price : numerical"
      ]
    },
    {
      "cell_type": "markdown",
      "metadata": {
        "colab_type": "text",
        "id": "3KP4HQ2xaJc8"
      },
      "source": [
        "### 1.4.1 Vectorizing Categorical data"
      ]
    },
    {
      "cell_type": "markdown",
      "metadata": {
        "colab_type": "text",
        "id": "AgPp34I2aJc9"
      },
      "source": [
        "- https://www.appliedaicourse.com/course/applied-ai-course-online/lessons/handling-categorical-and-numerical-features/"
      ]
    },
    {
      "cell_type": "code",
      "metadata": {
        "colab_type": "code",
        "id": "_xV1s9v-aJc9",
        "outputId": "4ec48dbe-4b57-4280-e689-46ee385aa599",
        "colab": {
          "base_uri": "https://localhost:8080/",
          "height": 71
        }
      },
      "source": [
        "# we use count vectorizer to convert the values into one hot encoded features\n",
        "from sklearn.feature_extraction.text import CountVectorizer\n",
        "vectorizer = CountVectorizer(vocabulary=list(sorted_cat_dict.keys()), lowercase=False, binary=True)\n",
        "vectorizer.fit(project_data['clean_categories'].values)\n",
        "print(vectorizer.get_feature_names())\n",
        "\n",
        "\n",
        "categories_one_hot = vectorizer.transform(project_data['clean_categories'].values)\n",
        "print(\"Shape of matrix after one hot encodig \",categories_one_hot.shape)"
      ],
      "execution_count": 0,
      "outputs": [
        {
          "output_type": "stream",
          "text": [
            "['Warmth', 'Care_Hunger', 'History_Civics', 'Music_Arts', 'AppliedLearning', 'SpecialNeeds', 'Health_Sports', 'Math_Science', 'Literacy_Language']\n",
            "Shape of matrix after one hot encodig  (109248, 9)\n"
          ],
          "name": "stdout"
        }
      ]
    },
    {
      "cell_type": "code",
      "metadata": {
        "colab_type": "code",
        "id": "A-p1rDDvaJdA",
        "outputId": "2b0af7e0-3740-4033-95e6-b5ecc6037b6d",
        "colab": {
          "base_uri": "https://localhost:8080/",
          "height": 71
        }
      },
      "source": [
        "# we use count vectorizer to convert the values into one hot encoded features\n",
        "vectorizer = CountVectorizer(vocabulary=list(sorted_sub_cat_dict.keys()), lowercase=False, binary=True)\n",
        "vectorizer.fit(project_data['clean_subcategories'].values)\n",
        "print(vectorizer.get_feature_names())\n",
        "\n",
        "\n",
        "sub_categories_one_hot = vectorizer.transform(project_data['clean_subcategories'].values)\n",
        "print(\"Shape of matrix after one hot encodig \",sub_categories_one_hot.shape)"
      ],
      "execution_count": 0,
      "outputs": [
        {
          "output_type": "stream",
          "text": [
            "['Economics', 'CommunityService', 'FinancialLiteracy', 'ParentInvolvement', 'Extracurricular', 'Civics_Government', 'ForeignLanguages', 'NutritionEducation', 'Warmth', 'Care_Hunger', 'SocialSciences', 'PerformingArts', 'CharacterEducation', 'TeamSports', 'Other', 'College_CareerPrep', 'Music', 'History_Geography', 'Health_LifeScience', 'EarlyDevelopment', 'ESL', 'Gym_Fitness', 'EnvironmentalScience', 'VisualArts', 'Health_Wellness', 'AppliedSciences', 'SpecialNeeds', 'Literature_Writing', 'Mathematics', 'Literacy']\n",
            "Shape of matrix after one hot encodig  (109248, 30)\n"
          ],
          "name": "stdout"
        }
      ]
    },
    {
      "cell_type": "code",
      "metadata": {
        "colab_type": "code",
        "id": "OytF4Nt0aJdC",
        "colab": {}
      },
      "source": [
        "# Please do the similar feature encoding with state, teacher_prefix and project_grade_category also"
      ],
      "execution_count": 0,
      "outputs": []
    },
    {
      "cell_type": "code",
      "metadata": {
        "id": "cj6CGLeNL1wv",
        "colab_type": "code",
        "outputId": "f8d2decb-ab57-4fbb-a856-44d67b7ffda1",
        "colab": {
          "base_uri": "https://localhost:8080/",
          "height": 71
        }
      },
      "source": [
        "#state\n",
        "vectorizer = CountVectorizer(vocabulary=list(project_data['school_state'].unique()), lowercase=False, binary=True)\n",
        "vectorizer.fit(project_data['school_state'].values)\n",
        "print(vectorizer.get_feature_names())\n",
        "\n",
        "state_one_hot = vectorizer.transform(project_data['school_state'].values)\n",
        "print(\"Shape of matrix after one hot encodig \",state_one_hot.shape)"
      ],
      "execution_count": 0,
      "outputs": [
        {
          "output_type": "stream",
          "text": [
            "['in', 'fl', 'az', 'ky', 'tx', 'ct', 'ga', 'sc', 'nc', 'ca', 'ny', 'ok', 'ma', 'nv', 'oh', 'pa', 'al', 'la', 'va', 'ar', 'wa', 'wv', 'id', 'tn', 'ms', 'co', 'ut', 'il', 'mi', 'hi', 'ia', 'ri', 'nj', 'mo', 'de', 'mn', 'me', 'wy', 'nd', 'or', 'ak', 'md', 'wi', 'sd', 'ne', 'nm', 'dc', 'ks', 'mt', 'nh', 'vt']\n",
            "Shape of matrix after one hot encodig  (109248, 51)\n"
          ],
          "name": "stdout"
        }
      ]
    },
    {
      "cell_type": "code",
      "metadata": {
        "id": "FurDbGclPlw7",
        "colab_type": "code",
        "colab": {}
      },
      "source": [
        "# Before converting to vecter we have to remove NA values from the column , we are filling the value by column mode \n",
        "project_data['teacher_prefix'].fillna(project_data.teacher_prefix.mode()[0],inplace=True)"
      ],
      "execution_count": 0,
      "outputs": []
    },
    {
      "cell_type": "code",
      "metadata": {
        "id": "NQh6A64EL2CD",
        "colab_type": "code",
        "outputId": "feb4d757-234c-4496-a78b-7810014d3262",
        "colab": {
          "base_uri": "https://localhost:8080/",
          "height": 51
        }
      },
      "source": [
        "#teacher_prefix\n",
        "vectorizer = CountVectorizer(vocabulary=list(project_data['teacher_prefix'].unique()), lowercase=False, binary=True)\n",
        "vectorizer.fit(project_data['teacher_prefix'].values)\n",
        "print(vectorizer.get_feature_names())\n",
        "teacher_prefix_one_hot = vectorizer.transform(project_data['teacher_prefix'].values)\n",
        "print(\"Shape of matrix after one hot encodig \",teacher_prefix_one_hot.shape)"
      ],
      "execution_count": 0,
      "outputs": [
        {
          "output_type": "stream",
          "text": [
            "['mrs', 'mr', 'ms', 'teacher', 'dr']\n",
            "Shape of matrix after one hot encodig  (109248, 5)\n"
          ],
          "name": "stdout"
        }
      ]
    },
    {
      "cell_type": "code",
      "metadata": {
        "id": "OI2gp9H6L2ia",
        "colab_type": "code",
        "outputId": "4de67da2-e164-4145-b18d-d5bfacf21c01",
        "colab": {
          "base_uri": "https://localhost:8080/",
          "height": 51
        }
      },
      "source": [
        "#project_grade_category\n",
        "\n",
        "vectorizer = CountVectorizer(vocabulary=list(project_data['project_grade_category'].unique()), lowercase=False, binary=True)\n",
        "vectorizer.fit(project_data['teacher_prefix'].values)\n",
        "print(vectorizer.get_feature_names())\n",
        "project_grade_category_one_hot = vectorizer.transform(project_data['project_grade_category'].values)\n",
        "print(\"Shape of matrix after one hot encodig \",project_grade_category_one_hot.shape)"
      ],
      "execution_count": 0,
      "outputs": [
        {
          "output_type": "stream",
          "text": [
            "['grades_prek_2', 'grades_6_8', 'grades_3_5', 'grades_9_12']\n",
            "Shape of matrix after one hot encodig  (109248, 4)\n"
          ],
          "name": "stdout"
        }
      ]
    },
    {
      "cell_type": "markdown",
      "metadata": {
        "colab_type": "text",
        "id": "umi63xCcaJdD"
      },
      "source": [
        "### 1.4.2 Vectorizing Text data"
      ]
    },
    {
      "cell_type": "markdown",
      "metadata": {
        "colab_type": "text",
        "id": "oMHWIrroaJdE"
      },
      "source": [
        "#### 1.4.2.1 Bag of words"
      ]
    },
    {
      "cell_type": "code",
      "metadata": {
        "colab_type": "code",
        "id": "Lrds1eDgaJdE",
        "outputId": "d88292a4-18ca-4452-887d-ab5b06cf9c73",
        "colab": {
          "base_uri": "https://localhost:8080/",
          "height": 34
        }
      },
      "source": [
        "# We are considering only the words which appeared in at least 10 documents(rows or projects).\n",
        "vectorizer = CountVectorizer(min_df=10,max_features=8000)\n",
        "text_bow = vectorizer.fit_transform(preprocessed_essays)\n",
        "print(\"Shape of matrix after one hot encodig \",text_bow.shape)"
      ],
      "execution_count": 0,
      "outputs": [
        {
          "output_type": "stream",
          "text": [
            "Shape of matrix after one hot encodig  (109248, 8000)\n"
          ],
          "name": "stdout"
        }
      ]
    },
    {
      "cell_type": "markdown",
      "metadata": {
        "colab_type": "text",
        "id": "G_QLDn9eaJdG"
      },
      "source": [
        "<h4><font color='red'> 1.4.2.2 Bag of Words on `project_title`</font></h4>"
      ]
    },
    {
      "cell_type": "code",
      "metadata": {
        "colab_type": "code",
        "id": "h0-OVajdaJdH",
        "outputId": "aa5ed72d-7074-4aba-d940-aa4c1a2215ac",
        "colab": {
          "base_uri": "https://localhost:8080/",
          "height": 34
        }
      },
      "source": [
        "#preprocessed_project_title\n",
        "vectorizer = CountVectorizer(min_df=10,max_features=1600)\n",
        "project_title_bow = vectorizer.fit_transform(preprocessed_project_title)\n",
        "print(\"Shape of matrix after one hot encodig \",project_title_bow.shape)"
      ],
      "execution_count": 0,
      "outputs": [
        {
          "output_type": "stream",
          "text": [
            "Shape of matrix after one hot encodig  (109248, 1600)\n"
          ],
          "name": "stdout"
        }
      ]
    },
    {
      "cell_type": "markdown",
      "metadata": {
        "colab_type": "text",
        "id": "sKXhBeHZaJdK"
      },
      "source": [
        "#### 1.4.2.3 TFIDF vectorizer"
      ]
    },
    {
      "cell_type": "code",
      "metadata": {
        "colab_type": "code",
        "id": "U34wJAiraJdK",
        "outputId": "3424bac8-1e45-4e79-e2d7-9d85e74064e4",
        "colab": {
          "base_uri": "https://localhost:8080/",
          "height": 34
        }
      },
      "source": [
        "from sklearn.feature_extraction.text import TfidfVectorizer\n",
        "vectorizer = TfidfVectorizer(min_df=10)\n",
        "text_tfidf = vectorizer.fit_transform(preprocessed_essays)\n",
        "print(\"Shape of matrix after one hot encodig \",text_tfidf.shape)"
      ],
      "execution_count": 0,
      "outputs": [
        {
          "output_type": "stream",
          "text": [
            "Shape of matrix after one hot encodig  (109248, 16623)\n"
          ],
          "name": "stdout"
        }
      ]
    },
    {
      "cell_type": "markdown",
      "metadata": {
        "colab_type": "text",
        "id": "K0uZKKmKaJdN"
      },
      "source": [
        "<h4><font color='red'> 1.4.2.4 TFIDF Vectorizer on `project_title`</font></h4>"
      ]
    },
    {
      "cell_type": "code",
      "metadata": {
        "colab_type": "code",
        "id": "fh8eivOeaJdN",
        "outputId": "c9adf038-8fbe-4a98-e920-b5257d9aeda7",
        "colab": {
          "base_uri": "https://localhost:8080/",
          "height": 34
        }
      },
      "source": [
        "vectorizer = TfidfVectorizer(min_df=10)\n",
        "project_title_tfidf = vectorizer.fit_transform(preprocessed_project_title)\n",
        "print(\"Shape of matrix after one hot encodig \",project_title_tfidf.shape)"
      ],
      "execution_count": 0,
      "outputs": [
        {
          "output_type": "stream",
          "text": [
            "Shape of matrix after one hot encodig  (109248, 3329)\n"
          ],
          "name": "stdout"
        }
      ]
    },
    {
      "cell_type": "markdown",
      "metadata": {
        "colab_type": "text",
        "id": "RDYCGTBvaJdP"
      },
      "source": [
        "#### 1.4.2.5 Using Pretrained Models: Avg W2V"
      ]
    },
    {
      "cell_type": "code",
      "metadata": {
        "colab_type": "code",
        "id": "DxieeVk3aJdP",
        "outputId": "145d12a9-349b-4126-bce8-f6e1a2d6b088",
        "colab": {
          "base_uri": "https://localhost:8080/",
          "height": 54
        }
      },
      "source": [
        "'''\n",
        "# Reading glove vectors in python: https://stackoverflow.com/a/38230349/4084039\n",
        "def loadGloveModel(gloveFile):\n",
        "    print (\"Loading Glove Model\")\n",
        "    f = open(gloveFile,'r', encoding=\"utf8\")\n",
        "    model = {}\n",
        "    for line in tqdm(f):\n",
        "        splitLine = line.split()\n",
        "        word = splitLine[0]\n",
        "        embedding = np.array([float(val) for val in splitLine[1:]])\n",
        "        model[word] = embedding\n",
        "    print (\"Done.\",len(model),\" words loaded!\")\n",
        "    return model\n",
        "model = loadGloveModel('glove.42B.300d.txt')\n",
        "\n",
        "# ============================\n",
        "Output:\n",
        "    \n",
        "Loading Glove Model\n",
        "1917495it [06:32, 4879.69it/s]\n",
        "Done. 1917495  words loaded!\n",
        "\n",
        "# ============================\n",
        "\n",
        "words = []\n",
        "for i in preproced_texts:\n",
        "    words.extend(i.split(' '))\n",
        "\n",
        "for i in preproced_titles:\n",
        "    words.extend(i.split(' '))\n",
        "print(\"all the words in the coupus\", len(words))\n",
        "words = set(words)\n",
        "print(\"the unique words in the coupus\", len(words))\n",
        "\n",
        "inter_words = set(model.keys()).intersection(words)\n",
        "print(\"The number of words that are present in both glove vectors and our coupus\", \\\n",
        "      len(inter_words),\"(\",np.round(len(inter_words)/len(words)*100,3),\"%)\")\n",
        "\n",
        "words_courpus = {}\n",
        "words_glove = set(model.keys())\n",
        "for i in words:\n",
        "    if i in words_glove:\n",
        "        words_courpus[i] = model[i]\n",
        "print(\"word 2 vec length\", len(words_courpus))\n",
        "\n",
        "\n",
        "# stronging variables into pickle files python: http://www.jessicayung.com/how-to-use-pickle-to-save-and-load-variables-in-python/\n",
        "\n",
        "import pickle\n",
        "with open('glove_vectors', 'wb') as f:\n",
        "    pickle.dump(words_courpus, f)\n",
        "\n",
        "\n",
        "'''"
      ],
      "execution_count": 0,
      "outputs": [
        {
          "output_type": "execute_result",
          "data": {
            "text/plain": [
              "'\\n# Reading glove vectors in python: https://stackoverflow.com/a/38230349/4084039\\ndef loadGloveModel(gloveFile):\\n    print (\"Loading Glove Model\")\\n    f = open(gloveFile,\\'r\\', encoding=\"utf8\")\\n    model = {}\\n    for line in tqdm(f):\\n        splitLine = line.split()\\n        word = splitLine[0]\\n        embedding = np.array([float(val) for val in splitLine[1:]])\\n        model[word] = embedding\\n    print (\"Done.\",len(model),\" words loaded!\")\\n    return model\\nmodel = loadGloveModel(\\'glove.42B.300d.txt\\')\\n\\n# ============================\\nOutput:\\n    \\nLoading Glove Model\\n1917495it [06:32, 4879.69it/s]\\nDone. 1917495  words loaded!\\n\\n# ============================\\n\\nwords = []\\nfor i in preproced_texts:\\n    words.extend(i.split(\\' \\'))\\n\\nfor i in preproced_titles:\\n    words.extend(i.split(\\' \\'))\\nprint(\"all the words in the coupus\", len(words))\\nwords = set(words)\\nprint(\"the unique words in the coupus\", len(words))\\n\\ninter_words = set(model.keys()).intersection(words)\\nprint(\"The number of words that are present in both glove vectors and our coupus\",       len(inter_words),\"(\",np.round(len(inter_words)/len(words)*100,3),\"%)\")\\n\\nwords_courpus = {}\\nwords_glove = set(model.keys())\\nfor i in words:\\n    if i in words_glove:\\n        words_courpus[i] = model[i]\\nprint(\"word 2 vec length\", len(words_courpus))\\n\\n\\n# stronging variables into pickle files python: http://www.jessicayung.com/how-to-use-pickle-to-save-and-load-variables-in-python/\\n\\nimport pickle\\nwith open(\\'glove_vectors\\', \\'wb\\') as f:\\n    pickle.dump(words_courpus, f)\\n\\n\\n'"
            ]
          },
          "metadata": {
            "tags": []
          },
          "execution_count": 78
        }
      ]
    },
    {
      "cell_type": "code",
      "metadata": {
        "colab_type": "code",
        "id": "IPpaw4SAaJdR",
        "colab": {}
      },
      "source": [
        "# stronging variables into pickle files python: http://www.jessicayung.com/how-to-use-pickle-to-save-and-load-variables-in-python/\n",
        "# make sure you have the glove_vectors file\n",
        "with open('/content/drive/My Drive/Colab Notebooks/glove_vectors', 'rb') as f:\n",
        "    model = pickle.load(f)\n",
        "    glove_words =  set(model.keys())"
      ],
      "execution_count": 0,
      "outputs": []
    },
    {
      "cell_type": "code",
      "metadata": {
        "id": "p79v77bEixkv",
        "colab_type": "code",
        "colab": {}
      },
      "source": [
        ""
      ],
      "execution_count": 0,
      "outputs": []
    },
    {
      "cell_type": "code",
      "metadata": {
        "colab_type": "code",
        "id": "zH59XedPaJdU",
        "outputId": "f0432e5a-477b-4d59-afd7-be335124ebe5",
        "colab": {
          "base_uri": "https://localhost:8080/",
          "height": 85
        }
      },
      "source": [
        "# average Word2Vec\n",
        "# compute average word2vec for each review.\n",
        "avg_w2v_vectors = []; # the avg-w2v for each sentence/review is stored in this list\n",
        "for sentence in tqdm(preprocessed_essays): # for each review/sentence\n",
        "    vector = np.zeros(300) # as word vectors are of zero length\n",
        "    cnt_words =0; # num of words with a valid vector in the sentence/review\n",
        "    for word in sentence.split(): # for each word in a review/sentence\n",
        "        if word in glove_words:\n",
        "            vector += model[word]\n",
        "            cnt_words += 1\n",
        "    if cnt_words != 0:\n",
        "        vector /= cnt_words\n",
        "    avg_w2v_vectors.append(vector)\n",
        "print()\n",
        "print(len(avg_w2v_vectors))\n",
        "print(len(avg_w2v_vectors[0]))"
      ],
      "execution_count": 0,
      "outputs": [
        {
          "output_type": "stream",
          "text": [
            "100%|██████████| 109248/109248 [00:35<00:00, 3092.71it/s]"
          ],
          "name": "stderr"
        },
        {
          "output_type": "stream",
          "text": [
            "\n",
            "109248\n",
            "300\n"
          ],
          "name": "stdout"
        },
        {
          "output_type": "stream",
          "text": [
            "\n"
          ],
          "name": "stderr"
        }
      ]
    },
    {
      "cell_type": "markdown",
      "metadata": {
        "colab_type": "text",
        "id": "NJvhZFzRaJdU"
      },
      "source": [
        "<h4><font color='red'> 1.4.2.6 Using Pretrained Models: AVG W2V on `project_title`</font></h4>"
      ]
    },
    {
      "cell_type": "code",
      "metadata": {
        "colab_type": "code",
        "id": "1vQDQ-h-aJdS",
        "scrolled": true,
        "outputId": "59d14bd9-23c7-4980-d3a6-fd3da377505d",
        "colab": {
          "base_uri": "https://localhost:8080/",
          "height": 85
        }
      },
      "source": [
        "# average Word2Vec\n",
        "# compute average word2vec for each review.\n",
        "avg_w2v_vectors_pro_title = []; # the avg-w2v for each sentence/review is stored in this list\n",
        "for sentence in tqdm(preprocessed_project_title): # for each review/sentence\n",
        "    vector = np.zeros(300) # as word vectors are of zero length\n",
        "    cnt_words =0; # num of words with a valid vector in the sentence/review\n",
        "    for word in sentence.split(): # for each word in a review/sentence\n",
        "        if word in glove_words:\n",
        "            vector += model[word]\n",
        "            cnt_words += 1\n",
        "    if cnt_words != 0:\n",
        "        vector /= cnt_words\n",
        "    avg_w2v_vectors_pro_title.append(vector)\n",
        "print()\n",
        "print(len(avg_w2v_vectors_pro_title))\n",
        "print(len(avg_w2v_vectors_pro_title[0]))"
      ],
      "execution_count": 0,
      "outputs": [
        {
          "output_type": "stream",
          "text": [
            "100%|██████████| 109248/109248 [00:01<00:00, 58693.26it/s]"
          ],
          "name": "stderr"
        },
        {
          "output_type": "stream",
          "text": [
            "\n",
            "109248\n",
            "300\n"
          ],
          "name": "stdout"
        },
        {
          "output_type": "stream",
          "text": [
            "\n"
          ],
          "name": "stderr"
        }
      ]
    },
    {
      "cell_type": "markdown",
      "metadata": {
        "colab_type": "text",
        "id": "yJWbIFXKaJdW"
      },
      "source": [
        "#### 1.4.2.7 Using Pretrained Models: TFIDF weighted W2V"
      ]
    },
    {
      "cell_type": "code",
      "metadata": {
        "colab_type": "code",
        "id": "GAvpkNKaaJdX",
        "colab": {}
      },
      "source": [
        "# S = [\"abc def pqr\", \"def def def abc\", \"pqr pqr def\"]\n",
        "tfidf_model = TfidfVectorizer()\n",
        "tfidf_model.fit(preprocessed_essays)\n",
        "# we are converting a dictionary with word as a key, and the idf as a value\n",
        "dictionary = dict(zip(tfidf_model.get_feature_names(), list(tfidf_model.idf_)))\n",
        "tfidf_words = set(tfidf_model.get_feature_names())"
      ],
      "execution_count": 0,
      "outputs": []
    },
    {
      "cell_type": "code",
      "metadata": {
        "colab_type": "code",
        "id": "cLjnV0SkaJdY",
        "scrolled": true,
        "outputId": "c4063817-caf0-4435-fee8-5d4c68565e80",
        "colab": {
          "base_uri": "https://localhost:8080/",
          "height": 34
        }
      },
      "source": [
        "# average Word2Vec\n",
        "# compute average word2vec for each review.\n",
        "tfidf_w2v_vectors = []; # the avg-w2v for each sentence/review is stored in this list\n",
        "for sentence in tqdm(preprocessed_essays): # for each review/sentence\n",
        "    vector = np.zeros(300) # as word vectors are of zero length\n",
        "    tf_idf_weight =0; # num of words with a valid vector in the sentence/review\n",
        "    for word in sentence.split(): # for each word in a review/sentence\n",
        "        if (word in glove_words) and (word in tfidf_words):\n",
        "            vec = model[word] # getting the vector for each word\n",
        "            # here we are multiplying idf value(dictionary[word]) and the tf value((sentence.count(word)/len(sentence.split())))\n",
        "            tf_idf = dictionary[word]*(sentence.count(word)/len(sentence.split())) # getting the tfidf value for each word\n",
        "            vector += (vec * tf_idf) # calculating tfidf weighted w2v\n",
        "            tf_idf_weight += tf_idf\n",
        "    if tf_idf_weight != 0:\n",
        "        vector /= tf_idf_weight\n",
        "    tfidf_w2v_vectors.append(vector)\n",
        "\n",
        "print(len(tfidf_w2v_vectors))\n",
        "print(len(tfidf_w2v_vectors[0]))"
      ],
      "execution_count": 0,
      "outputs": [
        {
          "output_type": "stream",
          "text": [
            " 98%|█████████▊| 106844/109248 [03:44<00:04, 496.57it/s]"
          ],
          "name": "stderr"
        }
      ]
    },
    {
      "cell_type": "markdown",
      "metadata": {
        "colab_type": "text",
        "id": "v0niZGPZaJda"
      },
      "source": [
        "<h4><font color='red'> 1.4.2.9 Using Pretrained Models: TFIDF weighted W2V on `project_title`</font></h4>"
      ]
    },
    {
      "cell_type": "code",
      "metadata": {
        "colab_type": "code",
        "id": "HoD70PX4aJdb",
        "colab": {}
      },
      "source": [
        "# average Word2Vec\n",
        "# compute average word2vec for each review.\n",
        "tfidf_w2v_vectors_project_title = []; # the avg-w2v for each sentence/review is stored in this list\n",
        "for sentence in tqdm(preprocessed_project_title): # for each review/sentence\n",
        "    vector = np.zeros(300) # as word vectors are of zero length\n",
        "    tf_idf_weight =0; # num of words with a valid vector in the sentence/review\n",
        "    for word in sentence.split(): # for each word in a review/sentence\n",
        "        if (word in glove_words) and (word in tfidf_words):\n",
        "            vec = model[word] # getting the vector for each word\n",
        "            # here we are multiplying idf value(dictionary[word]) and the tf value((sentence.count(word)/len(sentence.split())))\n",
        "            tf_idf = dictionary[word]*(sentence.count(word)/len(sentence.split())) # getting the tfidf value for each word\n",
        "            vector += (vec * tf_idf) # calculating tfidf weighted w2v\n",
        "            tf_idf_weight += tf_idf\n",
        "    if tf_idf_weight != 0:\n",
        "        vector /= tf_idf_weight\n",
        "    tfidf_w2v_vectors_project_title.append(vector)\n",
        "\n",
        "print(len(tfidf_w2v_vectors_project_title))\n",
        "print(len(tfidf_w2v_vectors_project_title[0]))"
      ],
      "execution_count": 0,
      "outputs": []
    },
    {
      "cell_type": "markdown",
      "metadata": {
        "colab_type": "text",
        "id": "K561nWdYaJdc"
      },
      "source": [
        "### 1.4.3 Vectorizing Numerical features"
      ]
    },
    {
      "cell_type": "code",
      "metadata": {
        "colab_type": "code",
        "id": "6vv6ByvEaJdc",
        "colab": {}
      },
      "source": [
        "# check this one: https://www.youtube.com/watch?v=0HOqOcln3Z4&t=530s\n",
        "# standardization sklearn: https://scikit-learn.org/stable/modules/generated/sklearn.preprocessing.StandardScaler.html\n",
        "from sklearn.preprocessing import StandardScaler\n",
        "\n",
        "# price_standardized = standardScalar.fit(project_data['price'].values)\n",
        "# this will rise the error\n",
        "# ValueError: Expected 2D array, got 1D array instead: array=[725.05 213.03 329.   ... 399.   287.73   5.5 ].\n",
        "# Reshape your data either using array.reshape(-1, 1)\n",
        "\n",
        "price_scalar = StandardScaler()\n",
        "price_scalar.fit(project_data['price'].values.reshape(-1,1)) # finding the mean and standard deviation of this data\n",
        "print(f\"Mean : {price_scalar.mean_[0]}, Standard deviation : {np.sqrt(price_scalar.var_[0])}\")\n",
        "\n",
        "# Now standardize the data with above maen and variance.\n",
        "price_standardized = price_scalar.transform(project_data['price'].values.reshape(-1, 1))"
      ],
      "execution_count": 0,
      "outputs": []
    },
    {
      "cell_type": "markdown",
      "metadata": {
        "id": "S0TPadEcrxu1",
        "colab_type": "text"
      },
      "source": [
        "teacher_number_of_previously_posted_projects "
      ]
    },
    {
      "cell_type": "code",
      "metadata": {
        "id": "KhiakPpfrLoT",
        "colab_type": "code",
        "colab": {}
      },
      "source": [
        "previously_posted_scalar = StandardScaler()\n",
        "previously_posted_scalar.fit(project_data['teacher_number_of_previously_posted_projects'].values.reshape(-1,1)) # finding the mean and standard deviation of this data\n",
        "print(f\"Mean : {price_scalar.mean_[0]}, Standard deviation : {np.sqrt(price_scalar.var_[0])}\")\n",
        "\n",
        "# Now standardize the data with above maen and variance.\n",
        "previously_posted_standardized = previously_posted_scalar.transform(project_data['teacher_number_of_previously_posted_projects'].values.reshape(-1, 1))"
      ],
      "execution_count": 0,
      "outputs": []
    },
    {
      "cell_type": "code",
      "metadata": {
        "id": "YmWs7FPDqDFR",
        "colab_type": "code",
        "colab": {}
      },
      "source": [
        "previously_posted_standardized"
      ],
      "execution_count": 0,
      "outputs": []
    },
    {
      "cell_type": "code",
      "metadata": {
        "colab_type": "code",
        "id": "EZJEWRkRaJde",
        "colab": {}
      },
      "source": [
        "price_standardized"
      ],
      "execution_count": 0,
      "outputs": []
    },
    {
      "cell_type": "markdown",
      "metadata": {
        "colab_type": "text",
        "id": "dmLoJysFaJdh"
      },
      "source": [
        "### 1.4.4 Merging all the above features"
      ]
    },
    {
      "cell_type": "markdown",
      "metadata": {
        "colab_type": "text",
        "id": "RJvu3XjfaJdh"
      },
      "source": [
        "- we need to merge all the numerical vectors i.e catogorical, text, numerical vectors"
      ]
    },
    {
      "cell_type": "code",
      "metadata": {
        "colab_type": "code",
        "id": "seTaZmC6aJdh",
        "colab": {}
      },
      "source": [
        "print(categories_one_hot.shape)\n",
        "print(sub_categories_one_hot.shape)\n",
        "print(text_bow.shape)\n",
        "print(price_standardized.shape)\n",
        "print(previously_posted_standardized.shape)\n",
        "#print(tfidf_w2v_vectors_project_title.shape)\n",
        "#print(tfidf_w2v_vectors.shape)\n",
        "#print(avg_w2v_vectors_pro_title.shape)\n",
        "#print(avg_w2v_vectors.shape)\n",
        "\n",
        "print(project_title_bow.shape)\n",
        "print(text_tfidf.shape)\n",
        "print(project_title_tfidf.shape)"
      ],
      "execution_count": 0,
      "outputs": []
    },
    {
      "cell_type": "code",
      "metadata": {
        "colab_type": "code",
        "id": "OydwDfOOaJdj",
        "colab": {}
      },
      "source": [
        "# merge two sparse matrices: https://stackoverflow.com/a/19710648/4084039\n",
        "from scipy.sparse import hstack\n",
        "# with the same hstack function we are concatinating a sparse matrix and a dense matirx :)"
      ],
      "execution_count": 0,
      "outputs": []
    },
    {
      "cell_type": "code",
      "metadata": {
        "id": "ml1bxGzcHI1p",
        "colab_type": "code",
        "colab": {}
      },
      "source": [
        "project_data.columns"
      ],
      "execution_count": 0,
      "outputs": []
    },
    {
      "cell_type": "code",
      "metadata": {
        "id": "5SXVas4PG26v",
        "colab_type": "code",
        "colab": {}
      },
      "source": [
        "#BoW dataset\n",
        "X_BoW = hstack((categories_one_hot, sub_categories_one_hot, text_bow, price_standardized,previously_posted_standardized,\n",
        "                project_grade_category_one_hot,state_one_hot ,project_title_bow,teacher_prefix_one_hot))\n",
        "X_BoW.shape"
      ],
      "execution_count": 0,
      "outputs": []
    },
    {
      "cell_type": "code",
      "metadata": {
        "id": "_W3gfrYcIZ-4",
        "colab_type": "code",
        "colab": {}
      },
      "source": [
        "#TFIDF dataset\n",
        "X_TFIDF = hstack((categories_one_hot, sub_categories_one_hot, text_tfidf, price_standardized,previously_posted_standardized,\n",
        "            project_grade_category_one_hot,state_one_hot ,project_title_tfidf,teacher_prefix_one_hot))\n",
        "X_TFIDF.shape"
      ],
      "execution_count": 0,
      "outputs": []
    },
    {
      "cell_type": "code",
      "metadata": {
        "id": "YMd0s34iJT1s",
        "colab_type": "code",
        "colab": {}
      },
      "source": [
        "#AVG W2V dataset\n",
        "X_avg_w2v = hstack((categories_one_hot, sub_categories_one_hot, avg_w2v_vectors, price_standardized,previously_posted_standardized,\n",
        "     \n",
        "            project_grade_category_one_hot,state_one_hot ,avg_w2v_vectors_pro_title,teacher_prefix_one_hot))\n",
        "X_avg_w2v.shape"
      ],
      "execution_count": 0,
      "outputs": []
    },
    {
      "cell_type": "code",
      "metadata": {
        "id": "yOUiPt71KRqN",
        "colab_type": "code",
        "colab": {}
      },
      "source": [
        "#TFIDF W2V\n",
        "X_tfidf_w2v = hstack((categories_one_hot, sub_categories_one_hot, tfidf_w2v_vectors, price_standardized,previously_posted_standardized,\n",
        "                 project_grade_category_one_hot,state_one_hot ,tfidf_w2v_vectors_project_title,teacher_prefix_one_hot))\n",
        "X_tfidf_w2v.shape"
      ],
      "execution_count": 0,
      "outputs": []
    },
    {
      "cell_type": "code",
      "metadata": {
        "id": "e9cupxjP2i4a",
        "colab_type": "code",
        "colab": {}
      },
      "source": [
        "y = project_data['project_is_approved']"
      ],
      "execution_count": 0,
      "outputs": []
    },
    {
      "cell_type": "markdown",
      "metadata": {
        "id": "JwJT_pwE6t-o",
        "colab_type": "text"
      },
      "source": [
        "# Assignment 3: Apply KNN"
      ]
    },
    {
      "cell_type": "markdown",
      "metadata": {
        "id": "kEe2B2zb7tZs",
        "colab_type": "text"
      },
      "source": [
        "<ol>\n",
        "    <li><strong>[Task-1] Apply KNN(brute force version) on these feature sets</strong>\n",
        "        <ul>\n",
        "            <li><font color='red'>Set 1</font>: categorical, numerical features + project_title(BOW) + preprocessed_essay (BOW)</li>\n",
        "            <li><font color='red'>Set 2</font>: categorical, numerical features + project_title(TFIDF)+  preprocessed_essay (TFIDF)</li>\n",
        "            <li><font color='red'>Set 3</font>: categorical, numerical features + project_title(AVG W2V)+  preprocessed_essay (AVG W2V)</li>\n",
        "            <li><font color='red'>Set 4</font>: categorical, numerical features + project_title(TFIDF W2V)+  preprocessed_essay (TFIDF W2V)</li>\n",
        "        </ul>\n",
        "    </li>\n",
        "    <br>\n",
        "    <li><strong>Hyper paramter tuning to find best K</strong>\n",
        "        <ul>\n",
        "    <li>Find the best hyper parameter which results in the maximum <a href='https://www.appliedaicourse.com/course/applied-ai-course-online/lessons/receiver-operating-characteristic-curve-roc-curve-and-auc-1/'>AUC</a> value</li>\n",
        "    <li>Find the best hyper paramter using k-fold cross validation (or) simple cross validation data</li>\n",
        "    <li>Use gridsearch-cv or randomsearch-cv or  write your own for loops to do this task</li>\n",
        "        </ul>\n",
        "    </li>\n",
        "    <br>\n",
        "    <li>\n",
        "    <strong>Representation of results</strong>\n",
        "        <ul>\n",
        "    <li>You need to plot the performance of model both on train data and cross validation data for each hyper parameter, as shown in the figure\n",
        "    <img src='/content/drive/My Drive/Colab Notebooks/train_cv_auc.JPG' width=300px></li>\n",
        "    <li>Once you find the best hyper parameter, you need to train your model-M using the best hyper-param. Now, find the AUC on test data and plot the ROC curve on both train and test using model-M.\n",
        "    <img src='/content/drive/My Drive/Colab Notebooks/train_test_auc.JPG' width=300px></li>\n",
        "    <li>Along with plotting ROC curve, you need to print the <a href='https://www.appliedaicourse.com/course/applied-ai-course-online/lessons/confusion-matrix-tpr-fpr-fnr-tnr-1/'>confusion matrix</a> with predicted and original labels of test data points\n",
        "    <img src='/content/drive/My Drive/Colab Notebooks/confusion_matrix.png' width=300px></li>\n",
        "        </ul>\n",
        "    </li>\n",
        "    <li><strong> [Task-2] </strong>\n",
        "        <ul>\n",
        "            <li>Select top 2000 features from feature <font color='red'>Set 2</font> using <a href='https://scikit-learn.org/stable/modules/generated/sklearn.feature_selection.SelectKBest.html'>`SelectKBest`</a>\n",
        "and then apply KNN on top of these features</li>\n",
        "            <li>\n",
        "                <pre>\n",
        "                from sklearn.datasets import load_digits\n",
        "                from sklearn.feature_selection import SelectKBest, chi2\n",
        "                X, y = load_digits(return_X_y=True)\n",
        "                X.shape\n",
        "                X_new = SelectKBest(chi2, k=20).fit_transform(X, y)\n",
        "                X_new.shape\n",
        "                ========\n",
        "                output:\n",
        "                (1797, 64)\n",
        "                (1797, 20)\n",
        "                </pre>\n",
        "            </li>\n",
        "            <li>Repeat the steps 2 and 3 on the data matrix after feature selection</li>\n",
        "        </ul>\n",
        "    </li>\n",
        "    <br>\n",
        "    <li><strong>Conclusion</strong>\n",
        "        <ul>\n",
        "    <li>You need to summarize the results at the end of the notebook, summarize it in the table format. To print out a table please refer to this prettytable library<a href='http://zetcode.com/python/prettytable/'> link</a> \n",
        "        <img src='/content/drive/My Drive/Colab Notebooks/summary.JPG' width=400px>\n",
        "    </li>\n",
        "        </ul>\n",
        "</ol>"
      ]
    },
    {
      "cell_type": "markdown",
      "metadata": {
        "id": "uqhfg8QD78GO",
        "colab_type": "text"
      },
      "source": [
        "<h4><font color='red'>Note: Data Leakage</font></h4>\n",
        "\n",
        "1. There will be an issue of data-leakage if you vectorize the entire data and then split it into train/cv/test.\n",
        "2. To avoid the issue of data-leakag, make sure to split your data first and then vectorize it. \n",
        "3. While vectorizing your data, apply the method fit_transform() on you train data, and apply the method transform() on cv/test data.\n",
        "4. For more details please go through this <a href='https://soundcloud.com/applied-ai-course/leakage-bow-and-tfidf'>link.</a>"
      ]
    },
    {
      "cell_type": "markdown",
      "metadata": {
        "id": "DSn1ftRb8Jxi",
        "colab_type": "text"
      },
      "source": [
        "<h1>2. K Nearest Neighbor</h1>"
      ]
    },
    {
      "cell_type": "code",
      "metadata": {
        "id": "4DL23I_p5uBP",
        "colab_type": "code",
        "colab": {}
      },
      "source": [
        "%matplotlib inline\n",
        "import warnings\n",
        "warnings.filterwarnings(\"ignore\")\n",
        "\n",
        "import pandas as pd\n",
        "import numpy as np\n",
        "import nltk\n",
        "import matplotlib.pyplot as plt\n",
        "import seaborn as sns\n",
        "from sklearn.feature_extraction.text import TfidfVectorizer\n",
        "from sklearn.feature_extraction.text import CountVectorizer\n",
        "from sklearn.metrics import confusion_matrix\n",
        "from sklearn import metrics\n",
        "from sklearn.metrics import roc_curve, auc\n",
        "\n",
        "import re\n",
        "# Tutorial about Python regular expressions: https://pymotw.com/2/re/\n",
        "\n",
        "import pickle\n",
        "from tqdm import tqdm\n",
        "import os\n",
        "from sklearn.neighbors import KNeighborsClassifier\n",
        "      "
      ],
      "execution_count": 0,
      "outputs": []
    },
    {
      "cell_type": "code",
      "metadata": {
        "id": "5kITaBcq6_KK",
        "colab_type": "code",
        "outputId": "33e44526-295f-40bf-80b5-59f2c395ad69",
        "colab": {
          "base_uri": "https://localhost:8080/",
          "height": 122
        }
      },
      "source": [
        "from google.colab import drive\n",
        "drive.mount('/content/drive')"
      ],
      "execution_count": 0,
      "outputs": [
        {
          "output_type": "stream",
          "text": [
            "Go to this URL in a browser: https://accounts.google.com/o/oauth2/auth?client_id=947318989803-6bn6qk8qdgf4n4g3pfee6491hc0brc4i.apps.googleusercontent.com&redirect_uri=urn%3aietf%3awg%3aoauth%3a2.0%3aoob&response_type=code&scope=email%20https%3a%2f%2fwww.googleapis.com%2fauth%2fdocs.test%20https%3a%2f%2fwww.googleapis.com%2fauth%2fdrive%20https%3a%2f%2fwww.googleapis.com%2fauth%2fdrive.photos.readonly%20https%3a%2f%2fwww.googleapis.com%2fauth%2fpeopleapi.readonly\n",
            "\n",
            "Enter your authorization code:\n",
            "··········\n",
            "Mounted at /content/drive\n"
          ],
          "name": "stdout"
        }
      ]
    },
    {
      "cell_type": "code",
      "metadata": {
        "id": "cVO9rhqbX16X",
        "colab_type": "code",
        "outputId": "cb810eee-d708-42bd-c1ab-b28e288d0e3c",
        "colab": {
          "base_uri": "https://localhost:8080/",
          "height": 255
        }
      },
      "source": [
        "\n",
        "data  = pd.read_csv('/content/drive/My Drive/Colab Notebooks/preprocessed_data.csv')\n",
        "data.info()"
      ],
      "execution_count": 0,
      "outputs": [
        {
          "output_type": "stream",
          "text": [
            "<class 'pandas.core.frame.DataFrame'>\n",
            "RangeIndex: 109248 entries, 0 to 109247\n",
            "Data columns (total 9 columns):\n",
            "school_state                                    109248 non-null object\n",
            "teacher_prefix                                  109248 non-null object\n",
            "project_grade_category                          109248 non-null object\n",
            "teacher_number_of_previously_posted_projects    109248 non-null int64\n",
            "project_is_approved                             109248 non-null int64\n",
            "clean_categories                                109248 non-null object\n",
            "clean_subcategories                             109248 non-null object\n",
            "essay                                           109248 non-null object\n",
            "price                                           109248 non-null float64\n",
            "dtypes: float64(1), int64(2), object(6)\n",
            "memory usage: 7.5+ MB\n"
          ],
          "name": "stdout"
        }
      ]
    },
    {
      "cell_type": "code",
      "metadata": {
        "id": "0vkignIJnmGc",
        "colab_type": "code",
        "colab": {}
      },
      "source": [
        "project_data = pd.read_csv('/content/drive/My Drive/Colab Notebooks/train_data.csv')"
      ],
      "execution_count": 0,
      "outputs": []
    },
    {
      "cell_type": "code",
      "metadata": {
        "id": "BmN7Cn2Qocgi",
        "colab_type": "code",
        "colab": {}
      },
      "source": [
        "# https://gist.github.com/sebleier/554280\n",
        "# we are removing the words from the stop words list: 'no', 'nor', 'not'\n",
        "stopwords= ['i', 'me', 'my', 'myself', 'we', 'our', 'ours', 'ourselves', 'you', \"you're\", \"you've\",\\\n",
        "            \"you'll\", \"you'd\", 'your', 'yours', 'yourself', 'yourselves', 'he', 'him', 'his', 'himself', \\\n",
        "            'she', \"she's\", 'her', 'hers', 'herself', 'it', \"it's\", 'its', 'itself', 'they', 'them', 'their',\\\n",
        "            'theirs', 'themselves', 'what', 'which', 'who', 'whom', 'this', 'that', \"that'll\", 'these', 'those', \\\n",
        "            'am', 'is', 'are', 'was', 'were', 'be', 'been', 'being', 'have', 'has', 'had', 'having', 'do', 'does', \\\n",
        "            'did', 'doing', 'a', 'an', 'the', 'and', 'but', 'if', 'or', 'because', 'as', 'until', 'while', 'of', \\\n",
        "            'at', 'by', 'for', 'with', 'about', 'against', 'between', 'into', 'through', 'during', 'before', 'after',\\\n",
        "            'above', 'below', 'to', 'from', 'up', 'down', 'in', 'out', 'on', 'off', 'over', 'under', 'again', 'further',\\\n",
        "            'then', 'once', 'here', 'there', 'when', 'where', 'why', 'how', 'all', 'any', 'both', 'each', 'few', 'more',\\\n",
        "            'most', 'other', 'some', 'such', 'only', 'own', 'same', 'so', 'than', 'too', 'very', \\\n",
        "            's', 't', 'can', 'will', 'just', 'don', \"don't\", 'should', \"should've\", 'now', 'd', 'll', 'm', 'o', 're', \\\n",
        "            've', 'y', 'ain', 'aren', \"aren't\", 'couldn', \"couldn't\", 'didn', \"didn't\", 'doesn', \"doesn't\", 'hadn',\\\n",
        "            \"hadn't\", 'hasn', \"hasn't\", 'haven', \"haven't\", 'isn', \"isn't\", 'ma', 'mightn', \"mightn't\", 'mustn',\\\n",
        "            \"mustn't\", 'needn', \"needn't\", 'shan', \"shan't\", 'shouldn', \"shouldn't\", 'wasn', \"wasn't\", 'weren', \"weren't\", \\\n",
        "            'won', \"won't\", 'wouldn', \"wouldn't\"]"
      ],
      "execution_count": 0,
      "outputs": []
    },
    {
      "cell_type": "code",
      "metadata": {
        "id": "CE5NI9y1oN_T",
        "colab_type": "code",
        "colab": {}
      },
      "source": [
        "# https://stackoverflow.com/a/47091490/4084039\n",
        "import re\n",
        "\n",
        "def decontracted(phrase):\n",
        "    # specific\n",
        "    phrase = re.sub(r\"won't\", \"will not\", phrase)\n",
        "    phrase = re.sub(r\"can\\'t\", \"can not\", phrase)\n",
        "\n",
        "    # general\n",
        "    phrase = re.sub(r\"n\\'t\", \" not\", phrase)\n",
        "    phrase = re.sub(r\"\\'re\", \" are\", phrase)\n",
        "    phrase = re.sub(r\"\\'s\", \" is\", phrase)\n",
        "    phrase = re.sub(r\"\\'d\", \" would\", phrase)\n",
        "    phrase = re.sub(r\"\\'ll\", \" will\", phrase)\n",
        "    phrase = re.sub(r\"\\'t\", \" not\", phrase)\n",
        "    phrase = re.sub(r\"\\'ve\", \" have\", phrase)\n",
        "    phrase = re.sub(r\"\\'m\", \" am\", phrase)\n",
        "    return phrase"
      ],
      "execution_count": 0,
      "outputs": []
    },
    {
      "cell_type": "code",
      "metadata": {
        "id": "PHbtilQln3az",
        "colab_type": "code",
        "outputId": "a81ee7d7-f1df-42c7-e448-aff839b8580c",
        "colab": {
          "base_uri": "https://localhost:8080/",
          "height": 34
        }
      },
      "source": [
        "preprocessed_project_title = []\n",
        "# tqdm is for printing the status bar\n",
        "for sentance in tqdm(project_data['project_title'].values):\n",
        "    sent = decontracted(sentance)\n",
        "    sent = sent.replace('\\\\r', ' ')\n",
        "    sent = sent.replace('\\\\\"', ' ')\n",
        "    sent = sent.replace('\\\\n', ' ')\n",
        "    sent = re.sub('[^A-Za-z0-9]+', ' ', sent)\n",
        "    # https://gist.github.com/sebleier/554280\n",
        "    sent = ' '.join(e for e in sent.split() if e not in stopwords)\n",
        "    preprocessed_project_title.append(sent.lower().strip())"
      ],
      "execution_count": 0,
      "outputs": [
        {
          "output_type": "stream",
          "text": [
            "100%|██████████| 109248/109248 [00:02<00:00, 43037.38it/s]\n"
          ],
          "name": "stderr"
        }
      ]
    },
    {
      "cell_type": "code",
      "metadata": {
        "id": "xp9JdbbIoiVq",
        "colab_type": "code",
        "colab": {}
      },
      "source": [
        "data['project_title'] = preprocessed_project_title"
      ],
      "execution_count": 0,
      "outputs": []
    },
    {
      "cell_type": "code",
      "metadata": {
        "id": "bONaZszdovTP",
        "colab_type": "code",
        "outputId": "5572e8e6-7218-4ad4-d4c5-3d5b959cea9b",
        "colab": {
          "base_uri": "https://localhost:8080/",
          "height": 202
        }
      },
      "source": [
        "data.head(1)"
      ],
      "execution_count": 0,
      "outputs": [
        {
          "output_type": "execute_result",
          "data": {
            "text/html": [
              "<div>\n",
              "<style scoped>\n",
              "    .dataframe tbody tr th:only-of-type {\n",
              "        vertical-align: middle;\n",
              "    }\n",
              "\n",
              "    .dataframe tbody tr th {\n",
              "        vertical-align: top;\n",
              "    }\n",
              "\n",
              "    .dataframe thead th {\n",
              "        text-align: right;\n",
              "    }\n",
              "</style>\n",
              "<table border=\"1\" class=\"dataframe\">\n",
              "  <thead>\n",
              "    <tr style=\"text-align: right;\">\n",
              "      <th></th>\n",
              "      <th>school_state</th>\n",
              "      <th>teacher_prefix</th>\n",
              "      <th>project_grade_category</th>\n",
              "      <th>teacher_number_of_previously_posted_projects</th>\n",
              "      <th>project_is_approved</th>\n",
              "      <th>clean_categories</th>\n",
              "      <th>clean_subcategories</th>\n",
              "      <th>essay</th>\n",
              "      <th>price</th>\n",
              "      <th>project_title</th>\n",
              "    </tr>\n",
              "  </thead>\n",
              "  <tbody>\n",
              "    <tr>\n",
              "      <th>0</th>\n",
              "      <td>ca</td>\n",
              "      <td>mrs</td>\n",
              "      <td>grades_prek_2</td>\n",
              "      <td>53</td>\n",
              "      <td>1</td>\n",
              "      <td>math_science</td>\n",
              "      <td>appliedsciences health_lifescience</td>\n",
              "      <td>i fortunate enough use fairy tale stem kits cl...</td>\n",
              "      <td>725.05</td>\n",
              "      <td>educational support english learners home</td>\n",
              "    </tr>\n",
              "  </tbody>\n",
              "</table>\n",
              "</div>"
            ],
            "text/plain": [
              "  school_state  ...                              project_title\n",
              "0           ca  ...  educational support english learners home\n",
              "\n",
              "[1 rows x 10 columns]"
            ]
          },
          "metadata": {
            "tags": []
          },
          "execution_count": 9
        }
      ]
    },
    {
      "cell_type": "markdown",
      "metadata": {
        "id": "6YPgY4MG8N83",
        "colab_type": "text"
      },
      "source": [
        "<h2>2.1 Splitting data into Train and cross validation(or test): Stratified Sampling</h2>"
      ]
    },
    {
      "cell_type": "code",
      "metadata": {
        "id": "0iG2vraddXxP",
        "colab_type": "code",
        "outputId": "87021e4e-5a58-4de8-f856-3fcf30caeabf",
        "colab": {
          "base_uri": "https://localhost:8080/",
          "height": 202
        }
      },
      "source": [
        "y = data['project_is_approved'].values\n",
        "X = data.drop(['project_is_approved'], axis=1)\n",
        "X.head(1)\n"
      ],
      "execution_count": 0,
      "outputs": [
        {
          "output_type": "execute_result",
          "data": {
            "text/html": [
              "<div>\n",
              "<style scoped>\n",
              "    .dataframe tbody tr th:only-of-type {\n",
              "        vertical-align: middle;\n",
              "    }\n",
              "\n",
              "    .dataframe tbody tr th {\n",
              "        vertical-align: top;\n",
              "    }\n",
              "\n",
              "    .dataframe thead th {\n",
              "        text-align: right;\n",
              "    }\n",
              "</style>\n",
              "<table border=\"1\" class=\"dataframe\">\n",
              "  <thead>\n",
              "    <tr style=\"text-align: right;\">\n",
              "      <th></th>\n",
              "      <th>school_state</th>\n",
              "      <th>teacher_prefix</th>\n",
              "      <th>project_grade_category</th>\n",
              "      <th>teacher_number_of_previously_posted_projects</th>\n",
              "      <th>clean_categories</th>\n",
              "      <th>clean_subcategories</th>\n",
              "      <th>essay</th>\n",
              "      <th>price</th>\n",
              "      <th>project_title</th>\n",
              "    </tr>\n",
              "  </thead>\n",
              "  <tbody>\n",
              "    <tr>\n",
              "      <th>0</th>\n",
              "      <td>ca</td>\n",
              "      <td>mrs</td>\n",
              "      <td>grades_prek_2</td>\n",
              "      <td>53</td>\n",
              "      <td>math_science</td>\n",
              "      <td>appliedsciences health_lifescience</td>\n",
              "      <td>i fortunate enough use fairy tale stem kits cl...</td>\n",
              "      <td>725.05</td>\n",
              "      <td>educational support english learners home</td>\n",
              "    </tr>\n",
              "  </tbody>\n",
              "</table>\n",
              "</div>"
            ],
            "text/plain": [
              "  school_state  ...                              project_title\n",
              "0           ca  ...  educational support english learners home\n",
              "\n",
              "[1 rows x 9 columns]"
            ]
          },
          "metadata": {
            "tags": []
          },
          "execution_count": 10
        }
      ]
    },
    {
      "cell_type": "code",
      "metadata": {
        "id": "ORh3p_f58R8w",
        "colab_type": "code",
        "colab": {}
      },
      "source": [
        "# train test split \n",
        "from sklearn.model_selection import train_test_split\n",
        "X_train, X_test, y_train, y_test = train_test_split(X, y, test_size=0.33, stratify=y)\n",
        "X_train, X_cv, y_train, y_cv = train_test_split(X_train, y_train, test_size=0.33, stratify=y_train)"
      ],
      "execution_count": 0,
      "outputs": []
    },
    {
      "cell_type": "markdown",
      "metadata": {
        "id": "C049OdaU8g5h",
        "colab_type": "text"
      },
      "source": [
        "<h2>2.2 Make Data Model Ready: encoding numerical, categorical features</h2>"
      ]
    },
    {
      "cell_type": "markdown",
      "metadata": {
        "id": "fo_3f1PO-KKN",
        "colab_type": "text"
      },
      "source": [
        "<h3>school_state<h3>"
      ]
    },
    {
      "cell_type": "code",
      "metadata": {
        "id": "R9aURb8281he",
        "colab_type": "code",
        "outputId": "190d19e7-2914-462a-e991-01a1b85ec191",
        "colab": {
          "base_uri": "https://localhost:8080/",
          "height": 190
        }
      },
      "source": [
        "# we use count vectorizer to convert the values into one hot encoded features\n",
        "\n",
        "from sklearn.feature_extraction.text import CountVectorizer\n",
        "vectorizer = CountVectorizer(binary=True)\n",
        "vectorizer.fit(X_train['school_state'].values)\n",
        "\n",
        "states_one_hot_X_train = vectorizer.transform(X_train['school_state'].values)\n",
        "states_one_hot_X_cv = vectorizer.transform(X_cv['school_state'].values)\n",
        "states_one_hot_X_test = vectorizer.transform(X_test['school_state'].values)\n",
        "\n",
        "print(\"=\"*50)\n",
        "print(\"Shape of matrix after one hot encoding(school_state) \")\n",
        "print(\"=\"*50)\n",
        "print(\"X_train  :\",states_one_hot_X_train.shape)\n",
        "print(\"X_cv     :\",states_one_hot_X_cv.shape)\n",
        "print(\"X_test   :\",states_one_hot_X_test.shape)\n",
        "print(\"=\"*50)\n",
        "print(vectorizer.get_feature_names())\n",
        "print(\"=\"*50)\n"
      ],
      "execution_count": 0,
      "outputs": [
        {
          "output_type": "stream",
          "text": [
            "==================================================\n",
            "Shape of matrix after one hot encoding(school_state) \n",
            "==================================================\n",
            "X_train  : (49041, 51)\n",
            "X_cv     : (24155, 51)\n",
            "X_test   : (36052, 51)\n",
            "==================================================\n",
            "['ak', 'al', 'ar', 'az', 'ca', 'co', 'ct', 'dc', 'de', 'fl', 'ga', 'hi', 'ia', 'id', 'il', 'in', 'ks', 'ky', 'la', 'ma', 'md', 'me', 'mi', 'mn', 'mo', 'ms', 'mt', 'nc', 'nd', 'ne', 'nh', 'nj', 'nm', 'nv', 'ny', 'oh', 'ok', 'or', 'pa', 'ri', 'sc', 'sd', 'tn', 'tx', 'ut', 'va', 'vt', 'wa', 'wi', 'wv', 'wy']\n",
            "==================================================\n"
          ],
          "name": "stdout"
        }
      ]
    },
    {
      "cell_type": "markdown",
      "metadata": {
        "id": "ifjMAMKwBoKR",
        "colab_type": "text"
      },
      "source": [
        "<h3>teacher_prefix\n",
        "<h3>"
      ]
    },
    {
      "cell_type": "code",
      "metadata": {
        "id": "9uZEFajrB0po",
        "colab_type": "code",
        "outputId": "0db9f3fb-0f0b-4ce0-a3e8-02e03b3781c9",
        "colab": {
          "base_uri": "https://localhost:8080/",
          "height": 170
        }
      },
      "source": [
        "# we use count vectorizer to convert the values into one hot encoded features\n",
        "\n",
        "vectorizer = CountVectorizer(binary=True)\n",
        "vectorizer.fit(X_train['teacher_prefix'].values)\n",
        "\n",
        "teacher_prefix_one_hot_X_train = vectorizer.transform(X_train['teacher_prefix'].values)\n",
        "teacher_prefix_one_hot_X_cv = vectorizer.transform(X_cv['teacher_prefix'].values)\n",
        "teacher_prefix_one_hot_X_test = vectorizer.transform(X_test['teacher_prefix'].values)\n",
        "\n",
        "\n",
        "print(\"=\"*50)\n",
        "print(\"Shape of matrix after one hot encoding(teacher_prefix) \")\n",
        "print(\"=\"*50)\n",
        "print(\"X_train  :\",teacher_prefix_one_hot_X_train.shape)\n",
        "print(\"X_cv     :\",teacher_prefix_one_hot_X_cv.shape)\n",
        "print(\"X_test   :\",teacher_prefix_one_hot_X_test.shape)\n",
        "print(\"=\"*50)\n",
        "print(vectorizer.get_feature_names())\n",
        "print(\"=\"*50)"
      ],
      "execution_count": 0,
      "outputs": [
        {
          "output_type": "stream",
          "text": [
            "==================================================\n",
            "Shape of matrix after one hot encoding(teacher_prefix) \n",
            "==================================================\n",
            "X_train  : (49041, 5)\n",
            "X_cv     : (24155, 5)\n",
            "X_test   : (36052, 5)\n",
            "==================================================\n",
            "['dr', 'mr', 'mrs', 'ms', 'teacher']\n",
            "==================================================\n"
          ],
          "name": "stdout"
        }
      ]
    },
    {
      "cell_type": "markdown",
      "metadata": {
        "id": "ZfT05RO9DD_u",
        "colab_type": "text"
      },
      "source": [
        "<h3>project_grade_category\t<h3>"
      ]
    },
    {
      "cell_type": "code",
      "metadata": {
        "id": "kG_RhDhYDMTU",
        "colab_type": "code",
        "outputId": "a485dd48-de76-4849-c0c0-736799aaf63d",
        "colab": {
          "base_uri": "https://localhost:8080/",
          "height": 170
        }
      },
      "source": [
        "# we use count vectorizer to convert the values into one hot encoded features\n",
        "\n",
        "vectorizer = CountVectorizer(binary=True)\n",
        "vectorizer.fit(X_train['project_grade_category'].values)\n",
        "\n",
        "project_grade_one_hot_X_train = vectorizer.transform(X_train['project_grade_category'].values)\n",
        "project_grade_one_hot_X_cv = vectorizer.transform(X_cv['project_grade_category'].values)\n",
        "project_grade_one_hot_X_test = vectorizer.transform(X_test['project_grade_category'].values)\n",
        "\n",
        "print(\"=\"*50)\n",
        "print(\"Shape of matrix after one hot encoding(project_grade_category) \")\n",
        "print(\"=\"*50)\n",
        "print(\"X_train  :\",project_grade_one_hot_X_train.shape)\n",
        "print(\"X_cv     :\",project_grade_one_hot_X_cv.shape)\n",
        "print(\"X_test   :\",project_grade_one_hot_X_test.shape)\n",
        "print(\"=\"*50)\n",
        "print(vectorizer.get_feature_names())\n",
        "print(\"=\"*50)"
      ],
      "execution_count": 0,
      "outputs": [
        {
          "output_type": "stream",
          "text": [
            "==================================================\n",
            "Shape of matrix after one hot encoding(project_grade_category) \n",
            "==================================================\n",
            "X_train  : (49041, 4)\n",
            "X_cv     : (24155, 4)\n",
            "X_test   : (36052, 4)\n",
            "==================================================\n",
            "['grades_3_5', 'grades_6_8', 'grades_9_12', 'grades_prek_2']\n",
            "==================================================\n"
          ],
          "name": "stdout"
        }
      ]
    },
    {
      "cell_type": "markdown",
      "metadata": {
        "id": "3P25KPpQE_8q",
        "colab_type": "text"
      },
      "source": [
        "<h3>clean_categories<h3>"
      ]
    },
    {
      "cell_type": "code",
      "metadata": {
        "id": "GO0JXBLdFn73",
        "colab_type": "code",
        "outputId": "b3fa6d9f-71ab-40d3-def0-12f0cd337a9f",
        "colab": {
          "base_uri": "https://localhost:8080/",
          "height": 190
        }
      },
      "source": [
        "# we use count vectorizer to convert the values into one hot encoded features\n",
        "\n",
        "vectorizer = CountVectorizer(binary=True)\n",
        "vectorizer.fit(X_train['clean_categories'].values)\n",
        "\n",
        "clean_categories_one_hot_X_train = vectorizer.transform(X_train['clean_categories'].values)\n",
        "clean_categories_one_hot_X_cv = vectorizer.transform(X_cv['clean_categories'].values)\n",
        "clean_categories_one_hot_X_test = vectorizer.transform(X_test['clean_categories'].values)\n",
        "\n",
        "print(\"=\"*50)\n",
        "print(\"Shape of matrix after one hot encoding(clean_categories) \")\n",
        "print(\"=\"*50)\n",
        "print(\"X_train  :\",clean_categories_one_hot_X_train.shape)\n",
        "print(\"X_cv     :\",clean_categories_one_hot_X_cv.shape)\n",
        "print(\"X_test   :\",clean_categories_one_hot_X_test.shape)\n",
        "print(\"=\"*50)\n",
        "print(vectorizer.get_feature_names())\n",
        "print(\"=\"*50)"
      ],
      "execution_count": 0,
      "outputs": [
        {
          "output_type": "stream",
          "text": [
            "==================================================\n",
            "Shape of matrix after one hot encoding(clean_categories) \n",
            "==================================================\n",
            "X_train  : (49041, 9)\n",
            "X_cv     : (24155, 9)\n",
            "X_test   : (36052, 9)\n",
            "==================================================\n",
            "['appliedlearning', 'care_hunger', 'health_sports', 'history_civics', 'literacy_language', 'math_science', 'music_arts', 'specialneeds', 'warmth']\n",
            "==================================================\n"
          ],
          "name": "stdout"
        }
      ]
    },
    {
      "cell_type": "markdown",
      "metadata": {
        "id": "g6t-KdadGrrd",
        "colab_type": "text"
      },
      "source": [
        "<h3>clean_subcategories<h3>"
      ]
    },
    {
      "cell_type": "code",
      "metadata": {
        "id": "-EoZZP42HIPt",
        "colab_type": "code",
        "outputId": "f07e42b8-6b7b-4f54-9806-90a38818c5ca",
        "colab": {
          "base_uri": "https://localhost:8080/",
          "height": 190
        }
      },
      "source": [
        "# we use count vectorizer to convert the values into one hot encoded features\n",
        "\n",
        "vectorizer = CountVectorizer(binary=True)\n",
        "vectorizer.fit(X_train['clean_subcategories'].values)\n",
        "\n",
        "clean_subcategories_one_hot_X_train = vectorizer.transform(X_train['clean_subcategories'].values)\n",
        "clean_subcategories_one_hot_X_cv = vectorizer.transform(X_cv['clean_subcategories'].values)\n",
        "clean_subcategories_one_hot_X_test = vectorizer.transform(X_test['clean_subcategories'].values)\n",
        "\n",
        "print(\"=\"*50)\n",
        "print(\"Shape of matrix after one hot encoding(clean_categories) \")\n",
        "print(\"=\"*50)\n",
        "print(\"X_train  :\",clean_subcategories_one_hot_X_train.shape)\n",
        "print(\"X_cv     :\",clean_subcategories_one_hot_X_cv.shape)\n",
        "print(\"X_test   :\",clean_subcategories_one_hot_X_test.shape)\n",
        "print(\"=\"*50)\n",
        "print(vectorizer.get_feature_names())\n",
        "print(\"=\"*50)"
      ],
      "execution_count": 0,
      "outputs": [
        {
          "output_type": "stream",
          "text": [
            "==================================================\n",
            "Shape of matrix after one hot encoding(clean_categories) \n",
            "==================================================\n",
            "X_train  : (49041, 30)\n",
            "X_cv     : (24155, 30)\n",
            "X_test   : (36052, 30)\n",
            "==================================================\n",
            "['appliedsciences', 'care_hunger', 'charactereducation', 'civics_government', 'college_careerprep', 'communityservice', 'earlydevelopment', 'economics', 'environmentalscience', 'esl', 'extracurricular', 'financialliteracy', 'foreignlanguages', 'gym_fitness', 'health_lifescience', 'health_wellness', 'history_geography', 'literacy', 'literature_writing', 'mathematics', 'music', 'nutritioneducation', 'other', 'parentinvolvement', 'performingarts', 'socialsciences', 'specialneeds', 'teamsports', 'visualarts', 'warmth']\n",
            "==================================================\n"
          ],
          "name": "stdout"
        }
      ]
    },
    {
      "cell_type": "markdown",
      "metadata": {
        "id": "pHFyTQD6KQ5v",
        "colab_type": "text"
      },
      "source": [
        "<h3>teacher_number_of_previously_posted_projects<h3>"
      ]
    },
    {
      "cell_type": "code",
      "metadata": {
        "id": "dnl6FmvTKRvL",
        "colab_type": "code",
        "outputId": "8d841f38-8773-40eb-950c-19eab57c43d0",
        "colab": {
          "base_uri": "https://localhost:8080/",
          "height": 136
        }
      },
      "source": [
        "from sklearn.preprocessing import Normalizer\n",
        "normalizer = Normalizer()\n",
        "\n",
        "normalizer.fit(X_train['teacher_number_of_previously_posted_projects'].values.reshape(-1,1))\n",
        "\n",
        "previously_posted_X_train = normalizer.transform(X_train['teacher_number_of_previously_posted_projects'].values.reshape(-1,1))\n",
        "previously_posted_X_cv = normalizer.transform(X_cv['teacher_number_of_previously_posted_projects'].values.reshape(-1,1))\n",
        "previously_posted_X_test = normalizer.transform(X_test['teacher_number_of_previously_posted_projects'].values.reshape(-1,1))\n",
        "\n",
        "print(\"=\"*50)\n",
        "print(\"Shape of matrix after vectorizations(teacher_number_of_previously_posted_projects) \")\n",
        "print(\"=\"*50)\n",
        "print(\"X_train  :\",previously_posted_X_train.shape)\n",
        "print(\"X_cv     :\",previously_posted_X_cv.shape)\n",
        "print(\"X_test   :\",previously_posted_X_test.shape)\n",
        "print(\"=\"*50)\n"
      ],
      "execution_count": 0,
      "outputs": [
        {
          "output_type": "stream",
          "text": [
            "==================================================\n",
            "Shape of matrix after vectorizations(teacher_number_of_previously_posted_projects) \n",
            "==================================================\n",
            "X_train  : (49041, 1)\n",
            "X_cv     : (24155, 1)\n",
            "X_test   : (36052, 1)\n",
            "==================================================\n"
          ],
          "name": "stdout"
        }
      ]
    },
    {
      "cell_type": "markdown",
      "metadata": {
        "id": "FfXBhyY1VNEL",
        "colab_type": "text"
      },
      "source": [
        "<h3>price<h3>"
      ]
    },
    {
      "cell_type": "code",
      "metadata": {
        "id": "2QT9VLs6Gftu",
        "colab_type": "code",
        "outputId": "861147ca-b1c1-49a3-b954-91def49b33b6",
        "colab": {
          "base_uri": "https://localhost:8080/",
          "height": 136
        }
      },
      "source": [
        "normalizer = Normalizer()\n",
        "\n",
        "normalizer.fit(X_train['price'].values.reshape(-1,1))\n",
        "\n",
        "price_X_train = normalizer.transform(X_train['price'].values.reshape(-1,1))\n",
        "price_X_cv = normalizer.transform(X_cv['price'].values.reshape(-1,1))\n",
        "price_X_test = normalizer.transform(X_test['price'].values.reshape(-1,1))\n",
        "\n",
        "print(\"=\"*50)\n",
        "print(\"Shape of matrix after vectorizations(price) \")\n",
        "print(\"=\"*50)\n",
        "print(\"X_train  :\",price_X_train.shape)\n",
        "print(\"X_cv     :\",price_X_cv.shape)\n",
        "print(\"X_test   :\",price_X_test.shape)\n",
        "print(\"=\"*50)"
      ],
      "execution_count": 0,
      "outputs": [
        {
          "output_type": "stream",
          "text": [
            "==================================================\n",
            "Shape of matrix after vectorizations(price) \n",
            "==================================================\n",
            "X_train  : (49041, 1)\n",
            "X_cv     : (24155, 1)\n",
            "X_test   : (36052, 1)\n",
            "==================================================\n"
          ],
          "name": "stdout"
        }
      ]
    },
    {
      "cell_type": "markdown",
      "metadata": {
        "id": "i5XIKP5b9BrS",
        "colab_type": "text"
      },
      "source": [
        "<h2>2.3 Make Data Model Ready: encoding eassay, and project_title</h2>\n",
        "\n"
      ]
    },
    {
      "cell_type": "markdown",
      "metadata": {
        "id": "mkKI06VUZngy",
        "colab_type": "text"
      },
      "source": [
        "<h3>Essay - Bag of Words<h3>"
      ]
    },
    {
      "cell_type": "code",
      "metadata": {
        "id": "bbAZsNAnZloz",
        "colab_type": "code",
        "outputId": "22975e24-934c-44d2-d2e7-1ab13eb2c4e3",
        "colab": {
          "base_uri": "https://localhost:8080/",
          "height": 207
        }
      },
      "source": [
        "\n",
        "vectorizer = CountVectorizer(min_df=10,binary=True)\n",
        "vectorizer.fit(X_train['essay'].values)\n",
        "\n",
        "essay_bag_of_words_X_train = vectorizer.transform(X_train['essay'].values)\n",
        "essay_bag_of_words_X_cv = vectorizer.transform(X_cv['essay'].values)\n",
        "essay_bag_of_words_X_test = vectorizer.transform(X_test['essay'].values)\n",
        "\n",
        "print(\"=\"*50)\n",
        "print(\"Bag of Words\")\n",
        "print(\"Shape of matrix after vectorizations (essay)\")\n",
        "print(\"=\"*50)\n",
        "print(\"X_train  :\",essay_bag_of_words_X_train.shape)\n",
        "print(\"X_cv     :\",essay_bag_of_words_X_cv.shape)\n",
        "print(\"X_test   :\",essay_bag_of_words_X_test.shape)\n",
        "print(\"=\"*50)\n",
        "print(vectorizer.get_feature_names())\n",
        "print(\"=\"*50)"
      ],
      "execution_count": 0,
      "outputs": [
        {
          "output_type": "stream",
          "text": [
            "==================================================\n",
            "Bag of Words\n",
            "Shape of matrix after vectorizations (essay)\n",
            "==================================================\n",
            "X_train  : (49041, 12177)\n",
            "X_cv     : (24155, 12177)\n",
            "X_test   : (36052, 12177)\n",
            "==================================================\n",
            "['00', '000', '10', '100', '1000', '101', '103', '104', '105', '10th', '11', '110', '1100', '112', '115', '11th', '12', '120', '1200', '125', '12th', '13', '130', '1300', '13th', '14', '140', '1400', '15', '150', '1500', '16', '160', '1600', '17', '170', '1700', '175', '18', '180', '1800', '19', '1950', '1960s', '1990', '19th', '1st', '20', '200', '2000', '2001', '2003', '2004', '2005', '2006', '2007', '2008', '2009', '2010', '2011', '2012', '2013', '2014', '2015', '2016', '2017', '2018', '2029', '20th', '21', '21st', '22', '225', '23', '24', '240', '25', '250', '26', '260', '27', '28', '280', '29', '2d', '2nd', '30', '300', '3000', '30am', '31', '32', '320', '33', '330', '34', '35', '350', '36', '360', '365', '37', '375', '38', '39', '3d', '3doodle', '3doodler', '3doodlers', '3rd', '40', '400', '4000', '41', '42', '43', '430', '44', '440', '45', '450', '46', '47', '48', '480', '49', '4c', '4k', '4th', '50', '500', '504', '504s', '51', '52', '520', '53', '54', '55', '550', '56', '560', '57', '570', '58', '59', '5k', '5th', '60', '600', '61', '62', '63', '64', '65', '650', '66', '669', '67', '68', '69', '693', '6th', '70', '700', '71', '72', '73', '74', '75', '750', '76', '77', '78', '79', '7th', '80', '800', '81', '82', '83', '84', '85', '850', '86', '87', '88', '89', '8th', '90', '900', '91', '92', '93', '94', '95', '950', '96', '97', '98', '99', '9th', 'aa', 'ab', 'abandoned', 'abc', 'abcmouse', 'abcs', 'abcya', 'abdominal', 'abilities', 'ability', 'abl', 'able', 'abound', 'abounds', 'about', 'above', 'abraham', 'abreast', 'abroad', 'absence', 'absences', 'absent', 'absentee', 'absenteeism', 'absolute', 'absolutely', 'absorb', 'absorbed', 'absorbing', 'abstract', 'abstractly', 'abundance', 'abundant', 'abuse', 'abused', 'academia', 'academic', 'academically', 'academics', 'academies', 'academy', 'accelerate', 'accelerated', 'accelerating', 'acceleration', 'accept', 'acceptable', 'acceptance', 'accepted', 'accepting', 'accepts', 'access', 'accessed', 'accessibility', 'accessible', 'accessing', 'accessories', 'accessory', 'accident', 'accidental', 'accidentally', 'accidents', 'acclimate', 'acclimated', 'accolades', 'accommodate', 'accommodated', 'accommodates', 'accommodating', 'accommodation', 'accommodations', 'accompanied', 'accompaniment', 'accompaniments', 'accompany', 'accompanying', 'accomplish', 'accomplished', 'accomplishing', 'accomplishment', 'accomplishments', 'according', 'accordingly', 'account', 'accountability', 'accountable', 'accounting', 'accounts', 'accreditation', 'accredited', 'accumulate', 'accumulated', 'accuracy', 'accurate', 'accurately', 'accustomed', 'ace', 'acer', 'ache', 'aches', 'achievable', 'achieve', 'achieved', 'achievement', 'achievements', 'achiever', 'achievers', 'achieves', 'achieving', 'acid', 'acknowledge', 'acknowledged', 'acknowledging', 'acoustic', 'acquainted', 'acquire', 'acquired', 'acquiring', 'acquisition', 'across', 'acrylic', 'act', 'acting', 'action', 'actions', 'activate', 'activated', 'activates', 'activating', 'active', 'actively', 'actives', 'activism', 'activists', 'activites', 'activities', 'activity', 'actor', 'actors', 'acts', 'actual', 'actually', 'ad', 'adams', 'adapt', 'adaptability', 'adaptable', 'adaptation', 'adaptations', 'adapted', 'adapter', 'adapters', 'adapting', 'adaptive', 'add', 'added', 'addicted', 'addiction', 'adding', 'addition', 'additional', 'additionally', 'additions', 'address', 'addressed', 'addresses', 'addressing', 'adds', 'adept', 'adequate', 'adequately', 'adhd', 'adhere', 'adhesive', 'adjacent', 'adjectives', 'adjust', 'adjustable', 'adjusted', 'adjusting', 'adjustment', 'adjustments', 'adjusts', 'administered', 'administration', 'administrative', 'administrator', 'administrators', 'admirable', 'admire', 'admission', 'admissions', 'admit', 'admitted', 'adobe', 'adolescence', 'adolescent', 'adolescents', 'adopt', 'adopted', 'adopting', 'adoption', 'adorable', 'adore', 'ads', 'adult', 'adulthood', 'adults', 'advance', 'advanced', 'advancement', 'advancements', 'advances', 'advancing', 'advantage', 'advantaged', 'advantageous', 'advantages', 'adventure', 'adventurers', 'adventures', 'adventurous', 'adverse', 'adversities', 'adversity', 'advertise', 'advertisement', 'advertisements', 'advertising', 'advice', 'advisor', 'advisory', 'advocacy', 'advocate', 'advocates', 'advocating', 'aerial', 'aerobic', 'aerogarden', 'aerospace', 'aesthetic', 'aesthetically', 'aesthetics', 'affect', 'affected', 'affecting', 'affection', 'affectionate', 'affective', 'affects', 'affiliated', 'affirm', 'affirmation', 'affluent', 'afford', 'affordable', 'afforded', 'affording', 'affords', 'afghanistan', 'afloat', 'aforementioned', 'afraid', 'africa', 'african', 'after', 'afternoon', 'afternoons', 'afterschool', 'afterward', 'afterwards', 'ag', 'again', 'against', 'age', 'aged', 'agencies', 'agency', 'agenda', 'agendas', 'agent', 'agents', 'ages', 'aggression', 'aggressive', 'agility', 'aging', 'agitated', 'ago', 'agree', 'agreed', 'agreement', 'agricultural', 'agriculture', 'ah', 'aha', 'ahead', 'aid', 'aide', 'aided', 'aides', 'aiding', 'aids', 'aig', 'aim', 'aimed', 'aiming', 'aims', 'air', 'airplane', 'airplanes', 'airport', 'ais', 'aka', 'al', 'alabama', 'alarm', 'alarming', 'alaska', 'alaskan', 'albert', 'alcohol', 'aleks', 'alert', 'alertness', 'alexa', 'alexander', 'algebra', 'algebraic', 'algeria', 'algorithm', 'algorithms', 'alice', 'align', 'aligned', 'alignment', 'aligns', 'alike', 'alive', 'all', 'allegiance', 'allergies', 'allergy', 'alleviate', 'alleviates', 'alleviating', 'alliance', 'alligator', 'allocated', 'allotted', 'allow', 'allowance', 'allowed', 'allowing', 'allows', 'ally', 'alma', 'almost', 'aloha', 'alone', 'along', 'alongs', 'alongside', 'alot', 'aloud', 'alouds', 'alpha', 'alphabet', 'alphabetic', 'alphabetter', 'already', 'also', 'alter', 'altered', 'altering', 'alternate', 'alternative', 'alternatives', 'although', 'alto', 'altogether', 'aluminum', 'alumni', 'alway', 'always', 'am', 'amateur', 'amaze', 'amazed', 'amazement', 'amazes', 'amazing', 'amazingly', 'amazon', 'ambassadors', 'ambiance', 'ambient', 'ambition', 'ambitions', 'ambitious', 'ambulatory', 'amelia', 'amenities', 'america', 'american', 'americans', 'amharic', 'amidst', 'among', 'amongst', 'amount', 'amounts', 'ample', 'amplification', 'amplified', 'amplifier', 'amplify', 'amusement', 'amusing', 'an', 'analog', 'analysis', 'analytical', 'analyze', 'analyzed', 'analyzing', 'anatomical', 'anatomy', 'ancestors', 'ancestry', 'anchor', 'anchorage', 'anchors', 'ancient', 'and', 'anderson', 'android', 'andy', 'angeles', 'angelou', 'angels', 'anger', 'angle', 'angles', 'anglo', 'angry', 'animal', 'animals', 'animate', 'animated', 'animation', 'animations', 'anime', 'ankle', 'anne', 'annie', 'anniversary', 'annotate', 'annotated', 'annotating', 'annotation', 'annotations', 'announce', 'announced', 'announcement', 'announcements', 'annual', 'annually', 'anonymous', 'another', 'answer', 'answered', 'answering', 'answers', 'ant', 'anthology', 'anti', 'anticipate', 'anticipated', 'anticipating', 'anticipation', 'antiquated', 'antonio', 'antonyms', 'ants', 'antsy', 'anxieties', 'anxiety', 'anxious', 'anxiously', 'any', 'anybody', 'anymore', 'anyone', 'anything', 'anytime', 'anyway', 'anywhere', 'ap', 'apart', 'apartment', 'apartments', 'apathetic', 'apathy', 'app', 'appalachia', 'appalachian', 'apparatus', 'apparent', 'appeal', 'appealing', 'appeals', 'appear', 'appearance', 'appears', 'appetite', 'appetites', 'applaud', 'apple', 'apples', 'applesauce', 'appliances', 'applicable', 'applicants', 'application', 'applications', 'applied', 'applies', 'apply', 'applying', 'appreciate', 'appreciated', 'appreciates', 'appreciating', 'appreciation', 'appreciative', 'apprehensive', 'approach', 'approachable', 'approached', 'approaches', 'approaching', 'appropriate', 'appropriately', 'approval', 'approved', 'approx', 'approximately', 'apps', 'april', 'apron', 'aprons', 'aps', 'apt', 'aptitude', 'aquaponic', 'aquaponics', 'aquarium', 'aquariums', 'aquatic', 'ar', 'arabia', 'arabic', 'arch', 'archaic', 'archery', 'architect', 'architects', 'architectural', 'architecture', 'arctic', 'arduino', 'arduous', 'are', 'area', 'areas', 'arena', 'argentina', 'arguably', 'argue', 'arguing', 'argument', 'argumentation', 'argumentative', 'arguments', 'arise', 'arises', 'aristotle', 'arithmetic', 'arizona', 'arkansas', 'arledge', 'arm', 'armed', 'arms', 'army', 'around', 'arrange', 'arranged', 'arrangement', 'arrangements', 'arranging', 'array', 'arrays', 'arrival', 'arrivals', 'arrive', 'arrived', 'arrives', 'arriving', 'arrows', 'arsenal', 'art', 'arthur', 'article', 'articles', 'articulate', 'articulation', 'artifacts', 'artificial', 'artist', 'artistic', 'artistically', 'artistry', 'artists', 'arts', 'artsy', 'artwork', 'artworks', 'as', 'asd', 'ashamed', 'asia', 'asian', 'asians', 'aside', 'ask', 'asked', 'asking', 'asks', 'asl', 'asleep', 'aspect', 'aspects', 'asperger', 'aspirations', 'aspire', 'aspiring', 'assemble', 'assembled', 'assemblies', 'assembling', 'assembly', 'assess', 'assessed', 'assesses', 'assessing', 'assessment', 'assessments', 'asset', 'assets', 'assign', 'assigned', 'assigning', 'assignment', 'assignments', 'assimilate', 'assist', 'assistance', 'assistant', 'assistants', 'assisted', 'assisting', 'assistive', 'assists', 'associate', 'associated', 'association', 'assorted', 'assortment', 'assume', 'assumed', 'assure', 'assured', 'assuring', 'asthma', 'astonished', 'astonishing', 'astound', 'astounded', 'astounding', 'astronaut', 'astronauts', 'astronomy', 'asus', 'at', 'ate', 'athlete', 'athletes', 'athletic', 'athletically', 'athletics', 'atlanta', 'atlantic', 'atlas', 'atlases', 'atmosphere', 'atom', 'atomic', 'atoms', 'atpe', 'attach', 'attached', 'attaching', 'attachment', 'attachments', 'attack', 'attacks', 'attain', 'attainable', 'attained', 'attaining', 'attainment', 'attempt', 'attempted', 'attempting', 'attempts', 'attend', 'attendance', 'attended', 'attending', 'attends', 'attention', 'attentive', 'attentiveness', 'attest', 'attire', 'attitude', 'attitudes', 'attract', 'attracted', 'attractive', 'attracts', 'attribute', 'attributes', 'atypical', 'auction', 'audible', 'audience', 'audiences', 'audio', 'audiobook', 'audiobooks', 'audition', 'auditorium', 'auditory', 'auggie', 'augment', 'augmentative', 'augmented', 'august', 'aunt', 'aunts', 'aural', 'austin', 'authentic', 'authentically', 'author', 'authority', 'authors', 'autism', 'autistic', 'auto', 'autobiography', 'automatic', 'automatically', 'automaticity', 'autonomous', 'autonomy', 'auxiliary', 'availability', 'available', 'avenue', 'avenues', 'average', 'averages', 'avid', 'avoid', 'avoided', 'avoiding', 'await', 'awaiting', 'awaits', 'awake', 'awaken', 'award', 'awarded', 'awarding', 'awards', 'aware', 'awareness', 'away', 'awe', 'awesome', 'awesomeness', 'awful', 'awhile', 'awkward', 'az', 'babies', 'baby', 'babysitting', 'baccalaureate', 'back', 'backbone', 'backdrop', 'backdrops', 'backed', 'background', 'backgrounds', 'backing', 'backless', 'backpack', 'backpacks', 'backpatter', 'backs', 'backseat', 'backward', 'backwards', 'backyard', 'backyards', 'bacteria', 'bad', 'badges', 'badly', 'badminton', 'bag', 'baggage', 'baggie', 'baggies', 'bags', 'bake', 'baked', 'baking', 'balance', 'balanced', 'balances', 'balancing', 'ball', 'ballet', 'balloon', 'balloons', 'balls', 'balm', 'baltimore', 'banana', 'bananas', 'band', 'bands', 'bang', 'bangladesh', 'bank', 'banking', 'banks', 'banners', 'bar', 'bare', 'barely', 'baritone', 'barn', 'barred', 'barrier', 'barriers', 'bars', 'basal', 'base', 'baseball', 'baseballs', 'based', 'baseline', 'bases', 'basic', 'basically', 'basics', 'basis', 'basket', 'basketball', 'basketballs', 'baskets', 'bass', 'bat', 'batch', 'bath', 'bathroom', 'batman', 'baton', 'batons', 'bats', 'batteries', 'battery', 'batting', 'battle', 'battles', 'battling', 'bay', 'bc', 'be', 'beach', 'beaches', 'beacon', 'bead', 'beads', 'beakers', 'beam', 'beaming', 'beams', 'bean', 'beanbag', 'beanbags', 'beans', 'bear', 'bearing', 'bears', 'beat', 'beating', 'beats', 'beautiful', 'beautifully', 'beautify', 'beauty', 'beavers', 'became', 'because', 'become', 'becomes', 'becoming', 'bed', 'bedding', 'bedford', 'bedroom', 'beds', 'bedtime', 'bee', 'beef', 'bees', 'beethoven', 'before', 'beg', 'began', 'begged', 'begging', 'begin', 'beginner', 'beginners', 'beginning', 'beginnings', 'begins', 'begun', 'behalf', 'behave', 'behaved', 'behaving', 'behavior', 'behavioral', 'behaviorally', 'behaviors', 'behind', 'behold', 'beige', 'being', 'beings', 'belief', 'beliefs', 'believe', 'believed', 'believer', 'believers', 'believes', 'believing', 'bell', 'bellies', 'bells', 'belly', 'belong', 'belonging', 'belongings', 'belongs', 'belorussia', 'beloved', 'below', 'belt', 'belts', 'ben', 'bench', 'benches', 'benchmark', 'benchmarks', 'bend', 'bending', 'bends', 'beneath', 'beneficial', 'benefit', 'benefited', 'benefiting', 'benefits', 'bengali', 'benjamin', 'bent', 'berkeley', 'bernardino', 'beside', 'besides', 'best', 'bestow', 'bet', 'beta', 'better', 'bettering', 'betterment', 'between', 'beverages', 'beyond', 'bfg', 'bi', 'bias', 'biased', 'bicultural', 'bicycle', 'bicycles', 'big', 'bigger', 'biggest', 'bike', 'bikes', 'biking', 'bilateral', 'bilingual', 'bilingualism', 'bilinguals', 'biliteracy', 'biliterate', 'bill', 'billion', 'bills', 'billy', 'bin', 'bind', 'binder', 'binders', 'binding', 'binds', 'bingo', 'binoculars', 'bins', 'bio', 'biodiversity', 'biographical', 'biographies', 'biography', 'biological', 'biologists', 'biology', 'biomedical', 'biomes', 'biotechnology', 'bird', 'birds', 'birmingham', 'birth', 'birthday', 'birthdays', 'bit', 'bite', 'bits', 'black', 'blacktop', 'blame', 'blank', 'blanket', 'blankets', 'blast', 'bleak', 'blend', 'blended', 'blender', 'blending', 'blends', 'bless', 'blessed', 'blessing', 'blessings', 'blind', 'bliss', 'block', 'blocked', 'blocking', 'blockly', 'blocks', 'blog', 'blogging', 'blogs', 'blood', 'bloom', 'blooming', 'blossom', 'blossomed', 'blossoming', 'blow', 'blowing', 'blown', 'blows', 'bloxels', 'blue', 'blueprint', 'blueprints', 'blues', 'bluetooth', 'blurry', 'bmi', 'board', 'boarder', 'boards', 'boast', 'boasts', 'boat', 'boats', 'bob', 'bodies', 'bodily', 'body', 'bogged', 'boiling', 'boisterous', 'bold', 'bolster', 'bolts', 'bombarded', 'bond', 'bonded', 'bonding', 'bonds', 'bone', 'bones', 'bonus', 'boogie', 'book', 'bookcase', 'bookcases', 'booked', 'booklet', 'booklets', 'bookmark', 'bookmarks', 'books', 'bookshelf', 'bookshelves', 'bookstore', 'bookworms', 'boom', 'booming', 'boomwhackers', 'boost', 'booster', 'boosting', 'boosts', 'boot', 'booth', 'boots', 'border', 'bordering', 'borders', 'bored', 'boredom', 'boring', 'born', 'borough', 'boroughs', 'borrow', 'borrowed', 'borrowing', 'bose', 'bosnian', 'boston', 'bot', 'botany', 'both', 'bother', 'bothering', 'bots', 'bottle', 'bottled', 'bottles', 'bottom', 'bottoms', 'bought', 'bounce', 'bounced', 'bouncing', 'bouncy', 'bound', 'boundaries', 'boundary', 'boundless', 'bounds', 'bout', 'bouts', 'bow', 'bowl', 'bowling', 'bowls', 'bows', 'box', 'boxes', 'boy', 'boys', 'bracelet', 'bracelets', 'bracket', 'brag', 'braille', 'brain', 'brainpop', 'brains', 'brainstorm', 'brainstormed', 'brainstorming', 'branch', 'branches', 'branching', 'brand', 'brass', 'brave', 'bravery', 'bravest', 'brazil', 'bread', 'breadth', 'break', 'breakdown', 'breakfast', 'breakfasts', 'breaking', 'breakout', 'breakoutedu', 'breakouts', 'breaks', 'breakthrough', 'breath', 'breathe', 'breathing', 'breed', 'breeze', 'brian', 'brick', 'bricks', 'bridge', 'bridgeport', 'bridges', 'bridging', 'brief', 'briefly', 'bright', 'brighten', 'brightens', 'brighter', 'brightest', 'brightly', 'brightness', 'brilliance', 'brilliant', 'brim', 'brimming', 'bring', 'bringing', 'brings', 'british', 'broad', 'broadcast', 'broadcasting', 'broadcasts', 'broaden', 'broadening', 'broader', 'broadway', 'brochure', 'brochures', 'broke', 'broken', 'bronx', 'brooklyn', 'broom', 'brother', 'brothers', 'brought', 'brown', 'browse', 'browsing', 'brush', 'brushes', 'brushing', 'bubble', 'bubbles', 'bubbling', 'bubbly', 'buck', 'bucket', 'buckets', 'bucks', 'bud', 'buddies', 'budding', 'buddy', 'budget', 'budgetary', 'budgeted', 'budgeting', 'budgets', 'buds', 'buffalo', 'bug', 'bugs', 'build', 'builder', 'builders', 'building', 'buildings', 'builds', 'built', 'bulb', 'bulbs', 'bulk', 'bulky', 'bulldog', 'bulldogs', 'bulletin', 'bullied', 'bullies', 'bully', 'bullying', 'bump', 'bumped', 'bumper', 'bumping', 'bumps', 'bumpy', 'bunch', 'bundle', 'bundles', 'bungee', 'bunny', 'buoyancy', 'burden', 'burdened', 'burdens', 'burgeoning', 'buried', 'burlington', 'burma', 'burmese', 'burn', 'burned', 'burner', 'burning', 'burns', 'burst', 'bursting', 'bursts', 'bus', 'bused', 'buses', 'busiest', 'busily', 'business', 'businesses', 'busing', 'bussed', 'busses', 'busting', 'bustle', 'bustling', 'busy', 'but', 'butcher', 'butler', 'butter', 'butterflies', 'butterfly', 'button', 'buttons', 'buy', 'buying', 'buzz', 'buzzer', 'buzzers', 'buzzing', 'by', 'bye', 'byod', 'ca', 'cabinet', 'cabinets', 'cable', 'cables', 'cad', 'caddies', 'caddy', 'cafe', 'cafeteria', 'cage', 'cake', 'cakes', 'calculate', 'calculated', 'calculating', 'calculation', 'calculations', 'calculator', 'calculators', 'calculus', 'calendar', 'calendars', 'caliber', 'california', 'calkins', 'call', 'called', 'calling', 'calls', 'calm', 'calmer', 'calming', 'calmness', 'calorie', 'calories', 'cam', 'camaraderie', 'cambodia', 'cambodian', 'cambridge', 'camcorder', 'camden', 'came', 'cameo', 'camera', 'cameras', 'camp', 'campaign', 'campaigns', 'campers', 'camping', 'camps', 'campus', 'campuses', 'can', 'cancel', 'canceling', 'cancelled', 'cancelling', 'cancer', 'candidate', 'candidates', 'candy', 'canned', 'cannot', 'canon', 'cans', 'cant', 'cantonese', 'canvas', 'canvases', 'canyon', 'cap', 'capabilities', 'capability', 'capable', 'capacities', 'capacity', 'cape', 'capita', 'capital', 'capitalization', 'capitalize', 'capitals', 'capitol', 'caps', 'capstone', 'captain', 'captains', 'captions', 'captivate', 'captivated', 'captivates', 'captivating', 'capture', 'captured', 'captures', 'capturing', 'car', 'carbon', 'card', 'cardboard', 'cardio', 'cardiovascular', 'cards', 'cardstock', 'care', 'cared', 'career', 'careers', 'carefree', 'careful', 'carefully', 'caregiver', 'caregivers', 'cares', 'caretakers', 'caribbean', 'caring', 'carl', 'carle', 'carnegie', 'carol', 'carolina', 'carpet', 'carpeted', 'carpets', 'carried', 'carrier', 'carriers', 'carries', 'carrots', 'carry', 'carrying', 'cars', 'cart', 'cartoon', 'cartoons', 'cartridge', 'cartridges', 'carts', 'carve', 'carver', 'carving', 'case', 'caseload', 'cases', 'cash', 'cassette', 'cassettes', 'cast', 'casting', 'castle', 'castles', 'casual', 'cat', 'catalog', 'catalyst', 'catapult', 'catapults', 'catch', 'catchers', 'catches', 'catching', 'catchy', 'categorical', 'categories', 'categorize', 'categorized', 'categorizing', 'category', 'cater', 'catered', 'catering', 'caterpillar', 'caterpillars', 'caters', 'cats', 'caucasian', 'caucasians', 'caught', 'cause', 'caused', 'causes', 'causing', 'ccss', 'cd', 'cds', 'cease', 'ceases', 'ceiling', 'celebrate', 'celebrated', 'celebrates', 'celebrating', 'celebration', 'celebrations', 'cell', 'cello', 'cellos', 'cellphones', 'cells', 'cellular', 'cement', 'census', 'cent', 'center', 'centered', 'centering', 'centerpiece', 'centers', 'central', 'centrally', 'centric', 'cents', 'centuries', 'century', 'ceo', 'ceos', 'ceramic', 'ceramics', 'cereal', 'cerebral', 'ceremonies', 'ceremony', 'certain', 'certainly', 'certificate', 'certificates', 'certification', 'certified', 'cesar', 'chain', 'chains', 'chair', 'chairs', 'chalk', 'chalkboard', 'chalkboards', 'challenge', 'challenged', 'challenges', 'challenging', 'chamber', 'champion', 'champions', 'championship', 'championships', 'chance', 'chances', 'change', 'changed', 'changer', 'changers', 'changes', 'changing', 'channel', 'channeled', 'channeling', 'channels', 'chant', 'chanting', 'chants', 'chaos', 'chaotic', 'chapter', 'chapters', 'character', 'characteristic', 'characteristics', 'characterization', 'characterized', 'characters', 'charcoal', 'charge', 'charged', 'charger', 'chargers', 'charges', 'charging', 'charismatic', 'charitable', 'charities', 'charity', 'charles', 'charleston', 'charlie', 'charlotte', 'charm', 'charming', 'chart', 'charter', 'charting', 'charts', 'chase', 'chasing', 'chat', 'chatter', 'chatting', 'chatty', 'chavez', 'cheap', 'cheaper', 'cheapest', 'check', 'checked', 'checkers', 'checking', 'checklist', 'checklists', 'checkout', 'checks', 'cheer', 'cheerful', 'cheering', 'cheerleader', 'cheerleaders', 'cheerleading', 'cheers', 'cheery', 'cheese', 'chef', 'chefs', 'chemical', 'chemicals', 'chemistry', 'cherish', 'cherished', 'chess', 'chest', 'chevron', 'chew', 'chewing', 'chewy', 'chicago', 'chick', 'chicken', 'chickens', 'chicks', 'child', 'childcare', 'childhood', 'children', 'childrens', 'childs', 'chill', 'chime', 'chimes', 'china', 'chinatown', 'chinese', 'chip', 'chipped', 'chips', 'chocolate', 'choice', 'choices', 'choir', 'choirs', 'chomebooks', 'choose', 'chooses', 'choosing', 'choral', 'chord', 'chords', 'chore', 'choreography', 'chores', 'chorus', 'chose', 'chosen', 'christian', 'christmas', 'christopher', 'chrombooks', 'chrome', 'chromebook', 'chromebooks', 'chronic', 'chronically', 'chrysalis', 'chunk', 'chunks', 'church', 'churches', 'chutes', 'cincinnati', 'cinderella', 'circle', 'circles', 'circuit', 'circuitry', 'circuits', 'circular', 'circulate', 'circulating', 'circulation', 'circulatory', 'circumstance', 'circumstances', 'circus', 'cite', 'cities', 'citing', 'citizen', 'citizens', 'citizenship', 'city', 'civic', 'civics', 'civil', 'civility', 'civilization', 'civilizations', 'claim', 'claims', 'clamoring', 'clap', 'clapping', 'clarify', 'clarinet', 'clarinets', 'clarity', 'clark', 'class', 'classdojo', 'classes', 'classic', 'classical', 'classics', 'classification', 'classifications', 'classified', 'classify', 'classifying', 'classmate', 'classmates', 'classroom', 'classroomnannan', 'classrooms', 'classwork', 'clay', 'clean', 'cleaned', 'cleaner', 'cleaners', 'cleaning', 'cleanliness', 'cleanup', 'clear', 'cleared', 'clearer', 'clearly', 'cleats', 'cleveland', 'clever', 'click', 'clickers', 'clicking', 'clicks', 'climate', 'climb', 'climbing', 'clinic', 'clinical', 'clinics', 'clinton', 'clip', 'clipboard', 'clipboards', 'clips', 'clock', 'clocks', 'clorox', 'close', 'closed', 'closely', 'closeness', 'closer', 'closest', 'closet', 'closets', 'closing', 'cloth', 'clothes', 'clothing', 'cloud', 'clouds', 'club', 'clubs', 'clue', 'clues', 'clunky', 'cluster', 'clusters', 'clutter', 'cluttered', 'co', 'coach', 'coached', 'coaches', 'coaching', 'coal', 'coast', 'coastal', 'coaster', 'coasters', 'coat', 'coats', 'code', 'coded', 'coders', 'codes', 'coding', 'coffee', 'cognition', 'cognitive', 'cognitively', 'cohesive', 'cohort', 'coil', 'coin', 'coincide', 'coins', 'cold', 'colds', 'collaborate', 'collaborated', 'collaborating', 'collaboration', 'collaborations', 'collaborative', 'collaboratively', 'collaborators', 'collage', 'collages', 'collapse', 'collar', 'colleague', 'colleagues', 'collect', 'collected', 'collecting', 'collection', 'collections', 'collective', 'collectively', 'college', 'colleges', 'collegiate', 'collins', 'colombia', 'colonial', 'colonies', 'colony', 'color', 'colorado', 'colored', 'colorful', 'coloring', 'colors', 'columbia', 'columbus', 'column', 'com', 'comb', 'combat', 'combination', 'combinations', 'combine', 'combined', 'combines', 'combining', 'combo', 'come', 'comedians', 'comers', 'comes', 'comet', 'comfort', 'comfortable', 'comfortably', 'comforted', 'comforting', 'comforts', 'comfy', 'comic', 'comics', 'coming', 'comings', 'command', 'commands', 'comment', 'commented', 'comments', 'commercial', 'commercials', 'commit', 'commitment', 'commitments', 'committed', 'committee', 'commodity', 'common', 'commonalities', 'commonality', 'commonly', 'commonplace', 'commons', 'communal', 'communicate', 'communicated', 'communicates', 'communicating', 'communication', 'communications', 'communicative', 'communicators', 'communities', 'community', 'commute', 'commuting', 'compact', 'companies', 'companion', 'companions', 'company', 'comparable', 'comparative', 'compare', 'compared', 'compares', 'comparing', 'comparison', 'comparisons', 'compartments', 'compass', 'compasses', 'compassion', 'compassionate', 'compatible', 'compelled', 'compelling', 'compensate', 'compete', 'competed', 'competence', 'competencies', 'competency', 'competent', 'competing', 'competition', 'competitions', 'competitive', 'competitively', 'competitiveness', 'competitors', 'compile', 'compiled', 'compiling', 'complain', 'complained', 'complaining', 'complaint', 'complaints', 'complement', 'complete', 'completed', 'completely', 'completes', 'completing', 'completion', 'complex', 'complexes', 'complexities', 'complexity', 'complicated', 'complications', 'compliment', 'compliments', 'comply', 'component', 'components', 'compose', 'composed', 'composer', 'composers', 'composing', 'composition', 'compositions', 'compost', 'composting', 'compound', 'compounded', 'compounds', 'comprehend', 'comprehending', 'comprehensible', 'comprehension', 'comprehensive', 'compression', 'comprise', 'comprised', 'comprises', 'compromise', 'compromised', 'compromising', 'computation', 'computational', 'computations', 'compute', 'computer', 'computerized', 'computers', 'computing', 'concentrate', 'concentrated', 'concentrating', 'concentration', 'concept', 'concepts', 'conceptual', 'conceptualize', 'conceptually', 'concern', 'concerned', 'concerning', 'concerns', 'concert', 'concerts', 'concise', 'conclude', 'concluded', 'concluding', 'conclusion', 'conclusions', 'concrete', 'concretely', 'condition', 'conditioned', 'conditioner', 'conditioners', 'conditioning', 'conditions', 'conducive', 'conduct', 'conducted', 'conducting', 'conductive', 'conductivity', 'cone', 'cones', 'confer', 'conference', 'conferences', 'conferencing', 'confidant', 'confidence', 'confident', 'confidential', 'confidently', 'configuration', 'configurations', 'confined', 'confines', 'confirm', 'confirms', 'conflict', 'conflicts', 'conform', 'confront', 'confronted', 'confucius', 'confused', 'confusing', 'confusion', 'congo', 'congressional', 'conjunction', 'connect', 'connected', 'connectedness', 'connecticut', 'connecting', 'connection', 'connections', 'connectivity', 'connectors', 'connects', 'conquer', 'conquering', 'cons', 'conscience', 'conscientious', 'conscious', 'consciousness', 'consecutive', 'consensus', 'consequence', 'consequences', 'consequently', 'conservation', 'conserve', 'consider', 'considerable', 'considerably', 'considerate', 'consideration', 'considerations', 'considered', 'considering', 'consist', 'consisted', 'consistency', 'consistent', 'consistently', 'consisting', 'consists', 'console', 'consoles', 'consolidated', 'consonant', 'constant', 'constantly', 'constitution', 'constrained', 'constraints', 'construct', 'constructed', 'constructing', 'construction', 'constructions', 'constructive', 'constructively', 'consumable', 'consumables', 'consume', 'consumed', 'consumer', 'consumers', 'consuming', 'consumption', 'contact', 'contagious', 'contain', 'contained', 'container', 'containers', 'containing', 'contains', 'contaminated', 'contamination', 'contemplate', 'contemporary', 'contend', 'content', 'contents', 'contest', 'contests', 'context', 'contexts', 'continent', 'continents', 'continual', 'continually', 'continuation', 'continue', 'continued', 'continues', 'continuing', 'continuity', 'continuous', 'continuously', 'continuum', 'contract', 'contraptions', 'contrary', 'contrast', 'contrasting', 'contribute', 'contributed', 'contributes', 'contributing', 'contribution', 'contributions', 'contributor', 'contributors', 'control', 'controlled', 'controller', 'controllers', 'controlling', 'controls', 'controversial', 'convection', 'convenience', 'convenient', 'conveniently', 'convention', 'conventional', 'conventions', 'conversation', 'conversational', 'conversations', 'converse', 'conversing', 'conversion', 'convert', 'converted', 'converting', 'convex', 'convey', 'convince', 'convinced', 'convincing', 'cook', 'cookbook', 'cookbooks', 'cooked', 'cooker', 'cookie', 'cookies', 'cooking', 'cooks', 'cool', 'cooler', 'coolers', 'coolest', 'cooling', 'cooped', 'cooperate', 'cooperating', 'cooperation', 'cooperative', 'cooperatively', 'coordinate', 'coordinated', 'coordinating', 'coordination', 'coordinator', 'cope', 'copied', 'copier', 'copies', 'coping', 'copper', 'copy', 'copying', 'coral', 'cord', 'cordless', 'cords', 'core', 'cores', 'cork', 'corn', 'cornell', 'corner', 'corners', 'cornerstone', 'corp', 'corporate', 'corporation', 'corporations', 'correct', 'correcting', 'correction', 'corrections', 'corrective', 'correctly', 'correlate', 'correlated', 'correlates', 'correlation', 'correspond', 'correspondence', 'corresponding', 'corresponds', 'corridor', 'cosmic', 'cost', 'costly', 'costs', 'costume', 'costumes', 'cots', 'cotton', 'couch', 'couches', 'could', 'council', 'counseling', 'counselor', 'counselors', 'count', 'counted', 'counter', 'counterpart', 'counterparts', 'counters', 'counties', 'counting', 'countless', 'countries', 'country', 'countryside', 'counts', 'county', 'couple', 'coupled', 'courage', 'courageous', 'course', 'courses', 'coursework', 'court', 'courteous', 'courts', 'courtyard', 'cousin', 'cousins', 'cover', 'covered', 'covering', 'covers', 'coveted', 'covey', 'cow', 'coworkers', 'cows', 'cozy', 'cpr', 'cps', 'crabs', 'crack', 'cracked', 'crackers', 'cracking', 'cracks', 'craft', 'crafted', 'crafting', 'crafts', 'craftsmanship', 'crafty', 'crammed', 'cramped', 'crank', 'crash', 'crashing', 'crate', 'crates', 'crave', 'craving', 'crawl', 'crawling', 'crayola', 'crayon', 'crayons', 'craze', 'crazy', 'cream', 'create', 'created', 'creates', 'creating', 'creation', 'creations', 'creative', 'creatively', 'creativeness', 'creativity', 'creator', 'creators', 'creature', 'creatures', 'credible', 'credit', 'credits', 'creed', 'creek', 'creole', 'crew', 'cricut', 'crime', 'crimes', 'criminal', 'cringe', 'crisis', 'crisp', 'criss', 'criteria', 'critical', 'critically', 'criticism', 'critique', 'critiques', 'critiquing', 'critters', 'crop', 'crops', 'cross', 'crossed', 'crosses', 'crossing', 'crossroads', 'crowd', 'crowded', 'crowding', 'crucial', 'crunch', 'crushed', 'cry', 'crying', 'crystal', 'cs', 'csi', 'ct', 'cuba', 'cuban', 'cubbies', 'cubby', 'cube', 'cubelets', 'cubes', 'cuddle', 'cue', 'cues', 'culinary', 'culminate', 'culminates', 'culminating', 'culmination', 'cultivate', 'cultivated', 'cultivates', 'cultivating', 'cultural', 'culturally', 'culture', 'cultured', 'cultures', 'cumberland', 'cumbersome', 'cumulative', 'cup', 'cupboards', 'cups', 'curb', 'cure', 'curiosities', 'curiosity', 'curious', 'curiousity', 'curl', 'curled', 'curling', 'currency', 'current', 'currently', 'curricula', 'curricular', 'curriculum', 'curriculums', 'cursive', 'curtains', 'curve', 'curved', 'curves', 'cushion', 'cushioned', 'cushions', 'cusp', 'custodian', 'custodians', 'custody', 'custom', 'customer', 'customers', 'customizable', 'customize', 'customized', 'customs', 'cut', 'cutbacks', 'cute', 'cuts', 'cutter', 'cutters', 'cutting', 'cvc', 'cyber', 'cycle', 'cycles', 'cycling', 'cylinders', 'cymbal', 'cymbals', 'da', 'dad', 'dade', 'dads', 'dahl', 'daily', 'dairies', 'dairy', 'dakota', 'dallas', 'damage', 'damaged', 'damages', 'damaging', 'dance', 'dancer', 'dancers', 'dances', 'dancing', 'danger', 'dangerous', 'dangerously', 'dangers', 'dare', 'daring', 'dark', 'darkness', 'dash', 'data', 'database', 'databases', 'date', 'dated', 'dates', 'daughter', 'daughters', 'daunting', 'david', 'davis', 'dawn', 'day', 'daycare', 'days', 'dc', 'de', 'dead', 'deadlines', 'deaf', 'deal', 'dealing', 'deals', 'dealt', 'dean', 'dear', 'dearly', 'death', 'debate', 'debaters', 'debates', 'debating', 'debt', 'decade', 'decades', 'decals', 'december', 'decent', 'decide', 'decided', 'decides', 'deciding', 'decimal', 'decimals', 'decipher', 'deciphering', 'decision', 'decisions', 'deck', 'decks', 'declaration', 'decline', 'declined', 'declining', 'decodable', 'decode', 'decoding', 'decompose', 'decomposing', 'decomposition', 'decompress', 'decor', 'decorate', 'decorated', 'decorating', 'decoration', 'decorations', 'decorative', 'decrease', 'decreased', 'decreases', 'decreasing', 'dedicate', 'dedicated', 'dedication', 'deductive', 'deeds', 'deem', 'deemed', 'deep', 'deepen', 'deepening', 'deepens', 'deeper', 'deeply', 'deer', 'deescalate', 'defeat', 'defeated', 'defend', 'defense', 'defensive', 'defiant', 'deficiencies', 'deficiency', 'deficient', 'deficit', 'deficits', 'define', 'defined', 'defines', 'defining', 'definite', 'definitely', 'definition', 'definitions', 'defy', 'defying', 'degree', 'degrees', 'delaware', 'delay', 'delayed', 'delays', 'delicate', 'delicious', 'delight', 'delighted', 'delightful', 'deliver', 'delivered', 'delivering', 'delivers', 'delivery', 'dell', 'delta', 'deluxe', 'delve', 'delving', 'delzer', 'demand', 'demanded', 'demanding', 'demands', 'demeanor', 'demo', 'democracy', 'democratic', 'demographic', 'demographically', 'demographics', 'demonstrate', 'demonstrated', 'demonstrates', 'demonstrating', 'demonstration', 'demonstrations', 'demos', 'dendrites', 'denham', 'denied', 'denominator', 'dense', 'densely', 'density', 'dental', 'dentist', 'dentists', 'denver', 'deny', 'deodorant', 'department', 'departmentalized', 'departments', 'depend', 'dependable', 'dependent', 'dependents', 'depending', 'depends', 'depict', 'depicted', 'depicting', 'depleted', 'deployed', 'deployment', 'deployments', 'deportation', 'depot', 'depressed', 'depression', 'deprivation', 'deprived', 'dept', 'depth', 'depths', 'derive', 'derived', 'descent', 'describe', 'described', 'describes', 'describing', 'description', 'descriptions', 'descriptive', 'desert', 'deserts', 'deserve', 'deserved', 'deserves', 'deserving', 'design', 'designate', 'designated', 'designation', 'designed', 'designer', 'designers', 'designing', 'designs', 'desirable', 'desire', 'desired', 'desires', 'desiring', 'desk', 'desks', 'desktop', 'desktops', 'desmos', 'despair', 'desperate', 'desperately', 'despite', 'destination', 'destinations', 'destined', 'destiny', 'destroyed', 'destroying', 'destruction', 'detail', 'detailed', 'detailing', 'details', 'detect', 'detectives', 'detention', 'deter', 'detergent', 'deteriorating', 'determination', 'determine', 'determined', 'determines', 'determining', 'deterrent', 'detriment', 'detrimental', 'detroit', 'devastated', 'devastating', 'devastation', 'develop', 'developed', 'developers', 'developing', 'development', 'developmental', 'developmentally', 'developments', 'develops', 'device', 'devices', 'devise', 'devote', 'devoted', 'devotion', 'devour', 'devoured', 'devouring', 'dewey', 'dexterity', 'diabetes', 'diagnosed', 'diagnoses', 'diagnosis', 'diagnostic', 'diagram', 'diagrams', 'dialects', 'dialogue', 'diamond', 'diamonds', 'diane', 'diaries', 'diary', 'dicamillo', 'dice', 'dictate', 'dictation', 'dictionaries', 'dictionary', 'did', 'die', 'died', 'diego', 'dies', 'diet', 'dietary', 'diets', 'differ', 'difference', 'differences', 'different', 'differential', 'differentiate', 'differentiated', 'differentiates', 'differentiating', 'differentiation', 'differently', 'differing', 'differs', 'difficult', 'difficulties', 'difficulty', 'diffuser', 'diffusing', 'dig', 'digest', 'digestive', 'digging', 'digit', 'digital', 'digitally', 'digitize', 'dignity', 'digraphs', 'digs', 'dilapidated', 'dilemma', 'dilemmas', 'diligence', 'diligent', 'diligently', 'dim', 'dimension', 'dimensional', 'dimensions', 'diminish', 'diminished', 'diminishes', 'diminishing', 'dingy', 'dining', 'dinner', 'dinners', 'dinosaur', 'dinosaurs', 'dioramas', 'dioxide', 'dip', 'diploma', 'diplomas', 'dire', 'direct', 'directed', 'directing', 'direction', 'directional', 'directions', 'directly', 'director', 'directors', 'dirt', 'dirty', 'disabilities', 'disability', 'disabled', 'disadvantage', 'disadvantaged', 'disadvantages', 'disagree', 'disagreements', 'disappear', 'disappeared', 'disappearing', 'disappoint', 'disappointed', 'disappointing', 'disappointment', 'disaster', 'disasters', 'disc', 'discarded', 'disciplinary', 'discipline', 'disciplined', 'disciplines', 'discomfort', 'disconnect', 'disconnected', 'discount', 'discounted', 'discourage', 'discouraged', 'discourages', 'discouraging', 'discourse', 'discover', 'discovered', 'discoveries', 'discovering', 'discovery', 'discreetly', 'discrepancy', 'discrete', 'discrimination', 'discs', 'discuss', 'discussed', 'discusses', 'discussing', 'discussion', 'discussions', 'disease', 'diseases', 'disenfranchised', 'disengaged', 'disguised', 'dish', 'disheartening', 'dishes', 'disinfect', 'disinfectant', 'disinfecting', 'disinterested', 'disk', 'disks', 'dislike', 'dislikes', 'dismiss', 'dismissal', 'disney', 'disorder', 'disorders', 'disorganized', 'disparity', 'dispel', 'dispenser', 'displaced', 'displacement', 'display', 'displayed', 'displaying', 'displays', 'disposable', 'disposal', 'disrepair', 'disrupt', 'disrupted', 'disrupting', 'disruption', 'disruptions', 'disruptive', 'disrupts', 'dissect', 'dissected', 'dissecting', 'dissection', 'dissections', 'disservice', 'distance', 'distances', 'distant', 'distinct', 'distinction', 'distinctive', 'distinguish', 'distinguished', 'distinguishing', 'distract', 'distracted', 'distracting', 'distraction', 'distractions', 'distracts', 'distress', 'distribute', 'distributed', 'distributing', 'distribution', 'district', 'districts', 'disturb', 'disturbance', 'disturbances', 'disturbed', 'disturbing', 'ditch', 'dive', 'divergent', 'diverse', 'diversified', 'diversify', 'diversities', 'diversity', 'divide', 'divided', 'divider', 'dividers', 'dividing', 'diving', 'division', 'divorce', 'divorced', 'dixie', 'diy', 'djembe', 'dna', 'do', 'doable', 'doc', 'dock', 'docking', 'docs', 'doctor', 'doctors', 'document', 'documentaries', 'documentary', 'documentation', 'documented', 'documenting', 'documents', 'dodge', 'dodgeball', 'doe', 'doers', 'does', 'dog', 'dogs', 'doh', 'doing', 'dojo', 'doll', 'dollar', 'dollars', 'dollhouse', 'dolls', 'dolphins', 'domain', 'domains', 'domestic', 'dominant', 'dominate', 'dominated', 'dominican', 'domino', 'dominoes', 'don', 'donate', 'donated', 'donating', 'donation', 'donations', 'done', 'donor', 'donors', 'donorschoose', 'dont', 'doodle', 'doodler', 'doodling', 'door', 'doors', 'doorway', 'dorchester', 'dork', 'dorm', 'dose', 'doses', 'dot', 'dots', 'double', 'doubled', 'doubles', 'doubling', 'doubt', 'doubts', 'dough', 'douglass', 'down', 'downfall', 'download', 'downloaded', 'downloading', 'downloads', 'downs', 'downside', 'downtime', 'downtown', 'downward', 'dozen', 'dozens', 'dr', 'draft', 'drafting', 'drafts', 'drag', 'dragging', 'dragon', 'dragons', 'drama', 'dramas', 'dramatic', 'dramatically', 'drastic', 'drastically', 'draw', 'drawbacks', 'drawer', 'drawers', 'drawing', 'drawings', 'drawn', 'draws', 'drawstring', 'dread', 'dreaded', 'dreading', 'dream', 'dreambox', 'dreamed', 'dreamer', 'dreamers', 'dreaming', 'dreams', 'dress', 'dressed', 'dressing', 'drew', 'dribble', 'dribbling', 'dried', 'drill', 'drills', 'drink', 'drinking', 'drinks', 'drive', 'driven', 'driver', 'drivers', 'drives', 'driving', 'drone', 'drones', 'drop', 'dropout', 'dropped', 'droppers', 'dropping', 'drops', 'drought', 'drown', 'drug', 'drugs', 'drum', 'drumline', 'drummers', 'drumming', 'drums', 'drumsticks', 'dry', 'dryer', 'drying', 'dslr', 'dual', 'dubbed', 'duck', 'ducks', 'duct', 'due', 'dull', 'dumb', 'dumbbells', 'duo', 'duolingo', 'duplicate', 'durability', 'durable', 'duration', 'durham', 'during', 'dust', 'dusty', 'dutch', 'duties', 'duty', 'dvd', 'dvds', 'dwindle', 'dwindled', 'dwindling', 'dye', 'dying', 'dynamath', 'dynamic', 'dynamics', 'dysfunctional', 'dysgraphia', 'dyslexia', 'dyslexic', 'dystopian', 'each', 'eachother', 'eager', 'eagerly', 'eagerness', 'eagle', 'eagles', 'ear', 'earbuds', 'earlier', 'earliest', 'early', 'earn', 'earned', 'earnest', 'earning', 'earnings', 'earns', 'earphones', 'ears', 'earth', 'earthquake', 'earthquakes', 'earthworms', 'ease', 'easel', 'easels', 'easier', 'easiest', 'easily', 'east', 'eastern', 'easy', 'eat', 'eaten', 'eaters', 'eating', 'eats', 'ebd', 'ebook', 'ebooks', 'ec', 'ece', 'echo', 'eclectic', 'eco', 'ecological', 'ecology', 'economic', 'economical', 'economically', 'economics', 'economy', 'ecosystem', 'ecosystems', 'ecstatic', 'ect', 'ecuador', 'ed', 'edge', 'edges', 'edible', 'edison', 'edit', 'edited', 'editing', 'edition', 'editions', 'editor', 'editors', 'edmodo', 'edu', 'educate', 'educated', 'educates', 'educating', 'education', 'educational', 'educationally', 'educations', 'educator', 'educators', 'educreations', 'eduction', 'edutopia', 'edward', 'effect', 'effected', 'effective', 'effectively', 'effectiveness', 'effects', 'efficacy', 'efficiency', 'efficient', 'efficiently', 'effort', 'effortlessly', 'efforts', 'egg', 'eggs', 'egypt', 'egyptian', 'eight', 'eighteen', 'eighth', 'eighty', 'einstein', 'eip', 'either', 'el', 'ela', 'elaborate', 'elastic', 'elated', 'elbow', 'elbows', 'eld', 'elderly', 'elected', 'election', 'elections', 'elective', 'electives', 'electric', 'electrical', 'electricity', 'electromagnets', 'electronic', 'electronically', 'electronics', 'electrophoresis', 'element', 'elementary', 'elements', 'elephant', 'elevate', 'elevated', 'eleven', 'eleventh', 'eligibility', 'eligible', 'eliminate', 'eliminated', 'eliminates', 'eliminating', 'elimination', 'elite', 'elizabeth', 'ell', 'ellen', 'elliptical', 'ells', 'elm', 'elmo', 'else', 'elsewhere', 'email', 'emailing', 'emails', 'embark', 'embarked', 'embarking', 'embarrassed', 'embarrassing', 'embarrassment', 'embed', 'embedded', 'embellish', 'embodies', 'embodiment', 'embody', 'embrace', 'embraced', 'embraces', 'embracing', 'embroidery', 'emerge', 'emerged', 'emergency', 'emergent', 'emerging', 'emotion', 'emotional', 'emotionally', 'emotions', 'empathetic', 'empathize', 'empathy', 'emphasis', 'emphasize', 'emphasized', 'emphasizes', 'emphasizing', 'empire', 'employ', 'employed', 'employee', 'employees', 'employer', 'employers', 'employing', 'employment', 'employs', 'empower', 'empowered', 'empowering', 'empowerment', 'empowers', 'empty', 'emulate', 'en', 'enable', 'enabled', 'enables', 'enabling', 'enclosed', 'encompass', 'encompasses', 'encompassing', 'encounter', 'encountered', 'encountering', 'encounters', 'encourage', 'encouraged', 'encouragement', 'encourages', 'encouraging', 'encyclopedia', 'encyclopedias', 'end', 'endangered', 'endearing', 'endeavor', 'endeavors', 'ended', 'ending', 'endings', 'endless', 'endlessly', 'ends', 'endurance', 'endure', 'endured', 'enduring', 'energetic', 'energies', 'energize', 'energized', 'energizing', 'energy', 'enforce', 'engage', 'engaged', 'engagement', 'engages', 'engaging', 'engine', 'engineer', 'engineering', 'engineers', 'engines', 'england', 'englewood', 'english', 'engrossed', 'engulfed', 'enhance', 'enhanced', 'enhancement', 'enhancements', 'enhances', 'enhancing', 'enjoy', 'enjoyable', 'enjoyed', 'enjoying', 'enjoyment', 'enjoys', 'enl', 'enlarge', 'enlarged', 'enlighten', 'enlightened', 'enlightening', 'enlist', 'enormous', 'enough', 'enrich', 'enriched', 'enriches', 'enriching', 'enrichment', 'enroll', 'enrolled', 'enrolling', 'enrollment', 'enrolls', 'ensemble', 'ensembles', 'ensure', 'ensured', 'ensures', 'ensuring', 'entail', 'entails', 'enter', 'entered', 'entering', 'enterprise', 'enters', 'entertain', 'entertained', 'entertaining', 'entertainment', 'enthralled', 'enthused', 'enthusiasm', 'enthusiastic', 'enthusiastically', 'enthusiasts', 'entice', 'enticed', 'entices', 'enticing', 'entire', 'entirely', 'entirety', 'entitled', 'entrance', 'entrepreneur', 'entrepreneurs', 'entrepreneurship', 'entries', 'entrusted', 'entry', 'envelope', 'envelopes', 'enviornment', 'enviroment', 'environment', 'environmental', 'environmentally', 'environments', 'envision', 'envisioned', 'envy', 'eog', 'epic', 'epidemic', 'epitome', 'epson', 'equal', 'equality', 'equalizer', 'equally', 'equals', 'equation', 'equations', 'equip', 'equipment', 'equipped', 'equipping', 'equips', 'equitable', 'equity', 'equivalent', 'era', 'erasable', 'erase', 'erased', 'eraser', 'erasers', 'erasing', 'ergonomic', 'ergonomically', 'eric', 'erie', 'ernest', 'erosion', 'errands', 'error', 'errors', 'escalate', 'escape', 'escaping', 'ese', 'esl', 'esol', 'especially', 'esperanza', 'essay', 'essays', 'essence', 'essential', 'essentially', 'essentials', 'establish', 'established', 'establishing', 'establishment', 'estate', 'esteem', 'estimate', 'estimated', 'estimation', 'estrada', 'et', 'etc', 'ethic', 'ethical', 'ethically', 'ethics', 'ethiopia', 'ethnic', 'ethnically', 'ethnicities', 'ethnicity', 'etiquette', 'europe', 'european', 'ev3', 'evaluate', 'evaluated', 'evaluating', 'evaluation', 'evans', 'even', 'evening', 'evenings', 'evenly', 'event', 'events', 'eventual', 'eventually', 'ever', 'everlasting', 'every', 'everybody', 'everyday', 'everyone', 'everything', 'everywhere', 'evidence', 'evidenced', 'evident', 'evolution', 'evolve', 'evolved', 'evolves', 'evolving', 'ewriters', 'ex', 'exact', 'exactly', 'exam', 'examination', 'examine', 'examined', 'examining', 'example', 'examples', 'exams', 'exceed', 'exceeded', 'exceeding', 'exceedingly', 'exceeds', 'excel', 'excell', 'excelled', 'excellence', 'excellent', 'excelling', 'excels', 'except', 'exception', 'exceptional', 'exceptionalities', 'exceptionality', 'exceptionally', 'exceptions', 'excercise', 'excerpts', 'excess', 'excessive', 'exchange', 'exchanges', 'exchanging', 'excitable', 'excite', 'excited', 'excitedly', 'excitement', 'excites', 'exciting', 'exclaim', 'exclaimed', 'excluded', 'exclusive', 'exclusively', 'excuse', 'excuses', 'execute', 'executing', 'execution', 'executive', 'exemplar', 'exemplars', 'exemplary', 'exemplifies', 'exemplify', 'exercise', 'exercisers', 'exercises', 'exercising', 'exert', 'exhausted', 'exhausting', 'exhibit', 'exhibited', 'exhibiting', 'exhibition', 'exhibitions', 'exhibits', 'exhilarating', 'exist', 'existed', 'existence', 'existent', 'existing', 'exists', 'exit', 'exited', 'exiting', 'exotic', 'expand', 'expanded', 'expanding', 'expands', 'expansion', 'expansive', 'expect', 'expectation', 'expectations', 'expected', 'expecting', 'expects', 'expedite', 'expedition', 'expeditionary', 'expeditions', 'expel', 'expelled', 'expelling', 'expend', 'expending', 'expense', 'expenses', 'expensive', 'experience', 'experienced', 'experiences', 'experiencing', 'experiential', 'experiment', 'experimental', 'experimentation', 'experimented', 'experimenting', 'experiments', 'expert', 'expertise', 'experts', 'explain', 'explained', 'explaining', 'explains', 'explanation', 'explanations', 'explicit', 'explicitly', 'explode', 'exploded', 'exploding', 'exploration', 'explorations', 'explorative', 'exploratory', 'explore', 'explored', 'explorer', 'explorers', 'explores', 'exploring', 'explosion', 'explosive', 'expo', 'exponential', 'exponentially', 'expose', 'exposed', 'exposes', 'exposing', 'expository', 'exposure', 'exposures', 'express', 'expressed', 'expresses', 'expressing', 'expression', 'expressions', 'expressive', 'extend', 'extended', 'extending', 'extends', 'extension', 'extensions', 'extensive', 'extensively', 'extent', 'exterior', 'external', 'extinct', 'extinction', 'extra', 'extracurricular', 'extraordinarily', 'extraordinary', 'extras', 'extreme', 'extremely', 'extrinsic', 'exuberance', 'exuberant', 'exude', 'eye', 'eyed', 'eyes', 'fables', 'fabric', 'fabricate', 'fabrication', 'fabulous', 'face', 'facebook', 'faced', 'faces', 'facet', 'faceted', 'facets', 'facial', 'facilitate', 'facilitated', 'facilitates', 'facilitating', 'facilitation', 'facilitator', 'facilitators', 'facilities', 'facility', 'facing', 'fact', 'factor', 'factories', 'factors', 'factory', 'facts', 'factual', 'faculty', 'fade', 'faded', 'fading', 'fail', 'failed', 'failing', 'fails', 'failure', 'failures', 'fair', 'fairly', 'fairness', 'fairs', 'fairy', 'faith', 'fake', 'fall', 'fallen', 'falling', 'falls', 'false', 'familial', 'familiar', 'familiarity', 'familiarize', 'familiarizing', 'families', 'family', 'famous', 'fan', 'fancy', 'fans', 'fantastic', 'fantasy', 'far', 'fare', 'farm', 'farmer', 'farmers', 'farming', 'farmland', 'farms', 'farsi', 'farther', 'fascinated', 'fascinating', 'fascination', 'fashion', 'fashioned', 'fast', 'faster', 'fastest', 'fat', 'father', 'fathers', 'fathom', 'fatigue', 'fatigued', 'fault', 'favor', 'favorable', 'favorite', 'favorites', 'fear', 'fearful', 'fearless', 'fearlessly', 'fears', 'feasible', 'feast', 'feat', 'feathers', 'feats', 'feature', 'featured', 'features', 'featuring', 'february', 'fed', 'federal', 'federally', 'fee', 'feed', 'feedback', 'feeder', 'feeders', 'feeding', 'feeds', 'feel', 'feeling', 'feelings', 'feels', 'fees', 'feet', 'fell', 'fellow', 'felt', 'female', 'females', 'feminine', 'fence', 'fenced', 'fences', 'fend', 'ferguson', 'fernando', 'fertilizer', 'fervor', 'festival', 'festivals', 'fetal', 'fever', 'few', 'fewer', 'ffa', 'fi', 'fiber', 'fiction', 'fictional', 'fidget', 'fidgeting', 'fidgets', 'fidgety', 'field', 'fielding', 'fields', 'fierce', 'fiercely', 'fifteen', 'fifth', 'fifty', 'fight', 'fighters', 'fighting', 'fights', 'figurative', 'figuratively', 'figure', 'figured', 'figures', 'figurines', 'figuring', 'filament', 'file', 'files', 'filing', 'filipino', 'fill', 'filled', 'filler', 'fillers', 'filling', 'fills', 'film', 'filmed', 'filming', 'filmmaking', 'films', 'filter', 'filtered', 'filtering', 'filters', 'filtration', 'final', 'finalize', 'finally', 'finance', 'finances', 'financial', 'financially', 'find', 'finding', 'findings', 'finds', 'fine', 'finest', 'finger', 'fingerprints', 'fingers', 'fingertips', 'finish', 'finished', 'finishers', 'finishes', 'finishing', 'fire', 'fired', 'firefighters', 'fires', 'firing', 'firm', 'firmly', 'first', 'firsthand', 'firsties', 'firsts', 'fish', 'fishing', 'fist', 'fit', 'fitbit', 'fitbits', 'fitness', 'fits', 'fitting', 'five', 'fives', 'fix', 'fixed', 'fixing', 'fixtures', 'fl', 'flag', 'flags', 'flair', 'flame', 'flare', 'flash', 'flashcards', 'flashlight', 'flashlights', 'flat', 'flavor', 'flavors', 'flex', 'flexibility', 'flexible', 'flexibly', 'flies', 'flight', 'flimsy', 'flint', 'flip', 'flipped', 'flipping', 'fll', 'float', 'floating', 'floats', 'flocabulary', 'flock', 'flood', 'flooded', 'flooding', 'floods', 'floor', 'flooring', 'floors', 'florence', 'florescent', 'florida', 'floss', 'flourish', 'flourished', 'flourishes', 'flourishing', 'flow', 'flower', 'flowers', 'flowing', 'flows', 'flu', 'fluency', 'fluent', 'fluently', 'fluid', 'fluorescent', 'flute', 'flutes', 'fly', 'flyers', 'flying', 'foam', 'focal', 'focus', 'focused', 'focuses', 'focusing', 'foil', 'fold', 'foldable', 'foldables', 'folded', 'folder', 'folders', 'folding', 'folk', 'folktales', 'follow', 'followed', 'following', 'follows', 'fond', 'fondly', 'font', 'fonts', 'food', 'foods', 'fool', 'foot', 'footage', 'football', 'footballs', 'foothills', 'footing', 'footprint', 'footprints', 'footrest', 'footsteps', 'for', 'force', 'forced', 'forces', 'forcing', 'ford', 'forefront', 'foreign', 'foremost', 'forensic', 'forensics', 'foresee', 'forest', 'forests', 'forever', 'forge', 'forget', 'forgetting', 'forging', 'forgiving', 'forgot', 'forgotten', 'fork', 'form', 'formal', 'formally', 'format', 'formation', 'formations', 'formative', 'formats', 'formed', 'former', 'formerly', 'forming', 'forms', 'formula', 'formulas', 'formulate', 'formulating', 'fort', 'forth', 'fortunate', 'fortunately', 'fortune', 'forty', 'forum', 'forward', 'fossil', 'fossils', 'foster', 'fostered', 'fostering', 'fosters', 'fought', 'found', 'foundation', 'foundational', 'foundations', 'founded', 'founder', 'founding', 'fountain', 'fountains', 'fountas', 'four', 'fourteen', 'fourth', 'fourths', 'fraction', 'fractions', 'fractured', 'fragile', 'frame', 'framed', 'frames', 'framework', 'frameworks', 'france', 'francisco', 'frank', 'franklin', 'frankly', 'frayed', 'fraying', 'frc', 'fred', 'frederick', 'free', 'freedom', 'freedoms', 'freeing', 'freely', 'frees', 'freeze', 'freezing', 'french', 'frequency', 'frequent', 'frequently', 'fresh', 'freshly', 'freshman', 'freshmen', 'fresno', 'friction', 'friday', 'fridays', 'fridge', 'friend', 'friendly', 'friends', 'friendship', 'friendships', 'frightening', 'frisbee', 'frisbees', 'fro', 'frog', 'frogs', 'from', 'front', 'frozen', 'fruit', 'fruition', 'fruits', 'frustrate', 'frustrated', 'frustrating', 'frustration', 'frustrations', 'fry', 'fsa', 'ft', 'fuel', 'fueled', 'fueling', 'fuels', 'fulfill', 'fulfilled', 'fulfilling', 'fulfillment', 'fulghum', 'full', 'fuller', 'fullest', 'fully', 'fun', 'function', 'functional', 'functionality', 'functioning', 'functions', 'fund', 'fundamental', 'fundamentally', 'fundamentals', 'funded', 'funding', 'fundraise', 'fundraiser', 'fundraisers', 'fundraising', 'funds', 'funnel', 'funniest', 'funny', 'furnish', 'furnishings', 'furniture', 'further', 'furthering', 'furthermore', 'futon', 'future', 'futures', 'fuzzy', 'ga', 'gadget', 'gadgets', 'gafe', 'gaiam', 'gain', 'gained', 'gaining', 'gains', 'galaxy', 'galleries', 'gallery', 'gallon', 'game', 'gameplay', 'gamer', 'gamers', 'games', 'gaming', 'gamut', 'gandhi', 'gang', 'gangs', 'gap', 'gaps', 'garage', 'garageband', 'garbage', 'garden', 'gardeners', 'gardening', 'gardens', 'gardner', 'garrison', 'gary', 'gas', 'gases', 'gate', 'gates', 'gateway', 'gather', 'gathered', 'gathering', 'gator', 'gatsby', 'gauge', 'gave', 'gaze', 'gear', 'geared', 'gearing', 'gears', 'gel', 'gem', 'gems', 'gen', 'gender', 'genders', 'gene', 'general', 'generalization', 'generalize', 'generalizing', 'generally', 'generate', 'generated', 'generates', 'generating', 'generation', 'generational', 'generations', 'generator', 'generic', 'generosity', 'generous', 'generously', 'genetic', 'genetics', 'genius', 'geniuses', 'genre', 'genres', 'gentle', 'gentlemen', 'gently', 'gentrification', 'genuine', 'genuinely', 'geo', 'geographic', 'geographical', 'geographically', 'geography', 'geologists', 'geology', 'geometric', 'geometry', 'george', 'georgia', 'germ', 'german', 'germany', 'germs', 'gesture', 'gestures', 'get', 'gets', 'getters', 'getting', 'ghana', 'giant', 'gift', 'gifted', 'gifting', 'gifts', 'gigantic', 'giggle', 'giggles', 'giggling', 'gilbert', 'gingerbread', 'girl', 'girls', 'give', 'given', 'giver', 'gives', 'giving', 'gizmo', 'gizmos', 'glad', 'gladly', 'glance', 'glare', 'glass', 'glasses', 'glassware', 'glaze', 'glazes', 'glimpse', 'glitter', 'global', 'globalization', 'globally', 'globe', 'globes', 'glockenspiels', 'gloomiest', 'glorious', 'glory', 'glove', 'gloves', 'glow', 'glue', 'glued', 'gluing', 'gmail', 'go', 'goal', 'goals', 'goats', 'god', 'gods', 'goes', 'goggle', 'goggles', 'gogh', 'going', 'gold', 'goldberg', 'golden', 'goldfish', 'goldilocks', 'golf', 'gone', 'gonoodle', 'good', 'goodbye', 'goodies', 'goodness', 'goods', 'goodwill', 'goofy', 'google', 'googledocs', 'googly', 'goose', 'gopro', 'gorgeous', 'got', 'gotta', 'gotten', 'gov', 'government', 'gpa', 'gps', 'grab', 'grabbed', 'grabbing', 'grabs', 'grace', 'gracefully', 'gracious', 'graciously', 'grade', 'graded', 'grader', 'graders', 'grades', 'grading', 'gradually', 'graduate', 'graduated', 'graduates', 'graduating', 'graduation', 'graffiti', 'graham', 'grain', 'grains', 'grammar', 'grammatical', 'grand', 'grandchildren', 'grande', 'grandma', 'grandmother', 'grandparent', 'grandparents', 'granola', 'grant', 'granted', 'granting', 'grants', 'graph', 'graphic', 'graphical', 'graphics', 'graphing', 'graphs', 'grapple', 'grappling', 'grasp', 'grasped', 'grasping', 'grass', 'grassy', 'grateful', 'gratification', 'gratifying', 'gratitude', 'gravitate', 'gravity', 'gray', 'grease', 'great', 'greater', 'greatest', 'greatly', 'greatness', 'greece', 'greek', 'green', 'greenhouse', 'greens', 'greenville', 'greet', 'greeted', 'greeting', 'greetings', 'greets', 'grew', 'grey', 'grid', 'grief', 'grind', 'grins', 'grip', 'grips', 'grit', 'gritty', 'groan', 'groans', 'groceries', 'grocery', 'grooming', 'groove', 'grooving', 'gross', 'ground', 'groundbreaking', 'grounded', 'grounds', 'groundwork', 'group', 'grouped', 'grouping', 'groupings', 'groups', 'grove', 'grow', 'growing', 'growling', 'grown', 'grownups', 'grows', 'growth', 'gruff', 'gt', 'guarantee', 'guaranteed', 'guard', 'guardian', 'guardians', 'guards', 'guatemala', 'guess', 'guessed', 'guessing', 'guest', 'guests', 'guidance', 'guide', 'guided', 'guidelines', 'guides', 'guiding', 'guinea', 'guitar', 'guitars', 'gulf', 'gum', 'gun', 'guns', 'gunshots', 'guru', 'gusto', 'guy', 'guys', 'gym', 'gymnasium', 'gymnastics', 'gyms', 'ha', 'habit', 'habitat', 'habitats', 'habits', 'hail', 'hailing', 'hair', 'haiti', 'haitian', 'half', 'halfway', 'hall', 'halloween', 'halls', 'hallway', 'hallways', 'ham', 'hamilton', 'hamper', 'hampshire', 'hand', 'handball', 'handed', 'handful', 'handheld', 'handicap', 'handicapped', 'handicapping', 'handicaps', 'handing', 'handle', 'handled', 'handles', 'handling', 'handmade', 'handout', 'handouts', 'hands', 'handshake', 'handwriting', 'handwritten', 'handy', 'hang', 'hanging', 'hangs', 'happen', 'happened', 'happening', 'happenings', 'happens', 'happier', 'happiest', 'happily', 'happiness', 'happy', 'harbor', 'hard', 'hardcover', 'harder', 'hardest', 'hardly', 'hardship', 'hardships', 'hardware', 'hardwood', 'hardworking', 'harlem', 'harm', 'harmful', 'harmonies', 'harmony', 'harness', 'harnessing', 'harriet', 'harry', 'harsh', 'hartford', 'harvest', 'harvested', 'harvesting', 'hassle', 'hat', 'hatch', 'hatched', 'hatching', 'hate', 'hated', 'hates', 'hats', 'haul', 'have', 'haven', 'haves', 'having', 'hawai', 'hawaii', 'hawaiian', 'hayward', 'hazard', 'hd', 'hdmi', 'he', 'head', 'headaches', 'headed', 'heading', 'headphone', 'headphones', 'heads', 'headset', 'headsets', 'headstart', 'heal', 'healing', 'health', 'healthcare', 'healthful', 'healthier', 'healthy', 'hear', 'heard', 'hearing', 'hears', 'heart', 'heartbeat', 'heartbreaking', 'hearted', 'hearts', 'heartwarming', 'heat', 'heated', 'heath', 'heating', 'heaven', 'heavier', 'heavily', 'heavy', 'hectic', 'heidi', 'height', 'heighten', 'heightened', 'heights', 'heir', 'held', 'helen', 'hello', 'helmets', 'help', 'helped', 'helper', 'helpers', 'helpful', 'helping', 'helps', 'hence', 'henderson', 'henry', 'hep', 'her', 'herb', 'herbs', 'here', 'heritage', 'heritages', 'hermit', 'hero', 'heroes', 'hesitant', 'hesitate', 'hesitation', 'heterogeneous', 'hey', 'hi', 'hialeah', 'hidden', 'hide', 'hiding', 'high', 'higher', 'highest', 'highlight', 'highlighted', 'highlighter', 'highlighters', 'highlighting', 'highlights', 'highly', 'highs', 'highway', 'hike', 'hiking', 'hilarious', 'hill', 'hills', 'hillsborough', 'hinder', 'hindered', 'hindering', 'hinders', 'hindi', 'hindrance', 'hints', 'hip', 'hips', 'hire', 'hired', 'hiring', 'his', 'hispanic', 'hispanics', 'historian', 'historians', 'historic', 'historical', 'historically', 'histories', 'history', 'hit', 'hits', 'hitting', 'hive', 'hmong', 'hobbies', 'hobby', 'hockey', 'hodgepodge', 'hogwarts', 'hokki', 'hola', 'hold', 'holder', 'holders', 'holding', 'holds', 'hole', 'holes', 'holiday', 'holidays', 'holistic', 'holistically', 'hollywood', 'holocaust', 'home', 'homecoming', 'homeland', 'homeless', 'homelessness', 'homemade', 'homeroom', 'homerooms', 'homes', 'homestead', 'hometown', 'homework', 'homey', 'homogeneous', 'honduras', 'hone', 'honest', 'honestly', 'honesty', 'honey', 'honing', 'honor', 'honorable', 'honored', 'honoring', 'honors', 'hood', 'hook', 'hooked', 'hooki', 'hooking', 'hooks', 'hoola', 'hoop', 'hoops', 'hop', 'hope', 'hoped', 'hopeful', 'hopefully', 'hopeless', 'hopes', 'hoping', 'hopping', 'hopscotch', 'horizon', 'horizons', 'hormones', 'horn', 'horrible', 'horrific', 'horse', 'horses', 'horseshoe', 'horticulture', 'hose', 'hospital', 'hospitality', 'host', 'hosted', 'hosting', 'hosts', 'hot', 'hotel', 'hotels', 'hottest', 'hour', 'hours', 'house', 'housed', 'household', 'households', 'housekeeping', 'houses', 'housing', 'houston', 'how', 'howard', 'however', 'hp', 'hs', 'html', 'http', 'https', 'hub', 'huddle', 'huddled', 'hug', 'huge', 'hugely', 'hugging', 'hugs', 'hula', 'hum', 'human', 'humanities', 'humanity', 'humans', 'humble', 'humbled', 'humbling', 'humbly', 'humboldt', 'humidity', 'humor', 'humorous', 'hunched', 'hundred', 'hundreds', 'hung', 'hunger', 'hungry', 'hunt', 'hunter', 'hunters', 'hunting', 'hunts', 'hurdle', 'hurdles', 'hurricane', 'hurt', 'hurting', 'hurts', 'husband', 'hybrid', 'hydrated', 'hydration', 'hydrogen', 'hydroponic', 'hydroponics', 'hygiene', 'hygienic', 'hyper', 'hyperactive', 'hyperactivity', 'hypotheses', 'hypothesis', 'hypothesize', 'ib', 'ice', 'icing', 'icons', 'ict', 'id', 'idaho', 'idea', 'ideal', 'ideally', 'ideals', 'ideas', 'identical', 'identification', 'identified', 'identifies', 'identify', 'identifying', 'identities', 'identity', 'idle', 'ie', 'iep', 'ieps', 'if', 'ignacio', 'ignite', 'ignited', 'ignites', 'igniting', 'ignore', 'ignored', 'ii', 'iii', 'il', 'ilc', 'ill', 'illinois', 'illiteracy', 'illiterate', 'illness', 'illnesses', 'ills', 'illuminate', 'illustrate', 'illustrated', 'illustrating', 'illustration', 'illustrations', 'illustrator', 'illustrators', 'imac', 'image', 'imagery', 'images', 'imaginable', 'imaginary', 'imagination', 'imaginations', 'imaginative', 'imagine', 'imagined', 'imaging', 'imagining', 'imitate', 'imitating', 'imitation', 'immeasurable', 'immediate', 'immediately', 'immense', 'immensely', 'immerse', 'immersed', 'immersing', 'immersion', 'immersive', 'immigrant', 'immigrants', 'immigrated', 'immigration', 'immune', 'imovie', 'imovies', 'impact', 'impacted', 'impactful', 'impacting', 'impacts', 'impaired', 'impairment', 'impairments', 'impart', 'impede', 'impedes', 'imperative', 'implement', 'implementation', 'implemented', 'implementing', 'implements', 'implications', 'import', 'importance', 'important', 'importantly', 'impossible', 'impoverished', 'impress', 'impressed', 'impresses', 'impression', 'impressionable', 'impressions', 'impressive', 'improve', 'improved', 'improvement', 'improvements', 'improves', 'improving', 'improvisation', 'improvise', 'improvising', 'impulse', 'impulses', 'impulsive', 'in', 'inability', 'inaccessible', 'inaccurate', 'inactive', 'inactivity', 'inadequate', 'inappropriate', 'inappropriately', 'inattentive', 'inaugural', 'inc', 'incapable', 'incarcerated', 'incarceration', 'incentive', 'incentives', 'inception', 'inch', 'inches', 'incidence', 'incident', 'incidents', 'incite', 'inclement', 'incline', 'inclined', 'include', 'included', 'includes', 'including', 'inclusion', 'inclusive', 'income', 'incomes', 'incoming', 'incomparable', 'incomplete', 'inconsistent', 'incorporate', 'incorporated', 'incorporates', 'incorporating', 'incorporation', 'incorrect', 'incorrectly', 'increase', 'increased', 'increases', 'increasing', 'increasingly', 'incredible', 'incredibly', 'increments', 'incubator', 'indeed', 'independence', 'independent', 'independently', 'indescribable', 'index', 'india', 'indian', 'indiana', 'indianapolis', 'indicate', 'indicated', 'indicates', 'indicating', 'indicator', 'indicators', 'indigenous', 'indirectly', 'indispensable', 'individual', 'individuality', 'individualization', 'individualize', 'individualized', 'individualizing', 'individually', 'individuals', 'indoor', 'indoors', 'indulge', 'industrial', 'industries', 'industry', 'ineffective', 'inefficient', 'inequities', 'inequity', 'inertia', 'inevitable', 'inevitably', 'inexpensive', 'infancy', 'infant', 'infants', 'infectious', 'infer', 'inference', 'inferences', 'inferencing', 'inferior', 'inferring', 'infested', 'infinite', 'infinity', 'inflatable', 'inflated', 'inflection', 'influence', 'influenced', 'influences', 'influencing', 'influential', 'influx', 'info', 'infographics', 'inform', 'informal', 'information', 'informational', 'informative', 'informed', 'informing', 'infrastructure', 'infuse', 'infused', 'infusing', 'infusion', 'ingenious', 'ingenuity', 'ingrained', 'ingredient', 'ingredients', 'inhabit', 'inherent', 'inherently', 'inherit', 'inherited', 'inhibit', 'inhibited', 'inhibits', 'initial', 'initially', 'initiate', 'initiated', 'initiating', 'initiative', 'initiatives', 'injured', 'injuries', 'injury', 'injustice', 'ink', 'innate', 'inner', 'innocence', 'innocent', 'innovate', 'innovated', 'innovating', 'innovation', 'innovations', 'innovative', 'innovators', 'innumerable', 'input', 'inputs', 'inquire', 'inquirers', 'inquiries', 'inquiring', 'inquiry', 'inquisitive', 'inquisitiveness', 'ins', 'insatiable', 'insect', 'insects', 'insecure', 'insecurity', 'insert', 'inside', 'insight', 'insightful', 'insights', 'insignificant', 'insist', 'insists', 'inspiration', 'inspirational', 'inspirations', 'inspire', 'inspired', 'inspires', 'inspiring', 'instability', 'instagram', 'install', 'installation', 'installed', 'installing', 'instance', 'instances', 'instant', 'instantaneous', 'instantaneously', 'instantly', 'instax', 'instead', 'instill', 'instilled', 'instilling', 'instills', 'instinct', 'institute', 'institution', 'institutions', 'instruct', 'instructed', 'instructing', 'instruction', 'instructional', 'instructions', 'instructor', 'instructors', 'instrument', 'instrumental', 'instrumentalists', 'instrumentation', 'instruments', 'insufficient', 'insulated', 'insurance', 'insure', 'insurmountable', 'intact', 'intake', 'integral', 'integrate', 'integrated', 'integrates', 'integrating', 'integration', 'integrity', 'intellect', 'intellectual', 'intellectually', 'intelligence', 'intelligences', 'intelligent', 'intend', 'intended', 'intense', 'intensely', 'intensity', 'intensive', 'intensively', 'intent', 'intention', 'intentional', 'intentionally', 'intentions', 'intently', 'inter', 'interact', 'interacted', 'interacting', 'interaction', 'interactions', 'interactive', 'interactively', 'interactivity', 'interacts', 'intercity', 'interconnected', 'interdependence', 'interdependent', 'interdisciplinary', 'interest', 'interested', 'interesting', 'interests', 'interface', 'interfere', 'interferes', 'interfering', 'interior', 'interlocking', 'intermediate', 'internal', 'internalize', 'internalized', 'international', 'internationally', 'internet', 'internship', 'internships', 'interpersonal', 'interpret', 'interpretation', 'interpretations', 'interpreting', 'interrupt', 'interrupted', 'interrupting', 'interruption', 'interruptions', 'interscholastic', 'intertwined', 'intervals', 'intervene', 'intervention', 'interventionist', 'interventions', 'interview', 'interviewed', 'interviewing', 'interviews', 'intimate', 'intimidated', 'intimidating', 'into', 'intonation', 'intramural', 'intricacies', 'intricate', 'intrigue', 'intrigued', 'intrigues', 'intriguing', 'intrinsic', 'intrinsically', 'intro', 'introduce', 'introduced', 'introduces', 'introducing', 'introduction', 'introductions', 'introductory', 'intuitive', 'intuitively', 'inundated', 'invaluable', 'invent', 'invented', 'inventing', 'invention', 'inventions', 'inventive', 'inventor', 'inventors', 'inventory', 'invest', 'invested', 'investigate', 'investigated', 'investigating', 'investigation', 'investigations', 'investigative', 'investigators', 'investing', 'investment', 'investments', 'invigorating', 'invisible', 'invitation', 'invitations', 'invite', 'invited', 'invites', 'inviting', 'involve', 'involved', 'involvement', 'involves', 'involving', 'ios', 'iowa', 'ipad', 'ipads', 'ipevo', 'iphone', 'iphones', 'ipod', 'ipods', 'iq', 'iran', 'iraq', 'iready', 'iron', 'irrelevant', 'irreplaceable', 'is', 'isaac', 'isd', 'island', 'islander', 'islanders', 'islands', 'isolate', 'isolated', 'isolating', 'isolation', 'israel', 'issue', 'issued', 'issues', 'istation', 'it', 'italian', 'italy', 'itching', 'item', 'items', 'itinerant', 'its', 'itunes', 'ivan', 'ivy', 'ixl', 'jack', 'jacket', 'jackets', 'jackie', 'jacks', 'jackson', 'jacksonville', 'jacqueline', 'jail', 'jam', 'jamaica', 'james', 'jane', 'january', 'japan', 'japanese', 'jar', 'jars', 'jazz', 'jean', 'jefferson', 'jelly', 'jellyfish', 'jenga', 'jennifer', 'jenny', 'jensen', 'jeopardy', 'jerry', 'jersey', 'jerseys', 'jet', 'jewelry', 'jiggle', 'jim', 'jitters', 'job', 'jobs', 'joe', 'john', 'johnny', 'johnson', 'join', 'joined', 'joining', 'joint', 'joints', 'joke', 'jokes', 'jones', 'jordan', 'jose', 'joseph', 'jot', 'journal', 'journaling', 'journalism', 'journalist', 'journalists', 'journals', 'journey', 'journeys', 'joy', 'joyful', 'joyous', 'joys', 'jr', 'jrotc', 'judge', 'judged', 'judgement', 'judges', 'judging', 'judgment', 'judicial', 'judy', 'juggle', 'juggling', 'juice', 'juices', 'juliet', 'july', 'jumbo', 'jump', 'jumped', 'jumping', 'jumps', 'jumpstart', 'june', 'jungle', 'junie', 'junior', 'juniors', 'junk', 'just', 'justice', 'justify', 'juvenile', 'k4', 'kagan', 'kahoot', 'kalamazoo', 'kale', 'kansas', 'karaoke', 'karen', 'karenni', 'kate', 'katrina', 'kayla', 'keen', 'keep', 'keeper', 'keeping', 'keeps', 'keepsake', 'keepsakes', 'keller', 'kelly', 'kennedy', 'kensington', 'kentucky', 'kenya', 'kept', 'keva', 'kevin', 'key', 'keyboard', 'keyboarding', 'keyboards', 'keynote', 'keys', 'khan', 'kick', 'kickball', 'kickballs', 'kicked', 'kicking', 'kid', 'kidblog', 'kiddo', 'kiddos', 'kidney', 'kids', 'kill', 'killed', 'killing', 'kiln', 'kind', 'kinder', 'kindergarten', 'kindergartener', 'kindergarteners', 'kindergartens', 'kindergartner', 'kindergartners', 'kinders', 'kindest', 'kindhearted', 'kindle', 'kindles', 'kindly', 'kindness', 'kinds', 'kinect', 'kinesthetic', 'kinesthetically', 'kinetic', 'kinetically', 'king', 'kings', 'kipp', 'kit', 'kitchen', 'kitchens', 'kits', 'kleenex', 'knack', 'knee', 'kneel', 'kneeling', 'knees', 'knew', 'knex', 'knife', 'knights', 'knit', 'knitting', 'knives', 'knock', 'knocked', 'knocking', 'know', 'knowing', 'knowledgable', 'knowledge', 'knowledgeable', 'known', 'knows', 'kore', 'korea', 'korean', 'kurt', 'ky', 'la', 'lab', 'label', 'labeled', 'labeling', 'labels', 'labor', 'laboratories', 'laboratory', 'labs', 'lace', 'laces', 'lacing', 'lack', 'lacked', 'lacking', 'lacks', 'lacrosse', 'ladder', 'ladders', 'ladies', 'lady', 'ladybug', 'ladybugs', 'lafayette', 'lag', 'laid', 'lake', 'lakes', 'lakeshore', 'lakota', 'laminate', 'laminated', 'laminating', 'lamination', 'laminator', 'lamp', 'lamps', 'land', 'landfill', 'landfills', 'landforms', 'landing', 'landmark', 'landmarks', 'lands', 'landscape', 'landscapes', 'landscaping', 'lane', 'language', 'languages', 'lanyards', 'laos', 'lap', 'lapboards', 'laps', 'laptop', 'laptops', 'large', 'largely', 'larger', 'largest', 'las', 'laser', 'last', 'lasted', 'lasting', 'lastly', 'lasts', 'latch', 'latchkey', 'late', 'lately', 'later', 'latest', 'latin', 'latino', 'latinos', 'latter', 'laugh', 'laughing', 'laughs', 'laughter', 'launch', 'launched', 'launching', 'laundry', 'lavender', 'law', 'lawn', 'lawrence', 'laws', 'lawyers', 'lay', 'layer', 'layers', 'laying', 'layout', 'lays', 'lazy', 'lcd', 'ld', 'lead', 'leader', 'leaders', 'leadership', 'leading', 'leads', 'leaf', 'league', 'leagues', 'lean', 'leaners', 'leaning', 'leap', 'leapfrog', 'leaping', 'leaps', 'learn', 'learned', 'learner', 'learners', 'learning', 'learnings', 'learniture', 'learns', 'learnzillion', 'least', 'leather', 'leave', 'leaves', 'leaving', 'lecture', 'lectures', 'lecturing', 'led', 'lee', 'left', 'leftover', 'leftovers', 'leg', 'legacy', 'legal', 'legend', 'legends', 'legged', 'legible', 'legibly', 'legitimate', 'lego', 'legos', 'legs', 'leisure', 'lemon', 'lemonade', 'lend', 'lending', 'lends', 'length', 'lengths', 'lengthy', 'lenovo', 'lens', 'lenses', 'lep', 'less', 'lessen', 'lessening', 'lessens', 'lesser', 'lesson', 'lessons', 'let', 'lethargic', 'lets', 'letter', 'letters', 'letting', 'lettuce', 'level', 'leveled', 'leveling', 'levels', 'leverage', 'levers', 'lewis', 'lexia', 'lexile', 'lgbtq', 'liberty', 'librarian', 'librarians', 'libraries', 'library', 'lice', 'license', 'licensed', 'licenses', 'lids', 'lie', 'lies', 'life', 'lifecycle', 'lifelong', 'lifeskills', 'lifestyle', 'lifestyles', 'lifetime', 'lift', 'lifted', 'lifting', 'lifts', 'ligatures', 'light', 'lightbulb', 'lighthouse', 'lighting', 'lightly', 'lightning', 'lights', 'lightweight', 'like', 'liked', 'likelihood', 'likely', 'likes', 'likewise', 'liking', 'limit', 'limitation', 'limitations', 'limited', 'limiting', 'limitless', 'limits', 'lincoln', 'line', 'linear', 'lined', 'lines', 'lingual', 'linguistic', 'linguistically', 'lining', 'link', 'linked', 'linking', 'links', 'linoleum', 'lion', 'lip', 'liquid', 'liquids', 'list', 'listed', 'listen', 'listened', 'listener', 'listeners', 'listening', 'listens', 'listing', 'lists', 'lit', 'lite', 'literacy', 'literal', 'literally', 'literary', 'literate', 'literature', 'little', 'littlebits', 'littles', 'littlest', 'live', 'lived', 'lively', 'liven', 'lives', 'livestock', 'living', 'load', 'loaded', 'loads', 'loan', 'local', 'locally', 'locate', 'located', 'locating', 'location', 'locations', 'lock', 'locked', 'locker', 'lockers', 'locking', 'locks', 'lofty', 'log', 'logan', 'logged', 'logging', 'logic', 'logical', 'logically', 'login', 'logistics', 'logo', 'logs', 'lois', 'lonely', 'long', 'longer', 'longest', 'longevity', 'longing', 'look', 'looked', 'looking', 'looks', 'loom', 'looming', 'looms', 'loop', 'looped', 'looping', 'loops', 'loose', 'loosing', 'lorax', 'lord', 'los', 'lose', 'loses', 'losing', 'loss', 'losses', 'lost', 'lot', 'lotion', 'lots', 'lottery', 'loud', 'louder', 'loudly', 'louis', 'louisiana', 'louisville', 'lounge', 'lounging', 'lovable', 'love', 'loved', 'lovely', 'lover', 'lovers', 'loves', 'loving', 'lovingly', 'low', 'lower', 'lowercase', 'lowered', 'lowering', 'lowers', 'lowest', 'lows', 'loyal', 'loyalty', 'luck', 'luckiest', 'luckily', 'lucky', 'lucy', 'lunch', 'lunches', 'lunchroom', 'lunchtime', 'lungs', 'luther', 'luxuries', 'luxury', 'lying', 'lyrics', 'lysol', 'ma', 'mac', 'macbook', 'mache', 'machine', 'machines', 'macro', 'mad', 'made', 'madison', 'madness', 'magazine', 'magazines', 'magformers', 'magic', 'magical', 'magically', 'magna', 'magnatiles', 'magnet', 'magnetic', 'magnetism', 'magnets', 'magnificent', 'magnified', 'magnify', 'magnifying', 'mail', 'mailbox', 'mailboxes', 'main', 'maine', 'mainly', 'mainstream', 'mainstreamed', 'mainstreaming', 'maintain', 'maintained', 'maintaining', 'maintains', 'maintenance', 'major', 'majority', 'majors', 'make', 'makeblock', 'makeover', 'maker', 'makers', 'makerspace', 'makerspaces', 'makes', 'makeup', 'makey', 'makeys', 'making', 'malala', 'male', 'males', 'mall', 'mallet', 'mallets', 'mammals', 'man', 'manage', 'manageable', 'managed', 'management', 'manager', 'managers', 'managing', 'mandarin', 'mandate', 'mandated', 'mandatory', 'mandela', 'maneuver', 'maneuvering', 'manga', 'manhattan', 'manifest', 'manipulate', 'manipulated', 'manipulates', 'manipulating', 'manipulation', 'manipulative', 'manipulatives', 'mankind', 'manner', 'mannered', 'manners', 'manor', 'mantra', 'manual', 'manually', 'manufacture', 'manufacturing', 'many', 'map', 'maple', 'mapping', 'maps', 'maracas', 'marathon', 'marble', 'marbles', 'march', 'marching', 'margaret', 'marginalized', 'margins', 'maria', 'marine', 'mark', 'marked', 'marker', 'markers', 'market', 'marketable', 'marketing', 'markets', 'marking', 'marks', 'mars', 'marshall', 'marshallese', 'marshmallows', 'martin', 'marvel', 'marvelous', 'mary', 'maryland', 'mascot', 'mask', 'masking', 'masks', 'mass', 'massachusetts', 'massive', 'master', 'mastered', 'mastering', 'masterpiece', 'masterpieces', 'masters', 'mastery', 'mat', 'match', 'matched', 'matches', 'matching', 'mater', 'material', 'materials', 'mates', 'math', 'mathematic', 'mathematical', 'mathematically', 'mathematician', 'mathematicians', 'mathematics', 'matriculate', 'mats', 'matter', 'matters', 'matthew', 'mature', 'maturing', 'maturity', 'max', 'maximize', 'maximized', 'maximizes', 'maximizing', 'maximum', 'may', 'maya', 'maybe', 'mayo', 'maze', 'mazes', 'mckinley', 'mcps', 'md', 'me', 'mead', 'meager', 'meal', 'meals', 'mean', 'meaning', 'meaningful', 'meaningfully', 'meaningless', 'meanings', 'means', 'meant', 'meantime', 'meanwhile', 'measurable', 'measure', 'measured', 'measurement', 'measurements', 'measures', 'measuring', 'meat', 'mechanical', 'mechanics', 'mechanism', 'mechanisms', 'medal', 'medals', 'media', 'median', 'medias', 'medical', 'medically', 'medication', 'medicine', 'medieval', 'mediocre', 'meditating', 'meditation', 'medium', 'mediums', 'meet', 'meeting', 'meetings', 'meets', 'melodic', 'melodies', 'melody', 'melt', 'meltdown', 'meltdowns', 'melting', 'member', 'members', 'membership', 'memoir', 'memoirs', 'memorable', 'memorial', 'memories', 'memorization', 'memorize', 'memorized', 'memorizing', 'memory', 'memphis', 'men', 'mental', 'mentality', 'mentally', 'mention', 'mentioned', 'mentioning', 'mentor', 'mentoring', 'mentors', 'menu', 'menus', 'mercy', 'mere', 'merely', 'merge', 'merging', 'merit', 'mesa', 'mesh', 'mesmerized', 'mess', 'message', 'messages', 'messaging', 'messes', 'messy', 'met', 'metabolism', 'metacognition', 'metacognitive', 'metal', 'metallophones', 'metamorphosis', 'metaphor', 'metaphors', 'meter', 'method', 'methodologies', 'methodology', 'methods', 'metric', 'metro', 'metroplex', 'metropolitan', 'mexican', 'mexico', 'mi', 'miami', 'mic', 'mice', 'michael', 'michigan', 'micro', 'microbiology', 'microcosm', 'microorganisms', 'microphone', 'microphones', 'microscope', 'microscopes', 'microscopic', 'microsoft', 'microwave', 'mics', 'mid', 'middle', 'midst', 'midwest', 'midwestern', 'might', 'mighty', 'migrant', 'migrate', 'migration', 'mild', 'mile', 'miles', 'milestone', 'milestones', 'military', 'milk', 'mill', 'miller', 'million', 'millions', 'milwaukee', 'mimic', 'mimics', 'min', 'mind', 'minded', 'mindedness', 'mindful', 'mindfulness', 'minds', 'mindset', 'mindsets', 'mindstorm', 'mindstorms', 'mine', 'minecraft', 'mineral', 'minerals', 'mines', 'mini', 'miniature', 'minimal', 'minimize', 'minimized', 'minimizes', 'minimizing', 'minimum', 'mining', 'minis', 'minneapolis', 'minnesota', 'minor', 'minorities', 'minority', 'minute', 'minutes', 'miracle', 'miraculous', 'mirror', 'mirrored', 'mirrors', 'misbehavior', 'miscellaneous', 'misconceptions', 'mishaps', 'mismatched', 'misplace', 'misplaced', 'miss', 'missed', 'missing', 'mission', 'missions', 'mississippi', 'missouri', 'mistake', 'mistakes', 'misunderstandings', 'misunderstood', 'mit', 'mitosis', 'mix', 'mixed', 'mixer', 'mixes', 'mixing', 'mixture', 'mixtures', 'mn', 'mo', 'mobile', 'mobility', 'moby', 'mobymax', 'mock', 'mockingbird', 'modal', 'modalities', 'modality', 'mode', 'model', 'modeled', 'modeling', 'models', 'moderate', 'moderately', 'modern', 'modernize', 'modes', 'modest', 'modification', 'modifications', 'modified', 'modify', 'modifying', 'module', 'modules', 'mold', 'molded', 'molding', 'molds', 'molecular', 'molecules', 'mom', 'moment', 'moments', 'momentum', 'mommy', 'moms', 'monarch', 'monday', 'mondays', 'monet', 'monetarily', 'monetary', 'money', 'monies', 'monitor', 'monitored', 'monitoring', 'monitors', 'monkey', 'monkeys', 'mono', 'monolingual', 'monopoly', 'monotonous', 'monotony', 'monster', 'monsters', 'montana', 'montessori', 'month', 'monthly', 'months', 'monumental', 'monuments', 'mood', 'moods', 'moon', 'moore', 'mop', 'moral', 'morale', 'morals', 'more', 'moreover', 'morning', 'mornings', 'mosaic', 'mosaics', 'most', 'mostly', 'motels', 'mother', 'mothers', 'motion', 'motions', 'motivate', 'motivated', 'motivates', 'motivating', 'motivation', 'motivational', 'motivations', 'motivator', 'motivators', 'motive', 'moto', 'motor', 'motors', 'motto', 'mount', 'mountain', 'mountains', 'mounted', 'mounting', 'mouse', 'mouth', 'mouthpiece', 'mouthpieces', 'mouths', 'movable', 'move', 'moveable', 'moved', 'movement', 'movements', 'movers', 'moves', 'movie', 'movies', 'moving', 'mp3', 'mr', 'mrs', 'ms', 'mt', 'much', 'mud', 'mudge', 'multi', 'multiage', 'multicultural', 'multidisciplinary', 'multifaceted', 'multilingual', 'multimedia', 'multiple', 'multiplication', 'multiply', 'multiplying', 'multipurpose', 'multiracial', 'multisensory', 'multitude', 'mundane', 'mural', 'murals', 'murder', 'muscle', 'muscles', 'muscular', 'museum', 'museums', 'music', 'musical', 'musicality', 'musically', 'musicals', 'musician', 'musicians', 'musicianship', 'muslim', 'must', 'mutual', 'my', 'myon', 'myp', 'myplate', 'myriad', 'myself', 'mysteries', 'mysterious', 'mystery', 'myth', 'mythology', 'myths', 'naked', 'name', 'named', 'namely', 'names', 'naming', 'nancy', 'nannan', 'nap', 'napkins', 'narrate', 'narration', 'narrative', 'narratives', 'narrator', 'narrators', 'narrow', 'nasa', 'nashville', 'nasty', 'nation', 'national', 'nationalities', 'nationality', 'nationally', 'nations', 'nationwide', 'native', 'natives', 'natural', 'naturally', 'nature', 'natured', 'navajo', 'navigate', 'navigating', 'navy', 'nc', 'near', 'nearby', 'nearest', 'nearing', 'nearly', 'nearpod', 'neat', 'neatly', 'nebraska', 'necessarily', 'necessary', 'necessities', 'necessity', 'neck', 'necklace', 'necklaces', 'necks', 'need', 'needed', 'neediest', 'needing', 'needles', 'needless', 'needs', 'needy', 'negative', 'negatively', 'negatives', 'negativity', 'neglect', 'neglected', 'negotiate', 'neighbor', 'neighborhood', 'neighborhoods', 'neighboring', 'neighbors', 'neil', 'neither', 'nelson', 'neon', 'nepal', 'nepali', 'nerve', 'nerves', 'nervous', 'nervousness', 'nest', 'nestled', 'nests', 'net', 'netbooks', 'nets', 'network', 'networking', 'networks', 'neural', 'neurological', 'nevada', 'never', 'nevertheless', 'new', 'newark', 'newbery', 'newcomer', 'newcomers', 'newer', 'newest', 'newfound', 'newly', 'news', 'newscasts', 'newsela', 'newsletter', 'newsletters', 'newspaper', 'newspapers', 'newton', 'nex', 'next', 'nfl', 'ngss', 'nh', 'nicaragua', 'nice', 'nicely', 'nicer', 'nicest', 'niche', 'nigeria', 'night', 'nightly', 'nightmare', 'nights', 'nine', 'nineteen', 'ninety', 'ninja', 'ninth', 'nit', 'nj', 'no', 'noble', 'nobody', 'noise', 'noises', 'noisy', 'nominated', 'non', 'none', 'nonetheless', 'nonexistent', 'nonfiction', 'nonprofit', 'nonstop', 'nontraditional', 'nonverbal', 'noodle', 'noodles', 'nook', 'nooks', 'nor', 'norm', 'normal', 'normalcy', 'normally', 'norms', 'north', 'northeast', 'northeastern', 'northern', 'northside', 'northwest', 'nose', 'noses', 'not', 'notable', 'notate', 'notation', 'notch', 'note', 'notebook', 'notebooks', 'noted', 'notepads', 'notes', 'nothing', 'notice', 'noticeable', 'noticed', 'notices', 'noticing', 'noting', 'notion', 'notorious', 'notoriously', 'nots', 'nouns', 'nourish', 'nourished', 'nourishing', 'nourishment', 'novel', 'novels', 'novelty', 'november', 'novice', 'now', 'nowadays', 'nowhere', 'nspire', 'nuances', 'nuclear', 'nudge', 'number', 'numbered', 'numbers', 'numeracy', 'numerals', 'numerical', 'numerous', 'nurse', 'nursery', 'nurses', 'nursing', 'nurture', 'nurtured', 'nurtures', 'nurturing', 'nut', 'nutri', 'nutrient', 'nutrients', 'nutrition', 'nutritional', 'nutritious', 'nuts', 'nutshell', 'nv', 'nwea', 'ny', 'nyc', 'nye', 'nys', 'oahu', 'oak', 'oakland', 'oasis', 'oatmeal', 'obama', 'obese', 'obesity', 'object', 'objective', 'objectives', 'objects', 'obligation', 'observant', 'observation', 'observational', 'observations', 'observe', 'observed', 'observer', 'observing', 'obsessed', 'obsolete', 'obstacle', 'obstacles', 'obtain', 'obtained', 'obtaining', 'obvious', 'obviously', 'occasion', 'occasional', 'occasionally', 'occasions', 'occupation', 'occupational', 'occupations', 'occupied', 'occupy', 'occur', 'occurred', 'occurrence', 'occurrences', 'occurring', 'occurs', 'ocean', 'oceans', 'october', 'odd', 'odds', 'odyssey', 'of', 'off', 'offensive', 'offer', 'offered', 'offering', 'offerings', 'offers', 'office', 'officer', 'officers', 'offices', 'official', 'officially', 'officials', 'offs', 'offset', 'often', 'oftentimes', 'oh', 'ohana', 'ohio', 'oil', 'oils', 'ok', 'okay', 'oklahoma', 'ol', 'old', 'older', 'oldest', 'olds', 'ollie', 'olympiad', 'olympic', 'olympics', 'omaha', 'on', 'once', 'one', 'ones', 'oneself', 'ongoing', 'online', 'only', 'ons', 'onto', 'onward', 'oops', 'open', 'opened', 'opening', 'openly', 'opens', 'opera', 'operate', 'operated', 'operates', 'operating', 'operation', 'operational', 'operations', 'opinion', 'opinionated', 'opinions', 'opponents', 'opportunites', 'opportunities', 'opportunity', 'opposed', 'opposing', 'opposite', 'oppositional', 'oppression', 'opt', 'opted', 'optimal', 'optimism', 'optimistic', 'optimize', 'optimum', 'option', 'optional', 'options', 'or', 'oral', 'orally', 'orange', 'orchard', 'orchards', 'orchestra', 'orchestral', 'orchestras', 'order', 'ordered', 'ordering', 'orderly', 'orders', 'ordinary', 'oregon', 'orff', 'org', 'organ', 'organelles', 'organic', 'organically', 'organism', 'organisms', 'organization', 'organizational', 'organizations', 'organize', 'organized', 'organizer', 'organizers', 'organizing', 'organs', 'orientated', 'orientation', 'oriented', 'origami', 'origin', 'original', 'originally', 'originate', 'origins', 'orlando', 'orleans', 'orthopedic', 'osmo', 'osmos', 'ot', 'other', 'others', 'otherwise', 'otterbox', 'ottomans', 'ounce', 'our', 'ours', 'out', 'outbursts', 'outcome', 'outcomes', 'outdated', 'outdoor', 'outdoors', 'outer', 'outfit', 'outfits', 'outfitted', 'outgoing', 'outgrown', 'outings', 'outlet', 'outlets', 'outline', 'outlined', 'outlook', 'outlooks', 'outperform', 'output', 'outreach', 'outs', 'outside', 'outsiders', 'outskirts', 'outspoken', 'outstanding', 'outweigh', 'oven', 'over', 'overabundance', 'overall', 'overarching', 'overcome', 'overcomes', 'overcoming', 'overcrowded', 'overcrowding', 'overdrive', 'overflow', 'overflowing', 'overhaul', 'overhead', 'overjoyed', 'overlap', 'overload', 'overlook', 'overlooked', 'overly', 'overnight', 'overpopulated', 'overrated', 'overrun', 'overseas', 'oversized', 'overstimulated', 'overtime', 'overview', 'overweight', 'overwhelmed', 'overwhelming', 'overwhelmingly', 'owe', 'owl', 'owls', 'own', 'owned', 'owner', 'owners', 'ownership', 'owning', 'owns', 'oxygen', 'oyster', 'ozobot', 'ozobots', 'pa', 'pablo', 'pace', 'paced', 'paces', 'pacific', 'pacing', 'pack', 'package', 'packages', 'packed', 'packet', 'packets', 'packing', 'packs', 'pad', 'padded', 'padding', 'paddles', 'padlet', 'pads', 'page', 'pages', 'paid', 'pail', 'pain', 'painful', 'pains', 'paint', 'paintbrush', 'paintbrushes', 'painted', 'painters', 'painting', 'paintings', 'paints', 'pair', 'paired', 'pairing', 'pairs', 'pajamas', 'pakistan', 'pal', 'palacio', 'palettes', 'palm', 'palmetto', 'palpable', 'pals', 'palsy', 'pamphlets', 'pan', 'panel', 'panels', 'panhandle', 'pans', 'panther', 'pantries', 'pantry', 'pants', 'paper', 'paperback', 'paperless', 'papers', 'paperwork', 'par', 'para', 'parachute', 'parachutes', 'parade', 'parades', 'paradigm', 'paragraph', 'paragraphs', 'parallel', 'parameters', 'paramount', 'paraprofessional', 'paraprofessionals', 'parcc', 'parent', 'parental', 'parenting', 'parents', 'paris', 'parish', 'park', 'parking', 'parks', 'part', 'partake', 'partial', 'partially', 'participant', 'participants', 'participate', 'participated', 'participates', 'participating', 'participation', 'participatory', 'particular', 'particularly', 'parties', 'partition', 'partitions', 'partly', 'partner', 'partnered', 'partnering', 'partners', 'partnership', 'partnerships', 'parts', 'party', 'pass', 'passage', 'passages', 'passed', 'passes', 'passing', 'passion', 'passionate', 'passionately', 'passions', 'passive', 'passively', 'passport', 'passwords', 'past', 'pasta', 'paste', 'pastel', 'pastels', 'pasting', 'pasts', 'patch', 'paterson', 'path', 'pathologist', 'pathologists', 'paths', 'pathway', 'pathways', 'patience', 'patient', 'patiently', 'patients', 'patricia', 'patrick', 'patrons', 'pattern', 'patterning', 'patterns', 'paul', 'pause', 'pave', 'pavement', 'paving', 'paws', 'pay', 'paycheck', 'paychecks', 'paying', 'pays', 'pbis', 'pbl', 'pbs', 'pc', 'pcs', 'pdf', 'pe', 'peace', 'peaceful', 'peacefully', 'peak', 'peaked', 'peaks', 'peanut', 'pearl', 'peas', 'pebblego', 'pecs', 'pedagogy', 'pedal', 'pedaling', 'pedals', 'peddlers', 'pedometer', 'pedometers', 'peek', 'peel', 'peer', 'peers', 'peg', 'pegs', 'pellet', 'pellets', 'pen', 'pencil', 'pencils', 'pendulum', 'penguin', 'penguins', 'peninsula', 'penmanship', 'pennies', 'pennsylvania', 'penny', 'pens', 'pent', 'people', 'peoples', 'pep', 'per', 'perceive', 'perceived', 'percent', 'percentage', 'percentages', 'percentile', 'perception', 'perceptions', 'percussion', 'percussionist', 'percussionists', 'percy', 'perfect', 'perfecting', 'perfection', 'perfectly', 'perform', 'performance', 'performances', 'performed', 'performer', 'performers', 'performing', 'performs', 'perhaps', 'perimeter', 'period', 'periodic', 'periodically', 'periodicals', 'periods', 'perks', 'permanent', 'permanently', 'permission', 'permit', 'permits', 'permitted', 'perseverance', 'persevere', 'persevering', 'persist', 'persistence', 'persistent', 'person', 'personable', 'personal', 'personalities', 'personality', 'personalize', 'personalized', 'personalizing', 'personally', 'personnel', 'persons', 'perspective', 'perspectives', 'persuade', 'persuasive', 'pertain', 'pertaining', 'pertains', 'pertinent', 'peru', 'peruse', 'pervasive', 'pet', 'pete', 'peter', 'pets', 'ph', 'phase', 'phases', 'phenomena', 'phenomenal', 'phenomenally', 'phenomenon', 'philadelphia', 'philippines', 'philosophers', 'philosophies', 'philosophy', 'phoenix', 'phone', 'phonemes', 'phonemic', 'phones', 'phonetic', 'phonic', 'phonics', 'phonological', 'photo', 'photocopy', 'photograph', 'photographer', 'photographers', 'photographic', 'photographs', 'photography', 'photos', 'photoshop', 'photosynthesis', 'phrase', 'phrases', 'phrasing', 'physical', 'physically', 'physics', 'physiology', 'pi', 'piano', 'pianos', 'picasso', 'pick', 'picked', 'picking', 'picks', 'picnic', 'pictorial', 'picture', 'pictured', 'pictures', 'pie', 'piece', 'pieces', 'piedmont', 'pierson', 'pig', 'pigeon', 'piggie', 'piggy', 'pigs', 'pile', 'piled', 'piles', 'pillar', 'pillars', 'pillow', 'pillows', 'pilot', 'piloted', 'piloting', 'pilots', 'pin', 'pinch', 'pinching', 'pine', 'ping', 'pink', 'pinnell', 'pinnies', 'pinpoint', 'pins', 'pioneer', 'pioneers', 'pipe', 'pipes', 'pique', 'piqued', 'pirate', 'pirates', 'pit', 'pitch', 'pitched', 'pitches', 'pitching', 'pittsburgh', 'pivotal', 'pizza', 'pizzas', 'pk', 'place', 'placed', 'placement', 'placements', 'places', 'placing', 'plague', 'plagued', 'plagues', 'plain', 'plan', 'plane', 'planes', 'planet', 'planets', 'planks', 'planned', 'planner', 'planners', 'planning', 'plans', 'plant', 'planted', 'planter', 'planters', 'planting', 'plants', 'plaster', 'plastic', 'plate', 'plates', 'platform', 'platforms', 'play', 'playable', 'playback', 'playdoh', 'playdough', 'played', 'player', 'players', 'playful', 'playground', 'playgrounds', 'playing', 'plays', 'playstix', 'playtime', 'pleading', 'pleasant', 'pleasantly', 'please', 'pleased', 'pleasing', 'pleasurable', 'pleasure', 'pleasures', 'pledge', 'plentiful', 'plenty', 'plethora', 'plickers', 'plot', 'plots', 'pltw', 'plug', 'plugged', 'plugs', 'plus', 'plush', 'pm', 'pocket', 'pockets', 'pod', 'podcast', 'podcasts', 'podium', 'pods', 'poem', 'poems', 'poetry', 'poets', 'pogo', 'point', 'pointed', 'pointer', 'pointers', 'pointing', 'points', 'poised', 'poke', 'pokemon', 'poland', 'polar', 'polaroid', 'pole', 'poles', 'police', 'policies', 'policy', 'polish', 'polished', 'polite', 'political', 'politicians', 'politics', 'poll', 'pollen', 'pollinators', 'pollution', 'poly', 'polygons', 'polymer', 'pom', 'poms', 'pond', 'ponder', 'pong', 'pool', 'pools', 'poor', 'poorer', 'poorest', 'poorly', 'pop', 'popcorn', 'popping', 'pops', 'popsicle', 'popular', 'popularity', 'populated', 'population', 'populations', 'port', 'portability', 'portable', 'portables', 'portal', 'portfolio', 'portfolios', 'portion', 'portions', 'portland', 'portrait', 'portraits', 'portraiture', 'portray', 'portrayed', 'portrays', 'portuguese', 'pose', 'posed', 'poses', 'position', 'positional', 'positioned', 'positioning', 'positions', 'positive', 'positively', 'positives', 'positivity', 'posses', 'possess', 'possesses', 'possession', 'possessions', 'possibilities', 'possibility', 'possible', 'possibly', 'post', 'posted', 'poster', 'posters', 'posting', 'posts', 'postsecondary', 'postural', 'posture', 'postures', 'pot', 'potato', 'potatoes', 'potential', 'potentially', 'potentials', 'pots', 'potter', 'pottery', 'potting', 'pouch', 'pouches', 'pounds', 'pour', 'pouring', 'poverty', 'power', 'powered', 'powerful', 'powerpoint', 'powerpoints', 'powers', 'ppcd', 'practical', 'practically', 'practice', 'practiced', 'practices', 'practicing', 'pragmatic', 'prairie', 'praise', 'praised', 'praises', 'pray', 'praying', 'pre', 'precious', 'precise', 'precisely', 'precision', 'precocious', 'preconceived', 'predict', 'predictability', 'predictable', 'predicting', 'prediction', 'predictions', 'predictor', 'predominant', 'predominantly', 'predominately', 'prefer', 'preference', 'preferences', 'preferred', 'prefixes', 'preform', 'preforming', 'pregnancy', 'prejudice', 'prek', 'prekindergarten', 'premier', 'premise', 'premium', 'prep', 'preparation', 'preparatory', 'prepare', 'prepared', 'preparedness', 'prepares', 'preparing', 'prepping', 'prerequisite', 'preschool', 'preschooler', 'preschoolers', 'preschools', 'prescribed', 'presence', 'present', 'presentable', 'presentation', 'presentations', 'presented', 'presenter', 'presenters', 'presenting', 'presently', 'presents', 'preservation', 'preserve', 'preserved', 'preserver', 'preserving', 'president', 'presidential', 'presidents', 'press', 'pressed', 'pressing', 'pressure', 'pressured', 'pressures', 'prestigious', 'preteen', 'preteens', 'pretend', 'pretending', 'pretty', 'pretzels', 'prevail', 'prevalent', 'prevent', 'preventable', 'prevented', 'preventing', 'prevention', 'prevents', 'preview', 'previous', 'previously', 'prey', 'prezi', 'price', 'priced', 'priceless', 'prices', 'pricey', 'pride', 'prides', 'primarily', 'primary', 'prime', 'primer', 'prince', 'princess', 'princesses', 'principal', 'principals', 'principle', 'principles', 'print', 'printable', 'printed', 'printer', 'printers', 'printing', 'printmaking', 'prints', 'prior', 'priorities', 'prioritize', 'prioritized', 'prioritizing', 'priority', 'prism', 'prisms', 'prison', 'privacy', 'private', 'privately', 'privilege', 'privileged', 'privileges', 'privy', 'prize', 'prized', 'prizes', 'pro', 'proactive', 'probability', 'probably', 'probe', 'probes', 'problem', 'problematic', 'problems', 'procedural', 'procedure', 'procedures', 'proceed', 'process', 'processed', 'processes', 'processing', 'processor', 'processors', 'proclaimed', 'procure', 'prodigy', 'produce', 'produced', 'producers', 'produces', 'producing', 'product', 'production', 'productions', 'productive', 'productively', 'productivity', 'products', 'profession', 'professional', 'professionalism', 'professionally', 'professionals', 'professions', 'professor', 'professors', 'proficiency', 'proficient', 'proficiently', 'profile', 'profiles', 'profit', 'profits', 'profound', 'profoundly', 'program', 'programing', 'programmable', 'programme', 'programmed', 'programmer', 'programmers', 'programming', 'programs', 'progress', 'progressed', 'progresses', 'progressing', 'progression', 'progressive', 'progressively', 'prohibitive', 'prohibits', 'project', 'projected', 'projecting', 'projection', 'projector', 'projectors', 'projects', 'prolonged', 'prom', 'promethean', 'prominent', 'promise', 'promised', 'promises', 'promising', 'promote', 'promoted', 'promotes', 'promoting', 'promotion', 'prompt', 'prompted', 'prompting', 'prompts', 'prone', 'pronounce', 'pronounced', 'pronunciation', 'proof', 'prop', 'propaganda', 'propel', 'propels', 'proper', 'properly', 'properties', 'property', 'proportion', 'proportions', 'proposal', 'proposals', 'propose', 'proposed', 'proposing', 'propped', 'proprioceptive', 'props', 'pros', 'prospect', 'prospects', 'prosper', 'prosperity', 'prosperous', 'protagonist', 'protagonists', 'protect', 'protected', 'protecting', 'protection', 'protective', 'protector', 'protectors', 'protein', 'protocols', 'prototype', 'prototypes', 'prototyping', 'protractor', 'protractors', 'proud', 'prouder', 'proudly', 'prove', 'proved', 'proven', 'proverb', 'proves', 'provide', 'provided', 'providence', 'provider', 'providers', 'provides', 'providing', 'proving', 'provision', 'provisions', 'provoke', 'provoking', 'proximal', 'proximity', 'ps', 'psa', 'psychological', 'psychologist', 'psychology', 'pt', 'pta', 'pto', 'ptsd', 'puberty', 'public', 'publication', 'publications', 'publicly', 'publish', 'published', 'publisher', 'publishers', 'publishing', 'puerto', 'pull', 'pulled', 'pulleys', 'pulling', 'pullout', 'pulls', 'pulse', 'pump', 'pumped', 'pumping', 'pumpkin', 'pumpkins', 'pumps', 'punch', 'puncher', 'punches', 'punching', 'punctuation', 'punishment', 'punjabi', 'pupil', 'pupils', 'puppet', 'puppets', 'purchase', 'purchased', 'purchases', 'purchasing', 'pure', 'purely', 'purifier', 'purple', 'purpose', 'purposed', 'purposeful', 'purposefully', 'purposes', 'purses', 'pursue', 'pursuing', 'pursuit', 'pursuits', 'push', 'pushed', 'pushes', 'pushing', 'put', 'puts', 'putting', 'putty', 'puzzle', 'puzzles', 'pvc', 'pyp', 'pyramid', 'pyramids', 'python', 'qr', 'quadratic', 'quaint', 'qualified', 'qualifies', 'qualify', 'qualifying', 'qualitative', 'qualities', 'quality', 'quantitative', 'quantities', 'quantity', 'quarter', 'quarterly', 'quarters', 'queen', 'queens', 'quench', 'quenched', 'quest', 'question', 'questioned', 'questioners', 'questioning', 'questions', 'quests', 'quick', 'quicker', 'quickly', 'quiet', 'quieter', 'quietest', 'quietly', 'quiets', 'quilt', 'quirky', 'quit', 'quite', 'quiz', 'quizlet', 'quizzes', 'quo', 'quote', 'quoted', 'quotes', 'race', 'races', 'racial', 'racially', 'racing', 'racism', 'rack', 'rackets', 'racks', 'racquets', 'radar', 'radio', 'radios', 'radius', 'raffle', 'rage', 'rail', 'railroad', 'rain', 'rainbow', 'rainforest', 'raining', 'rains', 'rainy', 'raise', 'raised', 'raiser', 'raisers', 'raises', 'raising', 'rallies', 'rally', 'ralph', 'rambunctious', 'ramp', 'rampant', 'ramps', 'ran', 'ranch', 'ranches', 'random', 'randomly', 'range', 'ranges', 'ranging', 'rank', 'ranked', 'ranking', 'rankings', 'ranks', 'rap', 'rapid', 'rapidly', 'rapids', 'rapport', 'raps', 'rare', 'rarely', 'raspberry', 'rate', 'rated', 'rates', 'rather', 'rating', 'ratings', 'ratio', 'rational', 'ratios', 'ravaged', 'rave', 'raw', 'ray', 'rays', 'raz', 'razkids', 'reach', 'reached', 'reaches', 'reaching', 'react', 'reaction', 'reactions', 'read', 'readability', 'readable', 'reader', 'readers', 'readily', 'readiness', 'reading', 'readings', 'reads', 'readworks', 'ready', 'real', 'realia', 'realistic', 'realistically', 'realities', 'reality', 'realization', 'realize', 'realized', 'realizes', 'realizing', 'really', 'realm', 'realms', 'reams', 'reap', 'rearrange', 'rearranging', 'reason', 'reasonable', 'reasoning', 'reasons', 'reassurance', 'reassure', 'reassured', 'rebuild', 'rebuilding', 'rebuilt', 'recall', 'recalling', 'receive', 'received', 'receives', 'receiving', 'recent', 'recently', 'receptive', 'recess', 'recesses', 'recession', 'recharge', 'rechargeable', 'recieve', 'recipe', 'recipes', 'recipient', 'recipients', 'reciprocal', 'recite', 'reciting', 'reclassified', 'recognition', 'recognitions', 'recognizable', 'recognize', 'recognized', 'recognizes', 'recognizing', 'recommend', 'recommendation', 'recommendations', 'recommended', 'recommending', 'record', 'recorded', 'recorder', 'recorders', 'recording', 'recordings', 'records', 'recover', 'recovering', 'recovery', 'recreate', 'recreating', 'recreation', 'recreational', 'recruit', 'rectangle', 'rectangular', 'recyclable', 'recyclables', 'recycle', 'recycled', 'recycling', 'red', 'redesign', 'redesigned', 'redesigning', 'redirect', 'redirected', 'redirecting', 'redirection', 'reduce', 'reduced', 'reduces', 'reducing', 'reduction', 'redwood', 'reed', 'reeds', 'reef', 'refer', 'reference', 'referenced', 'references', 'referencing', 'referrals', 'referred', 'referring', 'refers', 'refill', 'refills', 'refine', 'refining', 'reflect', 'reflected', 'reflecting', 'reflection', 'reflections', 'reflective', 'reflects', 'reflex', 'reflexmath', 'refocus', 'refrain', 'refresh', 'refreshed', 'refreshing', 'refrigerator', 'refuel', 'refuge', 'refugee', 'refugees', 'refurbished', 'refuse', 'regain', 'regard', 'regarded', 'regarding', 'regardless', 'regards', 'regents', 'reggio', 'region', 'regional', 'regions', 'register', 'registered', 'registration', 'regroup', 'regrouping', 'regular', 'regularly', 'regulate', 'regulated', 'regulating', 'regulation', 'regulations', 'rehabilitation', 'rehearsal', 'rehearsals', 'rehearse', 'rehearsing', 'reinforce', 'reinforced', 'reinforcement', 'reinforcements', 'reinforcer', 'reinforcers', 'reinforces', 'reinforcing', 'reiterate', 'rekenrek', 'rekenreks', 'relatable', 'relate', 'related', 'relates', 'relating', 'relation', 'relational', 'relations', 'relationship', 'relationships', 'relative', 'relatively', 'relatives', 'relax', 'relaxation', 'relaxed', 'relaxing', 'relay', 'relays', 'release', 'released', 'releases', 'releasing', 'relentless', 'relentlessly', 'relevance', 'relevant', 'reliability', 'reliable', 'reliance', 'reliant', 'relied', 'relief', 'relies', 'relieve', 'relieving', 'religion', 'religions', 'religious', 'religiously', 'relish', 'relocate', 'relocated', 'relocating', 'reluctant', 'rely', 'relying', 'remain', 'remainder', 'remained', 'remaining', 'remains', 'remarkable', 'remarkably', 'remedial', 'remediate', 'remediation', 'remedy', 'remember', 'remembered', 'remembering', 'remembers', 'remind', 'reminded', 'reminder', 'reminders', 'reminding', 'reminds', 'remodeled', 'remote', 'remotely', 'removable', 'remove', 'removed', 'removes', 'removing', 'renaissance', 'rendering', 'renew', 'renewable', 'renewed', 'renovated', 'renovation', 'renovations', 'rent', 'rental', 'repair', 'repaired', 'repairing', 'repairs', 'repeat', 'repeated', 'repeatedly', 'repeating', 'repertoire', 'repetition', 'repetitions', 'repetitive', 'replace', 'replaced', 'replacement', 'replacements', 'replacing', 'replay', 'replenish', 'replenished', 'replenishing', 'replica', 'replicas', 'replicate', 'replied', 'reply', 'report', 'reported', 'reporters', 'reporting', 'reports', 'represent', 'representation', 'representations', 'representative', 'representatives', 'represented', 'representing', 'represents', 'reprieve', 'reproduce', 'reproducible', 'reproductions', 'republic', 'reputable', 'reputation', 'request', 'requested', 'requesting', 'requests', 'require', 'required', 'requirement', 'requirements', 'requires', 'requiring', 'requisite', 'reread', 'rereading', 'rescue', 'research', 'researched', 'researcher', 'researchers', 'researches', 'researching', 'resemble', 'reservation', 'reserve', 'reserved', 'reset', 'reside', 'residence', 'residential', 'residents', 'resides', 'residing', 'resilience', 'resiliency', 'resilient', 'resist', 'resistance', 'resistant', 'resolution', 'resolve', 'resonate', 'resonates', 'resort', 'resounding', 'resource', 'resourced', 'resourceful', 'resourcefulness', 'resources', 'respect', 'respectable', 'respected', 'respectful', 'respectfully', 'respecting', 'respective', 'respects', 'respiration', 'respiratory', 'respond', 'responded', 'responding', 'responds', 'response', 'responses', 'responsibilities', 'responsibility', 'responsible', 'responsibly', 'responsive', 'rest', 'restaurant', 'restaurants', 'resting', 'restless', 'restlessness', 'restock', 'restoration', 'restorative', 'restore', 'restraints', 'restrict', 'restricted', 'restricting', 'restriction', 'restrictions', 'restrictive', 'restroom', 'rests', 'result', 'resulted', 'resulting', 'results', 'resume', 'resumes', 'retail', 'retain', 'retained', 'retaining', 'retains', 'reteach', 'reteaching', 'retell', 'retelling', 'retention', 'retire', 'retired', 'retirement', 'retreat', 'retrieval', 'retrieve', 'retrieving', 'return', 'returned', 'returning', 'returns', 'reusable', 'reuse', 'reused', 'reusing', 'revamp', 'revamped', 'reveal', 'revealed', 'reveals', 'revel', 'revenue', 'reverse', 'review', 'reviewed', 'reviewing', 'reviews', 'revise', 'revising', 'revision', 'revisions', 'revisit', 'revitalize', 'revolution', 'revolutionary', 'revolutionize', 'revolve', 'revolves', 'revolving', 'reward', 'rewarded', 'rewarding', 'rewards', 'rewrite', 'rhetoric', 'rhode', 'rhyme', 'rhymes', 'rhyming', 'rhythm', 'rhythmic', 'rhythms', 'ribbon', 'ribbons', 'rican', 'rice', 'rich', 'richard', 'richer', 'richest', 'richly', 'richmond', 'richness', 'rico', 'rid', 'ridden', 'riddled', 'riddles', 'ride', 'rides', 'ridge', 'ridiculous', 'riding', 'right', 'rights', 'rigid', 'rigor', 'rigorous', 'rigorously', 'rigors', 'ring', 'rings', 'rio', 'rip', 'ripe', 'ripped', 'rise', 'risen', 'risers', 'rises', 'rising', 'risk', 'risking', 'risks', 'rita', 'river', 'rivers', 'road', 'roadblock', 'roadblocks', 'roads', 'roald', 'roam', 'roaming', 'roar', 'roaring', 'rob', 'robert', 'robinson', 'robot', 'robotic', 'robotics', 'robots', 'robust', 'rochester', 'rock', 'rocker', 'rockers', 'rocket', 'rockets', 'rocking', 'rocks', 'rocky', 'rods', 'rogers', 'role', 'roles', 'roll', 'rolled', 'roller', 'rollers', 'rolling', 'rolls', 'roman', 'rome', 'romeo', 'ron', 'ronald', 'roof', 'room', 'rooms', 'roosevelt', 'root', 'rooted', 'roots', 'rope', 'ropes', 'rosa', 'rose', 'rosetta', 'rosin', 'roster', 'rotate', 'rotated', 'rotates', 'rotating', 'rotation', 'rotational', 'rotations', 'rote', 'rouge', 'rough', 'roughest', 'roughly', 'round', 'rounded', 'rounding', 'rounds', 'route', 'router', 'routes', 'routine', 'routinely', 'routines', 'row', 'rowdy', 'rowling', 'rows', 'rs', 'rti', 'rubber', 'rube', 'rubik', 'rubric', 'rubrics', 'ruby', 'rug', 'rugs', 'ruin', 'ruined', 'ruining', 'ruins', 'rule', 'ruled', 'ruler', 'rulers', 'rules', 'rumbling', 'run', 'runner', 'runners', 'running', 'runny', 'runs', 'runtz', 'rural', 'rush', 'rushed', 'rushing', 'russia', 'russian', 'sack', 'sacks', 'sacramento', 'sacred', 'sacrifice', 'sacrifices', 'sad', 'saddened', 'saddens', 'sadly', 'sadness', 'safari', 'safe', 'safely', 'safer', 'safest', 'safety', 'sagan', 'sage', 'said', 'sail', 'saint', 'sake', 'salad', 'salads', 'salary', 'sale', 'salem', 'sales', 'salinas', 'salmon', 'salt', 'salvador', 'same', 'samoa', 'samoan', 'sample', 'samples', 'sampling', 'samsung', 'san', 'sanctuary', 'sand', 'sandy', 'sang', 'sanitary', 'sanitation', 'sanitize', 'sanitizer', 'sanitizing', 'santa', 'sat', 'satisfaction', 'satisfied', 'satisfies', 'satisfy', 'satisfying', 'saturated', 'saturday', 'saturdays', 'sauce', 'saucer', 'saudi', 'save', 'saved', 'saver', 'saves', 'saving', 'savings', 'savvy', 'savy', 'saw', 'saxophone', 'saxophones', 'say', 'saying', 'says', 'sbac', 'sc', 'scaffold', 'scaffolded', 'scaffolding', 'scaffolds', 'scale', 'scaled', 'scales', 'scan', 'scanner', 'scanning', 'scarce', 'scare', 'scared', 'scarves', 'scary', 'scattered', 'scavenger', 'scenario', 'scenarios', 'scene', 'scenery', 'scenes', 'scented', 'scents', 'schedule', 'scheduled', 'schedules', 'scheduling', 'schema', 'scholar', 'scholarly', 'scholars', 'scholarship', 'scholarships', 'scholastic', 'school', 'schooler', 'schoolers', 'schooling', 'schoolmates', 'schools', 'schoolwide', 'schoolwork', 'schoolyard', 'science', 'sciences', 'scientific', 'scientifically', 'scientist', 'scientists', 'scissors', 'scoop', 'scoops', 'scoot', 'scooter', 'scooters', 'scope', 'score', 'scored', 'scores', 'scoring', 'scotch', 'scott', 'scouts', 'scrabble', 'scrambling', 'scrap', 'scrapbook', 'scraping', 'scraps', 'scratch', 'scratched', 'scratches', 'scream', 'screen', 'screening', 'screens', 'screws', 'scrimmages', 'script', 'scripts', 'scroll', 'sculpt', 'sculpting', 'sculpture', 'sculptures', 'sd', 'sdc', 'se', 'sea', 'seal', 'seamless', 'seamlessly', 'seams', 'search', 'searched', 'searches', 'searching', 'season', 'seasonal', 'seasoned', 'seasons', 'seat', 'seated', 'seating', 'seats', 'seattle', 'secluded', 'second', 'secondary', 'secondly', 'seconds', 'secret', 'secretary', 'secretly', 'secrets', 'section', 'sections', 'sector', 'secure', 'secured', 'securely', 'securing', 'security', 'sedentary', 'see', 'seed', 'seedlings', 'seeds', 'seeing', 'seek', 'seekers', 'seeking', 'seeks', 'seem', 'seemed', 'seemingly', 'seems', 'seen', 'sees', 'seesaw', 'segment', 'segmenting', 'segments', 'segregated', 'sei', 'seize', 'seizure', 'sel', 'seldom', 'select', 'selected', 'selecting', 'selection', 'selections', 'selective', 'self', 'selfies', 'selfless', 'sell', 'selling', 'selves', 'semester', 'semesters', 'semi', 'seminar', 'seminars', 'send', 'sending', 'sends', 'senegal', 'senior', 'seniors', 'sensation', 'sensational', 'sense', 'senses', 'sensitive', 'sensitivity', 'sensor', 'sensors', 'sensory', 'sent', 'sentence', 'sentences', 'separate', 'separated', 'separately', 'separating', 'separation', 'september', 'sequence', 'sequences', 'sequencing', 'sequential', 'serafini', 'series', 'serious', 'seriously', 'serve', 'served', 'server', 'serves', 'service', 'serviced', 'services', 'servicing', 'serving', 'ses', 'session', 'sessions', 'set', 'setback', 'setbacks', 'sets', 'setters', 'setting', 'settings', 'settle', 'settled', 'settling', 'setup', 'seuss', 'seven', 'seventeen', 'seventh', 'seventy', 'several', 'severe', 'severely', 'severity', 'sew', 'sewing', 'sewn', 'sexual', 'shade', 'shades', 'shading', 'shadow', 'shadows', 'shake', 'shakers', 'shakespeare', 'shakespearean', 'shaking', 'shall', 'shame', 'shampoo', 'shape', 'shaped', 'shapes', 'shaping', 'share', 'shared', 'shares', 'sharing', 'shark', 'sharks', 'sharp', 'sharpen', 'sharpened', 'sharpener', 'sharpeners', 'sharpening', 'sharper', 'sharpie', 'sharpies', 'shatter', 'she', 'shed', 'sheer', 'sheet', 'sheets', 'shelf', 'shell', 'shells', 'shelter', 'sheltered', 'shelters', 'shelves', 'shelving', 'sherman', 'shields', 'shift', 'shifted', 'shifting', 'shifts', 'shin', 'shine', 'shines', 'shining', 'shiny', 'ship', 'shirt', 'shirts', 'shock', 'shocked', 'shocking', 'shoe', 'shoes', 'shoot', 'shooting', 'shootings', 'shop', 'shopping', 'shops', 'shore', 'short', 'shortage', 'shortages', 'shortcomings', 'shorter', 'shortfalls', 'shortly', 'shorts', 'shot', 'shots', 'should', 'shoulder', 'shoulders', 'shout', 'shouted', 'shoved', 'shovels', 'show', 'showcase', 'showcased', 'showcases', 'showcasing', 'showed', 'shower', 'showing', 'shown', 'shows', 'shredded', 'shredder', 'shrink', 'shrinking', 'shuffle', 'shuffled', 'shut', 'shutting', 'shy', 'sibling', 'siblings', 'sick', 'sickness', 'side', 'sided', 'sides', 'sidewalk', 'sierra', 'sift', 'sight', 'sights', 'sign', 'signal', 'signals', 'signature', 'signed', 'significance', 'significant', 'significantly', 'signing', 'signs', 'silence', 'silent', 'silently', 'silhouette', 'silicon', 'silly', 'silver', 'similar', 'similarities', 'similarity', 'similarly', 'simple', 'simpler', 'simplest', 'simplified', 'simplify', 'simply', 'simulate', 'simulated', 'simulating', 'simulation', 'simulations', 'simultaneously', 'since', 'sincere', 'sincerely', 'sing', 'singers', 'singing', 'single', 'singled', 'sings', 'sink', 'sinking', 'sinks', 'sir', 'sirens', 'sister', 'sisters', 'sit', 'site', 'sites', 'sits', 'sitting', 'situated', 'situation', 'situations', 'six', 'sixteen', 'sixth', 'sixty', 'size', 'sized', 'sizes', 'skate', 'skeletal', 'skeleton', 'sketch', 'sketchbook', 'sketchbooks', 'sketches', 'sketching', 'skill', 'skilled', 'skillful', 'skills', 'skin', 'skip', 'skipping', 'skits', 'skull', 'sky', 'skype', 'skyrocket', 'slab', 'slam', 'slashed', 'slate', 'slates', 'slave', 'slavery', 'sld', 'sleds', 'sleep', 'sleeping', 'sleepy', 'sleeve', 'sleeves', 'slice', 'slide', 'slides', 'slideshow', 'slideshows', 'sliding', 'slight', 'slightly', 'slim', 'slime', 'slip', 'slipped', 'slipping', 'slips', 'slogan', 'slope', 'slot', 'slots', 'slouching', 'slow', 'slowed', 'slower', 'slowing', 'slowly', 'slows', 'slump', 'small', 'smaller', 'smallest', 'smart', 'smartboard', 'smartboards', 'smarter', 'smartest', 'smarties', 'smartphone', 'smartphones', 'smarts', 'smell', 'smelling', 'smells', 'smelly', 'smile', 'smiled', 'smiles', 'smiling', 'smith', 'smocks', 'smoke', 'smoky', 'smooth', 'smoother', 'smoothie', 'smoothies', 'smoothly', 'snack', 'snacking', 'snacks', 'snakes', 'snap', 'snapchat', 'snapped', 'snapping', 'snapshot', 'snare', 'sneak', 'sneakers', 'snow', 'snowy', 'snuggle', 'so', 'soak', 'soaking', 'soap', 'soar', 'soaring', 'soars', 'soccer', 'sociable', 'social', 'socialization', 'socialize', 'socializing', 'socially', 'societal', 'societies', 'society', 'socio', 'socioeconomic', 'socioeconomically', 'socioeconomics', 'sock', 'socks', 'socratic', 'socrative', 'soda', 'sofa', 'soft', 'softball', 'softer', 'software', 'soil', 'soils', 'sol', 'solace', 'solar', 'sold', 'soldering', 'soldiers', 'sole', 'solely', 'solid', 'solidify', 'solids', 'solo', 'solution', 'solutions', 'solve', 'solved', 'solver', 'solvers', 'solves', 'solving', 'somali', 'somalia', 'some', 'somebody', 'someday', 'somehow', 'someone', 'someones', 'someplace', 'something', 'sometime', 'sometimes', 'somewhat', 'somewhere', 'son', 'song', 'songs', 'sons', 'soon', 'sooner', 'soothe', 'soothing', 'sophisticated', 'sophomore', 'sophomores', 'soprano', 'sorcerer', 'sore', 'sorely', 'soreness', 'sorry', 'sort', 'sorted', 'sorting', 'sorts', 'sought', 'soul', 'souls', 'sound', 'sounded', 'sounding', 'sounds', 'soup', 'source', 'sources', 'south', 'southeast', 'southeastern', 'southern', 'southside', 'southwest', 'soviet', 'space', 'spaces', 'spacial', 'spacing', 'spacious', 'spain', 'span', 'spanish', 'spanning', 'spans', 'spare', 'spark', 'sparked', 'sparking', 'sparkle', 'sparks', 'sparse', 'spatial', 'speak', 'speaker', 'speakers', 'speaking', 'speaks', 'special', 'specialist', 'specialists', 'specialize', 'specialized', 'specializes', 'specializing', 'specially', 'specials', 'specialty', 'species', 'specific', 'specifically', 'specified', 'specimen', 'specimens', 'spectacular', 'spectrum', 'sped', 'speech', 'speeches', 'speed', 'speeds', 'spell', 'spelled', 'spellers', 'spelling', 'spend', 'spending', 'spends', 'spent', 'sphere', 'sphero', 'spheros', 'spice', 'spider', 'spill', 'spilled', 'spills', 'spin', 'spinach', 'spine', 'spines', 'spinners', 'spinning', 'spins', 'spiral', 'spirals', 'spirit', 'spirited', 'spirits', 'spite', 'splash', 'split', 'splitter', 'splitters', 'splitting', 'spoke', 'spoken', 'sponge', 'sponges', 'sponsor', 'sponsored', 'sponsoring', 'sponsors', 'spontaneous', 'spontaneously', 'spoon', 'spoons', 'sporadic', 'sport', 'sporting', 'sports', 'sportsmanship', 'spot', 'spotlight', 'spots', 'sprawl', 'sprawled', 'spray', 'spread', 'spreading', 'spreads', 'spreadsheet', 'spreadsheets', 'spring', 'springboard', 'springfield', 'springs', 'sprk', 'sprout', 'spruce', 'spunk', 'spunky', 'spur', 'squad', 'square', 'squares', 'squash', 'squat', 'squatting', 'squeeze', 'squeezed', 'squeezing', 'squirm', 'squirming', 'squirmy', 'squished', 'squishy', 'sr', 'ssr', 'st', 'staar', 'stability', 'stabilize', 'stable', 'stack', 'stackable', 'stacked', 'stacking', 'stacks', 'stadium', 'staff', 'staffed', 'staffing', 'stage', 'stages', 'staggering', 'stagnant', 'stain', 'stained', 'stains', 'stairs', 'stake', 'stakeholders', 'stakes', 'stamina', 'stamp', 'stampers', 'stamping', 'stamps', 'stance', 'stand', 'standard', 'standardize', 'standardized', 'standards', 'standing', 'standpoint', 'stands', 'stanford', 'staple', 'stapler', 'staplers', 'staples', 'star', 'starbucks', 'starfall', 'starfish', 'staring', 'stars', 'start', 'started', 'starter', 'starters', 'starting', 'starts', 'starving', 'stash', 'state', 'stated', 'statement', 'statements', 'staten', 'states', 'statewide', 'static', 'stating', 'station', 'stationary', 'stationed', 'stations', 'statistic', 'statistical', 'statistically', 'statistics', 'stats', 'status', 'statuses', 'stay', 'stayed', 'staying', 'stays', 'steadily', 'steady', 'steal', 'steam', 'steel', 'steep', 'steer', 'steinbeck', 'stellar', 'stem', 'stemming', 'stems', 'stencils', 'step', 'stephen', 'stepped', 'steppers', 'stepping', 'steps', 'stereo', 'stereotypes', 'sterile', 'steve', 'steven', 'stewards', 'stewardship', 'stick', 'sticker', 'stickers', 'sticking', 'sticks', 'sticky', 'stiff', 'stifle', 'stifled', 'stigma', 'still', 'stilts', 'stimulate', 'stimulated', 'stimulates', 'stimulating', 'stimulation', 'stimuli', 'stimulus', 'stir', 'stitch', 'stix', 'stock', 'stocked', 'stocking', 'stocks', 'stole', 'stolen', 'stomach', 'stomachs', 'stomp', 'stone', 'stones', 'stood', 'stool', 'stools', 'stop', 'stopped', 'stopping', 'stops', 'stopwatch', 'stopwatches', 'storage', 'store', 'stored', 'stores', 'stories', 'storing', 'storm', 'story', 'storyboard', 'storyboards', 'storybook', 'storybooks', 'storyline', 'storylines', 'storytellers', 'storytelling', 'storyworks', 'stove', 'straight', 'strain', 'straining', 'strand', 'strange', 'stranger', 'strangers', 'strap', 'strapped', 'straps', 'strategic', 'strategically', 'strategies', 'strategize', 'strategy', 'straw', 'strawberries', 'strawberry', 'straws', 'streak', 'stream', 'streaming', 'streamline', 'streamlined', 'streams', 'street', 'streets', 'strength', 'strengthen', 'strengthened', 'strengthening', 'strengthens', 'strengths', 'strenuous', 'stress', 'stressed', 'stresses', 'stressful', 'stressing', 'stressors', 'stretch', 'stretched', 'stretches', 'stretching', 'stretchy', 'stricken', 'strict', 'strictly', 'stride', 'strides', 'strife', 'strike', 'strikes', 'striking', 'string', 'stringed', 'strings', 'strip', 'strips', 'strive', 'strived', 'strives', 'striving', 'stroke', 'strokes', 'strong', 'stronger', 'strongest', 'strongly', 'struck', 'structural', 'structure', 'structured', 'structures', 'struggle', 'struggled', 'struggles', 'struggling', 'strumming', 'stuck', 'student', 'students', 'studied', 'studies', 'studio', 'studnets', 'study', 'studying', 'stuff', 'stuffed', 'stuffy', 'stumbled', 'stunning', 'stupid', 'sturdier', 'sturdy', 'stuttering', 'style', 'styles', 'stylus', 'styluses', 'styrofoam', 'sub', 'subject', 'subjected', 'subjects', 'submerged', 'submissions', 'submit', 'submitted', 'submitting', 'subscribe', 'subscription', 'subscriptions', 'subsequent', 'subsequently', 'subsidized', 'substance', 'substances', 'substantial', 'substantially', 'substitute', 'subtle', 'subtract', 'subtracting', 'subtraction', 'suburb', 'suburban', 'suburbs', 'succeed', 'succeeded', 'succeeding', 'succeeds', 'success', 'successes', 'successful', 'successfully', 'such', 'sudan', 'sudden', 'suddenly', 'suess', 'suffer', 'suffered', 'suffering', 'suffers', 'suffice', 'sufficiency', 'sufficient', 'sufficiently', 'suffixes', 'sugar', 'sugary', 'suggest', 'suggested', 'suggesting', 'suggestion', 'suggestions', 'suggests', 'suicide', 'suit', 'suitable', 'suite', 'suited', 'suites', 'suits', 'sum', 'sumdog', 'summaries', 'summarize', 'summarizing', 'summary', 'summative', 'summer', 'summers', 'summit', 'sums', 'sun', 'sunday', 'sunlight', 'sunny', 'sunset', 'sunshine', 'super', 'superb', 'superficial', 'superhero', 'superheroes', 'superintendent', 'superior', 'superpowers', 'superscience', 'superstar', 'superstars', 'supervise', 'supervised', 'supervision', 'supper', 'supplement', 'supplemental', 'supplementary', 'supplemented', 'supplementing', 'supplements', 'supplied', 'supplies', 'supply', 'supplying', 'support', 'supported', 'supporter', 'supporters', 'supporting', 'supportive', 'supports', 'suppose', 'supposed', 'supreme', 'sure', 'surely', 'surf', 'surface', 'surfaces', 'surfing', 'surge', 'surgeons', 'surpass', 'surpassed', 'surpassing', 'surplus', 'surprise', 'surprised', 'surprises', 'surprising', 'surprisingly', 'surround', 'surrounded', 'surrounding', 'surroundings', 'surrounds', 'survey', 'surveyed', 'surveying', 'surveys', 'survival', 'survive', 'survived', 'surviving', 'survivors', 'suspended', 'suspension', 'sustain', 'sustainability', 'sustainable', 'sustained', 'sustaining', 'swahili', 'swap', 'sway', 'swaying', 'sweat', 'sweatshirts', 'sweep', 'sweeping', 'sweet', 'sweetest', 'swept', 'swim', 'swimming', 'swing', 'swinging', 'swings', 'swipe', 'switch', 'switched', 'switches', 'switching', 'swivel', 'syllable', 'syllables', 'symbol', 'symbolism', 'symbols', 'symmetry', 'symphony', 'symptoms', 'sync', 'syndrome', 'synergize', 'synonyms', 'syntax', 'synthesis', 'synthesize', 'synthesizing', 'syria', 'system', 'systematic', 'systematically', 'systemic', 'systems', 'tab', 'table', 'tables', 'tablet', 'tabletop', 'tablets', 'tabs', 'tackle', 'tackling', 'tactics', 'tactile', 'tag', 'tagalog', 'tags', 'tailed', 'tailor', 'tailored', 'tailoring', 'take', 'taken', 'takers', 'takes', 'taking', 'tale', 'talent', 'talented', 'talents', 'tales', 'talk', 'talkative', 'talked', 'talkers', 'talking', 'talks', 'tall', 'taller', 'tambourines', 'tampa', 'tan', 'tangible', 'tangle', 'tangled', 'tangles', 'tangram', 'tangrams', 'tank', 'tanks', 'tanzania', 'tap', 'tape', 'taped', 'tapes', 'tapestry', 'taping', 'tapped', 'tapping', 'taps', 'target', 'targeted', 'targeting', 'targets', 'task', 'tasked', 'tasks', 'taste', 'tastes', 'tasting', 'tasty', 'tattered', 'taught', 'tax', 'taxes', 'taxing', 'tea', 'teach', 'teachable', 'teacher', 'teachers', 'teaches', 'teaching', 'teachings', 'team', 'teammate', 'teammates', 'teams', 'teamwork', 'tear', 'tearing', 'tears', 'tech', 'technical', 'technically', 'technicians', 'technique', 'techniques', 'techno', 'technological', 'technologically', 'technologies', 'technologists', 'technology', 'tectonics', 'ted', 'tedious', 'tee', 'teen', 'teenage', 'teenager', 'teenagers', 'teens', 'teepee', 'teeth', 'teks', 'telescope', 'television', 'televisions', 'tell', 'tellers', 'telling', 'tells', 'tempera', 'temperature', 'temperatures', 'template', 'templates', 'temple', 'tempo', 'temporarily', 'temporary', 'temptation', 'ten', 'tenacious', 'tenacity', 'tend', 'tendencies', 'tendency', 'tender', 'tending', 'tends', 'tenmarks', 'tennessee', 'tennis', 'tenor', 'tens', 'tense', 'tension', 'tent', 'tenth', 'tents', 'term', 'terminology', 'terms', 'terrain', 'terrarium', 'terrible', 'terribly', 'terrific', 'territory', 'test', 'testament', 'tested', 'testing', 'tests', 'tether', 'texas', 'text', 'textbook', 'textbooks', 'textile', 'texting', 'texts', 'textual', 'texture', 'textured', 'textures', 'tfk', 'th', 'thailand', 'thank', 'thankful', 'thankfully', 'thanking', 'thanks', 'thanksgiving', 'that', 'thats', 'the', 'theater', 'theaters', 'theatre', 'theatrical', 'their', 'them', 'thematic', 'theme', 'themed', 'themes', 'then', 'theodore', 'theoretical', 'theories', 'theory', 'therapeutic', 'therapies', 'therapist', 'therapists', 'theraputty', 'therapy', 'there', 'thereby', 'therefor', 'therefore', 'thereof', 'thermal', 'thermometer', 'thermometers', 'thesaurus', 'thesauruses', 'these', 'theses', 'thesis', 'they', 'thick', 'thief', 'thier', 'thin', 'thing', 'things', 'think', 'thinker', 'thinkers', 'thinking', 'thinks', 'third', 'thirds', 'thirst', 'thirsting', 'thirsty', 'thirteen', 'thirty', 'this', 'thomas', 'thorough', 'thoroughly', 'those', 'though', 'thought', 'thoughtful', 'thoughtfully', 'thoughtfulness', 'thoughts', 'thousand', 'thousands', 'thread', 'threads', 'threat', 'threatening', 'threats', 'three', 'threshold', 'threw', 'thrift', 'thrill', 'thrilled', 'thrilling', 'thrive', 'thrived', 'thrives', 'thriving', 'through', 'throughout', 'throw', 'throwing', 'thrown', 'throws', 'thru', 'thrust', 'thumb', 'thumbs', 'thursday', 'thursdays', 'thus', 'ti', 'tick', 'ticket', 'tickets', 'tide', 'tidy', 'tie', 'tied', 'tier', 'tiered', 'ties', 'tiger', 'tigers', 'tiggly', 'tight', 'tightly', 'tile', 'tiled', 'tiles', 'till', 'tilt', 'time', 'timed', 'timeless', 'timeline', 'timelines', 'timely', 'timer', 'timers', 'times', 'timid', 'timing', 'tin', 'tinker', 'tinkercad', 'tinkering', 'tiny', 'tip', 'tipped', 'tipping', 'tips', 'tire', 'tired', 'tirelessly', 'tires', 'tiring', 'tissue', 'tissues', 'title', 'titled', 'titles', 'tittle', 'tk', 'tlc', 'tmy', 'tn', 'to', 'toad', 'toaster', 'today', 'todays', 'toddlers', 'toe', 'toes', 'together', 'togetherness', 'togo', 'toilet', 'token', 'tokens', 'told', 'tolerance', 'tolerant', 'toll', 'tom', 'tomatoes', 'tomorrow', 'tomorrows', 'ton', 'tone', 'toner', 'tones', 'tongs', 'tongue', 'tons', 'too', 'took', 'tool', 'toolbox', 'toolboxes', 'toolkit', 'tools', 'toon', 'tooth', 'toothbrush', 'toothbrushes', 'toothpaste', 'toothpicks', 'top', 'topic', 'topics', 'tops', 'torn', 'tornado', 'tortoise', 'toss', 'tossed', 'tossing', 'total', 'totaling', 'totally', 'tote', 'totes', 'touch', 'touchcast', 'touched', 'touches', 'touching', 'touchpad', 'touchpads', 'touchscreen', 'tough', 'tougher', 'toughest', 'tour', 'tourism', 'tourist', 'tournament', 'tournaments', 'tours', 'toward', 'towards', 'towel', 'towels', 'tower', 'towers', 'town', 'towns', 'township', 'toxic', 'toy', 'toys', 'trace', 'tracing', 'track', 'tracked', 'tracker', 'trackers', 'tracking', 'tracks', 'trade', 'trades', 'trading', 'tradition', 'traditional', 'traditionally', 'traditions', 'traffic', 'tragedies', 'tragedy', 'tragic', 'trail', 'trailer', 'trailers', 'trails', 'train', 'trained', 'trainer', 'trainers', 'training', 'trainings', 'trains', 'trait', 'traits', 'trajectory', 'trampoline', 'trampolines', 'tranquil', 'trans', 'transcend', 'transcends', 'transfer', 'transferable', 'transferred', 'transferring', 'transfers', 'transform', 'transformation', 'transformational', 'transformations', 'transformative', 'transformed', 'transforming', 'transforms', 'transient', 'transit', 'transition', 'transitional', 'transitioned', 'transitioning', 'transitions', 'translate', 'translated', 'translates', 'translating', 'translation', 'translations', 'translators', 'translucent', 'transnationals', 'transparent', 'transplant', 'transport', 'transportable', 'transportation', 'transported', 'transporting', 'trapezoid', 'trapped', 'trash', 'trauma', 'traumas', 'traumatic', 'travel', 'traveled', 'travelers', 'traveling', 'travels', 'traverse', 'tray', 'trays', 'treadmill', 'treasure', 'treasured', 'treasures', 'treat', 'treated', 'treating', 'treatment', 'treatments', 'treats', 'treble', 'tree', 'treehouse', 'trees', 'tremendous', 'tremendously', 'trend', 'trends', 'tri', 'trial', 'trials', 'triangle', 'triangles', 'triangular', 'tribe', 'tribes', 'tribulations', 'trick', 'trickle', 'tricks', 'tricky', 'tricycle', 'tricycles', 'tried', 'tries', 'trigger', 'triggers', 'trikes', 'trimester', 'trinkets', 'trip', 'triple', 'tripled', 'tripod', 'tripods', 'tripping', 'trips', 'triumph', 'triumphs', 'trivia', 'trivial', 'troll', 'trombone', 'trophy', 'trouble', 'troubled', 'troubles', 'troubleshoot', 'troubleshooting', 'troublesome', 'troubling', 'trough', 'truancy', 'truck', 'trucks', 'true', 'truer', 'truly', 'trumpet', 'trumpets', 'trunk', 'trust', 'trusted', 'trusting', 'trustworthiness', 'trustworthy', 'truth', 'truths', 'try', 'trying', 'tub', 'tuba', 'tubano', 'tube', 'tubes', 'tubman', 'tubs', 'tuck', 'tucked', 'tucson', 'tuesday', 'tuition', 'tulsa', 'tumble', 'tumbling', 'tummies', 'tummy', 'tumultuous', 'tune', 'tuned', 'tuner', 'tuners', 'tunes', 'tuning', 'tunnel', 'tunnels', 'turkey', 'turkish', 'turmoil', 'turn', 'turnaround', 'turned', 'turning', 'turnover', 'turns', 'turtle', 'turtles', 'tutor', 'tutorial', 'tutorials', 'tutoring', 'tutors', 'tv', 'tvs', 'twain', 'tweens', 'tweet', 'tweezers', 'twelfth', 'twelve', 'twenty', 'twice', 'twin', 'twinkle', 'twist', 'twister', 'twisting', 'twists', 'twitter', 'two', 'tx', 'tying', 'type', 'typed', 'types', 'typical', 'typically', 'typing', 'uc', 'ugly', 'ukraine', 'ukulele', 'ukuleles', 'ultimate', 'ultimately', 'umbrella', 'un', 'unable', 'unacceptable', 'unanimously', 'unattainable', 'unavailable', 'unaware', 'unbalanced', 'unbearable', 'unbelievable', 'unbelievably', 'uncertain', 'uncertainty', 'uncle', 'uncles', 'uncomfortable', 'uncommon', 'unconditional', 'unconditionally', 'uncontrollable', 'unconventional', 'uncover', 'uncovering', 'undeniable', 'under', 'underdeveloped', 'underestimate', 'underestimated', 'underfunded', 'undergo', 'undergoing', 'undergone', 'underground', 'underline', 'underlying', 'underneath', 'underperforming', 'underprivileged', 'underrepresented', 'underserved', 'understand', 'understandable', 'understandably', 'understanding', 'understandings', 'understands', 'understatement', 'understood', 'undertake', 'undertaking', 'underwater', 'underwear', 'undeserved', 'undesirable', 'undiagnosed', 'undoubtedly', 'unemployed', 'unemployment', 'uneven', 'unexpected', 'unfair', 'unfamiliar', 'unfinished', 'unfocused', 'unfold', 'unforgettable', 'unfortunate', 'unfortunately', 'unhappy', 'unhealthy', 'unheard', 'unified', 'unifix', 'uniform', 'uniformity', 'uniforms', 'unifying', 'unimaginable', 'uninterested', 'uninteresting', 'uninterrupted', 'union', 'unique', 'uniquely', 'uniqueness', 'unit', 'unite', 'united', 'unites', 'units', 'unity', 'universal', 'universally', 'universe', 'universities', 'university', 'unknowingly', 'unknown', 'unleash', 'unless', 'unlike', 'unlikely', 'unlimited', 'unlock', 'unlocking', 'unlocks', 'unmatched', 'unmotivated', 'unnatural', 'unnecessary', 'unnoticed', 'uno', 'unorganized', 'unpack', 'unparalleled', 'unplugged', 'unprecedented', 'unpredictable', 'unprepared', 'unquenchable', 'unreachable', 'unrealistic', 'unreliable', 'unrest', 'unsafe', 'unseen', 'unstable', 'unstoppable', 'unstructured', 'unsuccessful', 'unsure', 'untangle', 'untapped', 'unthinkable', 'until', 'unusable', 'unused', 'unusual', 'unwanted', 'unwind', 'up', 'upbeat', 'upbringing', 'upbringings', 'upcoming', 'update', 'updated', 'updates', 'updating', 'upfront', 'upgrade', 'upgraded', 'upgrades', 'upgrading', 'uphill', 'uphold', 'upkeep', 'uplift', 'uplifting', 'upload', 'uploaded', 'uploading', 'upmost', 'upon', 'upper', 'uppercase', 'upright', 'ups', 'upset', 'upside', 'upstate', 'upward', 'upwards', 'urban', 'urdu', 'urge', 'urgency', 'urgent', 'us', 'usa', 'usable', 'usage', 'usb', 'use', 'used', 'useful', 'usefulness', 'useless', 'user', 'users', 'uses', 'using', 'usual', 'usually', 'utah', 'utensil', 'utensils', 'utilities', 'utility', 'utilization', 'utilize', 'utilized', 'utilizes', 'utilizing', 'utmost', 'uv', 'uzbekistan', 'va', 'vacation', 'vacations', 'vacuum', 'valid', 'validate', 'validated', 'validity', 'valley', 'valuable', 'value', 'valued', 'values', 'valuing', 'valve', 'van', 'variable', 'variables', 'variation', 'variations', 'varied', 'varies', 'varieties', 'variety', 'various', 'varsity', 'vary', 'varying', 'vast', 'vastly', 'vegas', 'vegetable', 'vegetables', 'veggie', 'veggies', 'vehicle', 'vehicles', 'velcro', 'velocity', 'venezuela', 'venture', 'ventured', 'ventures', 'venue', 'venues', 'verb', 'verbal', 'verbalize', 'verbally', 'verbs', 'verde', 'verge', 'verify', 'vermont', 'vernier', 'versa', 'versatile', 'versatility', 'verse', 'versed', 'verses', 'version', 'versions', 'versus', 'vertical', 'vertically', 'vertices', 'very', 'vessel', 'vessels', 'vest', 'vested', 'vestibular', 'vests', 'veteran', 'veterans', 'veterinarian', 'veterinarians', 'vex', 'vga', 'via', 'viable', 'vibe', 'vibrant', 'vibrating', 'vibration', 'vice', 'victim', 'victims', 'victories', 'victory', 'video', 'videoing', 'videos', 'vietnam', 'vietnamese', 'view', 'viewed', 'viewer', 'viewers', 'viewing', 'viewpoint', 'viewpoints', 'views', 'vigor', 'vigorous', 'village', 'villages', 'vincent', 'vinci', 'vinyl', 'viola', 'violence', 'violent', 'violin', 'violins', 'vip', 'virginia', 'virtual', 'virtually', 'virtues', 'viruses', 'visibility', 'visible', 'visibly', 'vision', 'visions', 'visit', 'visited', 'visiting', 'visitor', 'visitors', 'visits', 'vista', 'visual', 'visualization', 'visualize', 'visualizing', 'visually', 'visuals', 'vital', 'vitally', 'vivacious', 'vivid', 'vividly', 'vocab', 'vocabularies', 'vocabulary', 'vocal', 'vocational', 'voice', 'voiced', 'voices', 'void', 'volcano', 'volcanoes', 'volleyball', 'volleyballs', 'volume', 'volumes', 'voluntarily', 'voluntary', 'volunteer', 'volunteered', 'volunteering', 'volunteers', 'voracious', 'vote', 'voted', 'voting', 'vowel', 'vowels', 'vr', 'vs', 'vulnerable', 'wa', 'wacky', 'wage', 'wages', 'wagon', 'wagons', 'wait', 'waited', 'waiting', 'wake', 'waking', 'walk', 'walked', 'walker', 'walkers', 'walking', 'walks', 'wall', 'wallets', 'walls', 'walmart', 'walt', 'walter', 'wand', 'wander', 'wandering', 'wands', 'want', 'wanted', 'wanting', 'wants', 'war', 'ward', 'warehouse', 'warhol', 'warlick', 'warm', 'warmer', 'warming', 'warms', 'warmth', 'warning', 'warped', 'warranty', 'warrior', 'warriors', 'wars', 'was', 'wash', 'washable', 'washed', 'washes', 'washing', 'washington', 'wasps', 'waste', 'wasted', 'wastes', 'wasting', 'watch', 'watched', 'watches', 'watching', 'water', 'watercolor', 'watercolors', 'watering', 'waterproof', 'waters', 'watershed', 'watson', 'watts', 'wave', 'waves', 'wax', 'way', 'wayne', 'ways', 'wayside', 'we', 'weak', 'weaker', 'weakness', 'weaknesses', 'wealth', 'wealthier', 'wealthy', 'weapon', 'wear', 'wearable', 'wearing', 'wears', 'weather', 'weathering', 'weave', 'weaving', 'web', 'webcam', 'webpage', 'webpages', 'webquests', 'webs', 'website', 'websites', 'wedges', 'wednesday', 'wednesdays', 'wedo', 'weed', 'weeding', 'weeds', 'week', 'weekend', 'weekends', 'weekly', 'weeks', 'weigh', 'weighing', 'weight', 'weighted', 'weights', 'weird', 'welcome', 'welcomed', 'welcomes', 'welcoming', 'welding', 'welfare', 'well', 'wellbeing', 'wellness', 'wells', 'went', 'were', 'west', 'western', 'westside', 'wet', 'whale', 'what', 'whatever', 'whats', 'wheel', 'wheelchair', 'wheelchairs', 'wheels', 'when', 'whenever', 'where', 'whereas', 'wherever', 'whether', 'which', 'whichever', 'while', 'whisper', 'whisperer', 'whistle', 'whistles', 'white', 'whiteboard', 'whiteboards', 'whites', 'who', 'whoever', 'whole', 'wholeheartedly', 'wholly', 'whose', 'why', 'whys', 'wi', 'wide', 'widely', 'widen', 'wider', 'widespread', 'width', 'wiffle', 'wifi', 'wiggle', 'wigglers', 'wiggles', 'wiggling', 'wiggly', 'wii', 'wiki', 'wikki', 'wil', 'wild', 'wildest', 'wildlife', 'wildly', 'will', 'willed', 'willems', 'william', 'williams', 'willing', 'willingly', 'willingness', 'wilson', 'wimpy', 'win', 'wind', 'windmill', 'windmills', 'window', 'windows', 'wing', 'wings', 'winn', 'winner', 'winners', 'winning', 'wins', 'winston', 'winter', 'winters', 'wipe', 'wiped', 'wipes', 'wiping', 'wire', 'wired', 'wireless', 'wirelessly', 'wires', 'wiring', 'wisconsin', 'wisdom', 'wise', 'wisely', 'wish', 'wished', 'wishes', 'wishing', 'wishlist', 'wit', 'with', 'within', 'without', 'withstand', 'witness', 'witnessed', 'witnessing', 'witted', 'witty', 'wizards', 'wo', 'wobble', 'wobbles', 'wobbling', 'wobbly', 'woefully', 'woes', 'wold', 'wolf', 'wolves', 'woman', 'women', 'wonder', 'wondered', 'wonderful', 'wonderfully', 'wondering', 'wonderings', 'wonderland', 'wonderment', 'wonders', 'wondrous', 'wont', 'wood', 'wooden', 'woods', 'woodwind', 'woodworking', 'word', 'words', 'wore', 'work', 'workbook', 'workbooks', 'worked', 'worker', 'workers', 'workforce', 'working', 'workings', 'workload', 'workout', 'workouts', 'workplace', 'workplaces', 'works', 'worksheet', 'worksheets', 'workshop', 'workshops', 'workspace', 'workspaces', 'workstation', 'workstations', 'world', 'worldly', 'worlds', 'worldview', 'worldwide', 'worm', 'worms', 'worn', 'worried', 'worries', 'worry', 'worrying', 'worse', 'worst', 'worth', 'worthwhile', 'worthy', 'would', 'wounded', 'woven', 'wow', 'wracking', 'wrap', 'wraparound', 'wrapped', 'wrapping', 'wrestle', 'wrestling', 'wrinkled', 'wrist', 'wristbands', 'wrists', 'write', 'writer', 'writers', 'writes', 'writing', 'writings', 'written', 'wrong', 'wrote', 'wv', 'wwii', 'www', 'wyoming', 'xbox', 'xtra', 'xtramath', 'xylophone', 'xylophones', 'ya', 'yard', 'yards', 'yarn', 'yay', 'yeah', 'year', 'yearbook', 'yearbooks', 'yearlong', 'yearly', 'yearn', 'yearning', 'years', 'yeats', 'yell', 'yelling', 'yellow', 'yemen', 'yes', 'yesterday', 'yet', 'yield', 'yields', 'yo', 'yoga', 'yogurt', 'york', 'you', 'younannan', 'young', 'younger', 'youngest', 'youngsters', 'your', 'yourself', 'yousafzai', 'youth', 'youths', 'youtube', 'yucky', 'yummy', 'yup', 'zeal', 'zearn', 'zenergy', 'zero', 'zest', 'zip', 'ziploc', 'ziplock', 'zippers', 'zipping', 'zone', 'zoned', 'zones', 'zoo', 'zoob', 'zoom', 'zooming', 'zoos', 'zumba']\n",
            "==================================================\n"
          ],
          "name": "stdout"
        }
      ]
    },
    {
      "cell_type": "markdown",
      "metadata": {
        "id": "HuZkf6rkcY_i",
        "colab_type": "text"
      },
      "source": [
        "<h3>Essay - Tf-idf<h3>"
      ]
    },
    {
      "cell_type": "code",
      "metadata": {
        "id": "G4tQj-YicYFR",
        "colab_type": "code",
        "outputId": "8a372f95-81e3-410a-bb54-a5a5a1dd6fcc",
        "colab": {
          "base_uri": "https://localhost:8080/",
          "height": 153
        }
      },
      "source": [
        "from sklearn.feature_extraction.text import TfidfVectorizer\n",
        "vectorizer = TfidfVectorizer(min_df=10)\n",
        "vectorizer.fit(X_train['essay'].values)\n",
        "\n",
        "essay_tfidf_X_train = vectorizer.transform(X_train['essay'].values)\n",
        "essay_tfidf_X_cv = vectorizer.transform(X_cv['essay'].values)\n",
        "essay_tfidf_X_test = vectorizer.transform(X_test['essay'].values)\n",
        "\n",
        "print(\"=\"*50)\n",
        "print(\"Tfidf Vectorizer\")\n",
        "print(\"Shape of matrix after vectorizations (essay)\")\n",
        "print(\"=\"*50)\n",
        "print(\"X_train  :\",essay_tfidf_X_train.shape)\n",
        "print(\"X_cv     :\",essay_tfidf_X_cv.shape)\n",
        "print(\"X_test   :\",essay_tfidf_X_test.shape)\n",
        "print(\"=\"*50)\n",
        "#print(vectorizer.get_feature_names())\n",
        "#print(\"=\"*50)"
      ],
      "execution_count": 0,
      "outputs": [
        {
          "output_type": "stream",
          "text": [
            "==================================================\n",
            "Tfidf Vectorizer\n",
            "Shape of matrix after vectorizations (essay)\n",
            "==================================================\n",
            "X_train  : (49041, 12177)\n",
            "X_cv     : (24155, 12177)\n",
            "X_test   : (36052, 12177)\n",
            "==================================================\n"
          ],
          "name": "stdout"
        }
      ]
    },
    {
      "cell_type": "markdown",
      "metadata": {
        "id": "_g7fUAPyfMWq",
        "colab_type": "text"
      },
      "source": [
        "<h3>Eassay-Average Word2Vec\n",
        "<h3>"
      ]
    },
    {
      "cell_type": "code",
      "metadata": {
        "id": "1G1MS5FPawXO",
        "colab_type": "code",
        "colab": {}
      },
      "source": [
        "# stronging variables into pickle files python: http://www.jessicayung.com/how-to-use-pickle-to-save-and-load-variables-in-python/\n",
        "# make sure you have the glove_vectors file\n",
        "with open('/content/drive/My Drive/Colab Notebooks/glove_vectors', 'rb') as f:\n",
        "    model = pickle.load(f)\n",
        "    glove_words =  set(model.keys())"
      ],
      "execution_count": 0,
      "outputs": []
    },
    {
      "cell_type": "code",
      "metadata": {
        "id": "cIjvjxNOfoG9",
        "colab_type": "code",
        "outputId": "feb7aea8-ee87-4a00-82b8-292a503a18d6",
        "colab": {
          "base_uri": "https://localhost:8080/",
          "height": 51
        }
      },
      "source": [
        "# average Word2Vec\n",
        "# compute average word2vec for each review.\n",
        "essay_avg_w2v_X_train = []; # the avg-w2v for each sentence/review is stored in this list\n",
        "for sentence in tqdm(X_train['essay'].values): # for each review/sentence\n",
        "    vector = np.zeros(300) # as word vectors are of zero length\n",
        "    cnt_words =0; # num of words with a valid vector in the sentence/review\n",
        "    for word in sentence.split(): # for each word in a review/sentence\n",
        "        if word in glove_words:\n",
        "            vector += model[word]\n",
        "            cnt_words += 1\n",
        "    if cnt_words != 0:\n",
        "        vector /= cnt_words\n",
        "    essay_avg_w2v_X_train.append(vector)\n",
        "print()"
      ],
      "execution_count": 0,
      "outputs": [
        {
          "output_type": "stream",
          "text": [
            "100%|██████████| 49041/49041 [00:13<00:00, 3670.29it/s]"
          ],
          "name": "stderr"
        },
        {
          "output_type": "stream",
          "text": [
            "\n"
          ],
          "name": "stdout"
        },
        {
          "output_type": "stream",
          "text": [
            "\n"
          ],
          "name": "stderr"
        }
      ]
    },
    {
      "cell_type": "code",
      "metadata": {
        "id": "Y7wKBklihIU5",
        "colab_type": "code",
        "outputId": "08208850-c12d-4b0c-9e97-bd9f82a98a8d",
        "colab": {
          "base_uri": "https://localhost:8080/",
          "height": 51
        }
      },
      "source": [
        "essay_avg_w2v_X_cv = []; # the avg-w2v for each sentence/review is stored in this list\n",
        "for sentence in tqdm(X_cv['essay'].values): # for each review/sentence\n",
        "    vector = np.zeros(300) # as word vectors are of zero length\n",
        "    cnt_words =0; # num of words with a valid vector in the sentence/review\n",
        "    for word in sentence.split(): # for each word in a review/sentence\n",
        "        if word in glove_words:\n",
        "            vector += model[word]\n",
        "            cnt_words += 1\n",
        "    if cnt_words != 0:\n",
        "        vector /= cnt_words\n",
        "    essay_avg_w2v_X_cv.append(vector)\n",
        "print()"
      ],
      "execution_count": 0,
      "outputs": [
        {
          "output_type": "stream",
          "text": [
            "100%|██████████| 24155/24155 [00:06<00:00, 3742.64it/s]"
          ],
          "name": "stderr"
        },
        {
          "output_type": "stream",
          "text": [
            "\n"
          ],
          "name": "stdout"
        },
        {
          "output_type": "stream",
          "text": [
            "\n"
          ],
          "name": "stderr"
        }
      ]
    },
    {
      "cell_type": "code",
      "metadata": {
        "id": "638VZvo6ha6m",
        "colab_type": "code",
        "outputId": "5923bd63-0681-404c-b5d7-353ecf1b7224",
        "colab": {
          "base_uri": "https://localhost:8080/",
          "height": 51
        }
      },
      "source": [
        "essay_avg_w2v_X_test = []; # the avg-w2v for each sentence/review is stored in this list\n",
        "for sentence in tqdm(X_test['essay'].values): # for each review/sentence\n",
        "    vector = np.zeros(300) #as #word vectors are of zero length\n",
        "    cnt_words =0; # num of words with a valid vector in the sentence/review\n",
        "    for word in sentence.split(): # for each word in a review/sentence\n",
        "        if word in glove_words:\n",
        "            vector += model[word]\n",
        "            cnt_words += 1\n",
        "    if cnt_words != 0:\n",
        "        vector /= cnt_words\n",
        "    essay_avg_w2v_X_test.append(vector)\n",
        "print()"
      ],
      "execution_count": 0,
      "outputs": [
        {
          "output_type": "stream",
          "text": [
            "100%|██████████| 36052/36052 [00:09<00:00, 3662.30it/s]"
          ],
          "name": "stderr"
        },
        {
          "output_type": "stream",
          "text": [
            "\n"
          ],
          "name": "stdout"
        },
        {
          "output_type": "stream",
          "text": [
            "\n"
          ],
          "name": "stderr"
        }
      ]
    },
    {
      "cell_type": "code",
      "metadata": {
        "id": "Mv7oAcgCh1TV",
        "colab_type": "code",
        "outputId": "c70f7f4a-d410-4667-f415-39dd7d101fab",
        "colab": {
          "base_uri": "https://localhost:8080/",
          "height": 153
        }
      },
      "source": [
        "print(\"=\"*50)\n",
        "print(\"Average Word2Vec\")\n",
        "print(\"Shape of matrix after vectorizations (essay)\")\n",
        "print(\"=\"*50)\n",
        "print(\"X_train  :(\",len(essay_avg_w2v_X_train),\",\",len(essay_avg_w2v_X_train[0]),\")\")\n",
        "print(\"X_cv  :(\",len(essay_avg_w2v_X_cv),\",\",len(essay_avg_w2v_X_cv[0]),\")\")\n",
        "print(\"X_test  :(\",len(essay_avg_w2v_X_test),\",\",len(essay_avg_w2v_X_test[0]),\")\")\n",
        "print(\"=\"*50)"
      ],
      "execution_count": 0,
      "outputs": [
        {
          "output_type": "stream",
          "text": [
            "==================================================\n",
            "Average Word2Vec\n",
            "Shape of matrix after vectorizations (essay)\n",
            "==================================================\n",
            "X_train  :( 49041 , 300 )\n",
            "X_cv  :( 24155 , 300 )\n",
            "X_test  :( 36052 , 300 )\n",
            "==================================================\n"
          ],
          "name": "stdout"
        }
      ]
    },
    {
      "cell_type": "markdown",
      "metadata": {
        "id": "ddvv_Qgxke_T",
        "colab_type": "text"
      },
      "source": [
        "<h3> TFIDF W2V\n",
        "<h3>"
      ]
    },
    {
      "cell_type": "code",
      "metadata": {
        "id": "5ZBDSh-pkdup",
        "colab_type": "code",
        "colab": {}
      },
      "source": [
        "# S = [\"abc def pqr\", \"def def def abc\", \"pqr pqr def\"]\n",
        "tfidf_model = TfidfVectorizer()\n",
        "tfidf_model.fit(X_train['essay'].values)\n",
        "# we are converting a dictionary with word as a key, and the idf as a value\n",
        "dictionary = dict(zip(tfidf_model.get_feature_names(), list(tfidf_model.idf_)))\n",
        "tfidf_words = set(tfidf_model.get_feature_names())"
      ],
      "execution_count": 0,
      "outputs": []
    },
    {
      "cell_type": "code",
      "metadata": {
        "id": "IYTVF8Q3kZF9",
        "colab_type": "code",
        "outputId": "90240fe1-0b8a-471c-e5e1-57c52749dfef",
        "colab": {
          "base_uri": "https://localhost:8080/",
          "height": 51
        }
      },
      "source": [
        "\n",
        "# average Word2Vec\n",
        "# compute average word2vec for each review.\n",
        "essay_tfidf_w2v_X_train= []; # the avg-w2v for each sentence/review is stored in this list\n",
        "for sentence in tqdm(X_train['essay'].values): # for each review/sentence\n",
        "    vector = np.zeros(300) # as word vectors are of zero length\n",
        "    tf_idf_weight =0; # num of words with a valid vector in the sentence/review\n",
        "    for word in sentence.split(): # for each word in a review/sentence\n",
        "        if (word in glove_words) and (word in tfidf_words):\n",
        "            vec = model[word] # getting the vector for each word\n",
        "            # here we are multiplying idf value(dictionary[word]) and the tf value((sentence.count(word)/len(sentence.split())))\n",
        "            tf_idf = dictionary[word]*(sentence.count(word)/len(sentence.split())) # getting the tfidf value for each word\n",
        "            vector += (vec * tf_idf) # calculating tfidf weighted w2v\n",
        "            tf_idf_weight += tf_idf\n",
        "    if tf_idf_weight != 0:\n",
        "        vector /= tf_idf_weight\n",
        "    essay_tfidf_w2v_X_train.append(vector)\n",
        "\n",
        "print()"
      ],
      "execution_count": 0,
      "outputs": [
        {
          "output_type": "stream",
          "text": [
            "100%|██████████| 49041/49041 [01:34<00:00, 516.99it/s]"
          ],
          "name": "stderr"
        },
        {
          "output_type": "stream",
          "text": [
            "\n"
          ],
          "name": "stdout"
        },
        {
          "output_type": "stream",
          "text": [
            "\n"
          ],
          "name": "stderr"
        }
      ]
    },
    {
      "cell_type": "code",
      "metadata": {
        "id": "dPAMEp3_lGuN",
        "colab_type": "code",
        "outputId": "d6869de9-fc65-49ca-d024-f744f04ba343",
        "colab": {
          "base_uri": "https://localhost:8080/",
          "height": 51
        }
      },
      "source": [
        "# average Word2Vec\n",
        "# compute average word2vec for each review.\n",
        "essay_tfidf_w2v_X_cv= []; # the avg-w2v for each sentence/review is stored in this list\n",
        "for sentence in tqdm(X_cv['essay'].values): # for each review/sentence\n",
        "    vector = np.zeros(300) # as word vectors are of zero length\n",
        "    tf_idf_weight =0; # num of words with a valid vector in the sentence/review\n",
        "    for word in sentence.split(): # for each word in a review/sentence\n",
        "        if (word in glove_words) and (word in tfidf_words):\n",
        "            vec = model[word] # getting the vector for each word\n",
        "            # here we are multiplying idf value(dictionary[word]) and the tf value((sentence.count(word)/len(sentence.split())))\n",
        "            tf_idf = dictionary[word]*(sentence.count(word)/len(sentence.split())) # getting the tfidf value for each word\n",
        "            vector += (vec * tf_idf) # calculating tfidf weighted w2v\n",
        "            tf_idf_weight += tf_idf\n",
        "    if tf_idf_weight != 0:\n",
        "        vector /= tf_idf_weight\n",
        "    essay_tfidf_w2v_X_cv.append(vector)\n",
        "\n",
        "print()"
      ],
      "execution_count": 0,
      "outputs": [
        {
          "output_type": "stream",
          "text": [
            "100%|██████████| 24155/24155 [00:46<00:00, 520.83it/s]"
          ],
          "name": "stderr"
        },
        {
          "output_type": "stream",
          "text": [
            "\n"
          ],
          "name": "stdout"
        },
        {
          "output_type": "stream",
          "text": [
            "\n"
          ],
          "name": "stderr"
        }
      ]
    },
    {
      "cell_type": "code",
      "metadata": {
        "id": "q8elTWDRlPeM",
        "colab_type": "code",
        "outputId": "0e3b1069-a4e6-4a28-ff30-6c9349c7b037",
        "colab": {
          "base_uri": "https://localhost:8080/",
          "height": 51
        }
      },
      "source": [
        "# average Word2Vec\n",
        "# compute average word2vec for each review.\n",
        "essay_tfidf_w2v_X_test=[]; # the avg-w2v for each sentence/review is stored in this list\n",
        "for sentence in tqdm(X_test['essay'].values): # for each review/sentence\n",
        "    vector = np.zeros(300) # as word vectors are of zero length\n",
        "    tf_idf_weight =0; # num of words with a valid vector in the sentence/review\n",
        "    for word in sentence.split(): # for each word in a review/sentence\n",
        "        if (word in glove_words) and (word in tfidf_words):\n",
        "            vec = model[word] # getting the vector for each word\n",
        "            # here we are multiplying idf value(dictionary[word]) and the tf value((sentence.count(word)/len(sentence.split())))\n",
        "            tf_idf = dictionary[word]*(sentence.count(word)/len(sentence.split())) # getting the tfidf value for each word\n",
        "            vector += (vec * tf_idf) # calculating tfidf weighted w2v\n",
        "            tf_idf_weight += tf_idf\n",
        "    if tf_idf_weight != 0:\n",
        "        vector /= tf_idf_weight\n",
        "    essay_tfidf_w2v_X_test.append(vector)\n",
        "\n",
        "print()"
      ],
      "execution_count": 0,
      "outputs": [
        {
          "output_type": "stream",
          "text": [
            "100%|██████████| 36052/36052 [01:09<00:00, 519.24it/s]"
          ],
          "name": "stderr"
        },
        {
          "output_type": "stream",
          "text": [
            "\n"
          ],
          "name": "stdout"
        },
        {
          "output_type": "stream",
          "text": [
            "\n"
          ],
          "name": "stderr"
        }
      ]
    },
    {
      "cell_type": "code",
      "metadata": {
        "id": "jedk3INyla3K",
        "colab_type": "code",
        "outputId": "ed5adb34-3c80-48fd-8174-a91f611c8c6d",
        "colab": {
          "base_uri": "https://localhost:8080/",
          "height": 153
        }
      },
      "source": [
        "print(\"=\"*50)\n",
        "print(\"Average Word2Vec\")\n",
        "print(\"Shape of matrix after vectorizations (essay)\")\n",
        "print(\"=\"*50)\n",
        "print(\"X_train  :(\",len(essay_tfidf_w2v_X_train),\",\",len(essay_tfidf_w2v_X_train[0]),\")\")\n",
        "print(\"X_cv  :(\",len(essay_tfidf_w2v_X_cv),\",\",len(essay_tfidf_w2v_X_cv[0]),\")\")\n",
        "print(\"X_test  :(\",len(essay_tfidf_w2v_X_test),\",\",len(essay_tfidf_w2v_X_test[0]),\")\")\n",
        "print(\"=\"*50)"
      ],
      "execution_count": 0,
      "outputs": [
        {
          "output_type": "stream",
          "text": [
            "==================================================\n",
            "Average Word2Vec\n",
            "Shape of matrix after vectorizations (essay)\n",
            "==================================================\n",
            "X_train  :( 49041 , 300 )\n",
            "X_cv  :( 24155 , 300 )\n",
            "X_test  :( 36052 , 300 )\n",
            "==================================================\n"
          ],
          "name": "stdout"
        }
      ]
    },
    {
      "cell_type": "markdown",
      "metadata": {
        "id": "TrzXw9TRpcQR",
        "colab_type": "text"
      },
      "source": [
        "<h3>project_title-BoW<h3>"
      ]
    },
    {
      "cell_type": "code",
      "metadata": {
        "id": "NdwKa0TTqRZ9",
        "colab_type": "code",
        "outputId": "f41e0cbc-2ae5-41e4-ad83-e567cb542e68",
        "colab": {
          "base_uri": "https://localhost:8080/",
          "height": 207
        }
      },
      "source": [
        "vectorizer = CountVectorizer(min_df=10,binary=True)\n",
        "vectorizer.fit(X_train['project_title'].values)\n",
        "\n",
        "project_title_bag_of_words_X_train = vectorizer.transform(X_train['project_title'].values)\n",
        "project_title_bag_of_words_X_cv = vectorizer.transform(X_cv['project_title'].values)\n",
        "project_title_bag_of_words_X_test = vectorizer.transform(X_test['project_title'].values)\n",
        "\n",
        "print(\"=\"*50)\n",
        "print(\"Bag of Words\")\n",
        "print(\"Shape of matrix after vectorizations (project_title)\")\n",
        "print(\"=\"*50)\n",
        "print(\"X_train  :\",project_title_bag_of_words_X_train.shape)\n",
        "print(\"X_cv     :\",project_title_bag_of_words_X_cv.shape)\n",
        "print(\"X_test   :\",project_title_bag_of_words_X_test.shape)\n",
        "print(\"=\"*50)\n",
        "print(vectorizer.get_feature_names())\n",
        "print(\"=\"*50)"
      ],
      "execution_count": 0,
      "outputs": [
        {
          "output_type": "stream",
          "text": [
            "==================================================\n",
            "Bag of Words\n",
            "Shape of matrix after vectorizations (project_title)\n",
            "==================================================\n",
            "X_train  : (49041, 2084)\n",
            "X_cv     : (24155, 2084)\n",
            "X_test   : (36052, 2084)\n",
            "==================================================\n",
            "['04', '05', '10', '100', '101', '13', '16', '1st', '2016', '2017', '21st', '2nd', '3d', '3doodler', '3rd', '4th', '5th', '60', '6th', '7th', '8th', 'abc', 'abcs', 'abilities', 'aboard', 'about', 'above', 'academic', 'academics', 'academy', 'access', 'accessible', 'accessing', 'accessories', 'achieve', 'achievement', 'achieving', 'across', 'act', 'action', 'active', 'actively', 'activities', 'activity', 'add', 'adding', 'addition', 'adhd', 'advanced', 'advancing', 'adventure', 'adventures', 'after', 'again', 'age', 'ahead', 'aid', 'aids', 'air', 'alexa', 'algebra', 'alive', 'all', 'allow', 'allows', 'along', 'aloud', 'alouds', 'alphabet', 'alternative', 'always', 'am', 'amazing', 'amazon', 'america', 'american', 'an', 'anchor', 'ancient', 'and', 'animal', 'animals', 'animation', 'another', 'answer', 'ants', 'any', 'anyone', 'anything', 'anywhere', 'ap', 'app', 'apple', 'apples', 'approach', 'apps', 'archery', 'architects', 'arduino', 'are', 'area', 'around', 'art', 'artist', 'artistic', 'artists', 'arts', 'artwork', 'as', 'aspiring', 'assistive', 'at', 'athletes', 'atpe', 'attack', 'attention', 'audio', 'authentic', 'author', 'authors', 'autism', 'autistic', 'avid', 'award', 'awareness', 'away', 'awesome', 'baby', 'back', 'backpack', 'backpacks', 'bag', 'bags', 'balance', 'balanced', 'balancing', 'ball', 'balls', 'band', 'bands', 'bare', 'barriers', 'baseball', 'based', 'basic', 'basics', 'basketball', 'basketballs', 'bass', 'battle', 'bay', 'be', 'bean', 'beat', 'beautiful', 'beauty', 'because', 'become', 'becoming', 'bee', 'bees', 'before', 'begin', 'beginning', 'beginnings', 'begins', 'behavior', 'behind', 'being', 'believe', 'believing', 'bellies', 'best', 'better', 'between', 'beyond', 'big', 'bigger', 'bilingual', 'binders', 'bins', 'biographies', 'biology', 'birds', 'bit', 'black', 'blast', 'blended', 'block', 'blocks', 'blue', 'blues', 'board', 'boards', 'bodies', 'body', 'bonanza', 'boogie', 'book', 'books', 'bookshelf', 'bookshelves', 'bookworms', 'boom', 'boost', 'bored', 'boredom', 'boring', 'bots', 'bottles', 'bottoms', 'bounce', 'bouncing', 'bouncy', 'bound', 'box', 'boxes', 'boys', 'brain', 'brainpop', 'brains', 'brand', 'break', 'breaking', 'breakout', 'bridge', 'bridges', 'bridging', 'bright', 'brighten', 'brighter', 'brilliant', 'bring', 'bringing', 'brings', 'broken', 'bronx', 'buddies', 'budding', 'buddy', 'bug', 'build', 'builders', 'building', 'builds', 'built', 'business', 'bust', 'busy', 'but', 'butterflies', 'butterfly', 'by', 'bye', 'ca', 'cafe', 'calculate', 'calculating', 'calculator', 'calculators', 'call', 'calling', 'calm', 'calming', 'camera', 'cameras', 'camp', 'can', 'canvas', 'captivating', 'capture', 'capturing', 'card', 'cardboard', 'care', 'career', 'careers', 'caring', 'carpet', 'cars', 'cart', 'case', 'cases', 'catch', 'catching', 'cause', 'caution', 'cd', 'celebrate', 'celebrating', 'celebration', 'cell', 'center', 'centered', 'centers', 'central', 'century', 'ceramics', 'chair', 'chairs', 'challenge', 'challenges', 'challenging', 'champions', 'chance', 'change', 'changes', 'changing', 'chaos', 'chapter', 'character', 'characters', 'charge', 'charged', 'charging', 'chart', 'charts', 'check', 'cheer', 'chefs', 'chemistry', 'chess', 'chevron', 'chicken', 'child', 'childhood', 'children', 'choice', 'choices', 'choir', 'choose', 'choosing', 'chrome', 'chromebook', 'chromebooks', 'chromes', 'circle', 'circles', 'circuits', 'citizens', 'citizenship', 'city', 'civil', 'class', 'classes', 'classic', 'classics', 'classroom', 'classrooms', 'clay', 'clean', 'clear', 'clearly', 'click', 'climate', 'clipboards', 'close', 'closer', 'closing', 'clothes', 'club', 'clubs', 'clutter', 'coats', 'code', 'coders', 'coding', 'coffee', 'cold', 'collaborate', 'collaborating', 'collaboration', 'collaborative', 'collection', 'college', 'color', 'colored', 'colorful', 'coloring', 'colors', 'come', 'comes', 'comfort', 'comfortable', 'comfy', 'comic', 'comics', 'coming', 'common', 'communicate', 'communicating', 'communication', 'community', 'competition', 'complete', 'composition', 'composting', 'comprehension', 'computer', 'computers', 'concentration', 'concepts', 'confidence', 'confident', 'connect', 'connected', 'connecting', 'connection', 'connections', 'conquering', 'construction', 'content', 'continue', 'continued', 'continuing', 'control', 'cook', 'cooking', 'cool', 'cooperative', 'copies', 'copy', 'core', 'corner', 'costumes', 'could', 'counseling', 'count', 'counting', 'counts', 'courage', 'course', 'covers', 'cozy', 'crafting', 'crafts', 'crafty', 'craving', 'crayons', 'craze', 'crazy', 'create', 'created', 'creates', 'creating', 'creation', 'creations', 'creative', 'creatively', 'creativity', 'cricut', 'critical', 'cross', 'cubbies', 'cube', 'cubes', 'cultivating', 'cultural', 'culturally', 'culture', 'cultures', 'curiosity', 'curious', 'current', 'curriculum', 'cushions', 'cut', 'cutting', 'cycle', 'cycles', 'daily', 'dance', 'dancing', 'dash', 'data', 'day', 'days', 'de', 'deaf', 'deck', 'deep', 'deeper', 'dell', 'demand', 'deserve', 'deserving', 'design', 'designing', 'designs', 'desire', 'desk', 'desks', 'desktop', 'desperate', 'desperately', 'develop', 'developing', 'development', 'devices', 'dictionaries', 'did', 'difference', 'different', 'differentiated', 'differentiation', 'digging', 'digital', 'dirty', 'disabilities', 'discover', 'discovering', 'discovery', 'display', 'dissection', 'distractions', 'ditch', 'dive', 'diverse', 'diversity', 'divide', 'diving', 'do', 'doctor', 'document', 'documenting', 'does', 'doing', 'done', 'doodle', 'doodling', 'door', 'doors', 'dot', 'dots', 'down', 'dr', 'drama', 'dramatic', 'draw', 'drawing', 'dream', 'dreaming', 'dreams', 'dress', 'drive', 'driven', 'drives', 'drone', 'drones', 'drop', 'drum', 'drumming', 'drums', 'dry', 'dual', 'during', 'dynamic', 'each', 'eager', 'ear', 'earbuds', 'early', 'ears', 'earth', 'ease', 'easel', 'easier', 'easy', 'eat', 'eating', 'economics', 'ed', 'edge', 'edition', 'edu', 'educating', 'education', 'educational', 'effective', 'efficient', 'egg', 'el', 'ela', 'electric', 'electricity', 'electrifying', 'electronic', 'electronics', 'elementary', 'ell', 'ells', 'elmo', 'em', 'embracing', 'emerging', 'emotional', 'empathy', 'empower', 'empowering', 'empty', 'en', 'encourage', 'encouraging', 'end', 'endless', 'ends', 'energetic', 'energy', 'engage', 'engaged', 'engagement', 'engaging', 'engineering', 'engineers', 'english', 'enhance', 'enhanced', 'enhancing', 'enjoy', 'enough', 'enrich', 'enriching', 'enrichment', 'enthusiastic', 'environment', 'environmental', 'epic', 'equal', 'equals', 'equipment', 'erase', 'escape', 'esl', 'esol', 'espa', 'essential', 'essentials', 'even', 'event', 'events', 'ever', 'every', 'everybody', 'everyday', 'everyone', 'everything', 'everywhere', 'exam', 'excel', 'excellence', 'excellent', 'exceptional', 'excite', 'excited', 'excitement', 'exciting', 'exercise', 'exercising', 'expand', 'expanding', 'experience', 'experiences', 'experiencing', 'experiment', 'experiments', 'exploration', 'explorations', 'explore', 'explorers', 'exploring', 'express', 'expression', 'extra', 'extraordinary', 'extravaganza', 'extreme', 'eye', 'eyes', 'fabulous', 'fact', 'facts', 'fair', 'fairy', 'fall', 'falling', 'families', 'family', 'fantastic', 'fantasy', 'farm', 'favorite', 'fear', 'feed', 'feeding', 'feel', 'feeling', 'feet', 'few', 'fiction', 'fidget', 'fidgeting', 'fidgets', 'fidgety', 'field', 'fifth', 'fight', 'fill', 'filling', 'film', 'final', 'financial', 'find', 'finding', 'fine', 'fingers', 'fingertips', 'finish', 'fire', 'fired', 'fires', 'first', 'firsties', 'fish', 'fit', 'fitbits', 'fitness', 'five', 'flash', 'flex', 'flexibility', 'flexible', 'flexing', 'flight', 'flip', 'flipping', 'flood', 'flooded', 'flooding', 'floor', 'fluency', 'fluent', 'fly', 'focus', 'focused', 'focusing', 'folders', 'follow', 'food', 'foods', 'football', 'for', 'force', 'forever', 'forget', 'forward', 'foster', 'fostering', 'foundation', 'foundations', 'four', 'fourth', 'fraction', 'fractions', 'free', 'freedom', 'french', 'frenzy', 'fresh', 'friday', 'friend', 'friendly', 'friends', 'frog', 'from', 'fuel', 'fueling', 'full', 'fun', 'functional', 'fund', 'fundamental', 'fundamentals', 'furniture', 'future', 'futures', 'gain', 'gaining', 'galore', 'game', 'games', 'gaming', 'gap', 'gaps', 'garden', 'gardening', 'gather', 'gathering', 'gear', 'generation', 'genius', 'geography', 'geometry', 'germs', 'get', 'gets', 'getting', 'gift', 'gifted', 'girl', 'girls', 'give', 'gives', 'giving', 'glass', 'global', 'glue', 'go', 'goal', 'goals', 'goes', 'going', 'gold', 'golden', 'golf', 'gone', 'gonna', 'good', 'goodbye', 'google', 'got', 'gotta', 'government', 'grab', 'grade', 'grader', 'graders', 'grades', 'grammar', 'graphic', 'graphics', 'graphing', 'great', 'greater', 'greatness', 'green', 'groove', 'groovin', 'grooving', 'ground', 'group', 'groups', 'grow', 'growing', 'grows', 'growth', 'guide', 'guided', 'guitar', 'gym', 'habits', 'had', 'hand', 'hands', 'handwriting', 'happen', 'happening', 'happens', 'happy', 'hard', 'harry', 'has', 'hatching', 'have', 'having', 'head', 'headphones', 'heads', 'headsets', 'health', 'healthier', 'healthy', 'hear', 'heard', 'hearing', 'heart', 'hearts', 'heat', 'heights', 'hello', 'help', 'helpers', 'helping', 'helps', 'here', 'hero', 'heroes', 'hey', 'hi', 'high', 'higher', 'highly', 'hip', 'historical', 'history', 'hit', 'hockey', 'hocus', 'hokki', 'hold', 'holocaust', 'home', 'homework', 'hooked', 'hoops', 'hooray', 'hope', 'horizons', 'horseshoe', 'hot', 'hour', 'house', 'how', 'human', 'hunger', 'hungry', 'hydrated', 'hygiene', 'ican', 'idea', 'ideas', 'if', 'ignite', 'igniting', 'ii', 'iii', 'ilearn', 'illiteracy', 'imagination', 'imaginations', 'imagine', 'immersion', 'impact', 'importance', 'important', 'improve', 'improves', 'improving', 'in', 'incentives', 'inclusion', 'inclusive', 'income', 'incorporating', 'increase', 'increased', 'increases', 'increasing', 'incredible', 'independence', 'independent', 'individual', 'individualized', 'indoor', 'ineed', 'infinity', 'information', 'informational', 'informed', 'ing', 'ink', 'inner', 'innovate', 'innovation', 'innovative', 'innovators', 'input', 'inquiring', 'inquiry', 'inside', 'inspiration', 'inspirational', 'inspire', 'inspired', 'inspires', 'inspiring', 'instruction', 'instrument', 'instruments', 'integrated', 'integrating', 'integration', 'interact', 'interaction', 'interactive', 'interest', 'interesting', 'intervention', 'interventions', 'into', 'inventors', 'investigating', 'inviting', 'involvement', 'ipad', 'ipads', 'ipods', 'iread', 'is', 'issues', 'it', 'items', 'its', 'job', 'join', 'journalism', 'journals', 'journey', 'joy', 'jr', 'jump', 'jumping', 'junior', 'just', 'justice', 'keep', 'keeping', 'keeps', 'key', 'keyboard', 'keyboards', 'keys', 'kick', 'kicking', 'kid', 'kiddos', 'kidney', 'kids', 'kind', 'kinder', 'kindergarten', 'kindergarteners', 'kindergartners', 'kinders', 'kindle', 'kindles', 'kindness', 'kinesthetic', 'kit', 'kitchen', 'kits', 'know', 'knowledge', 'kore', 'la', 'lab', 'laboratory', 'labs', 'lacrosse', 'ladies', 'lady', 'lakeshore', 'lamination', 'laminator', 'land', 'language', 'lap', 'laptop', 'laptops', 'last', 'launch', 'lead', 'leader', 'leaders', 'leads', 'league', 'leap', 'leaping', 'learn', 'learner', 'learners', 'learning', 'led', 'left', 'lego', 'legos', 'lens', 'less', 'lesson', 'lessons', 'let', 'lets', 'letter', 'letters', 'level', 'leveled', 'leveling', 'levels', 'library', 'life', 'lifelong', 'lifestyle', 'lifestyles', 'lifetime', 'light', 'lighting', 'lights', 'like', 'list', 'listen', 'listeners', 'listening', 'literacy', 'literary', 'literate', 'literature', 'little', 'littlebits', 'live', 'lives', 'living', 'long', 'longer', 'look', 'looking', 'lose', 'lost', 'lot', 'lots', 'loud', 'louisiana', 'lounge', 'love', 'lovers', 'loves', 'loving', 'low', 'lunch', 'mac', 'macbook', 'machine', 'machines', 'mad', 'made', 'madness', 'magazine', 'magazines', 'magic', 'magical', 'magnetic', 'magnets', 'magnificent', 'mail', 'make', 'makeover', 'maker', 'makers', 'makerspace', 'makes', 'makey', 'making', 'management', 'manga', 'mania', 'manipulative', 'manipulatives', 'many', 'maps', 'marching', 'mark', 'markers', 'market', 'marvelous', 'master', 'mastering', 'masterpieces', 'masters', 'mastery', 'material', 'materials', 'math', 'mathematical', 'mathematicians', 'mathematics', 'mats', 'matter', 'matters', 'maximize', 'may', 'me', 'mean', 'meaning', 'meaningful', 'means', 'measuring', 'media', 'meet', 'meeting', 'meets', 'member', 'memories', 'mental', 'mentor', 'mice', 'microscopes', 'middle', 'mighty', 'military', 'mind', 'mindful', 'mindfulness', 'minds', 'mindset', 'mini', 'minis', 'minutes', 'miss', 'missing', 'mission', 'mo', 'mobile', 'model', 'modeling', 'models', 'modern', 'moments', 'money', 'monsters', 'more', 'morning', 'most', 'motion', 'motivate', 'motivated', 'motivating', 'motivation', 'motor', 'mouse', 'move', 'movement', 'movers', 'moves', 'movie', 'movin', 'moving', 'mr', 'mrs', 'ms', 'much', 'multi', 'multicultural', 'multiple', 'multiplication', 'muscles', 'museum', 'music', 'musical', 'musicians', 'must', 'my', 'myself', 'mystery', 'namaste', 'native', 'natural', 'nature', 'neat', 'necessary', 'necessities', 'need', 'needed', 'needing', 'needs', 'never', 'new', 'news', 'newspaper', 'next', 'nice', 'night', 'no', 'noise', 'non', 'nonfiction', 'nook', 'north', 'not', 'note', 'notebook', 'notebooks', 'nothing', 'novel', 'novels', 'now', 'number', 'numbers', 'nurturing', 'nutrition', 'nutritious', 'ocean', 'odds', 'of', 'off', 'oh', 'ol', 'old', 'olds', 'olympics', 'on', 'once', 'one', 'ones', 'online', 'only', 'open', 'opening', 'opens', 'operation', 'opportunities', 'opportunity', 'optimal', 'options', 'or', 'orchestra', 'order', 'orff', 'organization', 'organizational', 'organize', 'organized', 'organizing', 'osmo', 'osmos', 'other', 'others', 'our', 'ourselves', 'out', 'outdoor', 'outside', 'outstanding', 'over', 'owl', 'own', 'ozobots', 'pack', 'packs', 'pad', 'pads', 'page', 'paint', 'painting', 'pants', 'paper', 'paperless', 'paradise', 'parent', 'parents', 'park', 'part', 'participation', 'party', 'pass', 'passion', 'passionate', 'past', 'path', 'pe', 'peace', 'pedal', 'pellets', 'pen', 'pencil', 'pencils', 'pens', 'people', 'percussion', 'perfect', 'performance', 'personal', 'personalized', 'pet', 'phase', 'phones', 'phonics', 'photography', 'physical', 'physically', 'physics', 'pi', 'piano', 'picasso', 'pick', 'picture', 'pictures', 'pieces', 'place', 'places', 'plan', 'plant', 'planting', 'plants', 'play', 'players', 'playground', 'playing', 'please', 'plus', 'pocket', 'pockets', 'pocus', 'poetry', 'pokey', 'pop', 'portable', 'portfolio', 'portfolios', 'positive', 'possibilities', 'possible', 'post', 'posters', 'posture', 'potential', 'potter', 'poverty', 'power', 'powered', 'powerful', 'practice', 'practicing', 'pre', 'prek', 'prep', 'prepare', 'prepared', 'preparing', 'preschool', 'preschoolers', 'present', 'presentation', 'presentations', 'press', 'pretend', 'pretty', 'pride', 'primary', 'print', 'printed', 'printer', 'printing', 'printmaking', 'privacy', 'prize', 'pro', 'problem', 'problems', 'production', 'productive', 'professional', 'proficiency', 'program', 'programmers', 'programming', 'progress', 'project', 'projecting', 'projector', 'projects', 'promote', 'promotes', 'promoting', 'proper', 'pros', 'protect', 'protecting', 'protection', 'proud', 'provide', 'providing', 'pt', 'public', 'publish', 'publishing', 'pull', 'puppets', 'purpose', 'purposeful', 'put', 'putting', 'puzzles', 'quality', 'quest', 'quiet', 'quill', 'race', 'rack', 'rain', 'rainbow', 'rainy', 'raising', 'raspberry', 'rate', 'rattle', 're', 'reach', 'reaching', 'read', 'reader', 'readers', 'readiness', 'reading', 'reads', 'ready', 'real', 'reality', 'really', 'rebuilding', 'recess', 'record', 'recorders', 'recording', 'recycle', 'recycling', 'red', 'reduce', 'reeds', 'refresh', 'regulation', 'relationships', 'relax', 'relevant', 'relief', 'reluctant', 'remember', 'repeat', 'replace', 'replacing', 'request', 'rescue', 'research', 'researchers', 'researching', 'resistable', 'resource', 'resources', 'responsibility', 'rest', 'restock', 'reuse', 'review', 'revolution', 'reward', 'rewarding', 'rewards', 'rhythm', 'rich', 'ride', 'right', 'rights', 'rigorous', 'rise', 'rising', 'risk', 'road', 'robot', 'robotic', 'robotics', 'robots', 'rock', 'rocket', 'rockin', 'rocking', 'rocks', 'rockstars', 'roll', 'rolling', 'room', 'round', 'rug', 'rugs', 'rule', 'rules', 'run', 'running', 'rural', 'sacks', 'safe', 'safety', 'same', 'sand', 'save', 'saving', 'savvy', 'savy', 'say', 'says', 'scholars', 'scholastic', 'school', 'schoolers', 'schools', 'science', 'scientific', 'scientist', 'scientists', 'scissors', 'scope', 'scream', 'screen', 'sea', 'search', 'searching', 'season', 'seat', 'seated', 'seating', 'seats', 'second', 'secret', 'secure', 'see', 'seed', 'seeing', 'seek', 'seeking', 'self', 'send', 'sensational', 'sense', 'senses', 'sensory', 'series', 'set', 'sets', 'setting', 'seuss', 'severe', 'sew', 'shake', 'shakers', 'shakespeare', 'shape', 'shapes', 'share', 'sharing', 'sharp', 'sharpen', 'sharpening', 'shelf', 'shelves', 'shine', 'shining', 'shirts', 'shoes', 'shoot', 'shop', 'should', 'show', 'side', 'sight', 'signing', 'simple', 'sims', 'sing', 'singing', 'sis', 'sit', 'sitting', 'sixth', 'size', 'skill', 'skills', 'sky', 'small', 'smart', 'smarter', 'smile', 'snack', 'snacks', 'snap', 'snow', 'snug', 'so', 'soar', 'soaring', 'soccer', 'social', 'socks', 'soft', 'softball', 'soil', 'solar', 'solutions', 'solve', 'solvers', 'solving', 'some', 'something', 'sometimes', 'soul', 'sound', 'sounds', 'south', 'space', 'spaces', 'spanish', 'spark', 'sparking', 'speak', 'speakers', 'speaking', 'special', 'spectacular', 'sped', 'speech', 'speed', 'spell', 'sphero', 'spin', 'spirit', 'sport', 'sports', 'spot', 'spots', 'spring', 'stability', 'stage', 'stamina', 'stand', 'standards', 'standing', 'stands', 'star', 'stars', 'start', 'started', 'starter', 'starting', 'starts', 'state', 'station', 'stations', 'stay', 'staying', 'steam', 'steaming', 'stem', 'stems', 'step', 'stepping', 'steps', 'stick', 'sticks', 'sticky', 'still', 'stimulate', 'stimulating', 'stock', 'stool', 'stools', 'stop', 'storage', 'store', 'stories', 'story', 'storytelling', 'storyworks', 'strength', 'strengthen', 'strengthening', 'stress', 'stretch', 'strings', 'strong', 'stronger', 'struggling', 'student', 'students', 'studies', 'studio', 'study', 'studying', 'stuff', 'sturdy', 'style', 'styles', 'subjects', 'subscription', 'succeed', 'success', 'successful', 'summer', 'sun', 'sunshine', 'super', 'superhero', 'superstar', 'superstars', 'supplies', 'supply', 'supplying', 'support', 'supporting', 'supports', 'surface', 'surprise', 'survival', 'sustainable', 'sweet', 'swing', 'swinging', 'system', 'systems', 'table', 'tables', 'tablet', 'tablets', 'take', 'takes', 'taking', 'tale', 'tales', 'talk', 'talking', 'tall', 'tank', 'tap', 'target', 'targeting', 'targets', 'task', 'tastic', 'teach', 'teacher', 'teachers', 'teaching', 'team', 'teams', 'teamwork', 'tech', 'techie', 'techies', 'technical', 'techno', 'technological', 'technologically', 'technology', 'techy', 'teen', 'teenagers', 'teens', 'tell', 'telling', 'tennis', 'terrific', 'test', 'testing', 'text', 'textbooks', 'texts', 'than', 'that', 'the', 'theater', 'theatre', 'their', 'them', 'themselves', 'then', 'therapeutic', 'therapy', 'there', 'these', 'they', 'thing', 'things', 'think', 'thinkers', 'thinking', 'third', 'thirst', 'this', 'those', 'thousand', 'three', 'thrive', 'through', 'throw', 'ti', 'tidy', 'tiger', 'tigers', 'tiles', 'time', 'times', 'tiny', 'titans', 'title', 'titles', 'tk', 'to', 'today', 'together', 'tomorrow', 'toner', 'too', 'tool', 'tools', 'toon', 'top', 'totally', 'tots', 'touch', 'toward', 'towards', 'town', 'toys', 'track', 'tracking', 'traditional', 'train', 'training', 'transform', 'transforming', 'travel', 'traveling', 'treasure', 'tree', 'trees', 'trip', 'trips', 'true', 'try', 'trying', 'tubs', 'tummies', 'tune', 'turn', 'turning', 'tv', 'twenty', 'twist', 'two', 'type', 'typing', 'uke', 'ukulele', 'ukuleles', 'ultimate', 'under', 'understand', 'understanding', 'uniforms', 'unique', 'unit', 'unlocking', 'up', 'update', 'upgrade', 'upon', 'urban', 'us', 'use', 'using', 'utilizing', 'variety', 'very', 'via', 'vibrant', 'video', 'videos', 'view', 'violins', 'virtual', 'vision', 'visual', 'visualize', 'visualizing', 'visually', 'visuals', 'vocabulary', 'voice', 'voices', 'volleyball', 'volleyballs', 'volume', 'vs', 'wait', 'walk', 'walking', 'wall', 'walls', 'want', 'wanted', 'wants', 'war', 'warm', 'warriors', 'was', 'watch', 'water', 'wave', 'way', 'ways', 'we', 'weather', 'web', 'weekly', 'welcome', 'welcoming', 'well', 'wellness', 'were', 'what', 'when', 'where', 'while', 'whisper', 'white', 'whiteboard', 'whiteboards', 'who', 'whole', 'why', 'wiggle', 'wigglers', 'wiggles', 'wiggling', 'wiggly', 'wii', 'wild', 'wildcat', 'will', 'willems', 'win', 'window', 'winning', 'winter', 'wipe', 'wireless', 'wise', 'wish', 'with', 'within', 'without', 'wizards', 'wo', 'wobble', 'wobbles', 'wobbling', 'wobbly', 'wonder', 'wonderful', 'wonders', 'word', 'words', 'work', 'working', 'works', 'workshop', 'world', 'worlds', 'worm', 'worms', 'worth', 'would', 'wow', 'write', 'writer', 'writers', 'writing', 'xylophone', 'ye', 'year', 'yearbook', 'yes', 'yoga', 'you', 'young', 'your', 'yourself', 'youth', 'zone', 'zoom']\n",
            "==================================================\n"
          ],
          "name": "stdout"
        }
      ]
    },
    {
      "cell_type": "markdown",
      "metadata": {
        "id": "kq73NiXTrbDV",
        "colab_type": "text"
      },
      "source": [
        "<h3>Project_title TfidfVectorizer"
      ]
    },
    {
      "cell_type": "code",
      "metadata": {
        "id": "1lCFvEpOpczd",
        "colab_type": "code",
        "outputId": "850725d4-2667-4db7-fcf4-d4eb7b02d2be",
        "colab": {
          "base_uri": "https://localhost:8080/",
          "height": 153
        }
      },
      "source": [
        "vectorizer = TfidfVectorizer(min_df=10)\n",
        "vectorizer.fit(X_train['project_title'].values)\n",
        "\n",
        "project_title_tfidf_X_train = vectorizer.transform(X_train['project_title'].values)\n",
        "project_title_tfidf_X_cv = vectorizer.transform(X_cv['project_title'].values)\n",
        "project_title_tfidf_X_test = vectorizer.transform(X_test['project_title'].values)\n",
        "\n",
        "print(\"=\"*50)\n",
        "print(\"Tfidf Vectorizer\")\n",
        "print(\"Shape of matrix after vectorizations (project_title)\")\n",
        "print(\"=\"*50)\n",
        "print(\"X_train  :\",project_title_tfidf_X_train.shape)\n",
        "print(\"X_cv     :\",project_title_tfidf_X_cv.shape)\n",
        "print(\"X_test   :\",project_title_tfidf_X_test.shape)\n",
        "print(\"=\"*50)\n",
        "#print(vectorizer.get_feature_names())\n",
        "#print(\"=\"*50)"
      ],
      "execution_count": 0,
      "outputs": [
        {
          "output_type": "stream",
          "text": [
            "==================================================\n",
            "Tfidf Vectorizer\n",
            "Shape of matrix after vectorizations (project_title)\n",
            "==================================================\n",
            "X_train  : (49041, 2084)\n",
            "X_cv     : (24155, 2084)\n",
            "X_test   : (36052, 2084)\n",
            "==================================================\n"
          ],
          "name": "stdout"
        }
      ]
    },
    {
      "cell_type": "code",
      "metadata": {
        "id": "1gVyzNhZsHc4",
        "colab_type": "code",
        "colab": {}
      },
      "source": [
        ""
      ],
      "execution_count": 0,
      "outputs": []
    },
    {
      "cell_type": "markdown",
      "metadata": {
        "id": "9-ze_2q-sH8A",
        "colab_type": "text"
      },
      "source": [
        "<h3>Project_title- Average word2vec"
      ]
    },
    {
      "cell_type": "code",
      "metadata": {
        "id": "wuVfRVYcrwof",
        "colab_type": "code",
        "outputId": "acc18ee6-c5c1-43e5-cea9-57bc4523973d",
        "colab": {
          "base_uri": "https://localhost:8080/",
          "height": 51
        }
      },
      "source": [
        "\n",
        "# compute average word2vec for each review.\n",
        "project_title_avg_w2v_X_train = []; # the avg-w2v for each sentence/review is stored in this list\n",
        "for sentence in tqdm(X_train['project_title'].values): # for each review/sentence\n",
        "    vector = np.zeros(300) # as word vectors are of zero length\n",
        "    cnt_words =0; # num of words with a valid vector in the sentence/review\n",
        "    for word in sentence.split(): # for each word in a review/sentence\n",
        "        if word in glove_words:\n",
        "            vector += model[word]\n",
        "            cnt_words += 1\n",
        "    if cnt_words != 0:\n",
        "        vector /= cnt_words\n",
        "    project_title_avg_w2v_X_train.append(vector)\n",
        "print()"
      ],
      "execution_count": 0,
      "outputs": [
        {
          "output_type": "stream",
          "text": [
            "100%|██████████| 49041/49041 [00:00<00:00, 62189.10it/s]"
          ],
          "name": "stderr"
        },
        {
          "output_type": "stream",
          "text": [
            "\n"
          ],
          "name": "stdout"
        },
        {
          "output_type": "stream",
          "text": [
            "\n"
          ],
          "name": "stderr"
        }
      ]
    },
    {
      "cell_type": "code",
      "metadata": {
        "id": "5l2AsPBDr9Q1",
        "colab_type": "code",
        "outputId": "74a5db13-4fb1-4f2b-99cc-5a3be42bf442",
        "colab": {
          "base_uri": "https://localhost:8080/",
          "height": 51
        }
      },
      "source": [
        "project_title_avg_w2v_X_cv = []; # the avg-w2v for each sentence/review is stored in this list\n",
        "for sentence in tqdm(X_cv['project_title'].values): # for each review/sentence\n",
        "    vector = np.zeros(300) # as word vectors are of zero length\n",
        "    cnt_words =0; # num of words with a valid vector in the sentence/review\n",
        "    for word in sentence.split(): # for each word in a review/sentence\n",
        "        if word in glove_words:\n",
        "            vector += model[word]\n",
        "            cnt_words += 1\n",
        "    if cnt_words != 0:\n",
        "        vector /= cnt_words\n",
        "    project_title_avg_w2v_X_cv.append(vector)\n",
        "print()"
      ],
      "execution_count": 0,
      "outputs": [
        {
          "output_type": "stream",
          "text": [
            "100%|██████████| 24155/24155 [00:00<00:00, 58372.90it/s]"
          ],
          "name": "stderr"
        },
        {
          "output_type": "stream",
          "text": [
            "\n"
          ],
          "name": "stdout"
        },
        {
          "output_type": "stream",
          "text": [
            "\n"
          ],
          "name": "stderr"
        }
      ]
    },
    {
      "cell_type": "code",
      "metadata": {
        "id": "CCuQQMe-sDKT",
        "colab_type": "code",
        "outputId": "77027f0e-e706-4acd-eced-0503d30248b1",
        "colab": {
          "base_uri": "https://localhost:8080/",
          "height": 51
        }
      },
      "source": [
        "project_title_avg_w2v_X_test = []; # the avg-w2v for each sentence/review is stored in this list\n",
        "for sentence in tqdm(X_test['project_title'].values): # for each review/sentence\n",
        "    vector = np.zeros(300) #as #word vectors are of zero length\n",
        "    cnt_words =0; # num of words with a valid vector in the sentence/review\n",
        "    for word in sentence.split(): # for each word in a review/sentence\n",
        "        if word in glove_words:\n",
        "            vector += model[word]\n",
        "            cnt_words += 1\n",
        "    if cnt_words != 0:\n",
        "        vector /= cnt_words\n",
        "    project_title_avg_w2v_X_test.append(vector)\n",
        "print()"
      ],
      "execution_count": 0,
      "outputs": [
        {
          "output_type": "stream",
          "text": [
            "100%|██████████| 36052/36052 [00:00<00:00, 61696.32it/s]"
          ],
          "name": "stderr"
        },
        {
          "output_type": "stream",
          "text": [
            "\n"
          ],
          "name": "stdout"
        },
        {
          "output_type": "stream",
          "text": [
            "\n"
          ],
          "name": "stderr"
        }
      ]
    },
    {
      "cell_type": "code",
      "metadata": {
        "id": "khJ5j6KVslrp",
        "colab_type": "code",
        "outputId": "81696c2f-1580-4adf-81ee-f2dba97d6933",
        "colab": {
          "base_uri": "https://localhost:8080/",
          "height": 153
        }
      },
      "source": [
        "print(\"=\"*50)\n",
        "print(\"Average Word2Vec\")\n",
        "print(\"Shape of matrix after vectorizations (project_title)\")\n",
        "print(\"=\"*50)\n",
        "print(\"X_train  :(\",len(project_title_avg_w2v_X_train),\",\",len(project_title_avg_w2v_X_train[0]),\")\")\n",
        "print(\"X_cv  :(\",len(project_title_avg_w2v_X_cv),\",\",len(project_title_avg_w2v_X_cv[0]),\")\")\n",
        "print(\"X_test  :(\",len(project_title_avg_w2v_X_test),\",\",len(project_title_avg_w2v_X_test[0]),\")\")\n",
        "print(\"=\"*50)"
      ],
      "execution_count": 0,
      "outputs": [
        {
          "output_type": "stream",
          "text": [
            "==================================================\n",
            "Average Word2Vec\n",
            "Shape of matrix after vectorizations (project_title)\n",
            "==================================================\n",
            "X_train  :( 49041 , 300 )\n",
            "X_cv  :( 24155 , 300 )\n",
            "X_test  :( 36052 , 300 )\n",
            "==================================================\n"
          ],
          "name": "stdout"
        }
      ]
    },
    {
      "cell_type": "markdown",
      "metadata": {
        "id": "1ggeNaBFtWG-",
        "colab_type": "text"
      },
      "source": [
        "<h3>Project_title- average Word2Vec"
      ]
    },
    {
      "cell_type": "code",
      "metadata": {
        "id": "7revf8n2tVKj",
        "colab_type": "code",
        "colab": {}
      },
      "source": [
        "# S = [\"abc def pqr\", \"def def def abc\", \"pqr pqr def\"]\n",
        "tfidf_model = TfidfVectorizer()\n",
        "tfidf_model.fit(X_train['project_title'].values)\n",
        "# we are converting a dictionary with word as a key, and the idf as a value\n",
        "dictionary = dict(zip(tfidf_model.get_feature_names(), list(tfidf_model.idf_)))\n",
        "tfidf_words = set(tfidf_model.get_feature_names())"
      ],
      "execution_count": 0,
      "outputs": []
    },
    {
      "cell_type": "code",
      "metadata": {
        "id": "L65vR6GrtqC3",
        "colab_type": "code",
        "outputId": "fbe17836-fe49-479b-88c1-91307fa3ed1b",
        "colab": {
          "base_uri": "https://localhost:8080/",
          "height": 51
        }
      },
      "source": [
        "# average Word2Vec\n",
        "# compute average word2vec for each review.\n",
        "project_title_tfidf_w2v_X_train= []; # the avg-w2v for each sentence/review is stored in this list\n",
        "for sentence in tqdm(X_train['project_title'].values): # for each review/sentence\n",
        "    vector = np.zeros(300) # as word vectors are of zero length\n",
        "    tf_idf_weight =0; # num of words with a valid vector in the sentence/review\n",
        "    for word in sentence.split(): # for each word in a review/sentence\n",
        "        if (word in glove_words) and (word in tfidf_words):\n",
        "            vec = model[word] # getting the vector for each word\n",
        "            # here we are multiplying idf value(dictionary[word]) and the tf value((sentence.count(word)/len(sentence.split())))\n",
        "            tf_idf = dictionary[word]*(sentence.count(word)/len(sentence.split())) # getting the tfidf value for each word\n",
        "            vector += (vec * tf_idf) # calculating tfidf weighted w2v\n",
        "            tf_idf_weight += tf_idf\n",
        "    if tf_idf_weight != 0:\n",
        "        vector /= tf_idf_weight\n",
        "    project_title_tfidf_w2v_X_train.append(vector)\n",
        "\n",
        "print()"
      ],
      "execution_count": 0,
      "outputs": [
        {
          "output_type": "stream",
          "text": [
            "100%|██████████| 49041/49041 [00:01<00:00, 29952.82it/s]"
          ],
          "name": "stderr"
        },
        {
          "output_type": "stream",
          "text": [
            "\n"
          ],
          "name": "stdout"
        },
        {
          "output_type": "stream",
          "text": [
            "\n"
          ],
          "name": "stderr"
        }
      ]
    },
    {
      "cell_type": "code",
      "metadata": {
        "id": "jQ-cACqcuDUB",
        "colab_type": "code",
        "outputId": "5c2b9549-d2f0-4a6c-b1da-dab955fce219",
        "colab": {
          "base_uri": "https://localhost:8080/",
          "height": 51
        }
      },
      "source": [
        "# average Word2Vec\n",
        "# compute average word2vec for each review.\n",
        "project_title_tfidf_w2v_X_cv= []; # the avg-w2v for each sentence/review is stored in this list\n",
        "for sentence in tqdm(X_cv['project_title'].values): # for each review/sentence\n",
        "    vector = np.zeros(300) # as word vectors are of zero length\n",
        "    tf_idf_weight =0; # num of words with a valid vector in the sentence/review\n",
        "    for word in sentence.split(): # for each word in a review/sentence\n",
        "        if (word in glove_words) and (word in tfidf_words):\n",
        "            vec = model[word] # getting the vector for each word\n",
        "            # here we are multiplying idf value(dictionary[word]) and the tf value((sentence.count(word)/len(sentence.split())))\n",
        "            tf_idf = dictionary[word]*(sentence.count(word)/len(sentence.split())) # getting the tfidf value for each word\n",
        "            vector += (vec * tf_idf) # calculating tfidf weighted w2v\n",
        "            tf_idf_weight += tf_idf\n",
        "    if tf_idf_weight != 0:\n",
        "        vector /= tf_idf_weight\n",
        "    project_title_tfidf_w2v_X_cv.append(vector)\n",
        "\n",
        "print()"
      ],
      "execution_count": 0,
      "outputs": [
        {
          "output_type": "stream",
          "text": [
            "100%|██████████| 24155/24155 [00:00<00:00, 30805.29it/s]"
          ],
          "name": "stderr"
        },
        {
          "output_type": "stream",
          "text": [
            "\n"
          ],
          "name": "stdout"
        },
        {
          "output_type": "stream",
          "text": [
            "\n"
          ],
          "name": "stderr"
        }
      ]
    },
    {
      "cell_type": "code",
      "metadata": {
        "id": "X2XGMaIKuDwV",
        "colab_type": "code",
        "outputId": "c996975c-c48e-42b6-8a18-844c03584a0e",
        "colab": {
          "base_uri": "https://localhost:8080/",
          "height": 51
        }
      },
      "source": [
        "# average Word2Vec\n",
        "# compute average word2vec for each review.\n",
        "project_title_tfidf_w2v_X_test=[]; # the avg-w2v for each sentence/review is stored in this list\n",
        "for sentence in tqdm(X_test['project_title'].values): # for each review/sentence\n",
        "    vector = np.zeros(300) # as word vectors are of zero length\n",
        "    tf_idf_weight =0; # num of words with a valid vector in the sentence/review\n",
        "    for word in sentence.split(): # for each word in a review/sentence\n",
        "        if (word in glove_words) and (word in tfidf_words):\n",
        "            vec = model[word] # getting the vector for each word\n",
        "            # here we are multiplying idf value(dictionary[word]) and the tf value((sentence.count(word)/len(sentence.split())))\n",
        "            tf_idf = dictionary[word]*(sentence.count(word)/len(sentence.split())) # getting the tfidf value for each word\n",
        "            vector += (vec * tf_idf) # calculating tfidf weighted w2v\n",
        "            tf_idf_weight += tf_idf\n",
        "    if tf_idf_weight != 0:\n",
        "        vector /= tf_idf_weight\n",
        "    project_title_tfidf_w2v_X_test.append(vector)\n",
        "\n",
        "print()"
      ],
      "execution_count": 0,
      "outputs": [
        {
          "output_type": "stream",
          "text": [
            "100%|██████████| 36052/36052 [00:01<00:00, 25347.05it/s]"
          ],
          "name": "stderr"
        },
        {
          "output_type": "stream",
          "text": [
            "\n"
          ],
          "name": "stdout"
        },
        {
          "output_type": "stream",
          "text": [
            "\n"
          ],
          "name": "stderr"
        }
      ]
    },
    {
      "cell_type": "code",
      "metadata": {
        "id": "138O_pWxua4o",
        "colab_type": "code",
        "outputId": "801ecb43-77c0-4444-8b67-65705a0d8916",
        "colab": {
          "base_uri": "https://localhost:8080/",
          "height": 153
        }
      },
      "source": [
        "print(\"=\"*50)\n",
        "print(\"Average Word2Vec\")\n",
        "print(\"Shape of matrix after vectorizations (project_title)\")\n",
        "print(\"=\"*50)\n",
        "print(\"X_train  :(\",len(project_title_tfidf_w2v_X_train),\",\",len(project_title_tfidf_w2v_X_train[0]),\")\")\n",
        "print(\"X_cv     :(\",len(project_title_tfidf_w2v_X_cv),\",\",len(project_title_tfidf_w2v_X_cv[0]),\")\")\n",
        "print(\"X_test   :(\",len(project_title_tfidf_w2v_X_test),\",\",len(project_title_tfidf_w2v_X_test[0]),\")\")\n",
        "print(\"=\"*50)"
      ],
      "execution_count": 0,
      "outputs": [
        {
          "output_type": "stream",
          "text": [
            "==================================================\n",
            "Average Word2Vec\n",
            "Shape of matrix after vectorizations (project_title)\n",
            "==================================================\n",
            "X_train  :( 49041 , 300 )\n",
            "X_cv     :( 24155 , 300 )\n",
            "X_test   :( 36052 , 300 )\n",
            "==================================================\n"
          ],
          "name": "stdout"
        }
      ]
    },
    {
      "cell_type": "markdown",
      "metadata": {
        "id": "5jkPXkSOvLw8",
        "colab_type": "text"
      },
      "source": [
        "<h3><font color='red'> Combining all feature vecters into one Vecter</font>"
      ]
    },
    {
      "cell_type": "code",
      "metadata": {
        "id": "-oE3vCkYvKz3",
        "colab_type": "code",
        "colab": {}
      },
      "source": [
        "from scipy.sparse import hstack\n",
        "#Bag_of_words\n",
        "X_train_Bow = hstack((states_one_hot_X_train,teacher_prefix_one_hot_X_train,project_grade_one_hot_X_train,clean_categories_one_hot_X_train,\n",
        "clean_subcategories_one_hot_X_train,previously_posted_X_train,price_X_train,essay_bag_of_words_X_train,project_title_bag_of_words_X_train)).tocsr()\n",
        "\n",
        "X_cv_Bow = hstack((states_one_hot_X_cv, teacher_prefix_one_hot_X_cv,project_grade_one_hot_X_cv,clean_categories_one_hot_X_cv,\n",
        "clean_subcategories_one_hot_X_cv,previously_posted_X_cv,price_X_cv,essay_bag_of_words_X_cv,project_title_bag_of_words_X_cv)).tocsr()\n",
        "\n",
        "X_test_Bow = hstack((states_one_hot_X_test, teacher_prefix_one_hot_X_test,project_grade_one_hot_X_test,clean_categories_one_hot_X_test,\n",
        "clean_subcategories_one_hot_X_test,previously_posted_X_test,price_X_test,essay_bag_of_words_X_test,project_title_bag_of_words_X_test)).tocsr()\n"
      ],
      "execution_count": 0,
      "outputs": []
    },
    {
      "cell_type": "code",
      "metadata": {
        "id": "G_kN1jQex718",
        "colab_type": "code",
        "colab": {}
      },
      "source": [
        "X_train_tfidf = hstack((states_one_hot_X_train,teacher_prefix_one_hot_X_train,project_grade_one_hot_X_train,clean_categories_one_hot_X_train,\n",
        "clean_subcategories_one_hot_X_train,previously_posted_X_train,price_X_train,essay_tfidf_X_train,project_title_tfidf_X_train)).tocsr()\n",
        "\n",
        "X_cv_tfidf = hstack((states_one_hot_X_cv, teacher_prefix_one_hot_X_cv,project_grade_one_hot_X_cv,clean_categories_one_hot_X_cv,\n",
        "clean_subcategories_one_hot_X_cv,previously_posted_X_cv,price_X_cv,essay_tfidf_X_cv,project_title_tfidf_X_cv)).tocsr()\n",
        "\n",
        "X_test_tfidf = hstack((states_one_hot_X_test, teacher_prefix_one_hot_X_test,project_grade_one_hot_X_test,clean_categories_one_hot_X_test,\n",
        "clean_subcategories_one_hot_X_test,previously_posted_X_test,price_X_test,essay_tfidf_X_test,project_title_tfidf_X_test)).tocsr()\n"
      ],
      "execution_count": 0,
      "outputs": []
    },
    {
      "cell_type": "code",
      "metadata": {
        "id": "PV5rG6IezAx0",
        "colab_type": "code",
        "colab": {}
      },
      "source": [
        "X_train_avg_w2v = hstack((states_one_hot_X_train,teacher_prefix_one_hot_X_train,project_grade_one_hot_X_train,clean_categories_one_hot_X_train,\n",
        "clean_subcategories_one_hot_X_train,previously_posted_X_train,price_X_train,essay_avg_w2v_X_train,project_title_avg_w2v_X_train)).tocsr()\n",
        "\n",
        "X_cv_avg_w2v= hstack((states_one_hot_X_cv, teacher_prefix_one_hot_X_cv,project_grade_one_hot_X_cv,clean_categories_one_hot_X_cv,\n",
        "clean_subcategories_one_hot_X_cv,previously_posted_X_cv,price_X_cv,essay_avg_w2v_X_cv,project_title_avg_w2v_X_cv)).tocsr()\n",
        "\n",
        "X_test_avg_w2v = hstack((states_one_hot_X_test, teacher_prefix_one_hot_X_test,project_grade_one_hot_X_test,clean_categories_one_hot_X_test,\n",
        "clean_subcategories_one_hot_X_test,previously_posted_X_test,price_X_test,essay_avg_w2v_X_test,project_title_avg_w2v_X_test)).tocsr()\n"
      ],
      "execution_count": 0,
      "outputs": []
    },
    {
      "cell_type": "code",
      "metadata": {
        "id": "0PRb5Jp9zry2",
        "colab_type": "code",
        "colab": {}
      },
      "source": [
        "X_train_tfidf_w2v = hstack((states_one_hot_X_train,teacher_prefix_one_hot_X_train,project_grade_one_hot_X_train,clean_categories_one_hot_X_train,\n",
        "clean_subcategories_one_hot_X_train,previously_posted_X_train,price_X_train,essay_tfidf_w2v_X_train,project_title_tfidf_w2v_X_train)).tocsr()\n",
        "\n",
        "X_cv_tfidf_w2v= hstack((states_one_hot_X_cv, teacher_prefix_one_hot_X_cv,project_grade_one_hot_X_cv,clean_categories_one_hot_X_cv,\n",
        "clean_subcategories_one_hot_X_cv,previously_posted_X_cv,price_X_cv,essay_tfidf_w2v_X_cv,project_title_tfidf_w2v_X_cv)).tocsr()\n",
        "\n",
        "X_test_tfidf_w2v = hstack((states_one_hot_X_test, teacher_prefix_one_hot_X_test,project_grade_one_hot_X_test,clean_categories_one_hot_X_test,\n",
        "clean_subcategories_one_hot_X_test,previously_posted_X_test,price_X_test,essay_tfidf_w2v_X_test,project_title_tfidf_w2v_X_test)).tocsr()\n"
      ],
      "execution_count": 0,
      "outputs": []
    },
    {
      "cell_type": "code",
      "metadata": {
        "id": "9zCyM6nC9Z6A",
        "colab_type": "code",
        "colab": {}
      },
      "source": [
        "def batch_predict(clf, data):\n",
        "    # roc_auc_score(y_true, y_score) the 2nd parameter should be probability estimates of the positive class\n",
        "    # not the predicted outputs\n",
        "\n",
        "    y_data_pred = []\n",
        "    tr_loop = data.shape[0] - data.shape[0]%1000\n",
        "    # consider you X_tr shape is 49041, then your tr_loop will be 49041 - 49041%1000 = 49000\n",
        "    # in this for loop we will iterate unti the last 1000 multiplier\n",
        "    for i in range(0, tr_loop, 1000):\n",
        "        y_data_pred.extend(clf.predict_proba(data[i:i+1000])[:,1])\n",
        "    # we will be predicting for the last data points\n",
        "    if data.shape[0]%1000 !=0:\n",
        "        y_data_pred.extend(clf.predict_proba(data[tr_loop:])[:,1])\n",
        "    \n",
        "    return y_data_pred"
      ],
      "execution_count": 0,
      "outputs": []
    },
    {
      "cell_type": "markdown",
      "metadata": {
        "id": "REW5dLTI9ZC4",
        "colab_type": "text"
      },
      "source": [
        "\n",
        "\n",
        "<h2>2.4 Appling KNN on different kind of featurization as mentioned \n",
        "in the instructions</h2>\n",
        "\n",
        "<br>Apply KNN on different kind of featurization as mentioned in the instructions\n",
        "<br> For Every model that you work on make sure you do the step 2 and step 3 of instructions"
      ]
    },
    {
      "cell_type": "markdown",
      "metadata": {
        "id": "SHCNbsv29hBg",
        "colab_type": "text"
      },
      "source": [
        "### 2.4.1 Applying KNN brute force on BOW,<font color='red'> SET 1</font>"
      ]
    },
    {
      "cell_type": "code",
      "metadata": {
        "id": "3NYXAN3v9fXr",
        "colab_type": "code",
        "outputId": "536b44cf-cc19-4fd6-a77f-08f82a9d47b7",
        "colab": {
          "base_uri": "https://localhost:8080/",
          "height": 312
        }
      },
      "source": [
        "import matplotlib.pyplot as plt\n",
        "from sklearn.neighbors import KNeighborsClassifier\n",
        "from sklearn.metrics import roc_auc_score\n",
        "\"\"\"\n",
        "y_true : array, shape = [n_samples] or [n_samples, n_classes]\n",
        "True binary labels or binary label indicators.\n",
        "\n",
        "y_score : array, shape = [n_samples] or [n_samples, n_classes]\n",
        "Target scores, can either be probability estimates of the positive class, confidence values, or non-thresholded measure of\n",
        "decisions (as returned by “decision_function” on some classifiers). \n",
        "For binary y_true, y_score is supposed to be the score of the class with greater label.\n",
        "\n",
        "\"\"\"\n",
        "\n",
        "train_auc = []\n",
        "cv_auc = []\n",
        "K = [3, 15, 25, 51, 101]\n",
        "for i in tqdm(K):\n",
        "    neigh = KNeighborsClassifier(n_neighbors=i, n_jobs=-1)\n",
        "    neigh.fit(X_train_Bow, y_train)\n",
        "\n",
        "    y_train_pred = batch_predict(neigh, X_train_Bow)    \n",
        "    y_cv_pred = batch_predict(neigh, X_cv_Bow)\n",
        "\n",
        "    # roc_auc_score(y_true, y_score) the 2nd parameter should be probability estimates of the positive class\n",
        "    # not the predicted outputs        \n",
        "    train_auc.append(roc_auc_score(y_train,y_train_pred))\n",
        "    cv_auc.append(roc_auc_score(y_cv, y_cv_pred))\n",
        "\n",
        "plt.plot(K, train_auc, label='Train AUC')\n",
        "plt.plot(K, cv_auc, label='CV AUC')\n",
        "\n",
        "plt.scatter(K, train_auc, label='Train AUC points')\n",
        "plt.scatter(K, cv_auc, label='CV AUC points')\n",
        "\n",
        "plt.legend()\n",
        "plt.xlabel(\"K: hyperparameter\")\n",
        "plt.ylabel(\"AUC\")\n",
        "plt.title(\"ERROR PLOTS\")\n",
        "plt.grid()\n",
        "plt.show()"
      ],
      "execution_count": 59,
      "outputs": [
        {
          "output_type": "stream",
          "text": [
            "100%|██████████| 5/5 [17:18<00:00, 206.89s/it]\n"
          ],
          "name": "stderr"
        },
        {
          "output_type": "display_data",
          "data": {
            "image/png": "[encoded data removed]",
            "text/plain": [
              "<Figure size 432x288 with 1 Axes>"
            ]
          },
          "metadata": {
            "tags": []
          }
        }
      ]
    },
    {
      "cell_type": "markdown",
      "metadata": {
        "id": "5a1tJMnj9tpF",
        "colab_type": "text"
      },
      "source": [
        "### 2.4.2 Applying KNN brute force on TFIDF,<font color='red'> SET 2</font>\n"
      ]
    },
    {
      "cell_type": "code",
      "metadata": {
        "id": "Q3Ogi37n9gTi",
        "colab_type": "code",
        "outputId": "0346fcd8-3ef5-400b-84d9-a7f62889a9fc",
        "colab": {
          "base_uri": "https://localhost:8080/",
          "height": 312
        }
      },
      "source": [
        "from sklearn.metrics import roc_curve, auc\n",
        "import matplotlib.pyplot as plt\n",
        "from sklearn.neighbors import KNeighborsClassifier\n",
        "from sklearn.metrics import roc_auc_score\n",
        "train_auc = []\n",
        "cv_auc = []\n",
        "K = [3, 15, 25, 51, 101]\n",
        "for i in tqdm(K):\n",
        "    neigh = KNeighborsClassifier(n_neighbors=i, n_jobs=-1)\n",
        "    neigh.fit(X_train_tfidf, y_train)\n",
        "\n",
        "    y_train_pred = batch_predict(neigh, X_train_tfidf)    \n",
        "    y_cv_pred = batch_predict(neigh, X_cv_tfidf)\n",
        "\n",
        "    # roc_auc_score(y_true, y_score) the 2nd parameter should be probability estimates of the positive class\n",
        "    # not the predicted outputs        \n",
        "    train_auc.append(roc_auc_score(y_train,y_train_pred))\n",
        "    cv_auc.append(roc_auc_score(y_cv, y_cv_pred))\n",
        "\n",
        "plt.plot(K, train_auc, label='Train AUC')\n",
        "plt.plot(K, cv_auc, label='CV AUC')\n",
        "\n",
        "plt.scatter(K, train_auc, label='Train AUC points')\n",
        "plt.scatter(K, cv_auc, label='CV AUC points')\n",
        "\n",
        "plt.legend()\n",
        "plt.xlabel(\"K: hyperparameter\")\n",
        "plt.ylabel(\"AUC\")\n",
        "plt.title(\"ERROR PLOTS\")\n",
        "plt.grid()\n",
        "plt.show()"
      ],
      "execution_count": 60,
      "outputs": [
        {
          "output_type": "stream",
          "text": [
            "100%|██████████| 5/5 [17:48<00:00, 212.55s/it]\n"
          ],
          "name": "stderr"
        },
        {
          "output_type": "display_data",
          "data": {
            "image/png": "[encoded data removed]",
            "text/plain": [
              "<Figure size 432x288 with 1 Axes>"
            ]
          },
          "metadata": {
            "tags": []
          }
        }
      ]
    },
    {
      "cell_type": "markdown",
      "metadata": {
        "id": "K-_d7Dc694c2",
        "colab_type": "text"
      },
      "source": [
        "### 2.4.3 Applying KNN brute force on AVG W2V,<font color='red'> SET 3</font>"
      ]
    },
    {
      "cell_type": "code",
      "metadata": {
        "id": "AmfOJGvDRMdb",
        "colab_type": "code",
        "outputId": "cc9292a1-31df-4551-9009-5e37d155b85a",
        "colab": {
          "base_uri": "https://localhost:8080/",
          "height": 312
        }
      },
      "source": [
        "\n",
        "train_auc = []\n",
        "cv_auc = []\n",
        "K = [3, 15, 25, 51, 101]\n",
        "for i in tqdm(K):\n",
        "    neigh = KNeighborsClassifier(n_neighbors=i, n_jobs=-1)\n",
        "    neigh.fit(X_train_avg_w2v, y_train)\n",
        "\n",
        "    y_train_pred = batch_predict(neigh, X_train_avg_w2v)    \n",
        "    y_cv_pred = batch_predict(neigh, X_cv_avg_w2v)\n",
        "\n",
        "    # roc_auc_score(y_true, y_score) the 2nd parameter should be probability estimates of the positive class\n",
        "    # not the predicted outputs        \n",
        "    train_auc.append(roc_auc_score(y_train,y_train_pred))\n",
        "    cv_auc.append(roc_auc_score(y_cv, y_cv_pred))\n",
        "\n",
        "plt.plot(K, train_auc, label='Train AUC')\n",
        "plt.plot(K, cv_auc, label='CV AUC')\n",
        "\n",
        "plt.scatter(K, train_auc, label='Train AUC points')\n",
        "plt.scatter(K, cv_auc, label='CV AUC points')\n",
        "\n",
        "plt.legend()\n",
        "plt.xlabel(\"K: hyperparameter\")\n",
        "plt.ylabel(\"AUC\")\n",
        "plt.title(\"ERROR PLOTS\")\n",
        "plt.grid()\n",
        "plt.show()"
      ],
      "execution_count": 0,
      "outputs": [
        {
          "output_type": "stream",
          "text": [
            "100%|██████████| 5/5 [4:17:25<00:00, 3092.44s/it]\n"
          ],
          "name": "stderr"
        },
        {
          "output_type": "display_data",
          "data": {
            "image/png": "[encoded data removed]",
            "text/plain": [
              "<Figure size 432x288 with 1 Axes>"
            ]
          },
          "metadata": {
            "tags": []
          }
        }
      ]
    },
    {
      "cell_type": "markdown",
      "metadata": {
        "id": "WjTHY9MO-Biw",
        "colab_type": "text"
      },
      "source": [
        "### 2.4.4 Applying KNN brute force on TFIDF W2V,<font color='red'> SET 4</font>"
      ]
    },
    {
      "cell_type": "code",
      "metadata": {
        "id": "lQTsJhVc-Ari",
        "colab_type": "code",
        "outputId": "2c01819a-bafc-48bf-85f8-12815c2d1f2c",
        "colab": {
          "base_uri": "https://localhost:8080/",
          "height": 312
        }
      },
      "source": [
        "from sklearn.metrics import roc_curve, auc\n",
        "import matplotlib.pyplot as plt\n",
        "from sklearn.neighbors import KNeighborsClassifier\n",
        "from sklearn.metrics import roc_auc_score\n",
        "train_auc = []\n",
        "cv_auc = []\n",
        "K = [3, 15, 25, 51, 101]\n",
        "for i in tqdm(K):\n",
        "    neigh = KNeighborsClassifier(n_neighbors=i, n_jobs=-1)\n",
        "    neigh.fit(X_train_tfidf_w2v, y_train)\n",
        "\n",
        "    y_train_pred = batch_predict(neigh, X_train_tfidf_w2v)    \n",
        "    y_cv_pred = batch_predict(neigh, X_cv_tfidf_w2v)\n",
        "\n",
        "    # roc_auc_score(y_true, y_score) the 2nd parameter should be probability estimates of the positive class\n",
        "    # not the predicted outputs        \n",
        "    train_auc.append(roc_auc_score(y_train,y_train_pred))\n",
        "    cv_auc.append(roc_auc_score(y_cv, y_cv_pred))\n",
        "\n",
        "plt.plot(K, train_auc, label='Train AUC')\n",
        "plt.plot(K, cv_auc, label='CV AUC')\n",
        "\n",
        "plt.scatter(K, train_auc, label='Train AUC points')\n",
        "plt.scatter(K, cv_auc, label='CV AUC points')\n",
        "\n",
        "plt.legend()\n",
        "plt.xlabel(\"K: hyperparameter\")\n",
        "plt.ylabel(\"AUC\")\n",
        "plt.title(\"ERROR PLOTS\")\n",
        "plt.grid()\n",
        "plt.show()"
      ],
      "execution_count": 0,
      "outputs": [
        {
          "output_type": "stream",
          "text": [
            "100%|██████████| 5/5 [4:13:40<00:00, 3050.22s/it]\n"
          ],
          "name": "stderr"
        },
        {
          "output_type": "display_data",
          "data": {
            "image/png": "[encoded data removed]",
            "text/plain": [
              "<Figure size 432x288 with 1 Axes>"
            ]
          },
          "metadata": {
            "tags": []
          }
        }
      ]
    },
    {
      "cell_type": "markdown",
      "metadata": {
        "id": "uzbX2c12-LjZ",
        "colab_type": "text"
      },
      "source": [
        "<h2>2.5 Feature selection with `SelectKBest` </h2>"
      ]
    },
    {
      "cell_type": "markdown",
      "metadata": {
        "id": "_Efx-tuUc9iB",
        "colab_type": "text"
      },
      "source": [
        "### BOW"
      ]
    },
    {
      "cell_type": "code",
      "metadata": {
        "id": "Wvj_Xf2EPKvI",
        "colab_type": "code",
        "colab": {}
      },
      "source": [
        "best_k = 101"
      ],
      "execution_count": 0,
      "outputs": []
    },
    {
      "cell_type": "code",
      "metadata": {
        "id": "BujQFTwd-JML",
        "colab_type": "code",
        "outputId": "71d1a5b4-3d21-411a-b51d-d3aacb8a866e",
        "colab": {
          "base_uri": "https://localhost:8080/",
          "height": 295
        }
      },
      "source": [
        "neigh = KNeighborsClassifier(n_neighbors=best_k, n_jobs=-1)\n",
        "neigh.fit(X_train_Bow, y_train)\n",
        "# roc_auc_score(y_true, y_score) the 2nd parameter should be probability estimates of the positive class\n",
        "# not the predicted outputs\n",
        "\n",
        "y_train_pred = batch_predict(neigh, X_train_Bow)    \n",
        "y_test_pred = batch_predict(neigh, X_test_Bow)\n",
        "\n",
        "train_fpr_bow, train_tpr_bow, tr_thresholds_bow = roc_curve(y_train, y_train_pred)\n",
        "test_fpr_bow, test_tpr_bow, te_thresholds_bow = roc_curve(y_test, y_test_pred)\n",
        "\n",
        "plt.plot(train_fpr_bow, train_tpr_bow, label=\"train AUC =\"+str(auc(train_fpr_bow, train_tpr_bow)))\n",
        "plt.plot(test_fpr_bow, test_tpr_bow, label=\"train AUC =\"+str(auc(test_fpr_bow, test_tpr_bow)))\n",
        "plt.legend()\n",
        "plt.xlabel(\"K: hyperparameter\")\n",
        "plt.ylabel(\"AUC\")\n",
        "plt.title(\"ERROR PLOTS - BOW\")\n",
        "plt.grid()\n",
        "plt.show()"
      ],
      "execution_count": 48,
      "outputs": [
        {
          "output_type": "display_data",
          "data": {
            "image/png": "[encoded data removed]",
            "text/plain": [
              "<Figure size 432x288 with 1 Axes>"
            ]
          },
          "metadata": {
            "tags": []
          }
        }
      ]
    },
    {
      "cell_type": "code",
      "metadata": {
        "id": "Hz1H1ab0-PcS",
        "colab_type": "code",
        "colab": {
          "base_uri": "https://localhost:8080/",
          "height": 295
        },
        "outputId": "6603c286-60de-4bb6-e0fe-5a2618b6fe68"
      },
      "source": [
        "neigh = KNeighborsClassifier(n_neighbors=best_k, n_jobs=-1)\n",
        "neigh.fit(X_train_tfidf, y_train)\n",
        "# roc_auc_score(y_true, y_score) the 2nd parameter should be probability estimates of the positive class\n",
        "# not the predicted outputs\n",
        "\n",
        "y_train_pred = batch_predict(neigh, X_train_tfidf)    \n",
        "y_test_pred = batch_predict(neigh, X_test_tfidf)\n",
        "\n",
        "train_fpr_tfidf, train_tpr_tfidf, tr_thresholds_tfidf = roc_curve(y_train, y_train_pred)\n",
        "test_fpr_tfidf, test_tpr_tfidf, te_thresholds_tfidf = roc_curve(y_test, y_test_pred)\n",
        "\n",
        "plt.plot(train_fpr_tfidf, train_tpr_tfidf, label=\"train AUC =\"+str(auc(train_fpr_tfidf, train_tpr_tfidf)))\n",
        "plt.plot(test_fpr_tfidf, test_tpr_tfidf, label=\"train AUC =\"+str(auc(test_fpr_tfidf, test_tpr_tfidf)))\n",
        "plt.legend()\n",
        "plt.xlabel(\"K: hyperparameter\")\n",
        "plt.ylabel(\"AUC\")\n",
        "plt.title(\"ERROR PLOTS-TF-idf\")\n",
        "plt.grid()\n",
        "plt.show()"
      ],
      "execution_count": 49,
      "outputs": [
        {
          "output_type": "display_data",
          "data": {
            "image/png": "[encoded data removed]",
            "text/plain": [
              "<Figure size 432x288 with 1 Axes>"
            ]
          },
          "metadata": {
            "tags": []
          }
        }
      ]
    },
    {
      "cell_type": "code",
      "metadata": {
        "id": "vtzcaDmtgEby",
        "colab_type": "code",
        "colab": {
          "base_uri": "https://localhost:8080/",
          "height": 295
        },
        "outputId": "ac1f7c92-e161-4975-fe3a-0af8e062ef14"
      },
      "source": [
        "neigh = KNeighborsClassifier(n_neighbors=best_k, n_jobs=-1)\n",
        "neigh.fit(X_train_avg_w2v, y_train)\n",
        "# roc_auc_score(y_true, y_score) the 2nd parameter should be probability estimates of the positive class\n",
        "# not the predicted outputs\n",
        "\n",
        "y_train_pred = batch_predict(neigh, X_train_avg_w2v)    \n",
        "y_test_pred = batch_predict(neigh, X_test_avg_w2v)\n",
        "\n",
        "train_fpr_avg_w2v, train_tpr_avg_w2v, tr_thresholds_avg_w2v = roc_curve(y_train, y_train_pred)\n",
        "test_fpr_avg_w2v, test_tpr_avg_w2v, te_thresholds_avg_w2v = roc_curve(y_test, y_test_pred)\n",
        "\n",
        "plt.plot(train_fpr_avg_w2v, train_tpr_avg_w2v, label=\"train AUC =\"+str(auc(train_fpr_avg_w2v, train_tpr_avg_w2v)))\n",
        "plt.plot(test_fpr_avg_w2v, test_tpr_avg_w2v, label=\"train AUC =\"+str(auc(test_fpr_avg_w2v, test_tpr_avg_w2v)))\n",
        "plt.legend()\n",
        "plt.xlabel(\"K: hyperparameter\")\n",
        "plt.ylabel(\"AUC\")\n",
        "plt.title(\"ERROR PLOTS - Avg W2V\")\n",
        "plt.grid()\n",
        "plt.show()"
      ],
      "execution_count": 50,
      "outputs": [
        {
          "output_type": "display_data",
          "data": {
            "image/png": "[encoded data removed]",
            "text/plain": [
              "<Figure size 432x288 with 1 Axes>"
            ]
          },
          "metadata": {
            "tags": []
          }
        }
      ]
    },
    {
      "cell_type": "code",
      "metadata": {
        "id": "-PKQggksgFRF",
        "colab_type": "code",
        "colab": {}
      },
      "source": [
        "neigh = KNeighborsClassifier(n_neighbors=best_k, n_jobs=-1)\n",
        "neigh.fit(X_train_tfidf_w2v, y_train)\n",
        "# roc_auc_score(y_true, y_score) the 2nd parameter should be probability estimates of the positive class\n",
        "# not the predicted outputs\n",
        "\n",
        "y_train_pred = batch_predict(neigh, X_train_tfidf_w2v)    \n",
        "y_test_pred = batch_predict(neigh, X_test_tfidf_w2v)\n",
        "\n",
        "train_fpr_tfidf_w2v, train_tpr_tfidf_w2v, tr_thresholds_tfidf_w2v = roc_curve(y_train, y_train_pred)\n",
        "test_fpr_tfidf_w2v, test_tpr_tfidf_w2v, te_thresholds_tfidf_w2v = roc_curve(y_test, y_test_pred)\n",
        "\n"
      ],
      "execution_count": 0,
      "outputs": []
    },
    {
      "cell_type": "code",
      "metadata": {
        "id": "vMC48vuQ6DoK",
        "colab_type": "code",
        "colab": {
          "base_uri": "https://localhost:8080/",
          "height": 295
        },
        "outputId": "55e7973b-31d2-4512-bb57-638b445dd64b"
      },
      "source": [
        "plt.plot(train_fpr_tfidf_w2v, train_tpr_tfidf_w2v, label=\"train AUC =\"+str(auc(train_fpr_tfidf_w2v, train_tpr_tfidf_w2v)))\n",
        "plt.plot(test_fpr_tfidf_w2v, test_tpr_tfidf_w2v, label=\"train AUC =\"+str(auc(test_fpr_tfidf_w2v, test_tpr_tfidf_w2v)))\n",
        "plt.legend()\n",
        "plt.xlabel(\"K: hyperparameter\")\n",
        "plt.ylabel(\"AUC\")\n",
        "plt.title(\"ERROR PLOTS - TFIDF W2V\")\n",
        "plt.grid()\n",
        "plt.show()"
      ],
      "execution_count": 58,
      "outputs": [
        {
          "output_type": "display_data",
          "data": {
            "image/png": "[encoded data removed]",
            "text/plain": [
              "<Figure size 432x288 with 1 Axes>"
            ]
          },
          "metadata": {
            "tags": []
          }
        }
      ]
    },
    {
      "cell_type": "markdown",
      "metadata": {
        "id": "-5JwDu4k-SVN",
        "colab_type": "text"
      },
      "source": [
        "<h1>3. Conclusions</h1>"
      ]
    },
    {
      "cell_type": "code",
      "metadata": {
        "id": "yw_StK_v-XUz",
        "colab_type": "code",
        "colab": {
          "base_uri": "https://localhost:8080/",
          "height": 153
        },
        "outputId": "002592cd-6d43-4b7b-9a46-af82ee416e8c"
      },
      "source": [
        "from prettytable import PrettyTable\n",
        "    \n",
        "x = PrettyTable()\n",
        "x.field_names = [\"Vectorizer\", \"Model\", \"HyperParameter\", \"AUC_Train\",\"AUC_Test\"]\n",
        "x.add_row([\"BOW\", \"Brute\", best_k, str(auc(train_fpr_bow, train_tpr_bow)),str(auc(test_fpr_bow, test_tpr_bow))])\n",
        "x.add_row([\"TF-idf\", \"Brute\", best_k,  str(auc(train_fpr_tfidf, train_tpr_tfidf)),str(auc(test_fpr_tfidf, test_tpr_tfidf))])\n",
        "x.add_row([\"Avg W2V\", \"Brute\", best_k,  str(auc(train_fpr_avg_w2v, train_tpr_avg_w2v)),str(auc(test_fpr_avg_w2v, test_tpr_avg_w2v)) ])\n",
        "x.add_row([\"TFIDF W2V\", \"Brute\", best_k, str(auc(train_fpr_tfidf_w2v, train_tpr_tfidf_w2v)),str(auc(test_fpr_tfidf_w2v, test_tpr_tfidf_w2v))])\n",
        "\n",
        "\n",
        "print(x)"
      ],
      "execution_count": 61,
      "outputs": [
        {
          "output_type": "stream",
          "text": [
            "+------------+-------+----------------+--------------------+--------------------+\n",
            "| Vectorizer | Model | HyperParameter |     AUC_Train      |      AUC_Test      |\n",
            "+------------+-------+----------------+--------------------+--------------------+\n",
            "|    BOW     | Brute |      101       | 0.6635748387251472 | 0.6269085862753919 |\n",
            "|   TF-idf   | Brute |      101       | 0.6290096520115862 | 0.5828348153663591 |\n",
            "|  Avg W2V   | Brute |      101       | 0.6086953515868969 | 0.5515219713268987 |\n",
            "| TFIDF W2V  | Brute |      101       | 0.6251113999188241 | 0.559988924308988  |\n",
            "+------------+-------+----------------+--------------------+--------------------+\n"
          ],
          "name": "stdout"
        }
      ]
    },
    {
      "cell_type": "code",
      "metadata": {
        "id": "JcCGVu3xccpM",
        "colab_type": "code",
        "colab": {}
      },
      "source": [
        ""
      ],
      "execution_count": 0,
      "outputs": []
    }
  ]
}