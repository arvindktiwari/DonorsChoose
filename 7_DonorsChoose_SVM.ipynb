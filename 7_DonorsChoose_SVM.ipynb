{
  "nbformat": 4,
  "nbformat_minor": 0,
  "metadata": {
    "colab": {
      "name": "7_DonorsChoose_SVM.ipynb",
      "provenance": [],
      "collapsed_sections": [
        "OeLLx404Oh9c",
        "ACyCSq0LOh9o",
        "NMbzzOsPOh9p",
        "z2gxZ2ogOh9w",
        "73m5MNjoOh90",
        "pAcQahGBOh99"
      ],
      "machine_shape": "hm"
    },
    "kernelspec": {
      "display_name": "Python 3",
      "language": "python",
      "name": "python3"
    }
  },
  "cells": [
    {
      "cell_type": "markdown",
      "metadata": {
        "id": "7pzFaN8TOh78",
        "colab_type": "text"
      },
      "source": [
        "# DonorsChoose"
      ]
    },
    {
      "cell_type": "markdown",
      "metadata": {
        "id": "EVZ5rn7COh7-",
        "colab_type": "text"
      },
      "source": [
        "<p>\n",
        "DonorsChoose.org receives hundreds of thousands of project proposals each year for classroom projects in need of funding. Right now, a large number of volunteers is needed to manually screen each submission before it's approved to be posted on the DonorsChoose.org website.\n",
        "</p>\n",
        "<p>\n",
        "    Next year, DonorsChoose.org expects to receive close to 500,000 project proposals. As a result, there are three main problems they need to solve:\n",
        "<ul>\n",
        "<li>\n",
        "    How to scale current manual processes and resources to screen 500,000 projects so that they can be posted as quickly and as efficiently as possible</li>\n",
        "    <li>How to increase the consistency of project vetting across different volunteers to improve the experience for teachers</li>\n",
        "    <li>How to focus volunteer time on the applications that need the most assistance</li>\n",
        "    </ul>\n",
        "</p>    \n",
        "<p>\n",
        "The goal of the competition is to predict whether or not a DonorsChoose.org project proposal submitted by a teacher will be approved, using the text of project descriptions as well as additional metadata about the project, teacher, and school. DonorsChoose.org can then use this information to identify projects most likely to need further review before approval.\n",
        "</p>"
      ]
    },
    {
      "cell_type": "markdown",
      "metadata": {
        "id": "UZQ1FGY_Oh7_",
        "colab_type": "text"
      },
      "source": [
        "## About the DonorsChoose Data Set\n",
        "\n",
        "The `train.csv` data set provided by DonorsChoose contains the following features:\n",
        "\n",
        "Feature | Description \n",
        "----------|---------------\n",
        "**`project_id`** | A unique identifier for the proposed project. **Example:** `p036502`   \n",
        "**`project_title`**    | Title of the project. **Examples:**<br><ul><li><code>Art Will Make You Happy!</code></li><li><code>First Grade Fun</code></li></ul> \n",
        "**`project_grade_category`** | Grade level of students for which the project is targeted. One of the following enumerated values: <br/><ul><li><code>Grades PreK-2</code></li><li><code>Grades 3-5</code></li><li><code>Grades 6-8</code></li><li><code>Grades 9-12</code></li></ul>  \n",
        " **`project_subject_categories`** | One or more (comma-separated) subject categories for the project from the following enumerated list of values:  <br/><ul><li><code>Applied Learning</code></li><li><code>Care &amp; Hunger</code></li><li><code>Health &amp; Sports</code></li><li><code>History &amp; Civics</code></li><li><code>Literacy &amp; Language</code></li><li><code>Math &amp; Science</code></li><li><code>Music &amp; The Arts</code></li><li><code>Special Needs</code></li><li><code>Warmth</code></li></ul><br/> **Examples:** <br/><ul><li><code>Music &amp; The Arts</code></li><li><code>Literacy &amp; Language, Math &amp; Science</code></li>  \n",
        "  **`school_state`** | State where school is located ([Two-letter U.S. postal code](https://en.wikipedia.org/wiki/List_of_U.S._state_abbreviations#Postal_codes)). **Example:** `WY`\n",
        "**`project_subject_subcategories`** | One or more (comma-separated) subject subcategories for the project. **Examples:** <br/><ul><li><code>Literacy</code></li><li><code>Literature &amp; Writing, Social Sciences</code></li></ul> \n",
        "**`project_resource_summary`** | An explanation of the resources needed for the project. **Example:** <br/><ul><li><code>My students need hands on literacy materials to manage sensory needs!</code</li></ul> \n",
        "**`project_essay_1`**    | First application essay<sup>*</sup>  \n",
        "**`project_essay_2`**    | Second application essay<sup>*</sup> \n",
        "**`project_essay_3`**    | Third application essay<sup>*</sup> \n",
        "**`project_essay_4`**    | Fourth application essay<sup>*</sup> \n",
        "**`project_submitted_datetime`** | Datetime when project application was submitted. **Example:** `2016-04-28 12:43:56.245`   \n",
        "**`teacher_id`** | A unique identifier for the teacher of the proposed project. **Example:** `bdf8baa8fedef6bfeec7ae4ff1c15c56`  \n",
        "**`teacher_prefix`** | Teacher's title. One of the following enumerated values: <br/><ul><li><code>nan</code></li><li><code>Dr.</code></li><li><code>Mr.</code></li><li><code>Mrs.</code></li><li><code>Ms.</code></li><li><code>Teacher.</code></li></ul>  \n",
        "**`teacher_number_of_previously_posted_projects`** | Number of project applications previously submitted by the same teacher. **Example:** `2` \n",
        "\n",
        "<sup>*</sup> See the section <b>Notes on the Essay Data</b> for more details about these features.\n",
        "\n",
        "Additionally, the `resources.csv` data set provides more data about the resources required for each project. Each line in this file represents a resource required by a project:\n",
        "\n",
        "Feature | Description \n",
        "----------|---------------\n",
        "**`id`** | A `project_id` value from the `train.csv` file.  **Example:** `p036502`   \n",
        "**`description`** | Desciption of the resource. **Example:** `Tenor Saxophone Reeds, Box of 25`   \n",
        "**`quantity`** | Quantity of the resource required. **Example:** `3`   \n",
        "**`price`** | Price of the resource required. **Example:** `9.95`   \n",
        "\n",
        "**Note:** Many projects require multiple resources. The `id` value corresponds to a `project_id` in train.csv, so you use it as a key to retrieve all resources needed for a project:\n",
        "\n",
        "The data set contains the following label (the value you will attempt to predict):\n",
        "\n",
        "Label | Description\n",
        "----------|---------------\n",
        "`project_is_approved` | A binary flag indicating whether DonorsChoose approved the project. A value of `0` indicates the project was not approved, and a value of `1` indicates the project was approved."
      ]
    },
    {
      "cell_type": "markdown",
      "metadata": {
        "id": "sCCs5GkfOh8A",
        "colab_type": "text"
      },
      "source": [
        "### Notes on the Essay Data\n",
        "\n",
        "<ul>\n",
        "Prior to May 17, 2016, the prompts for the essays were as follows:\n",
        "<li>__project_essay_1:__ \"Introduce us to your classroom\"</li>\n",
        "<li>__project_essay_2:__ \"Tell us more about your students\"</li>\n",
        "<li>__project_essay_3:__ \"Describe how your students will use the materials you're requesting\"</li>\n",
        "<li>__project_essay_3:__ \"Close by sharing why your project will make a difference\"</li>\n",
        "</ul>\n",
        "\n",
        "\n",
        "<ul>\n",
        "Starting on May 17, 2016, the number of essays was reduced from 4 to 2, and the prompts for the first 2 essays were changed to the following:<br>\n",
        "<li>__project_essay_1:__ \"Describe your students: What makes your students special? Specific details about their background, your neighborhood, and your school are all helpful.\"</li>\n",
        "<li>__project_essay_2:__ \"About your project: How will these materials make a difference in your students' learning and improve their school lives?\"</li>\n",
        "<br>For all projects with project_submitted_datetime of 2016-05-17 and later, the values of project_essay_3 and project_essay_4 will be NaN.\n",
        "</ul>\n"
      ]
    },
    {
      "cell_type": "code",
      "metadata": {
        "id": "bq-I4gTiOh8B",
        "colab_type": "code",
        "outputId": "a29a7e4d-9450-451a-8a19-38f31f2364f4",
        "colab": {
          "base_uri": "https://localhost:8080/",
          "height": 54
        }
      },
      "source": [
        "%matplotlib inline\n",
        "import warnings\n",
        "warnings.filterwarnings(\"ignore\")\n",
        "\n",
        "import sqlite3\n",
        "import pandas as pd\n",
        "import numpy as np\n",
        "import nltk\n",
        "import string\n",
        "import matplotlib.pyplot as plt\n",
        "import seaborn as sns\n",
        "from sklearn.feature_extraction.text import TfidfTransformer\n",
        "from sklearn.feature_extraction.text import TfidfVectorizer\n",
        "\n",
        "from sklearn.feature_extraction.text import CountVectorizer\n",
        "from sklearn.metrics import confusion_matrix\n",
        "from sklearn import metrics\n",
        "from sklearn.metrics import roc_curve, auc\n",
        "from nltk.stem.porter import PorterStemmer\n",
        "\n",
        "import re\n",
        "# Tutorial about Python regular expressions: https://pymotw.com/2/re/\n",
        "import string\n",
        "from nltk.corpus import stopwords\n",
        "from nltk.stem import PorterStemmer\n",
        "from nltk.stem.wordnet import WordNetLemmatizer\n",
        "\n",
        "from gensim.models import Word2Vec\n",
        "from gensim.models import KeyedVectors\n",
        "import pickle\n",
        "\n",
        "from tqdm import tqdm\n",
        "import os\n",
        "\"\"\"\n",
        "from plotly import plotly\n",
        "import plotly.offline as offline\n",
        "import plotly.graph_objs as go\n",
        "offline.init_notebook_mode()\n",
        "from collections import Counter\"\"\""
      ],
      "execution_count": 1,
      "outputs": [
        {
          "output_type": "execute_result",
          "data": {
            "text/plain": [
              "'\\nfrom plotly import plotly\\nimport plotly.offline as offline\\nimport plotly.graph_objs as go\\noffline.init_notebook_mode()\\nfrom collections import Counter'"
            ]
          },
          "metadata": {
            "tags": []
          },
          "execution_count": 1
        }
      ]
    },
    {
      "cell_type": "code",
      "metadata": {
        "id": "5uj2zUvuoG5j",
        "colab_type": "code",
        "outputId": "b8c98a04-ff54-46d4-ce01-01069521beef",
        "colab": {
          "base_uri": "https://localhost:8080/",
          "height": 34
        }
      },
      "source": [
        "from google.colab import drive\n",
        "drive.mount('/content/drive')"
      ],
      "execution_count": 2,
      "outputs": [
        {
          "output_type": "stream",
          "text": [
            "Drive already mounted at /content/drive; to attempt to forcibly remount, call drive.mount(\"/content/drive\", force_remount=True).\n"
          ],
          "name": "stdout"
        }
      ]
    },
    {
      "cell_type": "markdown",
      "metadata": {
        "id": "zLR1LA2oOh8L",
        "colab_type": "text"
      },
      "source": [
        "## 1.1 Reading Data"
      ]
    },
    {
      "cell_type": "code",
      "metadata": {
        "id": "h_7d8KKsOh8M",
        "colab_type": "code",
        "colab": {}
      },
      "source": [
        "project_data = pd.read_csv('/content/drive/My Drive/Colab Notebooks/train_data.csv')\n",
        "resource_data = pd.read_csv('/content/drive/My Drive/Colab Notebooks/resources.csv')"
      ],
      "execution_count": 0,
      "outputs": []
    },
    {
      "cell_type": "code",
      "metadata": {
        "id": "z-37jMkROh8P",
        "colab_type": "code",
        "outputId": "a6e359c9-7b8c-4e1e-d050-22f9a37771ee",
        "colab": {
          "base_uri": "https://localhost:8080/",
          "height": 153
        }
      },
      "source": [
        "print(\"Number of data points in train data\", project_data.shape)\n",
        "print('-'*50)\n",
        "print(\"The attributes of data :\", project_data.columns.values)"
      ],
      "execution_count": 4,
      "outputs": [
        {
          "output_type": "stream",
          "text": [
            "Number of data points in train data (109248, 17)\n",
            "--------------------------------------------------\n",
            "The attributes of data : ['Unnamed: 0' 'id' 'teacher_id' 'teacher_prefix' 'school_state'\n",
            " 'project_submitted_datetime' 'project_grade_category'\n",
            " 'project_subject_categories' 'project_subject_subcategories'\n",
            " 'project_title' 'project_essay_1' 'project_essay_2' 'project_essay_3'\n",
            " 'project_essay_4' 'project_resource_summary'\n",
            " 'teacher_number_of_previously_posted_projects' 'project_is_approved']\n"
          ],
          "name": "stdout"
        }
      ]
    },
    {
      "cell_type": "code",
      "metadata": {
        "id": "JFvPg4TZOh8U",
        "colab_type": "code",
        "outputId": "464938eb-80e0-4a8c-8766-7ada8c31d161",
        "colab": {
          "base_uri": "https://localhost:8080/",
          "height": 145
        }
      },
      "source": [
        "print(\"Number of data points in train data\", resource_data.shape)\n",
        "print(resource_data.columns.values)\n",
        "resource_data.head(2)"
      ],
      "execution_count": 5,
      "outputs": [
        {
          "output_type": "stream",
          "text": [
            "Number of data points in train data (1541272, 4)\n",
            "['id' 'description' 'quantity' 'price']\n"
          ],
          "name": "stdout"
        },
        {
          "output_type": "execute_result",
          "data": {
            "text/html": [
              "<div>\n",
              "<style scoped>\n",
              "    .dataframe tbody tr th:only-of-type {\n",
              "        vertical-align: middle;\n",
              "    }\n",
              "\n",
              "    .dataframe tbody tr th {\n",
              "        vertical-align: top;\n",
              "    }\n",
              "\n",
              "    .dataframe thead th {\n",
              "        text-align: right;\n",
              "    }\n",
              "</style>\n",
              "<table border=\"1\" class=\"dataframe\">\n",
              "  <thead>\n",
              "    <tr style=\"text-align: right;\">\n",
              "      <th></th>\n",
              "      <th>id</th>\n",
              "      <th>description</th>\n",
              "      <th>quantity</th>\n",
              "      <th>price</th>\n",
              "    </tr>\n",
              "  </thead>\n",
              "  <tbody>\n",
              "    <tr>\n",
              "      <th>0</th>\n",
              "      <td>p233245</td>\n",
              "      <td>LC652 - Lakeshore Double-Space Mobile Drying Rack</td>\n",
              "      <td>1</td>\n",
              "      <td>149.00</td>\n",
              "    </tr>\n",
              "    <tr>\n",
              "      <th>1</th>\n",
              "      <td>p069063</td>\n",
              "      <td>Bouncy Bands for Desks (Blue support pipes)</td>\n",
              "      <td>3</td>\n",
              "      <td>14.95</td>\n",
              "    </tr>\n",
              "  </tbody>\n",
              "</table>\n",
              "</div>"
            ],
            "text/plain": [
              "        id                                        description  quantity   price\n",
              "0  p233245  LC652 - Lakeshore Double-Space Mobile Drying Rack         1  149.00\n",
              "1  p069063        Bouncy Bands for Desks (Blue support pipes)         3   14.95"
            ]
          },
          "metadata": {
            "tags": []
          },
          "execution_count": 5
        }
      ]
    },
    {
      "cell_type": "markdown",
      "metadata": {
        "id": "pTDWxnUOOh8Y",
        "colab_type": "text"
      },
      "source": [
        "## 1.2 preprocessing of `project_subject_categories`"
      ]
    },
    {
      "cell_type": "code",
      "metadata": {
        "id": "gw_I3RrXOh8Z",
        "colab_type": "code",
        "colab": {}
      },
      "source": [
        "catogories = list(project_data['project_subject_categories'].values)\n",
        "# remove special characters from list of strings python: https://stackoverflow.com/a/47301924/4084039\n",
        "\n",
        "# https://www.geeksforgeeks.org/removing-stop-words-nltk-python/\n",
        "# https://stackoverflow.com/questions/23669024/how-to-strip-a-specific-word-from-a-string\n",
        "# https://stackoverflow.com/questions/8270092/remove-all-whitespace-in-a-string-in-python\n",
        "cat_list = []\n",
        "for i in catogories:\n",
        "    temp = \"\"\n",
        "    # consider we have text like this \"Math & Science, Warmth, Care & Hunger\"\n",
        "    for j in i.split(','): # it will split it in three parts [\"Math & Science\", \"Warmth\", \"Care & Hunger\"]\n",
        "        if 'The' in j.split(): # this will split each of the catogory based on space \"Math & Science\"=> \"Math\",\"&\", \"Science\"\n",
        "            j=j.replace('The','') # if we have the words \"The\" we are going to replace it with ''(i.e removing 'The')\n",
        "        j = j.replace(' ','') # we are placeing all the ' '(space) with ''(empty) ex:\"Math & Science\"=>\"Math&Science\"\n",
        "        temp+=j.strip()+\" \" #\" abc \".strip() will return \"abc\", remove the trailing spaces\n",
        "        temp = temp.replace('&','_') # we are replacing the & value into \n",
        "    cat_list.append(temp.strip())\n",
        "    \n",
        "project_data['clean_categories'] = cat_list\n",
        "project_data.drop(['project_subject_categories'], axis=1, inplace=True)\n",
        "\n",
        "from collections import Counter\n",
        "my_counter = Counter()\n",
        "for word in project_data['clean_categories'].values:\n",
        "    my_counter.update(word.split())\n",
        "\n",
        "cat_dict = dict(my_counter)\n",
        "sorted_cat_dict = dict(sorted(cat_dict.items(), key=lambda kv: kv[1]))\n"
      ],
      "execution_count": 0,
      "outputs": []
    },
    {
      "cell_type": "markdown",
      "metadata": {
        "id": "uPeyOZOvOh8d",
        "colab_type": "text"
      },
      "source": [
        "## 1.3 preprocessing of `project_subject_subcategories`"
      ]
    },
    {
      "cell_type": "code",
      "metadata": {
        "id": "uA4uC5YxOh8d",
        "colab_type": "code",
        "colab": {}
      },
      "source": [
        "\n",
        "sub_catogories = list(project_data['project_subject_subcategories'].values)\n",
        "# remove special characters from list of strings python: https://stackoverflow.com/a/47301924/4084039\n",
        "\n",
        "# https://www.geeksforgeeks.org/removing-stop-words-nltk-python/\n",
        "# https://stackoverflow.com/questions/23669024/how-to-strip-a-specific-word-from-a-string\n",
        "# https://stackoverflow.com/questions/8270092/remove-all-whitespace-in-a-string-in-python\n",
        "\n",
        "sub_cat_list = []\n",
        "for i in sub_catogories:\n",
        "    temp = \"\"\n",
        "    # consider we have text like this \"Math & Science, Warmth, Care & Hunger\"\n",
        "    for j in i.split(','): # it will split it in three parts [\"Math & Science\", \"Warmth\", \"Care & Hunger\"]\n",
        "        if 'The' in j.split(): # this will split each of the catogory based on space \"Math & Science\"=> \"Math\",\"&\", \"Science\"\n",
        "            j=j.replace('The','') # if we have the words \"The\" we are going to replace it with ''(i.e removing 'The')\n",
        "        j = j.replace(' ','') # we are placeing all the ' '(space) with ''(empty) ex:\"Math & Science\"=>\"Math&Science\"\n",
        "        temp +=j.strip()+\" \"#\" abc \".strip() will return \"abc\", remove the trailing spaces\n",
        "        temp = temp.replace('&','_')\n",
        "    sub_cat_list.append(temp.strip())\n",
        "\n",
        "project_data['clean_subcategories'] = sub_cat_list\n",
        "project_data.drop(['project_subject_subcategories'], axis=1, inplace=True)\n",
        "\n",
        "# count of all the words in corpus python: https://stackoverflow.com/a/22898595/4084039\n",
        "my_counter = Counter()\n",
        "for word in project_data['clean_subcategories'].values:\n",
        "    my_counter.update(word.split())\n",
        "    \n",
        "sub_cat_dict = dict(my_counter)\n",
        "sorted_sub_cat_dict = dict(sorted(sub_cat_dict.items(), key=lambda kv: kv[1]))"
      ],
      "execution_count": 0,
      "outputs": []
    },
    {
      "cell_type": "markdown",
      "metadata": {
        "id": "yWnCu3ufOh8h",
        "colab_type": "text"
      },
      "source": [
        "## 1.4 Text preprocessing"
      ]
    },
    {
      "cell_type": "code",
      "metadata": {
        "id": "U05smU87Oh8i",
        "colab_type": "code",
        "colab": {}
      },
      "source": [
        "# merge two column text dataframe: \n",
        "project_data[\"essay\"] = project_data[\"project_essay_1\"].map(str) +\\\n",
        "                        project_data[\"project_essay_2\"].map(str) + \\\n",
        "                        project_data[\"project_essay_3\"].map(str) + \\\n",
        "                        project_data[\"project_essay_4\"].map(str)"
      ],
      "execution_count": 0,
      "outputs": []
    },
    {
      "cell_type": "code",
      "metadata": {
        "id": "AuHJ0TPjOh8k",
        "colab_type": "code",
        "outputId": "2d20e299-0b25-45e4-d8cc-69e1795b1368",
        "colab": {
          "base_uri": "https://localhost:8080/",
          "height": 352
        }
      },
      "source": [
        "project_data.head(2)"
      ],
      "execution_count": 9,
      "outputs": [
        {
          "output_type": "execute_result",
          "data": {
            "text/html": [
              "<div>\n",
              "<style scoped>\n",
              "    .dataframe tbody tr th:only-of-type {\n",
              "        vertical-align: middle;\n",
              "    }\n",
              "\n",
              "    .dataframe tbody tr th {\n",
              "        vertical-align: top;\n",
              "    }\n",
              "\n",
              "    .dataframe thead th {\n",
              "        text-align: right;\n",
              "    }\n",
              "</style>\n",
              "<table border=\"1\" class=\"dataframe\">\n",
              "  <thead>\n",
              "    <tr style=\"text-align: right;\">\n",
              "      <th></th>\n",
              "      <th>Unnamed: 0</th>\n",
              "      <th>id</th>\n",
              "      <th>teacher_id</th>\n",
              "      <th>teacher_prefix</th>\n",
              "      <th>school_state</th>\n",
              "      <th>project_submitted_datetime</th>\n",
              "      <th>project_grade_category</th>\n",
              "      <th>project_title</th>\n",
              "      <th>project_essay_1</th>\n",
              "      <th>project_essay_2</th>\n",
              "      <th>project_essay_3</th>\n",
              "      <th>project_essay_4</th>\n",
              "      <th>project_resource_summary</th>\n",
              "      <th>teacher_number_of_previously_posted_projects</th>\n",
              "      <th>project_is_approved</th>\n",
              "      <th>clean_categories</th>\n",
              "      <th>clean_subcategories</th>\n",
              "      <th>essay</th>\n",
              "    </tr>\n",
              "  </thead>\n",
              "  <tbody>\n",
              "    <tr>\n",
              "      <th>0</th>\n",
              "      <td>160221</td>\n",
              "      <td>p253737</td>\n",
              "      <td>c90749f5d961ff158d4b4d1e7dc665fc</td>\n",
              "      <td>Mrs.</td>\n",
              "      <td>IN</td>\n",
              "      <td>2016-12-05 13:43:57</td>\n",
              "      <td>Grades PreK-2</td>\n",
              "      <td>Educational Support for English Learners at Home</td>\n",
              "      <td>My students are English learners that are work...</td>\n",
              "      <td>\\\"The limits of your language are the limits o...</td>\n",
              "      <td>NaN</td>\n",
              "      <td>NaN</td>\n",
              "      <td>My students need opportunities to practice beg...</td>\n",
              "      <td>0</td>\n",
              "      <td>0</td>\n",
              "      <td>Literacy_Language</td>\n",
              "      <td>ESL Literacy</td>\n",
              "      <td>My students are English learners that are work...</td>\n",
              "    </tr>\n",
              "    <tr>\n",
              "      <th>1</th>\n",
              "      <td>140945</td>\n",
              "      <td>p258326</td>\n",
              "      <td>897464ce9ddc600bced1151f324dd63a</td>\n",
              "      <td>Mr.</td>\n",
              "      <td>FL</td>\n",
              "      <td>2016-10-25 09:22:10</td>\n",
              "      <td>Grades 6-8</td>\n",
              "      <td>Wanted: Projector for Hungry Learners</td>\n",
              "      <td>Our students arrive to our school eager to lea...</td>\n",
              "      <td>The projector we need for our school is very c...</td>\n",
              "      <td>NaN</td>\n",
              "      <td>NaN</td>\n",
              "      <td>My students need a projector to help with view...</td>\n",
              "      <td>7</td>\n",
              "      <td>1</td>\n",
              "      <td>History_Civics Health_Sports</td>\n",
              "      <td>Civics_Government TeamSports</td>\n",
              "      <td>Our students arrive to our school eager to lea...</td>\n",
              "    </tr>\n",
              "  </tbody>\n",
              "</table>\n",
              "</div>"
            ],
            "text/plain": [
              "   Unnamed: 0  ...                                              essay\n",
              "0      160221  ...  My students are English learners that are work...\n",
              "1      140945  ...  Our students arrive to our school eager to lea...\n",
              "\n",
              "[2 rows x 18 columns]"
            ]
          },
          "metadata": {
            "tags": []
          },
          "execution_count": 9
        }
      ]
    },
    {
      "cell_type": "code",
      "metadata": {
        "id": "_-dRYBFlOh8o",
        "colab_type": "code",
        "colab": {}
      },
      "source": [
        "#### 1.4.2.3 Using Pretrained Models: TFIDF weighted W2V"
      ],
      "execution_count": 0,
      "outputs": []
    },
    {
      "cell_type": "code",
      "metadata": {
        "id": "zjTFpwQ6Oh8s",
        "colab_type": "code",
        "outputId": "d200f2eb-f54f-4c34-b505-d2f44fc20941",
        "colab": {
          "base_uri": "https://localhost:8080/",
          "height": 207
        }
      },
      "source": [
        "# printing some random reviews\n",
        "print(project_data['essay'].values[0])\n",
        "print(\"=\"*50)\n",
        "print(project_data['essay'].values[150])\n",
        "print(\"=\"*50)\n",
        "print(project_data['essay'].values[1000])\n",
        "print(\"=\"*50)\n",
        "print(project_data['essay'].values[20000])\n",
        "print(\"=\"*50)\n",
        "print(project_data['essay'].values[99999])\n",
        "print(\"=\"*50)"
      ],
      "execution_count": 11,
      "outputs": [
        {
          "output_type": "stream",
          "text": [
            "My students are English learners that are working on English as their second or third languages. We are a melting pot of refugees, immigrants, and native-born Americans bringing the gift of language to our school. \\r\\n\\r\\n We have over 24 languages represented in our English Learner program with students at every level of mastery.  We also have over 40 countries represented with the families within our school.  Each student brings a wealth of knowledge and experiences to us that open our eyes to new cultures, beliefs, and respect.\\\"The limits of your language are the limits of your world.\\\"-Ludwig Wittgenstein  Our English learner's have a strong support system at home that begs for more resources.  Many times our parents are learning to read and speak English along side of their children.  Sometimes this creates barriers for parents to be able to help their child learn phonetics, letter recognition, and other reading skills.\\r\\n\\r\\nBy providing these dvd's and players, students are able to continue their mastery of the English language even if no one at home is able to assist.  All families with students within the Level 1 proficiency status, will be a offered to be a part of this program.  These educational videos will be specially chosen by the English Learner Teacher and will be sent home regularly to watch.  The videos are to help the child develop early reading skills.\\r\\n\\r\\nParents that do not have access to a dvd player will have the opportunity to check out a dvd player to use for the year.  The plan is to use these videos and educational dvd's for the years to come for other EL students.\\r\\nnannan\n",
            "==================================================\n",
            "The 51 fifth grade students that will cycle through my classroom this year all love learning, at least most of the time. At our school, 97.3% of the students receive free or reduced price lunch. Of the 560 students, 97.3% are minority students. \\r\\nThe school has a vibrant community that loves to get together and celebrate. Around Halloween there is a whole school parade to show off the beautiful costumes that students wear. On Cinco de Mayo we put on a big festival with crafts made by the students, dances, and games. At the end of the year the school hosts a carnival to celebrate the hard work put in during the school year, with a dunk tank being the most popular activity.My students will use these five brightly colored Hokki stools in place of regular, stationary, 4-legged chairs. As I will only have a total of ten in the classroom and not enough for each student to have an individual one, they will be used in a variety of ways. During independent reading time they will be used as special chairs students will each use on occasion. I will utilize them in place of chairs at my small group tables during math and reading times. The rest of the day they will be used by the students who need the highest amount of movement in their life in order to stay focused on school.\\r\\n\\r\\nWhenever asked what the classroom is missing, my students always say more Hokki Stools. They can't get their fill of the 5 stools we already have. When the students are sitting in group with me on the Hokki Stools, they are always moving, but at the same time doing their work. Anytime the students get to pick where they can sit, the Hokki Stools are the first to be taken. There are always students who head over to the kidney table to get one of the stools who are disappointed as there are not enough of them. \\r\\n\\r\\nWe ask a lot of students to sit for 7 hours a day. The Hokki stools will be a compromise that allow my students to do desk work and move at the same time. These stools will help students to meet their 60 minutes a day of movement by allowing them to activate their core muscles for balance while they sit. For many of my students, these chairs will take away the barrier that exists in schools for a child who can't sit still.nannan\n",
            "==================================================\n",
            "How do you remember your days of school? Was it in a sterile environment with plain walls, rows of desks, and a teacher in front of the room? A typical day in our room is nothing like that. I work hard to create a warm inviting themed room for my students look forward to coming to each day.\\r\\n\\r\\nMy class is made up of 28 wonderfully unique boys and girls of mixed races in Arkansas.\\r\\nThey attend a Title I school, which means there is a high enough percentage of free and reduced-price lunch to qualify. Our school is an \\\"open classroom\\\" concept, which is very unique as there are no walls separating the classrooms. These 9 and 10 year-old students are very eager learners; they are like sponges, absorbing all the information and experiences and keep on wanting more.With these resources such as the comfy red throw pillows and the whimsical nautical hanging decor and the blue fish nets, I will be able to help create the mood in our classroom setting to be one of a themed nautical environment. Creating a classroom environment is very important in the success in each and every child's education. The nautical photo props will be used with each child as they step foot into our classroom for the first time on Meet the Teacher evening. I'll take pictures of each child with them, have them developed, and then hung in our classroom ready for their first day of 4th grade.  This kind gesture will set the tone before even the first day of school! The nautical thank you cards will be used throughout the year by the students as they create thank you cards to their team groups.\\r\\n\\r\\nYour generous donations will help me to help make our classroom a fun, inviting, learning environment from day one.\\r\\n\\r\\nIt costs lost of money out of my own pocket on resources to get our classroom ready. Please consider helping with this project to make our new school year a very successful one. Thank you!nannan\n",
            "==================================================\n",
            "My kindergarten students have varied disabilities ranging from speech and language delays, cognitive delays, gross/fine motor delays, to autism. They are eager beavers and always strive to work their hardest working past their limitations. \\r\\n\\r\\nThe materials we have are the ones I seek out for my students. I teach in a Title I school where most of the students receive free or reduced price lunch.  Despite their disabilities and limitations, my students love coming to school and come eager to learn and explore.Have you ever felt like you had ants in your pants and you needed to groove and move as you were in a meeting? This is how my kids feel all the time. The want to be able to move as they learn or so they say.Wobble chairs are the answer and I love then because they develop their core, which enhances gross motor and in Turn fine motor skills. \\r\\nThey also want to learn through games, my kids don't want to sit and do worksheets. They want to learn to count by jumping and playing. Physical engagement is the key to our success. The number toss and color and shape mats can make that happen. My students will forget they are doing work and just have the fun a 6 year old deserves.nannan\n",
            "==================================================\n",
            "The mediocre teacher tells. The good teacher explains. The superior teacher demonstrates. The great teacher inspires. -William A. Ward\\r\\n\\r\\nMy school has 803 students which is makeup is 97.6% African-American, making up the largest segment of the student body. A typical school in Dallas is made up of 23.2% African-American students. Most of the students are on free or reduced lunch. We aren't receiving doctors, lawyers, or engineers children from rich backgrounds or neighborhoods. As an educator I am inspiring minds of young children and we focus not only on academics but one smart, effective, efficient, and disciplined students with good character.In our classroom we can utilize the Bluetooth for swift transitions during class. I use a speaker which doesn't amplify the sound enough to receive the message. Due to the volume of my speaker my students can't hear videos or books clearly and it isn't making the lessons as meaningful. But with the bluetooth speaker my students will be able to hear and I can stop, pause and replay it at any time.\\r\\nThe cart will allow me to have more room for storage of things that are needed for the day and has an extra part to it I can use.  The table top chart has all of the letter, words and pictures for students to learn about different letters and it is more accessible.nannan\n",
            "==================================================\n"
          ],
          "name": "stdout"
        }
      ]
    },
    {
      "cell_type": "code",
      "metadata": {
        "id": "MGdcsQGDOh8v",
        "colab_type": "code",
        "colab": {}
      },
      "source": [
        "# https://stackoverflow.com/a/47091490/4084039\n",
        "import re\n",
        "\n",
        "def decontracted(phrase):\n",
        "    # specific\n",
        "    phrase = re.sub(r\"won't\", \"will not\", phrase)\n",
        "    phrase = re.sub(r\"can\\'t\", \"can not\", phrase)\n",
        "\n",
        "    # general\n",
        "    phrase = re.sub(r\"n\\'t\", \" not\", phrase)\n",
        "    phrase = re.sub(r\"\\'re\", \" are\", phrase)\n",
        "    phrase = re.sub(r\"\\'s\", \" is\", phrase)\n",
        "    phrase = re.sub(r\"\\'d\", \" would\", phrase)\n",
        "    phrase = re.sub(r\"\\'ll\", \" will\", phrase)\n",
        "    phrase = re.sub(r\"\\'t\", \" not\", phrase)\n",
        "    phrase = re.sub(r\"\\'ve\", \" have\", phrase)\n",
        "    phrase = re.sub(r\"\\'m\", \" am\", phrase)\n",
        "    return phrase"
      ],
      "execution_count": 0,
      "outputs": []
    },
    {
      "cell_type": "code",
      "metadata": {
        "id": "loyUeAjHOh8z",
        "colab_type": "code",
        "outputId": "5982a848-4ec3-4292-a690-a8a6e099dc7b",
        "colab": {
          "base_uri": "https://localhost:8080/",
          "height": 71
        }
      },
      "source": [
        "sent = decontracted(project_data['essay'].values[20000])\n",
        "print(sent)\n",
        "print(\"=\"*50)"
      ],
      "execution_count": 13,
      "outputs": [
        {
          "output_type": "stream",
          "text": [
            "My kindergarten students have varied disabilities ranging from speech and language delays, cognitive delays, gross/fine motor delays, to autism. They are eager beavers and always strive to work their hardest working past their limitations. \\r\\n\\r\\nThe materials we have are the ones I seek out for my students. I teach in a Title I school where most of the students receive free or reduced price lunch.  Despite their disabilities and limitations, my students love coming to school and come eager to learn and explore.Have you ever felt like you had ants in your pants and you needed to groove and move as you were in a meeting? This is how my kids feel all the time. The want to be able to move as they learn or so they say.Wobble chairs are the answer and I love then because they develop their core, which enhances gross motor and in Turn fine motor skills. \\r\\nThey also want to learn through games, my kids do not want to sit and do worksheets. They want to learn to count by jumping and playing. Physical engagement is the key to our success. The number toss and color and shape mats can make that happen. My students will forget they are doing work and just have the fun a 6 year old deserves.nannan\n",
            "==================================================\n"
          ],
          "name": "stdout"
        }
      ]
    },
    {
      "cell_type": "code",
      "metadata": {
        "id": "yLZz_CbMOh84",
        "colab_type": "code",
        "outputId": "66048fae-51d8-447c-b55d-7029781f1519",
        "colab": {
          "base_uri": "https://localhost:8080/",
          "height": 54
        }
      },
      "source": [
        "# \\r \\n \\t remove from string python: http://texthandler.com/info/remove-line-breaks-python/\n",
        "sent = sent.replace('\\\\r', ' ')\n",
        "sent = sent.replace('\\\\\"', ' ')\n",
        "sent = sent.replace('\\\\n', ' ')\n",
        "print(sent)"
      ],
      "execution_count": 14,
      "outputs": [
        {
          "output_type": "stream",
          "text": [
            "My kindergarten students have varied disabilities ranging from speech and language delays, cognitive delays, gross/fine motor delays, to autism. They are eager beavers and always strive to work their hardest working past their limitations.     The materials we have are the ones I seek out for my students. I teach in a Title I school where most of the students receive free or reduced price lunch.  Despite their disabilities and limitations, my students love coming to school and come eager to learn and explore.Have you ever felt like you had ants in your pants and you needed to groove and move as you were in a meeting? This is how my kids feel all the time. The want to be able to move as they learn or so they say.Wobble chairs are the answer and I love then because they develop their core, which enhances gross motor and in Turn fine motor skills.   They also want to learn through games, my kids do not want to sit and do worksheets. They want to learn to count by jumping and playing. Physical engagement is the key to our success. The number toss and color and shape mats can make that happen. My students will forget they are doing work and just have the fun a 6 year old deserves.nannan\n"
          ],
          "name": "stdout"
        }
      ]
    },
    {
      "cell_type": "code",
      "metadata": {
        "id": "QBEg9vnkOh8_",
        "colab_type": "code",
        "outputId": "fa166c85-2ae2-4a38-8cee-160cc39e0129",
        "colab": {
          "base_uri": "https://localhost:8080/",
          "height": 54
        }
      },
      "source": [
        "#remove spacial character: https://stackoverflow.com/a/5843547/4084039\n",
        "sent = re.sub('[^A-Za-z0-9]+', ' ', sent)\n",
        "print(sent)"
      ],
      "execution_count": 15,
      "outputs": [
        {
          "output_type": "stream",
          "text": [
            "My kindergarten students have varied disabilities ranging from speech and language delays cognitive delays gross fine motor delays to autism They are eager beavers and always strive to work their hardest working past their limitations The materials we have are the ones I seek out for my students I teach in a Title I school where most of the students receive free or reduced price lunch Despite their disabilities and limitations my students love coming to school and come eager to learn and explore Have you ever felt like you had ants in your pants and you needed to groove and move as you were in a meeting This is how my kids feel all the time The want to be able to move as they learn or so they say Wobble chairs are the answer and I love then because they develop their core which enhances gross motor and in Turn fine motor skills They also want to learn through games my kids do not want to sit and do worksheets They want to learn to count by jumping and playing Physical engagement is the key to our success The number toss and color and shape mats can make that happen My students will forget they are doing work and just have the fun a 6 year old deserves nannan\n"
          ],
          "name": "stdout"
        }
      ]
    },
    {
      "cell_type": "code",
      "metadata": {
        "id": "f9xBNXfxOh9F",
        "colab_type": "code",
        "colab": {}
      },
      "source": [
        "# https://gist.github.com/sebleier/554280\n",
        "# we are removing the words from the stop words list: 'no', 'nor', 'not'\n",
        "stopwords= ['i', 'me', 'my', 'myself', 'we', 'our', 'ours', 'ourselves', 'you', \"you're\", \"you've\",\\\n",
        "            \"you'll\", \"you'd\", 'your', 'yours', 'yourself', 'yourselves', 'he', 'him', 'his', 'himself', \\\n",
        "            'she', \"she's\", 'her', 'hers', 'herself', 'it', \"it's\", 'its', 'itself', 'they', 'them', 'their',\\\n",
        "            'theirs', 'themselves', 'what', 'which', 'who', 'whom', 'this', 'that', \"that'll\", 'these', 'those', \\\n",
        "            'am', 'is', 'are', 'was', 'were', 'be', 'been', 'being', 'have', 'has', 'had', 'having', 'do', 'does', \\\n",
        "            'did', 'doing', 'a', 'an', 'the', 'and', 'but', 'if', 'or', 'because', 'as', 'until', 'while', 'of', \\\n",
        "            'at', 'by', 'for', 'with', 'about', 'against', 'between', 'into', 'through', 'during', 'before', 'after',\\\n",
        "            'above', 'below', 'to', 'from', 'up', 'down', 'in', 'out', 'on', 'off', 'over', 'under', 'again', 'further',\\\n",
        "            'then', 'once', 'here', 'there', 'when', 'where', 'why', 'how', 'all', 'any', 'both', 'each', 'few', 'more',\\\n",
        "            'most', 'other', 'some', 'such', 'only', 'own', 'same', 'so', 'than', 'too', 'very', \\\n",
        "            's', 't', 'can', 'will', 'just', 'don', \"don't\", 'should', \"should've\", 'now', 'd', 'll', 'm', 'o', 're', \\\n",
        "            've', 'y', 'ain', 'aren', \"aren't\", 'couldn', \"couldn't\", 'didn', \"didn't\", 'doesn', \"doesn't\", 'hadn',\\\n",
        "            \"hadn't\", 'hasn', \"hasn't\", 'haven', \"haven't\", 'isn', \"isn't\", 'ma', 'mightn', \"mightn't\", 'mustn',\\\n",
        "            \"mustn't\", 'needn', \"needn't\", 'shan', \"shan't\", 'shouldn', \"shouldn't\", 'wasn', \"wasn't\", 'weren', \"weren't\", \\\n",
        "            'won', \"won't\", 'wouldn', \"wouldn't\"]"
      ],
      "execution_count": 0,
      "outputs": []
    },
    {
      "cell_type": "code",
      "metadata": {
        "id": "ykn0tBvpOh9M",
        "colab_type": "code",
        "outputId": "142d2c83-1670-4788-d9b3-5c8be0dcb65c",
        "colab": {
          "base_uri": "https://localhost:8080/",
          "height": 34
        }
      },
      "source": [
        "# Combining all the above stundents \n",
        "from tqdm import tqdm\n",
        "preprocessed_essays = []\n",
        "# tqdm is for printing the status bar\n",
        "for sentance in tqdm(project_data['essay'].values):\n",
        "    sent = decontracted(sentance)\n",
        "    sent = sent.replace('\\\\r', ' ')\n",
        "    sent = sent.replace('\\\\\"', ' ')\n",
        "    sent = sent.replace('\\\\n', ' ')\n",
        "    sent = re.sub('[^A-Za-z0-9]+', ' ', sent)\n",
        "    # https://gist.github.com/sebleier/554280\n",
        "    sent = ' '.join(e for e in sent.split() if e not in stopwords)\n",
        "    preprocessed_essays.append(sent.lower().strip())"
      ],
      "execution_count": 17,
      "outputs": [
        {
          "output_type": "stream",
          "text": [
            "100%|██████████| 109248/109248 [00:56<00:00, 1943.52it/s]\n"
          ],
          "name": "stderr"
        }
      ]
    },
    {
      "cell_type": "code",
      "metadata": {
        "id": "xQcuOWaaOh9P",
        "colab_type": "code",
        "outputId": "618ff9b3-0584-4c20-83ed-06bc83cc5ee8",
        "colab": {
          "base_uri": "https://localhost:8080/",
          "height": 54
        }
      },
      "source": [
        "# after preprocesing\n",
        "preprocessed_essays[20000]"
      ],
      "execution_count": 18,
      "outputs": [
        {
          "output_type": "execute_result",
          "data": {
            "text/plain": [
              "'my kindergarten students varied disabilities ranging speech language delays cognitive delays gross fine motor delays autism they eager beavers always strive work hardest working past limitations the materials ones i seek students i teach title i school students receive free reduced price lunch despite disabilities limitations students love coming school come eager learn explore have ever felt like ants pants needed groove move meeting this kids feel time the want able move learn say wobble chairs answer i love develop core enhances gross motor turn fine motor skills they also want learn games kids not want sit worksheets they want learn count jumping playing physical engagement key success the number toss color shape mats make happen my students forget work fun 6 year old deserves nannan'"
            ]
          },
          "metadata": {
            "tags": []
          },
          "execution_count": 18
        }
      ]
    },
    {
      "cell_type": "markdown",
      "metadata": {
        "id": "dATutMFcOh9S",
        "colab_type": "text"
      },
      "source": [
        "<h2><font color='red'> 1.4 Preprocessing of `project_title`</font></h2>"
      ]
    },
    {
      "cell_type": "code",
      "metadata": {
        "id": "7BrWMw3vOh9T",
        "colab_type": "code",
        "outputId": "67146d4f-0f42-41d2-9a3d-184dab54ceda",
        "colab": {
          "base_uri": "https://localhost:8080/",
          "height": 187
        }
      },
      "source": [
        "# similarly you can preprocess the titles also\n",
        "# printing some random project_title.\n",
        "print(project_data['project_title'].values[0])\n",
        "print(\"=\"*50)\n",
        "print(project_data['project_title'].values[150])\n",
        "print(\"=\"*50)\n",
        "print(project_data['project_title'].values[1000])\n",
        "print(\"=\"*50)\n",
        "print(project_data['project_title'].values[20000])\n",
        "print(\"=\"*50)\n",
        "print(project_data['project_title'].values[99999])\n",
        "print(\"=\"*50)"
      ],
      "execution_count": 19,
      "outputs": [
        {
          "output_type": "stream",
          "text": [
            "Educational Support for English Learners at Home\n",
            "==================================================\n",
            "More Movement with Hokki Stools\n",
            "==================================================\n",
            "Sailing Into a Super 4th Grade Year\n",
            "==================================================\n",
            "We Need To Move It While We Input It!\n",
            "==================================================\n",
            "Inspiring Minds by Enhancing the Educational Experience\n",
            "==================================================\n"
          ],
          "name": "stdout"
        }
      ]
    },
    {
      "cell_type": "code",
      "metadata": {
        "id": "Z8MH4Gk9MtGO",
        "colab_type": "code",
        "outputId": "da0642a8-8ddc-4f40-f597-819ec9d93980",
        "colab": {
          "base_uri": "https://localhost:8080/",
          "height": 34
        }
      },
      "source": [
        "preprocessed_project_title = []\n",
        "# tqdm is for printing the status bar\n",
        "for sentance in tqdm(project_data['project_title'].values):\n",
        "    sent = decontracted(sentance)\n",
        "    sent = sent.replace('\\\\r', ' ')\n",
        "    sent = sent.replace('\\\\\"', ' ')\n",
        "    sent = sent.replace('\\\\n', ' ')\n",
        "    sent = re.sub('[^A-Za-z0-9]+', ' ', sent)\n",
        "    # https://gist.github.com/sebleier/554280\n",
        "    sent = ' '.join(e for e in sent.split() if e not in stopwords)\n",
        "    preprocessed_project_title.append(sent.lower().strip())"
      ],
      "execution_count": 20,
      "outputs": [
        {
          "output_type": "stream",
          "text": [
            "100%|██████████| 109248/109248 [00:02<00:00, 45770.90it/s]\n"
          ],
          "name": "stderr"
        }
      ]
    },
    {
      "cell_type": "code",
      "metadata": {
        "id": "JlZmg4POMx0T",
        "colab_type": "code",
        "outputId": "b1a884a4-4508-46fc-a7a2-b0f338d9cafb",
        "colab": {
          "base_uri": "https://localhost:8080/",
          "height": 34
        }
      },
      "source": [
        "preprocessed_project_title[99999]"
      ],
      "execution_count": 21,
      "outputs": [
        {
          "output_type": "execute_result",
          "data": {
            "text/plain": [
              "'inspiring minds enhancing educational experience'"
            ]
          },
          "metadata": {
            "tags": []
          },
          "execution_count": 21
        }
      ]
    },
    {
      "cell_type": "code",
      "metadata": {
        "id": "jVwEb_MMTfL7",
        "colab_type": "code",
        "colab": {}
      },
      "source": [
        "#upperCase to lowercase\n",
        "project_data['project_grade_category'] = project_data['project_grade_category'].str.lower()\n",
        "#removing puntuation from the column\n",
        "#https://stackoverflow.com/questions/39782418/remove-punctuations-in-pandas\n",
        "project_data['project_grade_category'] = project_data['project_grade_category'].str.replace('[^\\w\\s]','_')\n",
        "project_data['project_grade_category'] = project_data['project_grade_category'].str.replace(' ','_')"
      ],
      "execution_count": 0,
      "outputs": []
    },
    {
      "cell_type": "code",
      "metadata": {
        "id": "SWyyI6wgNKrs",
        "colab_type": "code",
        "colab": {}
      },
      "source": [
        "#Teacher Prefix\n",
        "\n",
        "#upperCase to lowercase\n",
        "project_data['teacher_prefix'] = project_data['teacher_prefix'].str.lower()\n",
        "#removing puntuation from the column\n",
        "#https://stackoverflow.com/questions/39782418/remove-punctuations-in-pandas\n",
        "project_data['teacher_prefix'] = project_data['teacher_prefix'].str.replace('[^\\w\\s]','')\n"
      ],
      "execution_count": 0,
      "outputs": []
    },
    {
      "cell_type": "code",
      "metadata": {
        "id": "iaADLVPwU_JO",
        "colab_type": "code",
        "outputId": "41c0063b-abbe-43cc-eaf8-b969c1b457c9",
        "colab": {
          "base_uri": "https://localhost:8080/",
          "height": 901
        }
      },
      "source": [
        "#upperCase to lowercase\n",
        "project_data['school_state'] = project_data['school_state'].str.lower()\n",
        "project_data.school_state.value_counts()"
      ],
      "execution_count": 24,
      "outputs": [
        {
          "output_type": "execute_result",
          "data": {
            "text/plain": [
              "ca    15388\n",
              "tx     7396\n",
              "ny     7318\n",
              "fl     6185\n",
              "nc     5091\n",
              "il     4350\n",
              "ga     3963\n",
              "sc     3936\n",
              "mi     3161\n",
              "pa     3109\n",
              "in     2620\n",
              "mo     2576\n",
              "oh     2467\n",
              "la     2394\n",
              "ma     2389\n",
              "wa     2334\n",
              "ok     2276\n",
              "nj     2237\n",
              "az     2147\n",
              "va     2045\n",
              "wi     1827\n",
              "al     1762\n",
              "ut     1731\n",
              "tn     1688\n",
              "ct     1663\n",
              "md     1514\n",
              "nv     1367\n",
              "ms     1323\n",
              "ky     1304\n",
              "or     1242\n",
              "mn     1208\n",
              "co     1111\n",
              "ar     1049\n",
              "id      693\n",
              "ia      666\n",
              "ks      634\n",
              "nm      557\n",
              "dc      516\n",
              "hi      507\n",
              "me      505\n",
              "wv      503\n",
              "nh      348\n",
              "ak      345\n",
              "de      343\n",
              "ne      309\n",
              "sd      300\n",
              "ri      285\n",
              "mt      245\n",
              "nd      143\n",
              "wy       98\n",
              "vt       80\n",
              "Name: school_state, dtype: int64"
            ]
          },
          "metadata": {
            "tags": []
          },
          "execution_count": 24
        }
      ]
    },
    {
      "cell_type": "markdown",
      "metadata": {
        "id": "q7zXfuktOh9W",
        "colab_type": "text"
      },
      "source": [
        "## 1.5 Preparing data for models"
      ]
    },
    {
      "cell_type": "code",
      "metadata": {
        "id": "GWx5ER5XOh9X",
        "colab_type": "code",
        "outputId": "a6e49fe8-bb20-49c6-e0eb-81e027b3bdc9",
        "colab": {
          "base_uri": "https://localhost:8080/",
          "height": 136
        }
      },
      "source": [
        "project_data.columns"
      ],
      "execution_count": 25,
      "outputs": [
        {
          "output_type": "execute_result",
          "data": {
            "text/plain": [
              "Index(['Unnamed: 0', 'id', 'teacher_id', 'teacher_prefix', 'school_state',\n",
              "       'project_submitted_datetime', 'project_grade_category', 'project_title',\n",
              "       'project_essay_1', 'project_essay_2', 'project_essay_3',\n",
              "       'project_essay_4', 'project_resource_summary',\n",
              "       'teacher_number_of_previously_posted_projects', 'project_is_approved',\n",
              "       'clean_categories', 'clean_subcategories', 'essay'],\n",
              "      dtype='object')"
            ]
          },
          "metadata": {
            "tags": []
          },
          "execution_count": 25
        }
      ]
    },
    {
      "cell_type": "markdown",
      "metadata": {
        "id": "j2-sbIVbOh9a",
        "colab_type": "text"
      },
      "source": [
        "we are going to consider\n",
        "\n",
        "       - school_state : categorical data\n",
        "       - clean_categories : categorical data\n",
        "       - clean_subcategories : categorical data\n",
        "       - project_grade_category : categorical data\n",
        "       - teacher_prefix : categorical data\n",
        "       \n",
        "       - project_title : text data\n",
        "       - text : text data\n",
        "       - project_resource_summary: text data (optinal)\n",
        "       \n",
        "       - quantity : numerical (optinal)\n",
        "       - teacher_number_of_previously_posted_projects : numerical\n",
        "       - price : numerical"
      ]
    },
    {
      "cell_type": "markdown",
      "metadata": {
        "id": "OeLLx404Oh9c",
        "colab_type": "text"
      },
      "source": [
        "### 1.5.1 Vectorizing Categorical data"
      ]
    },
    {
      "cell_type": "markdown",
      "metadata": {
        "id": "iRhx2UDvOh9c",
        "colab_type": "text"
      },
      "source": [
        "- https://www.appliedaicourse.com/course/applied-ai-course-online/lessons/handling-categorical-and-numerical-features/"
      ]
    },
    {
      "cell_type": "code",
      "metadata": {
        "id": "K2pZQs6mOh9d",
        "colab_type": "code",
        "outputId": "d88ad5fc-4dee-40cf-fbb8-3e6ba2c6cc56",
        "colab": {
          "base_uri": "https://localhost:8080/",
          "height": 71
        }
      },
      "source": [
        "# we use count vectorizer to convert the values into one \n",
        "from sklearn.feature_extraction.text import CountVectorizer\n",
        "vectorizer = CountVectorizer(vocabulary=list(sorted_cat_dict.keys()), lowercase=False, binary=True)\n",
        "categories_one_hot = vectorizer.fit_transform(project_data['clean_categories'].values)\n",
        "print(vectorizer.get_feature_names())\n",
        "print(\"Shape of matrix after one hot encodig \",categories_one_hot.shape)"
      ],
      "execution_count": 26,
      "outputs": [
        {
          "output_type": "stream",
          "text": [
            "['Warmth', 'Care_Hunger', 'History_Civics', 'Music_Arts', 'AppliedLearning', 'SpecialNeeds', 'Health_Sports', 'Math_Science', 'Literacy_Language']\n",
            "Shape of matrix after one hot encodig  (109248, 9)\n"
          ],
          "name": "stdout"
        }
      ]
    },
    {
      "cell_type": "code",
      "metadata": {
        "id": "s9d0-QVfOh9h",
        "colab_type": "code",
        "outputId": "1a636be2-4c8d-405c-f5d7-e50adf06f2c5",
        "colab": {
          "base_uri": "https://localhost:8080/",
          "height": 71
        }
      },
      "source": [
        "# we use count vectorizer to convert the values into one \n",
        "vectorizer = CountVectorizer(vocabulary=list(sorted_sub_cat_dict.keys()), lowercase=False, binary=True)\n",
        "sub_categories_one_hot = vectorizer.fit_transform(project_data['clean_subcategories'].values)\n",
        "print(vectorizer.get_feature_names())\n",
        "print(\"Shape of matrix after one hot encodig \",sub_categories_one_hot.shape)"
      ],
      "execution_count": 27,
      "outputs": [
        {
          "output_type": "stream",
          "text": [
            "['Economics', 'CommunityService', 'FinancialLiteracy', 'ParentInvolvement', 'Extracurricular', 'Civics_Government', 'ForeignLanguages', 'NutritionEducation', 'Warmth', 'Care_Hunger', 'SocialSciences', 'PerformingArts', 'CharacterEducation', 'TeamSports', 'Other', 'College_CareerPrep', 'Music', 'History_Geography', 'Health_LifeScience', 'EarlyDevelopment', 'ESL', 'Gym_Fitness', 'EnvironmentalScience', 'VisualArts', 'Health_Wellness', 'AppliedSciences', 'SpecialNeeds', 'Literature_Writing', 'Mathematics', 'Literacy']\n",
            "Shape of matrix after one hot encodig  (109248, 30)\n"
          ],
          "name": "stdout"
        }
      ]
    },
    {
      "cell_type": "code",
      "metadata": {
        "id": "mb_z0ayAS_Rb",
        "colab_type": "code",
        "outputId": "7d467214-33bf-4388-96e6-947ea88b2126",
        "colab": {
          "base_uri": "https://localhost:8080/",
          "height": 51
        }
      },
      "source": [
        "#project_grade_category\n",
        "\n",
        "vectorizer = CountVectorizer(vocabulary=list(project_data['project_grade_category'].unique()), lowercase=False, binary=True)\n",
        "vectorizer.fit(project_data['project_grade_category'].values)\n",
        "print(vectorizer.get_feature_names())\n",
        "project_grade_category_one_hot = vectorizer.transform(project_data['project_grade_category'].values)\n",
        "print(\"Shape of matrix after one hot encodig \",project_grade_category_one_hot.shape)"
      ],
      "execution_count": 28,
      "outputs": [
        {
          "output_type": "stream",
          "text": [
            "['grades_prek_2', 'grades_6_8', 'grades_3_5', 'grades_9_12']\n",
            "Shape of matrix after one hot encodig  (109248, 4)\n"
          ],
          "name": "stdout"
        }
      ]
    },
    {
      "cell_type": "code",
      "metadata": {
        "id": "DYrkbN4NVQj_",
        "colab_type": "code",
        "outputId": "b4c80f10-206a-404e-b4d2-d3019a3311b2",
        "colab": {
          "base_uri": "https://localhost:8080/",
          "height": 71
        }
      },
      "source": [
        "#state\n",
        "vectorizer = CountVectorizer(vocabulary=list(project_data['school_state'].unique()), lowercase=False, binary=True)\n",
        "vectorizer.fit(project_data['school_state'].values)\n",
        "print(vectorizer.get_feature_names())\n",
        "\n",
        "state_one_hot = vectorizer.transform(project_data['school_state'].values)\n",
        "print(\"Shape of matrix after one hot encodig \",state_one_hot.shape)"
      ],
      "execution_count": 29,
      "outputs": [
        {
          "output_type": "stream",
          "text": [
            "['in', 'fl', 'az', 'ky', 'tx', 'ct', 'ga', 'sc', 'nc', 'ca', 'ny', 'ok', 'ma', 'nv', 'oh', 'pa', 'al', 'la', 'va', 'ar', 'wa', 'wv', 'id', 'tn', 'ms', 'co', 'ut', 'il', 'mi', 'hi', 'ia', 'ri', 'nj', 'mo', 'de', 'mn', 'me', 'wy', 'nd', 'or', 'ak', 'md', 'wi', 'sd', 'ne', 'nm', 'dc', 'ks', 'mt', 'nh', 'vt']\n",
            "Shape of matrix after one hot encodig  (109248, 51)\n"
          ],
          "name": "stdout"
        }
      ]
    },
    {
      "cell_type": "code",
      "metadata": {
        "id": "gZt2-jbMVv4z",
        "colab_type": "code",
        "colab": {}
      },
      "source": [
        "# Before converting to vecter we have to remove NA values from the column , we are filling the value by column mode \n",
        "project_data['teacher_prefix'].fillna(project_data.teacher_prefix.mode()[0],inplace=True)"
      ],
      "execution_count": 0,
      "outputs": []
    },
    {
      "cell_type": "code",
      "metadata": {
        "id": "qlg_E3rQVlEi",
        "colab_type": "code",
        "outputId": "c27509f7-ae40-41f8-8a01-e7461d79ab88",
        "colab": {
          "base_uri": "https://localhost:8080/",
          "height": 51
        }
      },
      "source": [
        "#teacher_prefix\n",
        "vectorizer = CountVectorizer(vocabulary=list(project_data['teacher_prefix'].unique()), lowercase=False, binary=True)\n",
        "vectorizer.fit(project_data['teacher_prefix'].values)\n",
        "print(vectorizer.get_feature_names())\n",
        "teacher_prefix_one_hot = vectorizer.transform(project_data['teacher_prefix'].values)\n",
        "print(\"Shape of matrix after one hot encodig \",teacher_prefix_one_hot.shape)"
      ],
      "execution_count": 31,
      "outputs": [
        {
          "output_type": "stream",
          "text": [
            "['mrs', 'mr', 'ms', 'teacher', 'dr']\n",
            "Shape of matrix after one hot encodig  (109248, 5)\n"
          ],
          "name": "stdout"
        }
      ]
    },
    {
      "cell_type": "markdown",
      "metadata": {
        "id": "ACyCSq0LOh9o",
        "colab_type": "text"
      },
      "source": [
        "### 1.5.2 Vectorizing Text data"
      ]
    },
    {
      "cell_type": "markdown",
      "metadata": {
        "id": "NMbzzOsPOh9p",
        "colab_type": "text"
      },
      "source": [
        "#### 1.5.2.1 Bag of words"
      ]
    },
    {
      "cell_type": "code",
      "metadata": {
        "id": "7dfCHNPwOh9p",
        "colab_type": "code",
        "outputId": "fcfe527c-7bda-4770-f64c-451488d8fce8",
        "colab": {
          "base_uri": "https://localhost:8080/",
          "height": 34
        }
      },
      "source": [
        "# We are considering only the words which appeared in at least 10 documents(rows or projects).\n",
        "#https://scikit-learn.org/stable/modules/generated/sklearn.feature_extraction.text.CountVectorizer.html\n",
        "vectorizer = CountVectorizer(min_df=10,max_features=5000,ngram_range=(2,2))\n",
        "text_bow = vectorizer.fit_transform(preprocessed_essays)\n",
        "print(\"Shape of matrix after one hot encodig \",text_bow.shape)"
      ],
      "execution_count": 32,
      "outputs": [
        {
          "output_type": "stream",
          "text": [
            "Shape of matrix after one hot encodig  (109248, 5000)\n"
          ],
          "name": "stdout"
        }
      ]
    },
    {
      "cell_type": "code",
      "metadata": {
        "id": "4O-uj3ieOh9s",
        "colab_type": "code",
        "outputId": "67440d18-cb6b-497c-a91a-cb61e42f4069",
        "colab": {
          "base_uri": "https://localhost:8080/",
          "height": 34
        }
      },
      "source": [
        "#preprocessed_project_title\n",
        "vectorizer = CountVectorizer(min_df=10,max_features=5000,ngram_range=(2,2))\n",
        "project_title_bow = vectorizer.fit_transform(preprocessed_project_title)\n",
        "print(\"Shape of matrix after one hot encodig \",project_title_bow.shape)"
      ],
      "execution_count": 33,
      "outputs": [
        {
          "output_type": "stream",
          "text": [
            "Shape of matrix after one hot encodig  (109248, 4249)\n"
          ],
          "name": "stdout"
        }
      ]
    },
    {
      "cell_type": "markdown",
      "metadata": {
        "id": "z2gxZ2ogOh9w",
        "colab_type": "text"
      },
      "source": [
        "#### 1.5.2.2 TFIDF vectorizer"
      ]
    },
    {
      "cell_type": "code",
      "metadata": {
        "id": "T8uozAbyOh9x",
        "colab_type": "code",
        "outputId": "f2f59635-9b97-48c1-f8f9-269ebe75ed52",
        "colab": {
          "base_uri": "https://localhost:8080/",
          "height": 34
        }
      },
      "source": [
        "from sklearn.feature_extraction.text import TfidfVectorizer\n",
        "vectorizer = TfidfVectorizer(min_df=10,max_features=5000,ngram_range=(2,2))\n",
        "text_tfidf = vectorizer.fit_transform(preprocessed_essays)\n",
        "print(\"Shape of matrix after one hot encodig \",text_tfidf.shape)"
      ],
      "execution_count": 34,
      "outputs": [
        {
          "output_type": "stream",
          "text": [
            "Shape of matrix after one hot encodig  (109248, 5000)\n"
          ],
          "name": "stdout"
        }
      ]
    },
    {
      "cell_type": "code",
      "metadata": {
        "id": "1jdSMDVYPI0b",
        "colab_type": "code",
        "outputId": "ef168a29-0723-43f8-9e17-5ffde34daa15",
        "colab": {
          "base_uri": "https://localhost:8080/",
          "height": 34
        }
      },
      "source": [
        "vectorizer = TfidfVectorizer(min_df=10,max_features=5000,ngram_range=(2,2))\n",
        "project_title_tfidf = vectorizer.fit_transform(preprocessed_project_title)\n",
        "print(\"Shape of matrix after one hot encodig \",project_title_tfidf.shape)"
      ],
      "execution_count": 35,
      "outputs": [
        {
          "output_type": "stream",
          "text": [
            "Shape of matrix after one hot encodig  (109248, 4249)\n"
          ],
          "name": "stdout"
        }
      ]
    },
    {
      "cell_type": "markdown",
      "metadata": {
        "id": "73m5MNjoOh90",
        "colab_type": "text"
      },
      "source": [
        "#### 1.5.2.3 Using Pretrained Models: Avg W2V"
      ]
    },
    {
      "cell_type": "code",
      "metadata": {
        "id": "J4sL80mSOh93",
        "colab_type": "code",
        "colab": {}
      },
      "source": [
        "# stronging variables into pickle files python: http://www.jessicayung.com/how-to-use-pickle-to-save-and-load-variables-in-python/\n",
        "# make sure you have the glove_vectors file\n",
        "with open('/content/drive/My Drive/Colab Notebooks/glove_vectors', 'rb') as f:\n",
        "    model = pickle.load(f)\n",
        "    glove_words =  set(model.keys())"
      ],
      "execution_count": 0,
      "outputs": []
    },
    {
      "cell_type": "code",
      "metadata": {
        "scrolled": true,
        "id": "HXVbeaR6Oh96",
        "colab_type": "code",
        "outputId": "639a8a3d-24d7-4a9b-d1e2-1be50b1042c9",
        "colab": {
          "base_uri": "https://localhost:8080/",
          "height": 68
        }
      },
      "source": [
        "# average Word2Vec\n",
        "# compute average word2vec for each review.\n",
        "avg_w2v_vectors = []; # the avg-w2v for each sentence/review is stored in this list\n",
        "for sentence in tqdm(preprocessed_essays): # for each review/sentence\n",
        "    vector = np.zeros(300) # as word vectors are of zero length\n",
        "    cnt_words =0; # num of words with a valid vector in the sentence/review\n",
        "    for word in sentence.split(): # for each word in a review/sentence\n",
        "        if word in glove_words:\n",
        "            vector += model[word]\n",
        "            cnt_words += 1\n",
        "    if cnt_words != 0:\n",
        "        vector /= cnt_words\n",
        "    avg_w2v_vectors.append(vector)\n",
        "\n",
        "print(len(avg_w2v_vectors))\n",
        "print(len(avg_w2v_vectors[0]))"
      ],
      "execution_count": 37,
      "outputs": [
        {
          "output_type": "stream",
          "text": [
            "100%|██████████| 109248/109248 [00:30<00:00, 3579.35it/s]"
          ],
          "name": "stderr"
        },
        {
          "output_type": "stream",
          "text": [
            "109248\n",
            "300\n"
          ],
          "name": "stdout"
        },
        {
          "output_type": "stream",
          "text": [
            "\n"
          ],
          "name": "stderr"
        }
      ]
    },
    {
      "cell_type": "code",
      "metadata": {
        "id": "d_geCzKqWRh3",
        "colab_type": "code",
        "outputId": "5d03b5a0-a0cb-4879-9004-757f7051dbd5",
        "colab": {
          "base_uri": "https://localhost:8080/",
          "height": 85
        }
      },
      "source": [
        "# average Word2Vec\n",
        "# compute average word2vec for each review.\n",
        "avg_w2v_vectors_project_title = []; # the avg-w2v for each sentence/review is stored in this list\n",
        "for sentence in tqdm(preprocessed_project_title): # for each review/sentence\n",
        "    vector = np.zeros(300) # as word vectors are of zero length\n",
        "    cnt_words =0; # num of words with a valid vector in the sentence/review\n",
        "    for word in sentence.split(): # for each word in a review/sentence\n",
        "        if word in glove_words:\n",
        "            vector += model[word]\n",
        "            cnt_words += 1\n",
        "    if cnt_words != 0:\n",
        "        vector /= cnt_words\n",
        "    avg_w2v_vectors_project_title.append(vector)\n",
        "print()\n",
        "print(len(avg_w2v_vectors_project_title))\n",
        "print(len(avg_w2v_vectors_project_title[0]))"
      ],
      "execution_count": 38,
      "outputs": [
        {
          "output_type": "stream",
          "text": [
            "100%|██████████| 109248/109248 [00:01<00:00, 68229.34it/s]"
          ],
          "name": "stderr"
        },
        {
          "output_type": "stream",
          "text": [
            "\n",
            "109248\n",
            "300\n"
          ],
          "name": "stdout"
        },
        {
          "output_type": "stream",
          "text": [
            "\n"
          ],
          "name": "stderr"
        }
      ]
    },
    {
      "cell_type": "markdown",
      "metadata": {
        "id": "pAcQahGBOh99",
        "colab_type": "text"
      },
      "source": [
        "#### 1.5.2.4 Using Pretrained Models: TFIDF weighted W2V"
      ]
    },
    {
      "cell_type": "code",
      "metadata": {
        "id": "PhfDIGZzOh9-",
        "colab_type": "code",
        "colab": {}
      },
      "source": [
        "# S = [\"abc def pqr\", \"def def def abc\", \"pqr pqr def\"]\n",
        "tfidf_model = TfidfVectorizer()\n",
        "tfidf_model.fit(preprocessed_essays)\n",
        "# we are converting a dictionary with word as a key, and the idf as a value\n",
        "dictionary = dict(zip(tfidf_model.get_feature_names(), list(tfidf_model.idf_)))\n",
        "tfidf_words = set(tfidf_model.get_feature_names())"
      ],
      "execution_count": 0,
      "outputs": []
    },
    {
      "cell_type": "code",
      "metadata": {
        "scrolled": true,
        "id": "SVuQKgh1Oh-A",
        "colab_type": "code",
        "outputId": "cda82996-be6c-4e16-fb98-05b86c48fe7d",
        "colab": {
          "base_uri": "https://localhost:8080/",
          "height": 85
        }
      },
      "source": [
        "# average Word2Vec\n",
        "# compute average word2vec for each review.\n",
        "tfidf_w2v_vectors = []; # the avg-w2v for each sentence/review is stored in this list\n",
        "for sentence in tqdm(preprocessed_essays): # for each review/sentence\n",
        "    vector = np.zeros(300) # as word vectors are of zero length\n",
        "    tf_idf_weight =0; # num of words with a valid vector in the sentence/review\n",
        "    for word in sentence.split(): # for each word in a review/sentence\n",
        "        if (word in glove_words) and (word in tfidf_words):\n",
        "            vec = model[word] # getting the vector for each word\n",
        "            # here we are multiplying idf value(dictionary[word]) and the tf value((sentence.count(word)/len(sentence.split())))\n",
        "            tf_idf = dictionary[word]*(sentence.count(word)/len(sentence.split())) # getting the tfidf value for each word\n",
        "            vector += (vec * tf_idf) # calculating tfidf weighted w2v\n",
        "            tf_idf_weight += tf_idf\n",
        "    if tf_idf_weight != 0:\n",
        "        vector /= tf_idf_weight\n",
        "    tfidf_w2v_vectors.append(vector)\n",
        "print()\n",
        "print(len(tfidf_w2v_vectors))\n",
        "print(len(tfidf_w2v_vectors[0]))"
      ],
      "execution_count": 40,
      "outputs": [
        {
          "output_type": "stream",
          "text": [
            "100%|██████████| 109248/109248 [03:17<00:00, 552.82it/s]"
          ],
          "name": "stderr"
        },
        {
          "output_type": "stream",
          "text": [
            "\n",
            "109248\n",
            "300\n"
          ],
          "name": "stdout"
        },
        {
          "output_type": "stream",
          "text": [
            "\n"
          ],
          "name": "stderr"
        }
      ]
    },
    {
      "cell_type": "code",
      "metadata": {
        "id": "FiEp6kieOh-G",
        "colab_type": "code",
        "outputId": "51954f8e-3934-4775-bdf3-5856dc0b4e43",
        "colab": {
          "base_uri": "https://localhost:8080/",
          "height": 85
        }
      },
      "source": [
        "# average Word2Vec\n",
        "# compute average word2vec for each review.\n",
        "avg_w2v_vectors_pro_title = []; # the avg-w2v for each sentence/review is stored in this list\n",
        "for sentence in tqdm(preprocessed_project_title): # for each review/sentence\n",
        "    vector = np.zeros(300) # as word vectors are of zero length\n",
        "    cnt_words =0; # num of words with a valid vector in the sentence/review\n",
        "    for word in sentence.split(): # for each word in a review/sentence\n",
        "        if word in glove_words:\n",
        "            vector += model[word]\n",
        "            cnt_words += 1\n",
        "    if cnt_words != 0:\n",
        "        vector /= cnt_words\n",
        "    avg_w2v_vectors_pro_title.append(vector)\n",
        "print()\n",
        "print(len(avg_w2v_vectors_pro_title))\n",
        "print(len(avg_w2v_vectors_pro_title[0]))"
      ],
      "execution_count": 41,
      "outputs": [
        {
          "output_type": "stream",
          "text": [
            "100%|██████████| 109248/109248 [00:01<00:00, 66009.01it/s]"
          ],
          "name": "stderr"
        },
        {
          "output_type": "stream",
          "text": [
            "\n",
            "109248\n",
            "300\n"
          ],
          "name": "stdout"
        },
        {
          "output_type": "stream",
          "text": [
            "\n"
          ],
          "name": "stderr"
        }
      ]
    },
    {
      "cell_type": "markdown",
      "metadata": {
        "id": "nrHWjPsrOh-I",
        "colab_type": "text"
      },
      "source": [
        "### 1.5.3 Vectorizing Numerical features"
      ]
    },
    {
      "cell_type": "code",
      "metadata": {
        "id": "3v7igAHLOh-J",
        "colab_type": "code",
        "colab": {}
      },
      "source": [
        "price_data = resource_data.groupby('id').agg({'price':'sum', 'quantity':'sum'}).reset_index()\n",
        "project_data = pd.merge(project_data, price_data, on='id', how='left')"
      ],
      "execution_count": 0,
      "outputs": []
    },
    {
      "cell_type": "code",
      "metadata": {
        "id": "81MCqG8wOh-M",
        "colab_type": "code",
        "outputId": "5f035870-1563-4fb7-dd56-65f3bc307a4a",
        "colab": {
          "base_uri": "https://localhost:8080/",
          "height": 34
        }
      },
      "source": [
        "# check this one: https://www.youtube.com/watch?v=0HOqOcln3Z4&t=530s\n",
        "# standardization sklearn: https://scikit-learn.org/stable/modules/generated/sklearn.preprocessing.StandardScaler.html\n",
        "from sklearn.preprocessing import StandardScaler\n",
        "\n",
        "# price_standardized = standardScalar.fit(project_data['price'].values)\n",
        "# this will rise the error\n",
        "# ValueError: Expected 2D array, got 1D array instead: array=[725.05 213.03 329.   ... 399.   287.73   5.5 ].\n",
        "# Reshape your data either using array.reshape(-1, 1)\n",
        "\n",
        "price_scalar = StandardScaler()\n",
        "price_scalar.fit(project_data['price'].values.reshape(-1,1)) # finding the mean and standard deviation of this data\n",
        "print(f\"Mean : {price_scalar.mean_[0]}, Standard deviation : {np.sqrt(price_scalar.var_[0])}\")\n",
        "\n",
        "# Now standardize the data with above maen and variance.\n",
        "price_standardized = price_scalar.transform(project_data['price'].values.reshape(-1, 1))"
      ],
      "execution_count": 43,
      "outputs": [
        {
          "output_type": "stream",
          "text": [
            "Mean : 298.1193425966608, Standard deviation : 367.49634838483496\n"
          ],
          "name": "stdout"
        }
      ]
    },
    {
      "cell_type": "code",
      "metadata": {
        "id": "J_C6r8cyOh-P",
        "colab_type": "code",
        "outputId": "898eb120-187c-447b-f9c0-591235c47922",
        "colab": {
          "base_uri": "https://localhost:8080/",
          "height": 136
        }
      },
      "source": [
        "price_standardized"
      ],
      "execution_count": 44,
      "outputs": [
        {
          "output_type": "execute_result",
          "data": {
            "text/plain": [
              "array([[-0.3905327 ],\n",
              "       [ 0.00239637],\n",
              "       [ 0.59519138],\n",
              "       ...,\n",
              "       [-0.15825829],\n",
              "       [-0.61243967],\n",
              "       [-0.51216657]])"
            ]
          },
          "metadata": {
            "tags": []
          },
          "execution_count": 44
        }
      ]
    },
    {
      "cell_type": "code",
      "metadata": {
        "id": "0PksSJs2Sb0N",
        "colab_type": "code",
        "outputId": "f0935f9c-db45-4046-ef98-c8084d7d62a1",
        "colab": {
          "base_uri": "https://localhost:8080/",
          "height": 34
        }
      },
      "source": [
        "previously_posted_scalar = StandardScaler()\n",
        "previously_posted_scalar.fit(project_data['teacher_number_of_previously_posted_projects'].values.reshape(-1,1)) # finding the mean and standard deviation of this data\n",
        "print(f\"Mean : {price_scalar.mean_[0]}, Standard deviation : {np.sqrt(price_scalar.var_[0])}\")\n",
        "\n",
        "# Now standardize the data with above maen and variance.\n",
        "previously_posted_standardized = previously_posted_scalar.transform(project_data['teacher_number_of_previously_posted_projects'].values.reshape(-1, 1))"
      ],
      "execution_count": 45,
      "outputs": [
        {
          "output_type": "stream",
          "text": [
            "Mean : 298.1193425966608, Standard deviation : 367.49634838483496\n"
          ],
          "name": "stdout"
        }
      ]
    },
    {
      "cell_type": "code",
      "metadata": {
        "id": "AHb_i5PiSihF",
        "colab_type": "code",
        "outputId": "1d05a6dc-fab0-480e-fbf4-942ec2b5ded8",
        "colab": {
          "base_uri": "https://localhost:8080/",
          "height": 136
        }
      },
      "source": [
        "previously_posted_standardized"
      ],
      "execution_count": 46,
      "outputs": [
        {
          "output_type": "execute_result",
          "data": {
            "text/plain": [
              "array([[-0.40152481],\n",
              "       [-0.14951799],\n",
              "       [-0.36552384],\n",
              "       ...,\n",
              "       [-0.29352189],\n",
              "       [-0.40152481],\n",
              "       [-0.40152481]])"
            ]
          },
          "metadata": {
            "tags": []
          },
          "execution_count": 46
        }
      ]
    },
    {
      "cell_type": "markdown",
      "metadata": {
        "id": "JKnJ7MKdOh-S",
        "colab_type": "text"
      },
      "source": [
        "### 1.5.4 Merging all the above features"
      ]
    },
    {
      "cell_type": "markdown",
      "metadata": {
        "id": "upVvAD8KOh-S",
        "colab_type": "text"
      },
      "source": [
        "- we need to merge all the numerical vectors i.e catogorical, text, numerical vectors"
      ]
    },
    {
      "cell_type": "code",
      "metadata": {
        "id": "uwOhjmBBOh-T",
        "colab_type": "code",
        "outputId": "bfc3ff52-b32f-488c-c484-ee021c342a75",
        "colab": {
          "base_uri": "https://localhost:8080/",
          "height": 85
        }
      },
      "source": [
        "print(categories_one_hot.shape)\n",
        "print(sub_categories_one_hot.shape)\n",
        "print(text_bow.shape)\n",
        "print(price_standardized.shape)"
      ],
      "execution_count": 47,
      "outputs": [
        {
          "output_type": "stream",
          "text": [
            "(109248, 9)\n",
            "(109248, 30)\n",
            "(109248, 5000)\n",
            "(109248, 1)\n"
          ],
          "name": "stdout"
        }
      ]
    },
    {
      "cell_type": "code",
      "metadata": {
        "id": "9dUppsDJIVY-",
        "colab_type": "code",
        "colab": {}
      },
      "source": [
        "y = project_data['project_is_approved']"
      ],
      "execution_count": 0,
      "outputs": []
    },
    {
      "cell_type": "code",
      "metadata": {
        "id": "yp6yXOGOOh-X",
        "colab_type": "code",
        "colab": {}
      },
      "source": [
        "# merge two sparse matrices: https://stackoverflow.com/a/19710648/4084039\n",
        "from scipy.sparse import hstack\n"
      ],
      "execution_count": 0,
      "outputs": []
    },
    {
      "cell_type": "code",
      "metadata": {
        "id": "YDT7b9dDQWlo",
        "colab_type": "code",
        "outputId": "52e9a74d-2bbe-40b0-f5f3-50a613e6f6fe",
        "colab": {
          "base_uri": "https://localhost:8080/",
          "height": 34
        }
      },
      "source": [
        "#BoW dataset\n",
        "X_BoW = hstack((categories_one_hot, sub_categories_one_hot, text_bow, price_standardized,previously_posted_standardized,\n",
        "                project_grade_category_one_hot,state_one_hot ,project_title_bow,teacher_prefix_one_hot))\n",
        "X_BoW.shape"
      ],
      "execution_count": 50,
      "outputs": [
        {
          "output_type": "execute_result",
          "data": {
            "text/plain": [
              "(109248, 9350)"
            ]
          },
          "metadata": {
            "tags": []
          },
          "execution_count": 50
        }
      ]
    },
    {
      "cell_type": "code",
      "metadata": {
        "id": "qRYmmtYfQXWl",
        "colab_type": "code",
        "outputId": "7f51c3ba-e856-45d6-8b99-989b7172f21b",
        "colab": {
          "base_uri": "https://localhost:8080/",
          "height": 34
        }
      },
      "source": [
        "#TFIDF dataset\n",
        "X_tfidf = hstack((categories_one_hot, sub_categories_one_hot, text_tfidf, price_standardized,previously_posted_standardized,\n",
        "            project_grade_category_one_hot,state_one_hot ,project_title_tfidf,teacher_prefix_one_hot))\n",
        "X_tfidf.shape"
      ],
      "execution_count": 51,
      "outputs": [
        {
          "output_type": "execute_result",
          "data": {
            "text/plain": [
              "(109248, 9350)"
            ]
          },
          "metadata": {
            "tags": []
          },
          "execution_count": 51
        }
      ]
    },
    {
      "cell_type": "code",
      "metadata": {
        "id": "fbCjZjAvQbUT",
        "colab_type": "code",
        "outputId": "3c8d0676-d835-431c-ffb8-11eec69779c9",
        "colab": {
          "base_uri": "https://localhost:8080/",
          "height": 34
        }
      },
      "source": [
        "#AVG W2V dataset\n",
        "X_avg_w2v = hstack((categories_one_hot, sub_categories_one_hot, avg_w2v_vectors, price_standardized,previously_posted_standardized,     \n",
        "            project_grade_category_one_hot,state_one_hot ,avg_w2v_vectors_pro_title,teacher_prefix_one_hot))\n",
        "X_avg_w2v.shape"
      ],
      "execution_count": 52,
      "outputs": [
        {
          "output_type": "execute_result",
          "data": {
            "text/plain": [
              "(109248, 701)"
            ]
          },
          "metadata": {
            "tags": []
          },
          "execution_count": 52
        }
      ]
    },
    {
      "cell_type": "code",
      "metadata": {
        "id": "fhZJ-GTBQdp1",
        "colab_type": "code",
        "outputId": "e808d4a8-fc9c-417c-ed06-7b10b69ebadf",
        "colab": {
          "base_uri": "https://localhost:8080/",
          "height": 34
        }
      },
      "source": [
        "#TFIDF W2V\n",
        "X_tfidf_w2v = hstack((categories_one_hot, sub_categories_one_hot, tfidf_w2v_vectors, price_standardized,previously_posted_standardized,\n",
        "                 project_grade_category_one_hot,state_one_hot ,avg_w2v_vectors_pro_title,teacher_prefix_one_hot))\n",
        "X_tfidf_w2v.shape"
      ],
      "execution_count": 53,
      "outputs": [
        {
          "output_type": "execute_result",
          "data": {
            "text/plain": [
              "(109248, 701)"
            ]
          },
          "metadata": {
            "tags": []
          },
          "execution_count": 53
        }
      ]
    },
    {
      "cell_type": "markdown",
      "metadata": {
        "id": "Drelm2SEOh-i",
        "colab_type": "text"
      },
      "source": [
        "# Assignment 7: SVM\n"
      ]
    },
    {
      "cell_type": "markdown",
      "metadata": {
        "id": "ZPHEJ2gOOh-l",
        "colab_type": "text"
      },
      "source": [
        "<ol>\n",
        "    <li><strong>[Task-1] Apply Support Vector Machines(SGDClassifier with hinge loss: Linear SVM) on these feature sets</strong>\n",
        "        <ul>\n",
        "            <li><font color='red'>Set 1</font>: categorical, numerical features + project_title(BOW) + preprocessed_eassay (BOW)</li>\n",
        "            <li><font color='red'>Set 2</font>: categorical, numerical features + project_title(TFIDF)+  preprocessed_eassay (TFIDF)</li>\n",
        "            <li><font color='red'>Set 3</font>: categorical, numerical features + project_title(AVG W2V)+  preprocessed_eassay (AVG W2V)</li>\n",
        "            <li><font color='red'>Set 4</font>: categorical, numerical features + project_title(TFIDF W2V)+  preprocessed_eassay (TFIDF W2V)</li>        </ul>\n",
        "    </li>\n",
        "    <br>\n",
        "    <li><strong>The hyper paramter tuning (best alpha in range [10^-4 to 10^4], and the best penalty among 'l1', 'l2')</strong>\n",
        "        <ul>\n",
        "    <li>Find the best hyper parameter which will give the maximum <a href='https://www.appliedaicourse.com/course/applied-ai-course-online/lessons/receiver-operating-characteristic-curve-roc-curve-and-auc-1/'>AUC</a> value</li>\n",
        "    <li>Find the best hyper paramter using k-fold cross validation or simple cross validation data</li>\n",
        "    <li>Use gridsearch cv or randomsearch cv or you can also write your own for loops to do this task of hyperparameter tuning\n",
        "        </ul>\n",
        "            </li>\n",
        "    <br>\n",
        "    <li><strong>Representation of results</strong>\n",
        "        <ul>\n",
        "    <li>You need to plot the performance of model both on train data and cross validation data for each hyper parameter, like shown in the figure.\n",
        "    <img src='train_cv_auc.JPG' width=300px></li>\n",
        "    <li>Once after you found the best hyper parameter, you need to train your model with it, and find the AUC on test data and plot the ROC curve on both train and test.\n",
        "    <img src='train_test_auc.JPG' width=300px></li>\n",
        "    <li>Along with plotting ROC curve, you need to print the <a href='https://www.appliedaicourse.com/course/applied-ai-course-online/lessons/confusion-matrix-tpr-fpr-fnr-tnr-1/'>confusion matrix</a> with predicted and original labels of test data points. Please visualize your confusion matrices using <a href='https://seaborn.pydata.org/generated/seaborn.heatmap.html'>seaborn heatmaps.\n",
        "    <img src='confusion_matrix.png' width=300px></li>\n",
        "        </ul>\n",
        "    </li>\n",
        "    <br>\n",
        "    <li><strong>[Task-2] Apply the Support Vector Machines on these features by finding the best hyper paramter as suggested in step 2 and step 3</strong>\n",
        "        <ul>\n",
        "    <li> Consider these set of features <font color='red'> Set 5 :</font>\n",
        "            <ul>\n",
        "                <li><strong>school_state</strong> : categorical data</li>\n",
        "                <li><strong>clean_categories</strong> : categorical data</li>\n",
        "                <li><strong>clean_subcategories</strong> : categorical data</li>\n",
        "                <li><strong>project_grade_category</strong> :categorical data</li>\n",
        "                <li><strong>teacher_prefix</strong> : categorical data</li>\n",
        "                <li><strong>quantity</strong> : numerical data</li>\n",
        "                <li><strong>teacher_number_of_previously_posted_projects</strong> : numerical data</li>\n",
        "                <li><strong>price</strong> : numerical data</li>\n",
        "                <li><strong>sentiment score's of each of the essay</strong> : numerical data</li>\n",
        "                <li><strong>number of words in the title</strong> : numerical data</li>\n",
        "                <li><strong>number of words in the combine essays</strong> : numerical data</li>\n",
        "                <li><strong>Apply <a href='http://scikit-learn.org/stable/modules/generated/sklearn.decomposition.TruncatedSVD.html'>TruncatedSVD</a> on <a href='https://scikit-learn.org/stable/modules/generated/sklearn.feature_extraction.text.TfidfVectorizer.html'>TfidfVectorizer</a> of essay text, choose the number of components (`n_components`) using <a href='https://www.appliedaicourse.com/course/applied-ai-course-online/lessons/pca-code-example-using-non-visualization/'>elbow method</a></strong> : numerical data</li>\n",
        "            </ul>\n",
        "         <br>\n",
        "    </li>\n",
        "    <br>\n",
        "    <li><strong>Conclusion</strong>\n",
        "        <ul>\n",
        "    <li>You need to summarize the results at the end of the notebook, summarize it in the table format. To print out a table please refer to this prettytable library<a href='http://zetcode.com/python/prettytable/'>  link</a> \n",
        "        <img src='summary.JPG' width=400px>\n",
        "    </li>\n",
        "        </ul>\n",
        "</ol>"
      ]
    },
    {
      "cell_type": "markdown",
      "metadata": {
        "id": "g-wL7ps2Oh-m",
        "colab_type": "text"
      },
      "source": [
        "<h4><font color='red'>Note: Data Leakage</font></h4>\n",
        "\n",
        "1. There will be an issue of data-leakage if you vectorize the entire data and then split it into train/cv/test.\n",
        "2. To avoid the issue of data-leakage, make sure to split your data first and then vectorize it. \n",
        "3. While vectorizing your data, apply the method fit_transform() on you train data, and apply the method transform() on cv/test data.\n",
        "4. For more details please go through this <a href='https://soundcloud.com/applied-ai-course/leakage-bow-and-tfidf'>link.</a>"
      ]
    },
    {
      "cell_type": "markdown",
      "metadata": {
        "id": "cy1c6UN2Oh-n",
        "colab_type": "text"
      },
      "source": [
        "#2. Support Vector Machines"
      ]
    },
    {
      "cell_type": "markdown",
      "metadata": {
        "id": "oJIsZrjrOh-o",
        "colab_type": "text"
      },
      "source": [
        "##2.1 Splitting data into Train and cross validation(or test): Stratified Sampling"
      ]
    },
    {
      "cell_type": "code",
      "metadata": {
        "id": "Uadl5GfvOh-o",
        "colab_type": "code",
        "colab": {}
      },
      "source": [
        "# Bow\n",
        "from sklearn.model_selection import train_test_split\n",
        "X_train_Bow, X_test_Bow, y_train_Bow, y_test_Bow = train_test_split(X_BoW, y, test_size=0.33, stratify=y)\n",
        "#X_train_Bow, X_cv_Bow, y_train_Bow, y_cv_Bow = train_test_split(X_train_Bow, y_train_Bow, test_size=0.33, stratify=y_train_Bow)"
      ],
      "execution_count": 0,
      "outputs": []
    },
    {
      "cell_type": "code",
      "metadata": {
        "id": "4Cvdi9NuJ5fe",
        "colab_type": "code",
        "colab": {}
      },
      "source": [
        "# tfidf\n",
        "X_train_tfidf, X_test_tfidf, y_train_tfidf, y_test_tfidf = train_test_split(X_tfidf, y, test_size=0.33, stratify=y)\n",
        "#X_train_tfidf, X_cv_tfidf, y_train_tfidf, y_cv_tfidf = train_test_split(X_train_tfidf, y_train_tfidf, test_size=0.33, stratify=y_train_tfidf)"
      ],
      "execution_count": 0,
      "outputs": []
    },
    {
      "cell_type": "code",
      "metadata": {
        "id": "rB6T3XrZJ5w2",
        "colab_type": "code",
        "colab": {}
      },
      "source": [
        "#X_avg_w2v\n",
        "\n",
        "X_train_avg_w2v, X_test_avg_w2v, y_train_avg_w2v, y_test_avg_w2v = train_test_split(X_avg_w2v, y, test_size=0.33, stratify=y)\n",
        "#X_train_avg_w2v, X_cv_avg_w2v, y_train_avg_w2v, y_cv_avg_w2v = train_test_split(X_train_avg_w2v, y_train_avg_w2v, test_size=0.33, stratify=y_train_avg_w2v)\n"
      ],
      "execution_count": 0,
      "outputs": []
    },
    {
      "cell_type": "code",
      "metadata": {
        "id": "M3KNW-8ZJ58e",
        "colab_type": "code",
        "colab": {}
      },
      "source": [
        "# X_tfidf_w2v\n",
        "X_train_tfidf_w2v, X_test_tfidf_w2v, y_train_tfidf_w2v, y_test_tfidf_w2v = train_test_split(X_tfidf_w2v, y, test_size=0.33, stratify=y)\n",
        "#X_train_tfidf_w2v, X_cv_tfidf_w2v, y_train_tfidf_w2v, y_cv_tfidf_w2v = train_test_split(X_train_tfidf_w2v, y_train_tfidf_w2v, test_size=0.33, stratify=y_train_tfidf_w2v)"
      ],
      "execution_count": 0,
      "outputs": []
    },
    {
      "cell_type": "markdown",
      "metadata": {
        "id": "PDLSDy4bOh-s",
        "colab_type": "text"
      },
      "source": [
        "##2.2 Make Data Model Ready: encoding numerical, categorical features"
      ]
    },
    {
      "cell_type": "code",
      "metadata": {
        "id": "0nfaU7s0pHia",
        "colab_type": "code",
        "colab": {}
      },
      "source": [
        "# we are writing our own function for predict, with defined thresould\n",
        "# we will pick a threshold that will give the least fpr\n",
        "def find_best_threshold(threshould, fpr, tpr):\n",
        "    t = threshould[np.argmax(tpr*(1-fpr))]\n",
        "    # (tpr*(1-fpr)) will be maximum if your fpr is very low and tpr is very high\n",
        "    print(\"The maximum value of tpr*(1-fpr)\", max(tpr*(1-fpr)), \"for threshold\", np.round(t,3))\n",
        "    return t\n",
        "\n",
        "def predict_with_best_t(proba, threshould):\n",
        "    predictions = []\n",
        "    for i in proba:\n",
        "        if i>=threshould:\n",
        "            predictions.append(1)\n",
        "        else:\n",
        "            predictions.append(0)\n",
        "    return predictions"
      ],
      "execution_count": 0,
      "outputs": []
    },
    {
      "cell_type": "code",
      "metadata": {
        "id": "UAx1h8BGoBoJ",
        "colab_type": "code",
        "colab": {}
      },
      "source": [
        "def batch_predict(clf, data):\n",
        "    # roc_auc_score(y_true, y_score) the 2nd parameter should be probability estimates of the positive class\n",
        "    # not the predicted outputs\n",
        "\n",
        "    y_data_pred = []\n",
        "    tr_loop = data.shape[0] - data.shape[0]%1000\n",
        "    # consider you X_tr shape is 49041, then your tr_loop will be 49041 - 49041%1000 = 49000\n",
        "    # in this for loop we will iterate unti the last 1000 multiplier\n",
        "    for i in range(0, tr_loop, 1000):\n",
        "        y_data_pred.extend(clf.predict_proba(data[i:i+1000])[:,1])\n",
        "    # we will be predicting for the last data points\n",
        "    if data.shape[0]%1000 !=0:\n",
        "        y_data_pred.extend(clf.predict_proba(data[tr_loop:])[:,1])\n",
        "    \n",
        "    return y_data_pred"
      ],
      "execution_count": 0,
      "outputs": []
    },
    {
      "cell_type": "code",
      "metadata": {
        "id": "spVGxK8wLNgm",
        "colab_type": "code",
        "colab": {}
      },
      "source": [
        "#this method will plot the graph between AUC vs Alpha Hyperparamter \n",
        "#first subgraph is for penalty l1 and second is for the l2 \n",
        "def plot_AUC_ROC_Curve(results,alpha_log,vectorizer_name):\n",
        "      \n",
        "      train_auc_l1= results[results['param_penalty' ]  == 'l1']['mean_train_score']\n",
        "      train_auc_std_l1= results[results['param_penalty' ]  == 'l1']['std_train_score']\n",
        "      cv_auc_l1 = results[results['param_penalty' ]  == 'l1']['mean_test_score'] \n",
        "      cv_auc_std_l1= results[results['param_penalty' ]  == 'l1']['std_test_score']\n",
        "\n",
        "      train_auc_l2= results[results['param_penalty' ]  == 'l2']['mean_train_score']\n",
        "      train_auc_std_l2= results[results['param_penalty' ]  == 'l2']['std_train_score']\n",
        "      cv_auc_l2 = results[results['param_penalty' ]  == 'l2']['mean_test_score'] \n",
        "      cv_auc_std_l2= results[results['param_penalty' ]  == 'l2']['std_test_score']\n",
        "\n",
        "\n",
        "      #https://jakevdp.github.io/PythonDataScienceHandbook/04.08-multiple-subplots.html\n",
        "\n",
        "      plt.figure(figsize=(20,5))\n",
        "      plt.subplot(1, 3, 1)\n",
        "      plt.plot(alpha_log, train_auc_l1, label='Train AUC')\n",
        "      # this code is copied from here: https://stackoverflow.com/a/48803361/4084039\n",
        "      # plt.gca().fill_between(K, train_auc - train_auc_std,train_auc + train_auc_std,alpha=0.2,color='darkblue')\n",
        "\n",
        "      plt.plot(alpha_log, cv_auc_l1, label='CV AUC')\n",
        "      # this code is copied from here: https://stackoverflow.com/a/48803361/4084039\n",
        "      # plt.gca().fill_between(K, cv_auc - cv_auc_std,cv_auc + cv_auc_std,alpha=0.2,color='darkorange')\n",
        "\n",
        "      plt.scatter(alpha_log, train_auc_l1, label='Train AUC points')\n",
        "      plt.scatter(alpha_log, cv_auc_l1, label='CV AUC points')\n",
        "\n",
        "      plt.legend()\n",
        "      plt.xlabel(\"Alpha : hyperparameter\")\n",
        "      plt.ylabel(\"AUC\")\n",
        "      plt.title(\"Error Plot - (penalty - 'l1') for \"+vectorizer_name)\n",
        "      plt.grid()\n",
        "\n",
        "\n",
        "      plt.subplot(1, 3, 2)\n",
        "      plt.plot(alpha_log, train_auc_l2, label='Train AUC')\n",
        "      # this code is copied from here: https://stackoverflow.com/a/48803361/4084039\n",
        "      # plt.gca().fill_between(K, train_auc - train_auc_std,train_auc + train_auc_std,alpha=0.2,color='darkblue')\n",
        "\n",
        "      plt.plot(alpha_log, cv_auc_l2, label='CV AUC')\n",
        "      # this code is copied from here: ttps://stackoverflow.com/a/48803361/4084039\n",
        "      # plt.gca().fill_between(K, cv_auc - cv_auc_std,cv_auc + cv_auc_std,alpha=0.2,color='darkorange')\n",
        "\n",
        "      plt.scatter(alpha_log, train_auc_l2, label='Train AUC points')\n",
        "      plt.scatter(alpha_log, cv_auc_l2, label='CV AUC points')\n",
        "\n",
        "      plt.legend()\n",
        "      plt.xlabel(\"Alpha : hyperparameter\")\n",
        "      plt.ylabel(\"AUC\")\n",
        "      plt.title(\"Error Plot - (penalty - 'l2') for \"+vectorizer_name)\n",
        "      plt.grid()\n",
        "      plt.show()"
      ],
      "execution_count": 0,
      "outputs": []
    },
    {
      "cell_type": "markdown",
      "metadata": {
        "id": "7A5oV7HxSrEC",
        "colab_type": "text"
      },
      "source": [
        "### 2.2.1 Bag of words"
      ]
    },
    {
      "cell_type": "code",
      "metadata": {
        "id": "z0HkxZGg_MOw",
        "colab_type": "code",
        "outputId": "81b1be3f-c521-4fe1-ce42-4baed40e18ed",
        "colab": {
          "base_uri": "https://localhost:8080/",
          "height": 469
        }
      },
      "source": [
        "from sklearn.model_selection import GridSearchCV\n",
        "from sklearn.linear_model import SGDClassifier\n",
        "import math\n",
        "\n",
        "alpha = [10**x for x in range(-4,4)]\n",
        "alpha_log = [math.log(x,10) for x in alpha]\n",
        "penalty = [ 'l2', 'l1' ]\n",
        "\n",
        "tuned_parameters = [{'alpha': alpha ,'penalty' : penalty }]\n",
        "\n",
        "\n",
        "model = GridSearchCV(SGDClassifier(class_weight='balanced'), tuned_parameters, scoring = 'roc_auc', cv=5,return_train_score = True)\n",
        "model.fit(X_train_Bow, y_train_Bow)\n",
        "\n",
        "\n",
        "\n",
        "results = pd.DataFrame.from_dict(model.cv_results_)\n",
        "results = results.sort_values(['param_alpha'])\n",
        "\n",
        "\n",
        "plot_AUC_ROC_Curve(results,alpha_log,'Bag of Words')\n",
        "print()\n",
        "print(model.best_estimator_)"
      ],
      "execution_count": 61,
      "outputs": [
        {
          "output_type": "display_data",
          "data": {
            "image/png": "[encoded data removed]",
            "text/plain": [
              "<Figure size 1440x360 with 2 Axes>"
            ]
          },
          "metadata": {
            "tags": []
          }
        },
        {
          "output_type": "stream",
          "text": [
            "\n",
            "SGDClassifier(alpha=0.01, average=False, class_weight='balanced',\n",
            "              early_stopping=False, epsilon=0.1, eta0=0.0, fit_intercept=True,\n",
            "              l1_ratio=0.15, learning_rate='optimal', loss='hinge',\n",
            "              max_iter=1000, n_iter_no_change=5, n_jobs=None, penalty='l2',\n",
            "              power_t=0.5, random_state=None, shuffle=True, tol=0.001,\n",
            "              validation_fraction=0.1, verbose=0, warm_start=False)\n"
          ],
          "name": "stdout"
        }
      ]
    },
    {
      "cell_type": "markdown",
      "metadata": {
        "id": "Xlxe6BZSS44D",
        "colab_type": "text"
      },
      "source": [
        "### 2.2.2 TF-idf\n"
      ]
    },
    {
      "cell_type": "code",
      "metadata": {
        "id": "T1XeNmZJDa2s",
        "colab_type": "code",
        "outputId": "bd7719fe-c005-4959-91af-2906b2bb91f9",
        "colab": {
          "base_uri": "https://localhost:8080/",
          "height": 469
        }
      },
      "source": [
        "from sklearn.model_selection import GridSearchCV\n",
        "from sklearn.linear_model import SGDClassifier\n",
        "import math\n",
        "\n",
        "alpha = [10**x for x in range(-4,4)]\n",
        "alpha_log = [math.log(x,10) for x in alpha]\n",
        "penalty = [ 'l2', 'l1' ]\n",
        "\n",
        "tuned_parameters = [{'alpha': alpha ,'penalty' : penalty }]\n",
        "\n",
        "\n",
        "model = GridSearchCV(SGDClassifier(class_weight='balanced'), tuned_parameters, scoring = 'roc_auc', cv=5,return_train_score = True)\n",
        "model.fit(X_train_tfidf, y_train_tfidf)\n",
        "\n",
        "\n",
        "results = pd.DataFrame.from_dict(model.cv_results_)\n",
        "results = results.sort_values(['param_alpha'])\n",
        "\n",
        "\n",
        "plot_AUC_ROC_Curve(results,alpha_log,'TF-idf ')\n",
        "print()\n",
        "print(model.best_estimator_)"
      ],
      "execution_count": 62,
      "outputs": [
        {
          "output_type": "display_data",
          "data": {
            "image/png": "[encoded data removed]",
            "text/plain": [
              "<Figure size 1440x360 with 2 Axes>"
            ]
          },
          "metadata": {
            "tags": []
          }
        },
        {
          "output_type": "stream",
          "text": [
            "\n",
            "SGDClassifier(alpha=0.0001, average=False, class_weight='balanced',\n",
            "              early_stopping=False, epsilon=0.1, eta0=0.0, fit_intercept=True,\n",
            "              l1_ratio=0.15, learning_rate='optimal', loss='hinge',\n",
            "              max_iter=1000, n_iter_no_change=5, n_jobs=None, penalty='l1',\n",
            "              power_t=0.5, random_state=None, shuffle=True, tol=0.001,\n",
            "              validation_fraction=0.1, verbose=0, warm_start=False)\n"
          ],
          "name": "stdout"
        }
      ]
    },
    {
      "cell_type": "markdown",
      "metadata": {
        "id": "QSpkFjsMTDgt",
        "colab_type": "text"
      },
      "source": [
        "### 2.2.3 Avg  W2V\n"
      ]
    },
    {
      "cell_type": "code",
      "metadata": {
        "id": "9amPBZOhFtuL",
        "colab_type": "code",
        "outputId": "beb02e11-8932-4f06-ed7b-d6b84d4b41f0",
        "colab": {
          "base_uri": "https://localhost:8080/",
          "height": 469
        }
      },
      "source": [
        "from sklearn.model_selection import GridSearchCV\n",
        "from sklearn.linear_model import SGDClassifier\n",
        "import math\n",
        "\n",
        "alpha = [10**x for x in range(-4,4)]\n",
        "alpha_log = [math.log(x,10) for x in alpha]\n",
        "penalty = [ 'l2', 'l1' ]\n",
        "\n",
        "tuned_parameters = [{'alpha': alpha ,'penalty' : penalty }]\n",
        "\n",
        "\n",
        "model = GridSearchCV(SGDClassifier(class_weight='balanced'), tuned_parameters, scoring = 'roc_auc', cv=5,return_train_score = True)\n",
        "model.fit(X_train_avg_w2v, y_train_avg_w2v)\n",
        "\n",
        "\n",
        "\n",
        "results = pd.DataFrame.from_dict(model.cv_results_)\n",
        "results = results.sort_values(['param_alpha'])\n",
        "\n",
        "\n",
        "plot_AUC_ROC_Curve(results,alpha_log,' Avg W2V ')\n",
        "\n",
        "print()\n",
        "print(model.best_estimator_)"
      ],
      "execution_count": 63,
      "outputs": [
        {
          "output_type": "display_data",
          "data": {
            "image/png": "[encoded data removed]",
            "text/plain": [
              "<Figure size 1440x360 with 2 Axes>"
            ]
          },
          "metadata": {
            "tags": []
          }
        },
        {
          "output_type": "stream",
          "text": [
            "\n",
            "SGDClassifier(alpha=0.0001, average=False, class_weight='balanced',\n",
            "              early_stopping=False, epsilon=0.1, eta0=0.0, fit_intercept=True,\n",
            "              l1_ratio=0.15, learning_rate='optimal', loss='hinge',\n",
            "              max_iter=1000, n_iter_no_change=5, n_jobs=None, penalty='l1',\n",
            "              power_t=0.5, random_state=None, shuffle=True, tol=0.001,\n",
            "              validation_fraction=0.1, verbose=0, warm_start=False)\n"
          ],
          "name": "stdout"
        }
      ]
    },
    {
      "cell_type": "markdown",
      "metadata": {
        "id": "_B_0luNATWgU",
        "colab_type": "text"
      },
      "source": [
        "### 2.2.4 TFIDF W2V"
      ]
    },
    {
      "cell_type": "code",
      "metadata": {
        "id": "P3GtVMqDqZ-r",
        "colab_type": "code",
        "outputId": "9ff018ed-147f-4dc4-b951-3f613f27c80f",
        "colab": {
          "base_uri": "https://localhost:8080/",
          "height": 469
        }
      },
      "source": [
        "from sklearn.model_selection import GridSearchCV\n",
        "from sklearn.linear_model import SGDClassifier\n",
        "import math\n",
        "\n",
        "alpha = [10**x for x in range(-4,4)]\n",
        "alpha_log = [math.log(x,10) for x in alpha]\n",
        "penalty = [ 'l2', 'l1' ]\n",
        "\n",
        "tuned_parameters = [{'alpha': alpha ,'penalty' : penalty }]\n",
        "\n",
        "\n",
        "model = GridSearchCV(SGDClassifier(class_weight='balanced'), tuned_parameters, scoring = 'roc_auc', cv=5,return_train_score = True)\n",
        "model.fit(X_train_tfidf_w2v, y_train_tfidf_w2v)\n",
        "\n",
        "\n",
        "results = pd.DataFrame.from_dict(model.cv_results_)\n",
        "results = results.sort_values(['param_alpha'])\n",
        "\n",
        "\n",
        "plot_AUC_ROC_Curve(results,alpha_log,' Avg W2V ')\n",
        "\n",
        "print()\n",
        "print(model.best_estimator_)"
      ],
      "execution_count": 64,
      "outputs": [
        {
          "output_type": "display_data",
          "data": {
            "image/png": "[encoded data removed]",
            "text/plain": [
              "<Figure size 1440x360 with 2 Axes>"
            ]
          },
          "metadata": {
            "tags": []
          }
        },
        {
          "output_type": "stream",
          "text": [
            "\n",
            "SGDClassifier(alpha=0.001, average=False, class_weight='balanced',\n",
            "              early_stopping=False, epsilon=0.1, eta0=0.0, fit_intercept=True,\n",
            "              l1_ratio=0.15, learning_rate='optimal', loss='hinge',\n",
            "              max_iter=1000, n_iter_no_change=5, n_jobs=None, penalty='l2',\n",
            "              power_t=0.5, random_state=None, shuffle=True, tol=0.001,\n",
            "              validation_fraction=0.1, verbose=0, warm_start=False)\n"
          ],
          "name": "stdout"
        }
      ]
    },
    {
      "cell_type": "markdown",
      "metadata": {
        "id": "pEqtJdBtgycL",
        "colab_type": "text"
      },
      "source": [
        "## 2.2.5 LR With best parameter"
      ]
    },
    {
      "cell_type": "code",
      "metadata": {
        "id": "SQTSSCuEy8KO",
        "colab_type": "code",
        "colab": {}
      },
      "source": [
        "Best_alpha_bow = 0.01\n",
        "penalty_bow ='l2'\n",
        "Best_alpha_tfidf = 0.0001\n",
        "penalty_tfidf ='l1'\n",
        "Best_alpha_Avg_w2v = 0.0001\n",
        "penalty_Avg_w2v ='l2'\n",
        "Best_alpha_tfidf_w2v = 0.001\n",
        "penalty_tfidf_w2v ='l2'"
      ],
      "execution_count": 0,
      "outputs": []
    },
    {
      "cell_type": "markdown",
      "metadata": {
        "id": "tXPtMK9Zg_zk",
        "colab_type": "text"
      },
      "source": [
        "#### 2.2.5.1 Bag of word"
      ]
    },
    {
      "cell_type": "code",
      "metadata": {
        "id": "BJUqYeCxx5oa",
        "colab_type": "code",
        "outputId": "fde8feb1-6071-4202-e970-180c5425675c",
        "colab": {
          "base_uri": "https://localhost:8080/",
          "height": 295
        }
      },
      "source": [
        "from sklearn.linear_model import SGDClassifier\n",
        "classifer = SGDClassifier(class_weight='balanced',  alpha=Best_alpha_bow,penalty=penalty_bow)    \n",
        "classifer.fit(X_train_Bow.toarray(), y_train_Bow)\n",
        "\n",
        "y_train_pred = classifer.predict( X_train_Bow)    \n",
        "y_test_pred = classifer.predict( X_test_Bow)\n",
        "\n",
        "train_fpr_bow, train_tpr_bow, tr_thresholds_bow = roc_curve(y_train_Bow, y_train_pred)\n",
        "test_fpr_bow, test_tpr_bow, te_thresholds_bow = roc_curve(y_test_Bow, y_test_pred)\n",
        "\n",
        "\n",
        "plt.plot(train_fpr_bow, train_tpr_bow, label=\"Train AUC =\"+str(auc(train_fpr_bow, train_tpr_bow)))\n",
        "plt.plot(test_fpr_bow, test_tpr_bow, label=\"Test AUC =\"+str(auc(test_fpr_bow, test_tpr_bow)))\n",
        "plt.legend()\n",
        "plt.xlabel(\"True Positive Rate\")\n",
        "plt.ylabel(\"False Positive Rate\")\n",
        "plt.title(\"ERROR PLOTS - BOW\")\n",
        "plt.grid()\n",
        "plt.show()"
      ],
      "execution_count": 66,
      "outputs": [
        {
          "output_type": "display_data",
          "data": {
            "image/png": "[encoded data removed]",
            "text/plain": [
              "<Figure size 432x288 with 1 Axes>"
            ]
          },
          "metadata": {
            "tags": []
          }
        }
      ]
    },
    {
      "cell_type": "code",
      "metadata": {
        "id": "QjUM7POwx5wP",
        "colab_type": "code",
        "outputId": "b3120bc2-7c4b-4880-945c-bfc4aedb555b",
        "colab": {
          "base_uri": "https://localhost:8080/",
          "height": 336
        }
      },
      "source": [
        "import seaborn as sns; sns.set()\n",
        "best_t = find_best_threshold(tr_thresholds_bow, train_fpr_bow, train_tpr_bow)\n",
        "print(\"=\"*50)\n",
        "print(\"Train confusion matrix for BOW\")\n",
        "print(\"=\"*50)\n",
        "\n",
        "#https://seaborn.pydata.org/generated/seaborn.heatmap.html\n",
        "uniform_data = confusion_matrix(y_train_Bow, predict_with_best_t(y_train_pred, best_t))\n",
        "ax = sns.heatmap(uniform_data,cmap=\"YlGnBu\",annot=True,fmt=\"d\")"
      ],
      "execution_count": 67,
      "outputs": [
        {
          "output_type": "stream",
          "text": [
            "The maximum value of tpr*(1-fpr) 0.4575718996572477 for threshold 1\n",
            "==================================================\n",
            "Train confusion matrix for BOW\n",
            "==================================================\n"
          ],
          "name": "stdout"
        },
        {
          "output_type": "display_data",
          "data": {
            "image/png": "[encoded data removed]",
            "text/plain": [
              "<Figure size 432x288 with 2 Axes>"
            ]
          },
          "metadata": {
            "tags": []
          }
        }
      ]
    },
    {
      "cell_type": "code",
      "metadata": {
        "id": "sgrr6TlRx6MN",
        "colab_type": "code",
        "outputId": "96709552-13fd-4b11-ad9e-655b35ccf863",
        "colab": {
          "base_uri": "https://localhost:8080/",
          "height": 319
        }
      },
      "source": [
        "print(\"=\"*50)\n",
        "print(\"Test confusion matrix for BOW\")\n",
        "print(\"=\"*50)\n",
        "\n",
        "uniform_data = confusion_matrix(y_test_Bow, predict_with_best_t(y_test_pred, best_t))\n",
        "ax = sns.heatmap(uniform_data,cmap=\"YlGnBu\",annot=True,fmt=\"d\")"
      ],
      "execution_count": 68,
      "outputs": [
        {
          "output_type": "stream",
          "text": [
            "==================================================\n",
            "Test confusion matrix for BOW\n",
            "==================================================\n"
          ],
          "name": "stdout"
        },
        {
          "output_type": "display_data",
          "data": {
            "image/png": "[encoded data removed]",
            "text/plain": [
              "<Figure size 432x288 with 2 Axes>"
            ]
          },
          "metadata": {
            "tags": []
          }
        }
      ]
    },
    {
      "cell_type": "markdown",
      "metadata": {
        "id": "00GIevRPg__a",
        "colab_type": "text"
      },
      "source": [
        "#### 2.2.5.2 Tf-idf"
      ]
    },
    {
      "cell_type": "code",
      "metadata": {
        "id": "RK1wpmC6x9Jd",
        "colab_type": "code",
        "outputId": "6ecad5a2-0b75-4313-a98a-b07f450b90ff",
        "colab": {
          "base_uri": "https://localhost:8080/",
          "height": 301
        }
      },
      "source": [
        "\n",
        "from sklearn.linear_model import SGDClassifier\n",
        "classifer = SGDClassifier(class_weight='balanced',  alpha=Best_alpha_tfidf ,penalty=penalty_tfidf)       \n",
        "classifer.fit(X_train_tfidf.toarray(), y_train_tfidf)\n",
        "\n",
        "y_train_pred = classifer.predict( X_train_tfidf)    \n",
        "y_test_pred = classifer.predict( X_test_tfidf)\n",
        "\n",
        "train_fpr_tfidf, train_tpr_tfidf, tr_thresholds_tfidf = roc_curve(y_train_tfidf, y_train_pred)\n",
        "test_fpr_tfidf, test_tpr_tfidf, te_thresholds_tfidf = roc_curve(y_test_tfidf, y_test_pred)\n",
        "\n",
        "plt.plot(train_fpr_tfidf, train_tpr_tfidf, label=\"Train AUC =\"+str(auc(train_fpr_tfidf, train_tpr_tfidf)))\n",
        "plt.plot(test_fpr_tfidf, test_tpr_tfidf, label=\"Test AUC =\"+str(auc(test_fpr_tfidf, test_tpr_tfidf)))\n",
        "plt.legend()\n",
        "plt.xlabel(\"True Positive Rate\")\n",
        "plt.ylabel(\"False Positive Rate\")\n",
        "plt.title(\"ERROR PLOTS-TF-idf\")\n",
        "plt.grid()\n",
        "plt.show()"
      ],
      "execution_count": 69,
      "outputs": [
        {
          "output_type": "display_data",
          "data": {
            "image/png": "[encoded data removed]",
            "text/plain": [
              "<Figure size 432x288 with 1 Axes>"
            ]
          },
          "metadata": {
            "tags": []
          }
        }
      ]
    },
    {
      "cell_type": "code",
      "metadata": {
        "id": "0hxZHJrUx9al",
        "colab_type": "code",
        "outputId": "5a747bff-f3ee-4ea1-d24e-81475c896b50",
        "colab": {
          "base_uri": "https://localhost:8080/",
          "height": 336
        }
      },
      "source": [
        "best_t = find_best_threshold(tr_thresholds_tfidf, train_fpr_tfidf, train_tpr_tfidf)\n",
        "print(\"=\"*50)\n",
        "print(\"Train confusion matrix for TF-idf\")\n",
        "print(\"=\"*50)\n",
        "uniform_data = confusion_matrix(y_train_tfidf, predict_with_best_t(y_train_pred, best_t))\n",
        "ax = sns.heatmap(uniform_data,cmap=\"YlGnBu\",annot=True,fmt=\"d\")"
      ],
      "execution_count": 70,
      "outputs": [
        {
          "output_type": "stream",
          "text": [
            "The maximum value of tpr*(1-fpr) 0.4467773216531645 for threshold 1\n",
            "==================================================\n",
            "Train confusion matrix for TF-idf\n",
            "==================================================\n"
          ],
          "name": "stdout"
        },
        {
          "output_type": "display_data",
          "data": {
            "image/png": "[encoded data removed]",
            "text/plain": [
              "<Figure size 432x288 with 2 Axes>"
            ]
          },
          "metadata": {
            "tags": []
          }
        }
      ]
    },
    {
      "cell_type": "code",
      "metadata": {
        "id": "i_IqLwDrx9Gw",
        "colab_type": "code",
        "outputId": "2e396b03-549e-474e-eb2d-43211564395c",
        "colab": {
          "base_uri": "https://localhost:8080/",
          "height": 319
        }
      },
      "source": [
        "print(\"=\"*50)\n",
        "print(\"Test confusion matrix for TF-idf\")\n",
        "print(\"=\"*50)\n",
        "\n",
        "\n",
        "uniform_data = confusion_matrix(y_test_tfidf, predict_with_best_t(y_test_pred, best_t))\n",
        "ax = sns.heatmap(uniform_data,cmap=\"YlGnBu\",annot=True,fmt=\"d\")"
      ],
      "execution_count": 71,
      "outputs": [
        {
          "output_type": "stream",
          "text": [
            "==================================================\n",
            "Test confusion matrix for TF-idf\n",
            "==================================================\n"
          ],
          "name": "stdout"
        },
        {
          "output_type": "display_data",
          "data": {
            "image/png": "[encoded data removed]",
            "text/plain": [
              "<Figure size 432x288 with 2 Axes>"
            ]
          },
          "metadata": {
            "tags": []
          }
        }
      ]
    },
    {
      "cell_type": "markdown",
      "metadata": {
        "id": "r32IZrZMhAJK",
        "colab_type": "text"
      },
      "source": [
        "#### 2.2.5.3 Avg W2V\n"
      ]
    },
    {
      "cell_type": "code",
      "metadata": {
        "id": "WApBBydMx-VD",
        "colab_type": "code",
        "outputId": "7f58ff92-3852-4d6c-b221-7454a4fb0aa7",
        "colab": {
          "base_uri": "https://localhost:8080/",
          "height": 301
        }
      },
      "source": [
        "from sklearn.linear_model import SGDClassifier\n",
        "classifer = SGDClassifier(class_weight='balanced',  alpha=Best_alpha_Avg_w2v ,penalty=penalty_Avg_w2v)       \n",
        "classifer.fit(X_train_avg_w2v.toarray(), y_train_avg_w2v)\n",
        "\n",
        "y_train_pred = classifer.predict( X_train_avg_w2v)    \n",
        "y_test_pred = classifer.predict( X_test_avg_w2v)\n",
        "\n",
        "\n",
        "train_fpr_Avg_w2v, train_tpr_Avg_w2v, tr_thresholds_Avg_w2v = roc_curve(y_train_avg_w2v, y_train_pred)\n",
        "test_fpr_Avg_w2v, test_tpr_Avg_w2v, te_thresholds_Avg_w2v = roc_curve(y_test_avg_w2v, y_test_pred)\n",
        "\n",
        "plt.plot(train_fpr_Avg_w2v, train_tpr_Avg_w2v, label=\"Train AUC =\"+str(auc(train_fpr_Avg_w2v, train_tpr_Avg_w2v)))\n",
        "plt.plot(test_fpr_Avg_w2v, test_tpr_Avg_w2v, label=\"Test AUC =\"+str(auc(test_fpr_Avg_w2v, test_tpr_Avg_w2v)))\n",
        "plt.legend()\n",
        "plt.xlabel(\"True Positive Rate\")\n",
        "plt.ylabel(\"False Positive Rate\")\n",
        "plt.title(\"ERROR PLOTS- Avg_w2v\")\n",
        "plt.grid()\n",
        "plt.show()"
      ],
      "execution_count": 72,
      "outputs": [
        {
          "output_type": "display_data",
          "data": {
            "image/png": "[encoded data removed]",
            "text/plain": [
              "<Figure size 432x288 with 1 Axes>"
            ]
          },
          "metadata": {
            "tags": []
          }
        }
      ]
    },
    {
      "cell_type": "code",
      "metadata": {
        "id": "Kgu4rp_ix-ZC",
        "colab_type": "code",
        "outputId": "e2ef8335-520e-45c9-c5fb-2c5a7f154b37",
        "colab": {
          "base_uri": "https://localhost:8080/",
          "height": 336
        }
      },
      "source": [
        "best_t = find_best_threshold(tr_thresholds_Avg_w2v, train_fpr_Avg_w2v, train_tpr_Avg_w2v)\n",
        "print(\"=\"*50)\n",
        "print(\"Train confusion matrix for Avg W2V\")\n",
        "print(\"=\"*50)\n",
        "uniform_data = confusion_matrix(y_train_avg_w2v, predict_with_best_t(y_train_pred, best_t))\n",
        "ax = sns.heatmap(uniform_data,cmap=\"YlGnBu\",annot=True,fmt=\"d\")"
      ],
      "execution_count": 73,
      "outputs": [
        {
          "output_type": "stream",
          "text": [
            "The maximum value of tpr*(1-fpr) 0.2857071370297343 for threshold 1\n",
            "==================================================\n",
            "Train confusion matrix for Avg W2V\n",
            "==================================================\n"
          ],
          "name": "stdout"
        },
        {
          "output_type": "display_data",
          "data": {
            "image/png": "[encoded data removed]",
            "text/plain": [
              "<Figure size 432x288 with 2 Axes>"
            ]
          },
          "metadata": {
            "tags": []
          }
        }
      ]
    },
    {
      "cell_type": "code",
      "metadata": {
        "id": "1rWsqS0Hx-dQ",
        "colab_type": "code",
        "outputId": "b4161cd9-6da6-41b5-edb0-ded6e936cc37",
        "colab": {
          "base_uri": "https://localhost:8080/",
          "height": 319
        }
      },
      "source": [
        "print(\"=\"*50)\n",
        "print(\"Test confusion matrix for Avg W2V\")\n",
        "print(\"=\"*50)\n",
        "\n",
        "uniform_data = confusion_matrix(y_test_avg_w2v, predict_with_best_t(y_test_pred, best_t))\n",
        "ax = sns.heatmap(uniform_data,cmap=\"YlGnBu\",annot=True,fmt=\"d\")"
      ],
      "execution_count": 74,
      "outputs": [
        {
          "output_type": "stream",
          "text": [
            "==================================================\n",
            "Test confusion matrix for Avg W2V\n",
            "==================================================\n"
          ],
          "name": "stdout"
        },
        {
          "output_type": "display_data",
          "data": {
            "image/png": "[encoded data removed]",
            "text/plain": [
              "<Figure size 432x288 with 2 Axes>"
            ]
          },
          "metadata": {
            "tags": []
          }
        }
      ]
    },
    {
      "cell_type": "markdown",
      "metadata": {
        "id": "dQMcFQg9mcD7",
        "colab_type": "text"
      },
      "source": [
        "#### 2.2.5.4 TFIDF W2V"
      ]
    },
    {
      "cell_type": "code",
      "metadata": {
        "id": "SCYWmXO2gv4a",
        "colab_type": "code",
        "outputId": "1a7c455e-ca71-4e8a-9afe-41c3f606cc2a",
        "colab": {
          "base_uri": "https://localhost:8080/",
          "height": 301
        }
      },
      "source": [
        "from sklearn.linear_model import SGDClassifier\n",
        "classifer = SGDClassifier(class_weight='balanced',  alpha=Best_alpha_Avg_w2v ,penalty=penalty_Avg_w2v)       \n",
        " \n",
        "classifer.fit(X_train_tfidf_w2v.toarray(), y_train_tfidf_w2v)\n",
        "\n",
        "y_train_pred = classifer.predict( X_train_tfidf_w2v)    \n",
        "y_test_pred = classifer.predict( X_test_tfidf_w2v)\n",
        "\n",
        "\n",
        "\n",
        "train_fpr_tfidf_w2v, train_tpr_tfidf_w2v, tr_thresholds_tfidf_w2v = roc_curve(y_train_tfidf_w2v, y_train_pred)\n",
        "test_fpr_tfidf_w2v, test_tpr_tfidf_w2v, te_thresholds_tfidf_w2v = roc_curve(y_test_tfidf_w2v, y_test_pred)\n",
        "\n",
        "plt.plot(train_fpr_tfidf_w2v, train_tpr_tfidf_w2v, label=\"Train AUC =\"+str(auc(train_fpr_tfidf_w2v, train_tpr_tfidf_w2v)))\n",
        "plt.plot(test_fpr_tfidf_w2v, test_tpr_tfidf_w2v, label=\"Test AUC =\"+str(auc(test_fpr_tfidf_w2v, test_tpr_tfidf_w2v)))\n",
        "plt.legend()\n",
        "plt.xlabel(\"True Positive Rate\")\n",
        "plt.ylabel(\"False Positive Rate\")\n",
        "plt.title(\"ERROR PLOTS- Tfidf_w2v\")\n",
        "plt.grid()\n",
        "plt.show()"
      ],
      "execution_count": 75,
      "outputs": [
        {
          "output_type": "display_data",
          "data": {
            "image/png": "[encoded data removed]",
            "text/plain": [
              "<Figure size 432x288 with 1 Axes>"
            ]
          },
          "metadata": {
            "tags": []
          }
        }
      ]
    },
    {
      "cell_type": "code",
      "metadata": {
        "id": "a_kvxdfrx_oG",
        "colab_type": "code",
        "outputId": "1814aab8-fefc-4408-e806-63cbf4dae0b1",
        "colab": {
          "base_uri": "https://localhost:8080/",
          "height": 336
        }
      },
      "source": [
        "best_t = find_best_threshold(tr_thresholds_tfidf_w2v, train_fpr_tfidf_w2v, train_tpr_tfidf_w2v)\n",
        "print(\"=\"*50)\n",
        "print(\"Train confusion matrix for Tfidf_w2v\")\n",
        "print(\"=\"*50)\n",
        "uniform_data = confusion_matrix(y_train_tfidf_w2v, predict_with_best_t(y_train_pred, best_t))\n",
        "ax = sns.heatmap(uniform_data,cmap=\"YlGnBu\",annot=True,fmt=\"d\")"
      ],
      "execution_count": 76,
      "outputs": [
        {
          "output_type": "stream",
          "text": [
            "The maximum value of tpr*(1-fpr) 0.3855798780142102 for threshold 1\n",
            "==================================================\n",
            "Train confusion matrix for Tfidf_w2v\n",
            "==================================================\n"
          ],
          "name": "stdout"
        },
        {
          "output_type": "display_data",
          "data": {
            "image/png": "[encoded data removed]",
            "text/plain": [
              "<Figure size 432x288 with 2 Axes>"
            ]
          },
          "metadata": {
            "tags": []
          }
        }
      ]
    },
    {
      "cell_type": "code",
      "metadata": {
        "id": "ijAr-qERx_lw",
        "colab_type": "code",
        "outputId": "7641d5de-345a-4618-c4bf-e783cc7d6d0b",
        "colab": {
          "base_uri": "https://localhost:8080/",
          "height": 319
        }
      },
      "source": [
        "print(\"=\"*50)\n",
        "print(\"Test confusion matrix for TF-idf\")\n",
        "print(\"=\"*50)\n",
        "\n",
        "uniform_data = confusion_matrix(y_test_tfidf_w2v, predict_with_best_t(y_test_pred, best_t))\n",
        "ax = sns.heatmap(uniform_data,cmap=\"YlGnBu\",annot=True,fmt=\"d\")"
      ],
      "execution_count": 77,
      "outputs": [
        {
          "output_type": "stream",
          "text": [
            "==================================================\n",
            "Test confusion matrix for TF-idf\n",
            "==================================================\n"
          ],
          "name": "stdout"
        },
        {
          "output_type": "display_data",
          "data": {
            "image/png": "[encoded data removed]",
            "text/plain": [
              "<Figure size 432x288 with 2 Axes>"
            ]
          },
          "metadata": {
            "tags": []
          }
        }
      ]
    },
    {
      "cell_type": "markdown",
      "metadata": {
        "id": "uw_dfo2ZOh-0",
        "colab_type": "text"
      },
      "source": [
        "##2.4 Appling Support Vector Machines on different kind of featurization as mentioned in the instructions</h2>\n",
        "\n",
        "<br>Apply Support Vector Machines on different kind of featurization as mentioned in the instructions\n",
        "<br> For Every model that you work on make sure you do the step 2 and step 3 of instrucations"
      ]
    },
    {
      "cell_type": "markdown",
      "metadata": {
        "id": "PADvkkVnjAJy",
        "colab_type": "text"
      },
      "source": [
        "#### 2.4.1 Computing Sentiment Scores"
      ]
    },
    {
      "cell_type": "code",
      "metadata": {
        "id": "v_nrsaQLjHbp",
        "colab_type": "code",
        "outputId": "ad515b2f-386a-4315-9b09-f1adfeb98ada",
        "colab": {
          "base_uri": "https://localhost:8080/",
          "height": 68
        }
      },
      "source": [
        "import nltk\n",
        "from nltk.sentiment.vader import SentimentIntensityAnalyzer\n",
        "nltk.download('vader_lexicon')\n",
        "\n",
        "sid = SentimentIntensityAnalyzer()\n",
        "\n",
        "sentiment_score_essay =[]\n",
        "\n",
        "for sent in tqdm(preprocessed_essays):\n",
        "  score = []\n",
        "  ss = sid.polarity_scores(sent)\n",
        "  score.append(ss['compound']) \n",
        "  score.append(ss['neg']) \n",
        "  score.append(ss['neu']) \n",
        "  score.append(ss['pos']) \n",
        "  sentiment_score_essay.append(score)\n",
        "\n",
        "#sent {'compound': 0.9975, 'neg': 0.01, 'neu': 0.745, 'pos': 0.245}"
      ],
      "execution_count": 78,
      "outputs": [
        {
          "output_type": "stream",
          "text": [
            "  0%|          | 56/109248 [00:00<03:17, 552.73it/s]"
          ],
          "name": "stderr"
        },
        {
          "output_type": "stream",
          "text": [
            "[nltk_data] Downloading package vader_lexicon to /root/nltk_data...\n",
            "[nltk_data]   Package vader_lexicon is already up-to-date!\n"
          ],
          "name": "stdout"
        },
        {
          "output_type": "stream",
          "text": [
            "100%|██████████| 109248/109248 [03:01<00:00, 602.47it/s]\n"
          ],
          "name": "stderr"
        }
      ]
    },
    {
      "cell_type": "code",
      "metadata": {
        "id": "Mpzf7TLVs3rs",
        "colab_type": "code",
        "colab": {}
      },
      "source": [
        "sentiment_score_essay= np.array(sentiment_score_essay).reshape(-1,4)"
      ],
      "execution_count": 0,
      "outputs": []
    },
    {
      "cell_type": "code",
      "metadata": {
        "id": "Ctq-saadtdIt",
        "colab_type": "code",
        "outputId": "d0cb9759-90a6-4a9b-89e5-5dea3983d264",
        "colab": {
          "base_uri": "https://localhost:8080/",
          "height": 136
        }
      },
      "source": [
        "sentiment_score_essay"
      ],
      "execution_count": 80,
      "outputs": [
        {
          "output_type": "execute_result",
          "data": {
            "text/plain": [
              "array([[0.9694, 0.012 , 0.844 , 0.144 ],\n",
              "       [0.9856, 0.048 , 0.669 , 0.283 ],\n",
              "       [0.9816, 0.122 , 0.659 , 0.219 ],\n",
              "       ...,\n",
              "       [0.995 , 0.    , 0.601 , 0.399 ],\n",
              "       [0.9938, 0.02  , 0.659 , 0.321 ],\n",
              "       [0.9868, 0.059 , 0.693 , 0.248 ]])"
            ]
          },
          "metadata": {
            "tags": []
          },
          "execution_count": 80
        }
      ]
    },
    {
      "cell_type": "markdown",
      "metadata": {
        "id": "3c4z_Lz2mYSF",
        "colab_type": "text"
      },
      "source": [
        "### 2.4.2 count no of words in eassay "
      ]
    },
    {
      "cell_type": "code",
      "metadata": {
        "id": "118o0qYlnADq",
        "colab_type": "code",
        "outputId": "b32e63c0-164e-4e1a-b20c-d48844856458",
        "colab": {
          "base_uri": "https://localhost:8080/",
          "height": 34
        }
      },
      "source": [
        "no_of_words_essay =[]\n",
        "for sent in tqdm(preprocessed_essays):\n",
        "  count = len(sent.split())\n",
        "  no_of_words_essay.append(count)"
      ],
      "execution_count": 81,
      "outputs": [
        {
          "output_type": "stream",
          "text": [
            "100%|██████████| 109248/109248 [00:00<00:00, 126555.24it/s]\n"
          ],
          "name": "stderr"
        }
      ]
    },
    {
      "cell_type": "code",
      "metadata": {
        "id": "Y5cePYCytIuc",
        "colab_type": "code",
        "colab": {}
      },
      "source": [
        "no_of_words_essay = np.array(no_of_words_essay).reshape(-1,1)"
      ],
      "execution_count": 0,
      "outputs": []
    },
    {
      "cell_type": "code",
      "metadata": {
        "id": "FA1zr1LPtf5G",
        "colab_type": "code",
        "outputId": "ea0eaf33-5d93-4b69-b024-2b6334f8dc34",
        "colab": {
          "base_uri": "https://localhost:8080/",
          "height": 136
        }
      },
      "source": [
        "no_of_words_essay"
      ],
      "execution_count": 83,
      "outputs": [
        {
          "output_type": "execute_result",
          "data": {
            "text/plain": [
              "array([[161],\n",
              "       [109],\n",
              "       [202],\n",
              "       ...,\n",
              "       [110],\n",
              "       [147],\n",
              "       [158]])"
            ]
          },
          "metadata": {
            "tags": []
          },
          "execution_count": 83
        }
      ]
    },
    {
      "cell_type": "markdown",
      "metadata": {
        "id": "u9_nGo96mZML",
        "colab_type": "text"
      },
      "source": [
        " ### 2.4.3 count no of words in Project Title"
      ]
    },
    {
      "cell_type": "code",
      "metadata": {
        "id": "03Dlfy5xn4vZ",
        "colab_type": "code",
        "outputId": "3c08e1dc-d75e-42c0-dca8-3ccff71b8381",
        "colab": {
          "base_uri": "https://localhost:8080/",
          "height": 34
        }
      },
      "source": [
        "no_of_words_project_title =[]\n",
        "for sent in tqdm(preprocessed_project_title):\n",
        "  count = len(sent.split())\n",
        "  no_of_words_project_title.append(count)"
      ],
      "execution_count": 84,
      "outputs": [
        {
          "output_type": "stream",
          "text": [
            "100%|██████████| 109248/109248 [00:00<00:00, 1338687.44it/s]\n"
          ],
          "name": "stderr"
        }
      ]
    },
    {
      "cell_type": "code",
      "metadata": {
        "id": "QLiBTNlNr-it",
        "colab_type": "code",
        "colab": {}
      },
      "source": [
        "no_of_words_project_title= np.array(no_of_words_project_title).reshape(-1,1)"
      ],
      "execution_count": 0,
      "outputs": []
    },
    {
      "cell_type": "code",
      "metadata": {
        "id": "wLyFfyXHtiiq",
        "colab_type": "code",
        "outputId": "b7a32d93-50fd-4c00-c367-dbb21ce96131",
        "colab": {
          "base_uri": "https://localhost:8080/",
          "height": 136
        }
      },
      "source": [
        "no_of_words_project_title"
      ],
      "execution_count": 86,
      "outputs": [
        {
          "output_type": "execute_result",
          "data": {
            "text/plain": [
              "array([[5],\n",
              "       [4],\n",
              "       [6],\n",
              "       ...,\n",
              "       [5],\n",
              "       [4],\n",
              "       [6]])"
            ]
          },
          "metadata": {
            "tags": []
          },
          "execution_count": 86
        }
      ]
    },
    {
      "cell_type": "markdown",
      "metadata": {
        "id": "zZTmstMfemt0",
        "colab_type": "text"
      },
      "source": [
        "### 2.4.4 Applying TruncatedSVD"
      ]
    },
    {
      "cell_type": "code",
      "metadata": {
        "id": "GJnDHf6mepwW",
        "colab_type": "code",
        "colab": {
          "base_uri": "https://localhost:8080/",
          "height": 318
        },
        "outputId": "e28929c4-d065-4766-e065-c67038db984d"
      },
      "source": [
        "#few lines of code copied from below websites\n",
        "#https://stackoverflow.com/questions/44633571/how-can-i-get-the-feature-names-from-sklearn-truncatedsvd-object\n",
        "#https://chrisalbon.com/machine_learning/feature_engineering/dimensionality_reduction_on_sparse_feature_matrix/\n",
        "\n",
        "from sklearn.decomposition import TruncatedSVD\n",
        "n_component = [500,1000,1500,2000,2500,3000,3500]\n",
        "variance = []\n",
        "for i in  tqdm(n_component):\n",
        "\n",
        "  svd = TruncatedSVD(n_components=i, n_iter=7, random_state=42)\n",
        "  svd.fit(text_tfidf)\n",
        "  variance.append(svd.explained_variance_ratio_.sum())\n",
        "  #print(svd.explained_variance_ratio_.sum())\n",
        "\n",
        "plt.plot(n_component, variance)\n",
        "plt.xlabel(\"No of Components - \")\n",
        "plt.ylabel(\"Variance - \")\n",
        "plt.title(\"No of components Vs Varince \")\n",
        "plt.grid()\n",
        "plt.show()\n"
      ],
      "execution_count": 87,
      "outputs": [
        {
          "output_type": "stream",
          "text": [
            "100%|██████████| 7/7 [42:26<00:00, 482.37s/it]\n"
          ],
          "name": "stderr"
        },
        {
          "output_type": "display_data",
          "data": {
            "image/png": "[encoded data removed]",
            "text/plain": [
              "<Figure size 432x288 with 1 Axes>"
            ]
          },
          "metadata": {
            "tags": []
          }
        }
      ]
    },
    {
      "cell_type": "code",
      "metadata": {
        "id": "kzIkOPU57FXx",
        "colab_type": "code",
        "colab": {
          "base_uri": "https://localhost:8080/",
          "height": 34
        },
        "outputId": "ac9a4b18-9868-4e21-a857-297dfd21e04e"
      },
      "source": [
        "#https://stackoverflow.com/questions/36254261/scikit-learn-truncatedsvd-documentation\n",
        "tsvd = TruncatedSVD(n_components=3500)\n",
        "text_essay_tsvd = tsvd.fit(text_tfidf).fit_transform(text_tfidf) \n",
        "text_essay_tsvd.shape"
      ],
      "execution_count": 88,
      "outputs": [
        {
          "output_type": "execute_result",
          "data": {
            "text/plain": [
              "(109248, 3500)"
            ]
          },
          "metadata": {
            "tags": []
          },
          "execution_count": 88
        }
      ]
    },
    {
      "cell_type": "markdown",
      "metadata": {
        "id": "RTACNwZfnM8U",
        "colab_type": "text"
      },
      "source": [
        "### 2.4.4 Combining features"
      ]
    },
    {
      "cell_type": "code",
      "metadata": {
        "id": "PfNbQ8PuOh-3",
        "colab_type": "code",
        "outputId": "95128994-1eab-4760-9282-ae526be1868b",
        "colab": {
          "base_uri": "https://localhost:8080/",
          "height": 34
        }
      },
      "source": [
        "X_sentiment = hstack((categories_one_hot, sub_categories_one_hot,  price_standardized,previously_posted_standardized,\n",
        "                project_grade_category_one_hot,state_one_hot ,teacher_prefix_one_hot,\n",
        "                no_of_words_essay,\n",
        "                no_of_words_project_title,\n",
        "                sentiment_score_essay,\n",
        "                text_essay_tsvd\n",
        "                 ))\n",
        "X_sentiment.shape"
      ],
      "execution_count": 89,
      "outputs": [
        {
          "output_type": "execute_result",
          "data": {
            "text/plain": [
              "(109248, 3607)"
            ]
          },
          "metadata": {
            "tags": []
          },
          "execution_count": 89
        }
      ]
    },
    {
      "cell_type": "markdown",
      "metadata": {
        "id": "uxMDhrf8ozv_",
        "colab_type": "text"
      },
      "source": [
        "###2.4.5 Spliting the dataset into train test and cv"
      ]
    },
    {
      "cell_type": "code",
      "metadata": {
        "id": "os5rWPaqo0gt",
        "colab_type": "code",
        "colab": {}
      },
      "source": [
        "# train test split \n",
        "from sklearn.model_selection import train_test_split\n",
        "X_train, X_test, y_train, y_test = train_test_split(text_essay_tsvd, y, test_size=0.33, stratify=y)"
      ],
      "execution_count": 0,
      "outputs": []
    },
    {
      "cell_type": "markdown",
      "metadata": {
        "id": "MFNbcFUZOh-2",
        "colab_type": "text"
      },
      "source": [
        "##2.5 Support Vector Machines with added Features `Set 5`\n"
      ]
    },
    {
      "cell_type": "code",
      "metadata": {
        "id": "bFaD50PqpNL5",
        "colab_type": "code",
        "outputId": "c553d865-cbc7-4865-f8c8-1efb43bd9d54",
        "colab": {
          "base_uri": "https://localhost:8080/",
          "height": 474
        }
      },
      "source": [
        "from sklearn.model_selection import GridSearchCV\n",
        "from sklearn.linear_model import SGDClassifier\n",
        "import math\n",
        "\n",
        "alpha = [10**x for x in range(-4,4)]\n",
        "alpha_log = [math.log(x,10) for x in alpha]\n",
        "penalty = [ 'l2', 'l1' ]\n",
        "\n",
        "tuned_parameters = [{'alpha': alpha ,'penalty' : penalty }]\n",
        "\n",
        "\n",
        "model = GridSearchCV(SGDClassifier(class_weight='balanced'), tuned_parameters, scoring = 'roc_auc', cv=5,return_train_score = True)\n",
        "model.fit(X_train, y_train)\n",
        "\n",
        "\n",
        "\n",
        "results = pd.DataFrame.from_dict(model.cv_results_)\n",
        "results = results.sort_values(['param_alpha'])\n",
        "\n",
        "\n",
        "plot_AUC_ROC_Curve(results,alpha_log,' With Sentiment score and TruncatedSVD')\n",
        "\n",
        "print()\n",
        "print(model.best_estimator_)"
      ],
      "execution_count": 91,
      "outputs": [
        {
          "output_type": "display_data",
          "data": {
            "image/png": "[encoded data removed]",
            "text/plain": [
              "<Figure size 1440x360 with 2 Axes>"
            ]
          },
          "metadata": {
            "tags": []
          }
        },
        {
          "output_type": "stream",
          "text": [
            "\n",
            "SGDClassifier(alpha=0.0001, average=False, class_weight='balanced',\n",
            "              early_stopping=False, epsilon=0.1, eta0=0.0, fit_intercept=True,\n",
            "              l1_ratio=0.15, learning_rate='optimal', loss='hinge',\n",
            "              max_iter=1000, n_iter_no_change=5, n_jobs=None, penalty='l2',\n",
            "              power_t=0.5, random_state=None, shuffle=True, tol=0.001,\n",
            "              validation_fraction=0.1, verbose=0, warm_start=False)\n"
          ],
          "name": "stdout"
        }
      ]
    },
    {
      "cell_type": "markdown",
      "metadata": {
        "id": "MnfAjZgxt7hK",
        "colab_type": "text"
      },
      "source": [
        "### 2.5.1 With Best Hyperparamter"
      ]
    },
    {
      "cell_type": "code",
      "metadata": {
        "id": "i_Osc67_t4oR",
        "colab_type": "code",
        "colab": {}
      },
      "source": [
        "Best_alpha =  0.0001\n",
        "penalty = 'l2'"
      ],
      "execution_count": 0,
      "outputs": []
    },
    {
      "cell_type": "code",
      "metadata": {
        "id": "ALh45v-9uMcN",
        "colab_type": "code",
        "outputId": "9fa02620-bef2-4869-b19c-114a9170dc83",
        "colab": {
          "base_uri": "https://localhost:8080/",
          "height": 301
        }
      },
      "source": [
        "from sklearn.linear_model import SGDClassifier\n",
        "classifer = SGDClassifier(class_weight='balanced',  alpha=Best_alpha,penalty=penalty)    \n",
        "classifer.fit(X_train, y_train)\n",
        "\n",
        "y_train_pred = classifer.predict( X_train)    \n",
        "y_test_pred = classifer.predict( X_test)\n",
        "\n",
        "train_fpr, train_tpr, tr_thresholds = roc_curve(y_train, y_train_pred)\n",
        "test_fpr, test_tpr, te_thresholds = roc_curve(y_test, y_test_pred)\n",
        "\n",
        "\n",
        "plt.plot(train_fpr, train_tpr, label=\"Train AUC =\"+str(auc(train_fpr, train_tpr)))\n",
        "plt.plot(test_fpr, test_tpr, label=\"Test AUC =\"+str(auc(test_fpr, test_tpr)))\n",
        "plt.legend()\n",
        "plt.xlabel(\"True Positive Rate\")\n",
        "plt.ylabel(\"False Positive Rate\")\n",
        "plt.title(\"ERROR PLOTS- Sentiment Score \")\n",
        "plt.grid()\n",
        "plt.show()"
      ],
      "execution_count": 93,
      "outputs": [
        {
          "output_type": "display_data",
          "data": {
            "image/png": "[encoded data removed]",
            "text/plain": [
              "<Figure size 432x288 with 1 Axes>"
            ]
          },
          "metadata": {
            "tags": []
          }
        }
      ]
    },
    {
      "cell_type": "code",
      "metadata": {
        "id": "9WKe13PRuMsu",
        "colab_type": "code",
        "outputId": "a8147bed-9cc0-4be1-b7f4-cb997cac993d",
        "colab": {
          "base_uri": "https://localhost:8080/",
          "height": 336
        }
      },
      "source": [
        "best_t = find_best_threshold(tr_thresholds, train_fpr, train_tpr)\n",
        "print(\"=\"*50)\n",
        "print(\"Train confusion matrix\")\n",
        "print(\"=\"*50)\n",
        "uniform_data = confusion_matrix(y_train, predict_with_best_t(y_train_pred, best_t))\n",
        "ax = sns.heatmap(uniform_data,cmap=\"YlGnBu\",annot=True,fmt=\"d\")"
      ],
      "execution_count": 94,
      "outputs": [
        {
          "output_type": "stream",
          "text": [
            "The maximum value of tpr*(1-fpr) 0.4684561626488083 for threshold 1\n",
            "==================================================\n",
            "Train confusion matrix\n",
            "==================================================\n"
          ],
          "name": "stdout"
        },
        {
          "output_type": "display_data",
          "data": {
            "image/png": "[encoded data removed]",
            "text/plain": [
              "<Figure size 432x288 with 2 Axes>"
            ]
          },
          "metadata": {
            "tags": []
          }
        }
      ]
    },
    {
      "cell_type": "code",
      "metadata": {
        "id": "nnD3h4gPuMZE",
        "colab_type": "code",
        "outputId": "9ca6a71c-d5b7-44b8-d9e1-f25bb507b3f2",
        "colab": {
          "base_uri": "https://localhost:8080/",
          "height": 319
        }
      },
      "source": [
        "print(\"=\"*50)\n",
        "print(\"Test confusion matrix for TF-idf\")\n",
        "print(\"=\"*50)\n",
        "\n",
        "uniform_data = confusion_matrix(y_test, predict_with_best_t(y_test_pred, best_t))\n",
        "ax = sns.heatmap(uniform_data,cmap=\"YlGnBu\",annot=True,fmt=\"d\")"
      ],
      "execution_count": 95,
      "outputs": [
        {
          "output_type": "stream",
          "text": [
            "==================================================\n",
            "Test confusion matrix for TF-idf\n",
            "==================================================\n"
          ],
          "name": "stdout"
        },
        {
          "output_type": "display_data",
          "data": {
            "image/png": "[encoded data removed]",
            "text/plain": [
              "<Figure size 432x288 with 2 Axes>"
            ]
          },
          "metadata": {
            "tags": []
          }
        }
      ]
    },
    {
      "cell_type": "markdown",
      "metadata": {
        "id": "pnpdIsN4Oh-5",
        "colab_type": "text"
      },
      "source": [
        "#3. Conclusion"
      ]
    },
    {
      "cell_type": "code",
      "metadata": {
        "id": "tEXoNncrOh-6",
        "colab_type": "code",
        "outputId": "98a3676a-4aa7-4d71-8660-9d98ae710cf9",
        "colab": {
          "base_uri": "https://localhost:8080/",
          "height": 170
        }
      },
      "source": [
        "from prettytable import PrettyTable\n",
        "    \n",
        "x = PrettyTable()\n",
        "x.field_names = [\"Vectorizer\", \"Model\", \"HyperParameter (Alpha)\",\"Penality\", \"AUC_Train\",\"AUC_Test\"]\n",
        "x.add_row([\"Bag of Words\", \"SGDClassifier\", Best_alpha_bow,penalty_bow ,str(auc(train_fpr_bow, train_tpr_bow)),str(auc(test_fpr_bow, test_tpr_bow))])\n",
        "x.add_row([\"TF-idf\", \"SGDClassifier\", Best_alpha_tfidf,penalty_tfidf  ,str(auc(train_fpr_tfidf, train_tpr_tfidf)),str(auc(test_fpr_tfidf, test_tpr_tfidf))])\n",
        "x.add_row([\"Avg W2V\", \"SGDClassifier\", Best_alpha_Avg_w2v, penalty_Avg_w2v ,str(auc(train_fpr_Avg_w2v, train_tpr_Avg_w2v)),str(auc(test_fpr_Avg_w2v, test_tpr_Avg_w2v))])\n",
        "x.add_row([\"TF-idf W2V\", \"SGDClassifier\", Best_alpha_tfidf_w2v,penalty_tfidf_w2v,str(auc(train_fpr_tfidf_w2v, train_tpr_tfidf_w2v)),str(auc(test_fpr_tfidf_w2v, test_tpr_tfidf_w2v))])\n",
        "x.add_row([\"Sentiment Scores\", \"SGDClassifier\", Best_alpha, penalty,str(auc(train_fpr, train_tpr)),str(auc(test_fpr, test_tpr))])\n",
        "print(x)"
      ],
      "execution_count": 97,
      "outputs": [
        {
          "output_type": "stream",
          "text": [
            "+------------------+---------------+------------------------+----------+--------------------+--------------------+\n",
            "|    Vectorizer    |     Model     | HyperParameter (Alpha) | Penality |     AUC_Train      |      AUC_Test      |\n",
            "+------------------+---------------+------------------------+----------+--------------------+--------------------+\n",
            "|   Bag of Words   | SGDClassifier |          0.01          |    l2    | 0.6791448901712187 | 0.6379486710353369 |\n",
            "|      TF-idf      | SGDClassifier |         0.0001         |    l1    | 0.6701287119097067 | 0.632117787242294  |\n",
            "|     Avg W2V      | SGDClassifier |         0.0001         |    l2    |  0.6132457721839   | 0.6069950959655407 |\n",
            "|    TF-idf W2V    | SGDClassifier |         0.001          |    l2    | 0.6478363903875491 | 0.6330679319806758 |\n",
            "| Sentiment Scores | SGDClassifier |         0.0001         |    l2    | 0.6850851416662037 | 0.6291397178014859 |\n",
            "+------------------+---------------+------------------------+----------+--------------------+--------------------+\n"
          ],
          "name": "stdout"
        }
      ]
    },
    {
      "cell_type": "code",
      "metadata": {
        "id": "0U6pIYSixR5I",
        "colab_type": "code",
        "colab": {}
      },
      "source": [
        ""
      ],
      "execution_count": 0,
      "outputs": []
    }
  ]
}